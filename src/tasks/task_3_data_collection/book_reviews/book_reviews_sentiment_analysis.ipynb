{
 "cells": [
  {
   "cell_type": "markdown",
   "id": "ec720bfa",
   "metadata": {},
   "source": [
    "# Import relevant Libraries"
   ]
  },
  {
   "cell_type": "code",
   "execution_count": 1,
   "id": "a703e8eb",
   "metadata": {},
   "outputs": [],
   "source": [
    "import pandas as pd\n",
    "import numpy as np"
   ]
  },
  {
   "cell_type": "markdown",
   "id": "028ee664",
   "metadata": {},
   "source": [
    "# Import Data"
   ]
  },
  {
   "cell_type": "code",
   "execution_count": 2,
   "id": "1c21c86b",
   "metadata": {},
   "outputs": [
    {
     "data": {
      "text/html": [
       "<div>\n",
       "<style scoped>\n",
       "    .dataframe tbody tr th:only-of-type {\n",
       "        vertical-align: middle;\n",
       "    }\n",
       "\n",
       "    .dataframe tbody tr th {\n",
       "        vertical-align: top;\n",
       "    }\n",
       "\n",
       "    .dataframe thead th {\n",
       "        text-align: right;\n",
       "    }\n",
       "</style>\n",
       "<table border=\"1\" class=\"dataframe\">\n",
       "  <thead>\n",
       "    <tr style=\"text-align: right;\">\n",
       "      <th></th>\n",
       "      <th>review</th>\n",
       "    </tr>\n",
       "  </thead>\n",
       "  <tbody>\n",
       "    <tr>\n",
       "      <th>0</th>\n",
       "      <td>من أمتع ما قرأت من روايات بلا شك. وحول الشك ت...</td>\n",
       "    </tr>\n",
       "    <tr>\n",
       "      <th>1</th>\n",
       "      <td>رواية تتخذ من التاريخ ،جوًا لها اختار المؤلف ...</td>\n",
       "    </tr>\n",
       "    <tr>\n",
       "      <th>2</th>\n",
       "      <td>إني أقدّر هذه الرواية كثيرا، لسبب مختلف عن أس...</td>\n",
       "    </tr>\n",
       "    <tr>\n",
       "      <th>3</th>\n",
       "      <td>الكاهن الذي أطلق على نفسه اسم هيبا تيمنا بالع...</td>\n",
       "    </tr>\n",
       "    <tr>\n",
       "      <th>4</th>\n",
       "      <td>\"عزازيل\" هو اسم رواية يوسف زيدان الثانية و ال...</td>\n",
       "    </tr>\n",
       "    <tr>\n",
       "      <th>...</th>\n",
       "      <td>...</td>\n",
       "    </tr>\n",
       "    <tr>\n",
       "      <th>63251</th>\n",
       "      <td>اجمل مسرحية ألفت في تاريخ الادب الانجليزي</td>\n",
       "    </tr>\n",
       "    <tr>\n",
       "      <th>63252</th>\n",
       "      <td>بصراحة، لم تكن هذه الرواية على قدر توقعاتي. ا...</td>\n",
       "    </tr>\n",
       "    <tr>\n",
       "      <th>63253</th>\n",
       "      <td>هي الرواية الأولى التي قرأتها لأيميلي نصر الل...</td>\n",
       "    </tr>\n",
       "    <tr>\n",
       "      <th>63254</th>\n",
       "      <td>تَدْخل بيوت الناس، تدخل قلوبهم، تمدّ يدك تصاف...</td>\n",
       "    </tr>\n",
       "    <tr>\n",
       "      <th>63255</th>\n",
       "      <td>لم ادرك معنى العلاقات الخارجية و البروتكولات ...</td>\n",
       "    </tr>\n",
       "  </tbody>\n",
       "</table>\n",
       "<p>63256 rows × 1 columns</p>\n",
       "</div>"
      ],
      "text/plain": [
       "                                                  review\n",
       "0       من أمتع ما قرأت من روايات بلا شك. وحول الشك ت...\n",
       "1       رواية تتخذ من التاريخ ،جوًا لها اختار المؤلف ...\n",
       "2       إني أقدّر هذه الرواية كثيرا، لسبب مختلف عن أس...\n",
       "3       الكاهن الذي أطلق على نفسه اسم هيبا تيمنا بالع...\n",
       "4       \"عزازيل\" هو اسم رواية يوسف زيدان الثانية و ال...\n",
       "...                                                  ...\n",
       "63251          اجمل مسرحية ألفت في تاريخ الادب الانجليزي\n",
       "63252   بصراحة، لم تكن هذه الرواية على قدر توقعاتي. ا...\n",
       "63253   هي الرواية الأولى التي قرأتها لأيميلي نصر الل...\n",
       "63254   تَدْخل بيوت الناس، تدخل قلوبهم، تمدّ يدك تصاف...\n",
       "63255   لم ادرك معنى العلاقات الخارجية و البروتكولات ...\n",
       "\n",
       "[63256 rows x 1 columns]"
      ]
     },
     "execution_count": 2,
     "metadata": {},
     "output_type": "execute_result"
    }
   ],
   "source": [
    "df = pd.read_csv('../../../data/book_reviews.csv')\n",
    "df.drop(columns=['Unnamed: 0'], axis=1, inplace=True)\n",
    "df"
   ]
  },
  {
   "cell_type": "code",
   "execution_count": 3,
   "id": "10938870",
   "metadata": {},
   "outputs": [],
   "source": [
    "egyptian_books = ['فردقان', 'أولاد حارتنا', 'لوكاندة بير الوطاويط', 'عزازيل', 'ورثة آل الشيخ', 'قصر الشوق', 'اعتقال الشيخ الرئيس', 'حروب الرحماء: القتلة الأوائل', \n",
    "                 'تراب الماس', 'موسم صيد الغزلان', 'ما ﻻ نبوح به', 'شآبيب', 'أفراح المقبرة', 'حدث في برلين', 'موسم الهجرة إلى الشمال', \n",
    "                 'حكايات يوسف تادرس', 'حرب الكلب الثانية', 'ما وراء الطبيعة', 'أولاد الناس', 'سفينة نيرودا', ]"
   ]
  },
  {
   "cell_type": "code",
   "execution_count": 4,
   "id": "a1c7dc86",
   "metadata": {},
   "outputs": [],
   "source": [
    "egyptian_authors = ['نجيب محفوظ', 'أحمد القرملاوي', 'يوسف زيدان', 'أحمد مراد', 'إبراهيم عيسى', 'ساندرا سراج', 'أحمد خالد توفيق', 'هشام الخشن', 'الطيب صالح', \n",
    "                   'عادل عصمت', 'إبراهيم نصر الله', 'ريم بسيوني', 'إيزابيل الليندي', 'محمد المنسي قنديل', ]"
   ]
  },
  {
   "cell_type": "markdown",
   "id": "02309c57",
   "metadata": {},
   "source": [
    "# Filter data to Egyptian Book reviews"
   ]
  },
  {
   "cell_type": "code",
   "execution_count": 5,
   "id": "aa87094a",
   "metadata": {},
   "outputs": [
    {
     "data": {
      "text/html": [
       "<div>\n",
       "<style scoped>\n",
       "    .dataframe tbody tr th:only-of-type {\n",
       "        vertical-align: middle;\n",
       "    }\n",
       "\n",
       "    .dataframe tbody tr th {\n",
       "        vertical-align: top;\n",
       "    }\n",
       "\n",
       "    .dataframe thead th {\n",
       "        text-align: right;\n",
       "    }\n",
       "</style>\n",
       "<table border=\"1\" class=\"dataframe\">\n",
       "  <thead>\n",
       "    <tr style=\"text-align: right;\">\n",
       "      <th></th>\n",
       "      <th>review</th>\n",
       "    </tr>\n",
       "  </thead>\n",
       "  <tbody>\n",
       "    <tr>\n",
       "      <th>0</th>\n",
       "      <td>من أمتع ما قرأت من روايات بلا شك. وحول الشك ت...</td>\n",
       "    </tr>\n",
       "    <tr>\n",
       "      <th>2</th>\n",
       "      <td>إني أقدّر هذه الرواية كثيرا، لسبب مختلف عن أس...</td>\n",
       "    </tr>\n",
       "    <tr>\n",
       "      <th>4</th>\n",
       "      <td>\"عزازيل\" هو اسم رواية يوسف زيدان الثانية و ال...</td>\n",
       "    </tr>\n",
       "    <tr>\n",
       "      <th>5</th>\n",
       "      <td>لم استوعب بداية أنها رواية حتى وصلت إلى المنت...</td>\n",
       "    </tr>\n",
       "    <tr>\n",
       "      <th>7</th>\n",
       "      <td>مقتطفات من رواية عزازيل للكاتب يوسف زيدان ---...</td>\n",
       "    </tr>\n",
       "    <tr>\n",
       "      <th>...</th>\n",
       "      <td>...</td>\n",
       "    </tr>\n",
       "    <tr>\n",
       "      <th>62391</th>\n",
       "      <td>كتاب مُسلّي جداً . أسلوب أحمد خالد توفيق لذيذ...</td>\n",
       "    </tr>\n",
       "    <tr>\n",
       "      <th>62393</th>\n",
       "      <td>الأفكار معظمها مكرر من ما وراء الطبيعة أو \"36...</td>\n",
       "    </tr>\n",
       "    <tr>\n",
       "      <th>62984</th>\n",
       "      <td>بعد أن تجاوزت فترة الولع بألغاز المغامرين الخ...</td>\n",
       "    </tr>\n",
       "    <tr>\n",
       "      <th>63017</th>\n",
       "      <td>الجنقو مسامير الأرض،.رواية ممتعة. هي مزيج من ...</td>\n",
       "    </tr>\n",
       "    <tr>\n",
       "      <th>63018</th>\n",
       "      <td>قويه , واقعيه , تعرفت منها على كاتب سيصارع اس...</td>\n",
       "    </tr>\n",
       "  </tbody>\n",
       "</table>\n",
       "<p>3206 rows × 1 columns</p>\n",
       "</div>"
      ],
      "text/plain": [
       "                                                  review\n",
       "0       من أمتع ما قرأت من روايات بلا شك. وحول الشك ت...\n",
       "2       إني أقدّر هذه الرواية كثيرا، لسبب مختلف عن أس...\n",
       "4       \"عزازيل\" هو اسم رواية يوسف زيدان الثانية و ال...\n",
       "5       لم استوعب بداية أنها رواية حتى وصلت إلى المنت...\n",
       "7       مقتطفات من رواية عزازيل للكاتب يوسف زيدان ---...\n",
       "...                                                  ...\n",
       "62391   كتاب مُسلّي جداً . أسلوب أحمد خالد توفيق لذيذ...\n",
       "62393   الأفكار معظمها مكرر من ما وراء الطبيعة أو \"36...\n",
       "62984   بعد أن تجاوزت فترة الولع بألغاز المغامرين الخ...\n",
       "63017   الجنقو مسامير الأرض،.رواية ممتعة. هي مزيج من ...\n",
       "63018   قويه , واقعيه , تعرفت منها على كاتب سيصارع اس...\n",
       "\n",
       "[3206 rows x 1 columns]"
      ]
     },
     "execution_count": 5,
     "metadata": {},
     "output_type": "execute_result"
    }
   ],
   "source": [
    "df = df[df.apply(\n",
    "    lambda row : any(word in row['review'] for word in egyptian_books) \n",
    "    or any(word in row['review'] for word in egyptian_authors), axis=1)]\n",
    "df"
   ]
  },
  {
   "cell_type": "markdown",
   "id": "e62b8a99",
   "metadata": {},
   "source": [
    "## Drop Duplicates"
   ]
  },
  {
   "cell_type": "code",
   "execution_count": null,
   "id": "3a570809",
   "metadata": {},
   "outputs": [],
   "source": [
    "df.drop_duplicates(inplace=True)\n",
    "df"
   ]
  },
  {
   "cell_type": "code",
   "execution_count": 7,
   "id": "a2992501",
   "metadata": {},
   "outputs": [
    {
     "data": {
      "text/html": [
       "<div>\n",
       "<style scoped>\n",
       "    .dataframe tbody tr th:only-of-type {\n",
       "        vertical-align: middle;\n",
       "    }\n",
       "\n",
       "    .dataframe tbody tr th {\n",
       "        vertical-align: top;\n",
       "    }\n",
       "\n",
       "    .dataframe thead th {\n",
       "        text-align: right;\n",
       "    }\n",
       "</style>\n",
       "<table border=\"1\" class=\"dataframe\">\n",
       "  <thead>\n",
       "    <tr style=\"text-align: right;\">\n",
       "      <th></th>\n",
       "      <th>review</th>\n",
       "    </tr>\n",
       "  </thead>\n",
       "  <tbody>\n",
       "    <tr>\n",
       "      <th>0</th>\n",
       "      <td>من أمتع ما قرأت من روايات بلا شك. وحول الشك ت...</td>\n",
       "    </tr>\n",
       "    <tr>\n",
       "      <th>1</th>\n",
       "      <td>إني أقدّر هذه الرواية كثيرا، لسبب مختلف عن أس...</td>\n",
       "    </tr>\n",
       "    <tr>\n",
       "      <th>2</th>\n",
       "      <td>\"عزازيل\" هو اسم رواية يوسف زيدان الثانية و ال...</td>\n",
       "    </tr>\n",
       "    <tr>\n",
       "      <th>3</th>\n",
       "      <td>لم استوعب بداية أنها رواية حتى وصلت إلى المنت...</td>\n",
       "    </tr>\n",
       "    <tr>\n",
       "      <th>4</th>\n",
       "      <td>مقتطفات من رواية عزازيل للكاتب يوسف زيدان ---...</td>\n",
       "    </tr>\n",
       "    <tr>\n",
       "      <th>...</th>\n",
       "      <td>...</td>\n",
       "    </tr>\n",
       "    <tr>\n",
       "      <th>3098</th>\n",
       "      <td>كتاب مُسلّي جداً . أسلوب أحمد خالد توفيق لذيذ...</td>\n",
       "    </tr>\n",
       "    <tr>\n",
       "      <th>3099</th>\n",
       "      <td>الأفكار معظمها مكرر من ما وراء الطبيعة أو \"36...</td>\n",
       "    </tr>\n",
       "    <tr>\n",
       "      <th>3100</th>\n",
       "      <td>بعد أن تجاوزت فترة الولع بألغاز المغامرين الخ...</td>\n",
       "    </tr>\n",
       "    <tr>\n",
       "      <th>3101</th>\n",
       "      <td>الجنقو مسامير الأرض،.رواية ممتعة. هي مزيج من ...</td>\n",
       "    </tr>\n",
       "    <tr>\n",
       "      <th>3102</th>\n",
       "      <td>قويه , واقعيه , تعرفت منها على كاتب سيصارع اس...</td>\n",
       "    </tr>\n",
       "  </tbody>\n",
       "</table>\n",
       "<p>3103 rows × 1 columns</p>\n",
       "</div>"
      ],
      "text/plain": [
       "                                                 review\n",
       "0      من أمتع ما قرأت من روايات بلا شك. وحول الشك ت...\n",
       "1      إني أقدّر هذه الرواية كثيرا، لسبب مختلف عن أس...\n",
       "2      \"عزازيل\" هو اسم رواية يوسف زيدان الثانية و ال...\n",
       "3      لم استوعب بداية أنها رواية حتى وصلت إلى المنت...\n",
       "4      مقتطفات من رواية عزازيل للكاتب يوسف زيدان ---...\n",
       "...                                                 ...\n",
       "3098   كتاب مُسلّي جداً . أسلوب أحمد خالد توفيق لذيذ...\n",
       "3099   الأفكار معظمها مكرر من ما وراء الطبيعة أو \"36...\n",
       "3100   بعد أن تجاوزت فترة الولع بألغاز المغامرين الخ...\n",
       "3101   الجنقو مسامير الأرض،.رواية ممتعة. هي مزيج من ...\n",
       "3102   قويه , واقعيه , تعرفت منها على كاتب سيصارع اس...\n",
       "\n",
       "[3103 rows x 1 columns]"
      ]
     },
     "execution_count": 7,
     "metadata": {},
     "output_type": "execute_result"
    }
   ],
   "source": [
    "df = df.reset_index(drop=True)\n",
    "df"
   ]
  },
  {
   "cell_type": "markdown",
   "id": "9a8da134",
   "metadata": {},
   "source": [
    "# Sentiment Analysis"
   ]
  },
  {
   "cell_type": "code",
   "execution_count": 8,
   "id": "f977ab91",
   "metadata": {},
   "outputs": [
    {
     "name": "stdout",
     "output_type": "stream",
     "text": [
      "negative\n",
      "positive\n",
      "['negative', 'positive']\n"
     ]
    }
   ],
   "source": [
    "from mazajak_api import predict\n",
    "\n",
    "sentiments = []\n",
    "for review in df['review']:\n",
    "    pred = predict(review)\n",
    "    sentiments.append(pred)"
   ]
  },
  {
   "cell_type": "code",
   "execution_count": 9,
   "id": "5fd6014e",
   "metadata": {},
   "outputs": [],
   "source": [
    "df['sentiment'] = sentiments"
   ]
  },
  {
   "cell_type": "code",
   "execution_count": 10,
   "id": "062ad9ed",
   "metadata": {},
   "outputs": [
    {
     "data": {
      "text/html": [
       "<div>\n",
       "<style scoped>\n",
       "    .dataframe tbody tr th:only-of-type {\n",
       "        vertical-align: middle;\n",
       "    }\n",
       "\n",
       "    .dataframe tbody tr th {\n",
       "        vertical-align: top;\n",
       "    }\n",
       "\n",
       "    .dataframe thead th {\n",
       "        text-align: right;\n",
       "    }\n",
       "</style>\n",
       "<table border=\"1\" class=\"dataframe\">\n",
       "  <thead>\n",
       "    <tr style=\"text-align: right;\">\n",
       "      <th></th>\n",
       "      <th>review</th>\n",
       "      <th>sentiment</th>\n",
       "    </tr>\n",
       "  </thead>\n",
       "  <tbody>\n",
       "    <tr>\n",
       "      <th>0</th>\n",
       "      <td>من أمتع ما قرأت من روايات بلا شك. وحول الشك ت...</td>\n",
       "      <td>negative</td>\n",
       "    </tr>\n",
       "    <tr>\n",
       "      <th>1</th>\n",
       "      <td>إني أقدّر هذه الرواية كثيرا، لسبب مختلف عن أس...</td>\n",
       "      <td>positive</td>\n",
       "    </tr>\n",
       "    <tr>\n",
       "      <th>2</th>\n",
       "      <td>\"عزازيل\" هو اسم رواية يوسف زيدان الثانية و ال...</td>\n",
       "      <td>neutral</td>\n",
       "    </tr>\n",
       "    <tr>\n",
       "      <th>3</th>\n",
       "      <td>لم استوعب بداية أنها رواية حتى وصلت إلى المنت...</td>\n",
       "      <td>negative</td>\n",
       "    </tr>\n",
       "    <tr>\n",
       "      <th>4</th>\n",
       "      <td>مقتطفات من رواية عزازيل للكاتب يوسف زيدان ---...</td>\n",
       "      <td>neutral</td>\n",
       "    </tr>\n",
       "    <tr>\n",
       "      <th>...</th>\n",
       "      <td>...</td>\n",
       "      <td>...</td>\n",
       "    </tr>\n",
       "    <tr>\n",
       "      <th>3098</th>\n",
       "      <td>كتاب مُسلّي جداً . أسلوب أحمد خالد توفيق لذيذ...</td>\n",
       "      <td>positive</td>\n",
       "    </tr>\n",
       "    <tr>\n",
       "      <th>3099</th>\n",
       "      <td>الأفكار معظمها مكرر من ما وراء الطبيعة أو \"36...</td>\n",
       "      <td>negative</td>\n",
       "    </tr>\n",
       "    <tr>\n",
       "      <th>3100</th>\n",
       "      <td>بعد أن تجاوزت فترة الولع بألغاز المغامرين الخ...</td>\n",
       "      <td>negative</td>\n",
       "    </tr>\n",
       "    <tr>\n",
       "      <th>3101</th>\n",
       "      <td>الجنقو مسامير الأرض،.رواية ممتعة. هي مزيج من ...</td>\n",
       "      <td>positive</td>\n",
       "    </tr>\n",
       "    <tr>\n",
       "      <th>3102</th>\n",
       "      <td>قويه , واقعيه , تعرفت منها على كاتب سيصارع اس...</td>\n",
       "      <td>positive</td>\n",
       "    </tr>\n",
       "  </tbody>\n",
       "</table>\n",
       "<p>3103 rows × 2 columns</p>\n",
       "</div>"
      ],
      "text/plain": [
       "                                                 review sentiment\n",
       "0      من أمتع ما قرأت من روايات بلا شك. وحول الشك ت...  negative\n",
       "1      إني أقدّر هذه الرواية كثيرا، لسبب مختلف عن أس...  positive\n",
       "2      \"عزازيل\" هو اسم رواية يوسف زيدان الثانية و ال...   neutral\n",
       "3      لم استوعب بداية أنها رواية حتى وصلت إلى المنت...  negative\n",
       "4      مقتطفات من رواية عزازيل للكاتب يوسف زيدان ---...   neutral\n",
       "...                                                 ...       ...\n",
       "3098   كتاب مُسلّي جداً . أسلوب أحمد خالد توفيق لذيذ...  positive\n",
       "3099   الأفكار معظمها مكرر من ما وراء الطبيعة أو \"36...  negative\n",
       "3100   بعد أن تجاوزت فترة الولع بألغاز المغامرين الخ...  negative\n",
       "3101   الجنقو مسامير الأرض،.رواية ممتعة. هي مزيج من ...  positive\n",
       "3102   قويه , واقعيه , تعرفت منها على كاتب سيصارع اس...  positive\n",
       "\n",
       "[3103 rows x 2 columns]"
      ]
     },
     "execution_count": 10,
     "metadata": {},
     "output_type": "execute_result"
    }
   ],
   "source": [
    "df"
   ]
  },
  {
   "cell_type": "code",
   "execution_count": 11,
   "id": "65b10961",
   "metadata": {},
   "outputs": [],
   "source": [
    "df.to_csv('book_reviews_sentiment_analysis.csv')"
   ]
  }
 ],
 "metadata": {
  "kernelspec": {
   "display_name": "Python 3 (ipykernel)",
   "language": "python",
   "name": "python3"
  },
  "language_info": {
   "codemirror_mode": {
    "name": "ipython",
    "version": 3
   },
   "file_extension": ".py",
   "mimetype": "text/x-python",
   "name": "python",
   "nbconvert_exporter": "python",
   "pygments_lexer": "ipython3",
   "version": "3.9.7"
  }
 },
 "nbformat": 4,
 "nbformat_minor": 5
}
