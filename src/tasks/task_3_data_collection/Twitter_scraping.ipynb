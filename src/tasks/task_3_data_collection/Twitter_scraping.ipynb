{
 "cells": [
  {
   "cell_type": "code",
   "execution_count": 38,
   "id": "4d44277f",
   "metadata": {},
   "outputs": [],
   "source": [
    "import pandas as pd\n",
    "import snscrape.modules.twitter as sntwitter\n",
    "import itertools\n",
    "import glob"
   ]
  },
  {
   "cell_type": "code",
   "execution_count": 32,
   "id": "1b6122e1",
   "metadata": {},
   "outputs": [],
   "source": [
    "def search_by_keywords(keyword, start, end, tweet_limit, file_name, year):\n",
    "    '''\n",
    "    This is to search for tweets based on keywords, with location preset to Australia. \n",
    "    Keywords: can be string or list \n",
    "    Date format: YYYY-MM-DD\n",
    "    '''\n",
    "    loc = '30.033333, 31.233334, 2000km' #Egypt coordinates\n",
    "    #loc = '30.005493, 31.477898, 2000km'#Egypt, cairo\n",
    "    scraped_tweets = sntwitter.TwitterSearchScraper(f'{keyword} geocode:\"{loc}\" since:{start} until:{end}').get_items()\n",
    "    sliced_scraped_tweets = itertools.islice(scraped_tweets, tweet_limit)\n",
    "    tweets_df = pd.DataFrame(sliced_scraped_tweets) #[['date', 'content']]\n",
    "    tweets_df.to_csv(f'Twitter{keyword}{year}.csv')\n",
    "    return tweets_df"
   ]
  },
  {
   "cell_type": "code",
   "execution_count": 33,
   "id": "b8bcb16d",
   "metadata": {},
   "outputs": [],
   "source": [
    "start_date = '2020-1-1'\n",
    "end_date = '2021-12-31'\n",
    "tweet_limit = 50000"
   ]
  },
  {
   "cell_type": "code",
   "execution_count": 34,
   "id": "24a8dceb",
   "metadata": {},
   "outputs": [],
   "source": [
    "hashtags = ['#Economy','#economy']"
   ]
  },
  {
   "cell_type": "code",
   "execution_count": 36,
   "id": "4ba79bcc",
   "metadata": {},
   "outputs": [],
   "source": [
    "for i in hashtags:\n",
    "    search_by_keywords(i, start=start_date, end=end_date, tweet_limit=tweet_limit, file_name=i, year='2020-2021')"
   ]
  },
  {
   "cell_type": "code",
   "execution_count": 37,
   "id": "8e6cacb0",
   "metadata": {},
   "outputs": [],
   "source": [
    "hashtags1 = ['#Covid','#covid','#pandemic']\n",
    "for i in hashtags1:\n",
    "    search_by_keywords(i, start=start_date, end=end_date, tweet_limit=tweet_limit, file_name=i, year='2020-2021')\n",
    "    "
   ]
  },
  {
   "cell_type": "code",
   "execution_count": 43,
   "id": "8a41a3ae",
   "metadata": {},
   "outputs": [],
   "source": [
    "covid_tweets = pd.concat(list(map(pd.read_csv, glob.glob('Twitter#*.*'))))"
   ]
  },
  {
   "cell_type": "code",
   "execution_count": 44,
   "id": "bfe70e0f",
   "metadata": {},
   "outputs": [
    {
     "name": "stdout",
     "output_type": "stream",
     "text": [
      "<class 'pandas.core.frame.DataFrame'>\n",
      "Int64Index: 12391 entries, 0 to 2221\n",
      "Data columns (total 28 columns):\n",
      " #   Column            Non-Null Count  Dtype  \n",
      "---  ------            --------------  -----  \n",
      " 0   Unnamed: 0        12391 non-null  int64  \n",
      " 1   url               12391 non-null  object \n",
      " 2   date              12391 non-null  object \n",
      " 3   content           12391 non-null  object \n",
      " 4   renderedContent   12391 non-null  object \n",
      " 5   id                12391 non-null  int64  \n",
      " 6   user              12391 non-null  object \n",
      " 7   replyCount        12391 non-null  int64  \n",
      " 8   retweetCount      12391 non-null  int64  \n",
      " 9   likeCount         12391 non-null  int64  \n",
      " 10  quoteCount        12391 non-null  int64  \n",
      " 11  conversationId    12391 non-null  int64  \n",
      " 12  lang              12391 non-null  object \n",
      " 13  source            12391 non-null  object \n",
      " 14  sourceUrl         12391 non-null  object \n",
      " 15  sourceLabel       12391 non-null  object \n",
      " 16  outlinks          4778 non-null   object \n",
      " 17  tcooutlinks       4778 non-null   object \n",
      " 18  media             4917 non-null   object \n",
      " 19  retweetedTweet    0 non-null      float64\n",
      " 20  quotedTweet       1137 non-null   object \n",
      " 21  inReplyToTweetId  827 non-null    float64\n",
      " 22  inReplyToUser     827 non-null    object \n",
      " 23  mentionedUsers    2676 non-null   object \n",
      " 24  coordinates       12386 non-null  object \n",
      " 25  place             12380 non-null  object \n",
      " 26  hashtags          12383 non-null  object \n",
      " 27  cashtags          2 non-null      object \n",
      "dtypes: float64(2), int64(7), object(19)\n",
      "memory usage: 2.7+ MB\n"
     ]
    }
   ],
   "source": [
    "covid_tweets.info()"
   ]
  },
  {
   "cell_type": "code",
   "execution_count": 45,
   "id": "399c45f2",
   "metadata": {},
   "outputs": [
    {
     "data": {
      "text/plain": [
       "(12391, 28)"
      ]
     },
     "execution_count": 45,
     "metadata": {},
     "output_type": "execute_result"
    }
   ],
   "source": [
    "covid_tweets.shape"
   ]
  },
  {
   "cell_type": "code",
   "execution_count": 47,
   "id": "db9637aa",
   "metadata": {},
   "outputs": [],
   "source": [
    "covid_tweets.to_csv('covid_tweets_2020-2021.csv')"
   ]
  }
 ],
 "metadata": {
  "kernelspec": {
   "display_name": "Python 3",
   "language": "python",
   "name": "python3"
  },
  "language_info": {
   "codemirror_mode": {
    "name": "ipython",
    "version": 3
   },
   "file_extension": ".py",
   "mimetype": "text/x-python",
   "name": "python",
   "nbconvert_exporter": "python",
   "pygments_lexer": "ipython3",
   "version": "3.8.8"
  }
 },
 "nbformat": 4,
 "nbformat_minor": 5
}
