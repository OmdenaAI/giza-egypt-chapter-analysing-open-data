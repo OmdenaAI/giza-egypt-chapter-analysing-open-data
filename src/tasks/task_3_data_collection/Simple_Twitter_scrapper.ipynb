{
 "cells": [
  {
   "cell_type": "markdown",
   "metadata": {},
   "source": [
    "# Tweets Scrapping using (snscrape)"
   ]
  },
  {
   "cell_type": "code",
   "execution_count": 23,
   "metadata": {},
   "outputs": [
    {
     "data": {
      "text/html": [
       "<div>\n",
       "<style scoped>\n",
       "    .dataframe tbody tr th:only-of-type {\n",
       "        vertical-align: middle;\n",
       "    }\n",
       "\n",
       "    .dataframe tbody tr th {\n",
       "        vertical-align: top;\n",
       "    }\n",
       "\n",
       "    .dataframe thead th {\n",
       "        text-align: right;\n",
       "    }\n",
       "</style>\n",
       "<table border=\"1\" class=\"dataframe\">\n",
       "  <thead>\n",
       "    <tr style=\"text-align: right;\">\n",
       "      <th></th>\n",
       "      <th>Text</th>\n",
       "    </tr>\n",
       "  </thead>\n",
       "  <tbody>\n",
       "    <tr>\n",
       "      <th>0</th>\n",
       "      <td>The kinetic energy, din of traffic, colour, ca...</td>\n",
       "    </tr>\n",
       "    <tr>\n",
       "      <th>1</th>\n",
       "      <td>Just like Israel could not leave Egypt, where ...</td>\n",
       "    </tr>\n",
       "    <tr>\n",
       "      <th>2</th>\n",
       "      <td>Prime Minister Moustafa Madbouli said the stat...</td>\n",
       "    </tr>\n",
       "    <tr>\n",
       "      <th>3</th>\n",
       "      <td>#AFCON2021 semi-finals: Which teams would you ...</td>\n",
       "    </tr>\n",
       "    <tr>\n",
       "      <th>4</th>\n",
       "      <td>An officer using a whistle to direct traffic i...</td>\n",
       "    </tr>\n",
       "  </tbody>\n",
       "</table>\n",
       "</div>"
      ],
      "text/plain": [
       "                                                Text\n",
       "0  The kinetic energy, din of traffic, colour, ca...\n",
       "1  Just like Israel could not leave Egypt, where ...\n",
       "2  Prime Minister Moustafa Madbouli said the stat...\n",
       "3  #AFCON2021 semi-finals: Which teams would you ...\n",
       "4  An officer using a whistle to direct traffic i..."
      ]
     },
     "execution_count": 23,
     "metadata": {},
     "output_type": "execute_result"
    }
   ],
   "source": [
    "# At First you need to : !pip install snscrape\n",
    "\n",
    "import snscrape.modules.twitter as sntwitter\n",
    "import pandas\n",
    "\n",
    "# Creating list to append tweet data to\n",
    "tweets_list2 = []\n",
    "\n",
    "# Here you loop on tweets selecting some parameters of search : You can Change your keywords (Egypt Traffic) and period and language \n",
    "for i,tweet in enumerate(sntwitter.TwitterSearchScraper('Egypt Traffic lang:en since:2014-02-01 until:2022-02-01 ').get_items()):\n",
    "    \n",
    "    #Select number of scraped tweets\n",
    "    if i>10000:\n",
    "        break\n",
    "    #tweets_list2.append([tweet.date, tweet.id, tweet.content, tweet.user.username])\n",
    "    tweets_list2.append([tweet.content])\n",
    "\n",
    "    \n",
    "# Creating a dataframe from the tweets list above\n",
    "tweets_df2 = pandas.DataFrame(tweets_list2, columns=['Text'])\n",
    "tweets_df2.head()"
   ]
  },
  {
   "cell_type": "markdown",
   "metadata": {},
   "source": [
    "# Save your dataFrame output to your device as a csv file"
   ]
  },
  {
   "cell_type": "code",
   "execution_count": 25,
   "metadata": {},
   "outputs": [],
   "source": [
    "tweets_df2.to_csv('output.csv')"
   ]
  },
  {
   "cell_type": "code",
   "execution_count": null,
   "metadata": {},
   "outputs": [],
   "source": []
  }
 ],
 "metadata": {
  "kernelspec": {
   "display_name": "Python 3",
   "language": "python",
   "name": "python3"
  },
  "language_info": {
   "codemirror_mode": {
    "name": "ipython",
    "version": 3
   },
   "file_extension": ".py",
   "mimetype": "text/x-python",
   "name": "python",
   "nbconvert_exporter": "python",
   "pygments_lexer": "ipython3",
   "version": "3.8.5"
  }
 },
 "nbformat": 4,
 "nbformat_minor": 4
}
