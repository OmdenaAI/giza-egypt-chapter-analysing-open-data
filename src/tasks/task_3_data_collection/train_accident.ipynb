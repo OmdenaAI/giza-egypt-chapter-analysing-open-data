{
  "nbformat": 4,
  "nbformat_minor": 0,
  "metadata": {
    "colab": {
      "name": "train_accident.ipynb",
      "provenance": []
    },
    "kernelspec": {
      "name": "python3",
      "display_name": "Python 3"
    },
    "language_info": {
      "name": "python"
    }
  },
  "cells": [
    {
      "cell_type": "code",
      "execution_count": 1,
      "metadata": {
        "id": "4HuzDhcpWeHY"
      },
      "outputs": [],
      "source": [
        "import requests\n",
        "import pandas as pd"
      ]
    },
    {
      "cell_type": "code",
      "source": [
        "url = 'https://en.m.wikipedia.org/wiki/List_of_rail_accidents_in_Egypt'\n",
        "html = requests.get(url).content\n",
        "df_list = pd.read_html(html)\n",
        "df = df_list[-1]\n",
        "df.to_csv('train_accident.csv')"
      ],
      "metadata": {
        "id": "s48_vZScWk0e"
      },
      "execution_count": 14,
      "outputs": []
    },
    {
      "cell_type": "code",
      "source": [
        "df.info()"
      ],
      "metadata": {
        "colab": {
          "base_uri": "https://localhost:8080/"
        },
        "id": "RbalE8x7YP51",
        "outputId": "ac7e43cf-d0dd-472b-9a24-86d88f073ccb"
      },
      "execution_count": 16,
      "outputs": [
        {
          "output_type": "stream",
          "name": "stdout",
          "text": [
            "<class 'pandas.core.frame.DataFrame'>\n",
            "RangeIndex: 20 entries, 0 to 19\n",
            "Data columns (total 5 columns):\n",
            " #   Column   Non-Null Count  Dtype \n",
            "---  ------   --------------  ----- \n",
            " 0   Date     20 non-null     object\n",
            " 1   Killed   19 non-null     object\n",
            " 2   Injured  20 non-null     object\n",
            " 3   Type     20 non-null     object\n",
            " 4   Details  20 non-null     object\n",
            "dtypes: object(5)\n",
            "memory usage: 928.0+ bytes\n"
          ]
        }
      ]
    },
    {
      "cell_type": "code",
      "source": [
        ""
      ],
      "metadata": {
        "id": "M1mTizEFXkLv"
      },
      "execution_count": null,
      "outputs": []
    }
  ]
}