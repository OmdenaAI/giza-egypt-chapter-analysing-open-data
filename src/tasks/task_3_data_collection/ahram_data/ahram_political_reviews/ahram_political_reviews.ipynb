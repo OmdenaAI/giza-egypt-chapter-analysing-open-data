{
 "cells": [
  {
   "cell_type": "markdown",
   "id": "4617eb45",
   "metadata": {},
   "source": [
    "# Import Relevant Libraries"
   ]
  },
  {
   "cell_type": "code",
   "execution_count": 1,
   "id": "0c462003",
   "metadata": {},
   "outputs": [],
   "source": [
    "import pandas as pd\n",
    "import numpy as np\n",
    "import re\n",
    "import requests\n",
    "from bs4 import BeautifulSoup"
   ]
  },
  {
   "cell_type": "markdown",
   "id": "7f0ed4d8",
   "metadata": {},
   "source": [
    "## Scrape the data"
   ]
  },
  {
   "cell_type": "code",
   "execution_count": 5,
   "id": "81dfed6b",
   "metadata": {},
   "outputs": [],
   "source": [
    "def scrape_political_reviews(page_number, flag):\n",
    "    url_params = {'Text' : 'egypt', 'StartRowIndex' : page_number, 'PID' : 1, 'CID' : 64}\n",
    "    url = 'https://english.ahram.org.eg/UI/Front/Search.aspx'\n",
    "    response = requests.get(url=url, params=url_params)\n",
    "    soup = BeautifulSoup(response.text, 'html.parser')\n",
    "    end = 20\n",
    "    scraped_data = []\n",
    "    for i in range(end):\n",
    "        text = soup.find(\n",
    "            id=f'ContentPlaceHolder1_dlNewsContent_{\"hyplnkTitle\" if flag else \"lblCreationDate\"}_{i}'\n",
    "        ).get_text()\n",
    "        scraped_data.append(text if flag else text.split(' ')[0])\n",
    "    return scraped_data"
   ]
  },
  {
   "cell_type": "code",
   "execution_count": 6,
   "id": "418086bb",
   "metadata": {},
   "outputs": [],
   "source": [
    "reviews = []\n",
    "dates = []\n",
    "for i in range(0, 10000, 20):\n",
    "    reviews += scrape_political_reviews(i, True)\n",
    "    dates += scrape_political_reviews(i, False)"
   ]
  },
  {
   "cell_type": "code",
   "execution_count": 11,
   "id": "ea960958",
   "metadata": {},
   "outputs": [
    {
     "name": "stdout",
     "output_type": "stream",
     "text": [
      "10000\n",
      "10000\n"
     ]
    }
   ],
   "source": [
    "print(len(reviews))\n",
    "print(len(dates))"
   ]
  },
  {
   "cell_type": "markdown",
   "id": "f68e9fbb",
   "metadata": {},
   "source": [
    "## Removing Unnecessary Characters"
   ]
  },
  {
   "cell_type": "code",
   "execution_count": 13,
   "id": "514c413e",
   "metadata": {},
   "outputs": [],
   "source": [
    "reviews = [re.sub('\\s+', ' ', review) for review in reviews]"
   ]
  },
  {
   "cell_type": "code",
   "execution_count": 14,
   "id": "58162ed9",
   "metadata": {},
   "outputs": [
    {
     "data": {
      "text/html": [
       "<div>\n",
       "<style scoped>\n",
       "    .dataframe tbody tr th:only-of-type {\n",
       "        vertical-align: middle;\n",
       "    }\n",
       "\n",
       "    .dataframe tbody tr th {\n",
       "        vertical-align: top;\n",
       "    }\n",
       "\n",
       "    .dataframe thead th {\n",
       "        text-align: right;\n",
       "    }\n",
       "</style>\n",
       "<table border=\"1\" class=\"dataframe\">\n",
       "  <thead>\n",
       "    <tr style=\"text-align: right;\">\n",
       "      <th></th>\n",
       "      <th>political_review</th>\n",
       "      <th>date</th>\n",
       "    </tr>\n",
       "  </thead>\n",
       "  <tbody>\n",
       "    <tr>\n",
       "      <th>0</th>\n",
       "      <td>Parliament approves law setting up Egyptian He...</td>\n",
       "      <td>2/9/2022</td>\n",
       "    </tr>\n",
       "    <tr>\n",
       "      <th>1</th>\n",
       "      <td>New head of Egypt's Supreme Constitutional Cou...</td>\n",
       "      <td>2/9/2022</td>\n",
       "    </tr>\n",
       "    <tr>\n",
       "      <th>2</th>\n",
       "      <td>Egypt’s HR council hails as 'historic step' th...</td>\n",
       "      <td>2/9/2022</td>\n",
       "    </tr>\n",
       "    <tr>\n",
       "      <th>3</th>\n",
       "      <td>Sisi names first Christian as president of Egy...</td>\n",
       "      <td>2/8/2022</td>\n",
       "    </tr>\n",
       "    <tr>\n",
       "      <th>4</th>\n",
       "      <td>Egyptian parliament rejects draft law imposing...</td>\n",
       "      <td>2/8/2022</td>\n",
       "    </tr>\n",
       "    <tr>\n",
       "      <th>...</th>\n",
       "      <td>...</td>\n",
       "      <td>...</td>\n",
       "    </tr>\n",
       "    <tr>\n",
       "      <th>9995</th>\n",
       "      <td>Egypt's President Sisi arrives in Saudi Arabia...</td>\n",
       "      <td>4/14/2018</td>\n",
       "    </tr>\n",
       "    <tr>\n",
       "      <th>9996</th>\n",
       "      <td>Egypt concerned over military escalation in Sy...</td>\n",
       "      <td>4/14/2018</td>\n",
       "    </tr>\n",
       "    <tr>\n",
       "      <th>9997</th>\n",
       "      <td>Egyptian Army says 27 'takfiris' killed, 114 s...</td>\n",
       "      <td>4/14/2018</td>\n",
       "    </tr>\n",
       "    <tr>\n",
       "      <th>9998</th>\n",
       "      <td>Egypt's Coptic Pope Tawadros II receives Portu...</td>\n",
       "      <td>4/13/2018</td>\n",
       "    </tr>\n",
       "    <tr>\n",
       "      <th>9999</th>\n",
       "      <td>Egypt's Grand Mufti condemns torching of mosqu...</td>\n",
       "      <td>4/13/2018</td>\n",
       "    </tr>\n",
       "  </tbody>\n",
       "</table>\n",
       "<p>10000 rows × 2 columns</p>\n",
       "</div>"
      ],
      "text/plain": [
       "                                       political_review       date\n",
       "0     Parliament approves law setting up Egyptian He...   2/9/2022\n",
       "1     New head of Egypt's Supreme Constitutional Cou...   2/9/2022\n",
       "2     Egypt’s HR council hails as 'historic step' th...   2/9/2022\n",
       "3     Sisi names first Christian as president of Egy...   2/8/2022\n",
       "4     Egyptian parliament rejects draft law imposing...   2/8/2022\n",
       "...                                                 ...        ...\n",
       "9995  Egypt's President Sisi arrives in Saudi Arabia...  4/14/2018\n",
       "9996  Egypt concerned over military escalation in Sy...  4/14/2018\n",
       "9997  Egyptian Army says 27 'takfiris' killed, 114 s...  4/14/2018\n",
       "9998  Egypt's Coptic Pope Tawadros II receives Portu...  4/13/2018\n",
       "9999  Egypt's Grand Mufti condemns torching of mosqu...  4/13/2018\n",
       "\n",
       "[10000 rows x 2 columns]"
      ]
     },
     "execution_count": 14,
     "metadata": {},
     "output_type": "execute_result"
    }
   ],
   "source": [
    "df = pd.DataFrame(data={'political_review': reviews, 'date': dates})\n",
    "df"
   ]
  },
  {
   "cell_type": "markdown",
   "id": "b7fb2ce6",
   "metadata": {},
   "source": [
    "## Convert date column to pandas datetime object"
   ]
  },
  {
   "cell_type": "code",
   "execution_count": 15,
   "id": "5ff09a5d",
   "metadata": {},
   "outputs": [
    {
     "name": "stdout",
     "output_type": "stream",
     "text": [
      "<class 'pandas.core.frame.DataFrame'>\n",
      "RangeIndex: 10000 entries, 0 to 9999\n",
      "Data columns (total 2 columns):\n",
      " #   Column            Non-Null Count  Dtype         \n",
      "---  ------            --------------  -----         \n",
      " 0   political_review  10000 non-null  object        \n",
      " 1   date              10000 non-null  datetime64[ns]\n",
      "dtypes: datetime64[ns](1), object(1)\n",
      "memory usage: 156.4+ KB\n"
     ]
    }
   ],
   "source": [
    "df['date'] = pd.to_datetime(df['date'])\n",
    "df.info()"
   ]
  },
  {
   "cell_type": "code",
   "execution_count": 16,
   "id": "316504ea",
   "metadata": {},
   "outputs": [
    {
     "data": {
      "text/html": [
       "<div>\n",
       "<style scoped>\n",
       "    .dataframe tbody tr th:only-of-type {\n",
       "        vertical-align: middle;\n",
       "    }\n",
       "\n",
       "    .dataframe tbody tr th {\n",
       "        vertical-align: top;\n",
       "    }\n",
       "\n",
       "    .dataframe thead th {\n",
       "        text-align: right;\n",
       "    }\n",
       "</style>\n",
       "<table border=\"1\" class=\"dataframe\">\n",
       "  <thead>\n",
       "    <tr style=\"text-align: right;\">\n",
       "      <th></th>\n",
       "      <th>political_review</th>\n",
       "      <th>date</th>\n",
       "    </tr>\n",
       "  </thead>\n",
       "  <tbody>\n",
       "    <tr>\n",
       "      <th>0</th>\n",
       "      <td>Parliament approves law setting up Egyptian He...</td>\n",
       "      <td>2022-02-09</td>\n",
       "    </tr>\n",
       "    <tr>\n",
       "      <th>1</th>\n",
       "      <td>New head of Egypt's Supreme Constitutional Cou...</td>\n",
       "      <td>2022-02-09</td>\n",
       "    </tr>\n",
       "    <tr>\n",
       "      <th>2</th>\n",
       "      <td>Egypt’s HR council hails as 'historic step' th...</td>\n",
       "      <td>2022-02-09</td>\n",
       "    </tr>\n",
       "    <tr>\n",
       "      <th>3</th>\n",
       "      <td>Sisi names first Christian as president of Egy...</td>\n",
       "      <td>2022-02-08</td>\n",
       "    </tr>\n",
       "    <tr>\n",
       "      <th>4</th>\n",
       "      <td>Egyptian parliament rejects draft law imposing...</td>\n",
       "      <td>2022-02-08</td>\n",
       "    </tr>\n",
       "    <tr>\n",
       "      <th>...</th>\n",
       "      <td>...</td>\n",
       "      <td>...</td>\n",
       "    </tr>\n",
       "    <tr>\n",
       "      <th>9995</th>\n",
       "      <td>Egypt's President Sisi arrives in Saudi Arabia...</td>\n",
       "      <td>2018-04-14</td>\n",
       "    </tr>\n",
       "    <tr>\n",
       "      <th>9996</th>\n",
       "      <td>Egypt concerned over military escalation in Sy...</td>\n",
       "      <td>2018-04-14</td>\n",
       "    </tr>\n",
       "    <tr>\n",
       "      <th>9997</th>\n",
       "      <td>Egyptian Army says 27 'takfiris' killed, 114 s...</td>\n",
       "      <td>2018-04-14</td>\n",
       "    </tr>\n",
       "    <tr>\n",
       "      <th>9998</th>\n",
       "      <td>Egypt's Coptic Pope Tawadros II receives Portu...</td>\n",
       "      <td>2018-04-13</td>\n",
       "    </tr>\n",
       "    <tr>\n",
       "      <th>9999</th>\n",
       "      <td>Egypt's Grand Mufti condemns torching of mosqu...</td>\n",
       "      <td>2018-04-13</td>\n",
       "    </tr>\n",
       "  </tbody>\n",
       "</table>\n",
       "<p>10000 rows × 2 columns</p>\n",
       "</div>"
      ],
      "text/plain": [
       "                                       political_review       date\n",
       "0     Parliament approves law setting up Egyptian He... 2022-02-09\n",
       "1     New head of Egypt's Supreme Constitutional Cou... 2022-02-09\n",
       "2     Egypt’s HR council hails as 'historic step' th... 2022-02-09\n",
       "3     Sisi names first Christian as president of Egy... 2022-02-08\n",
       "4     Egyptian parliament rejects draft law imposing... 2022-02-08\n",
       "...                                                 ...        ...\n",
       "9995  Egypt's President Sisi arrives in Saudi Arabia... 2018-04-14\n",
       "9996  Egypt concerned over military escalation in Sy... 2018-04-14\n",
       "9997  Egyptian Army says 27 'takfiris' killed, 114 s... 2018-04-14\n",
       "9998  Egypt's Coptic Pope Tawadros II receives Portu... 2018-04-13\n",
       "9999  Egypt's Grand Mufti condemns torching of mosqu... 2018-04-13\n",
       "\n",
       "[10000 rows x 2 columns]"
      ]
     },
     "execution_count": 16,
     "metadata": {},
     "output_type": "execute_result"
    }
   ],
   "source": [
    "df"
   ]
  },
  {
   "cell_type": "code",
   "execution_count": 17,
   "id": "fdef1bd9",
   "metadata": {},
   "outputs": [],
   "source": [
    "df.to_csv('ahram_political_reviews.csv')"
   ]
  }
 ],
 "metadata": {
  "kernelspec": {
   "display_name": "Python 3 (ipykernel)",
   "language": "python",
   "name": "python3"
  },
  "language_info": {
   "codemirror_mode": {
    "name": "ipython",
    "version": 3
   },
   "file_extension": ".py",
   "mimetype": "text/x-python",
   "name": "python",
   "nbconvert_exporter": "python",
   "pygments_lexer": "ipython3",
   "version": "3.9.7"
  }
 },
 "nbformat": 4,
 "nbformat_minor": 5
}
