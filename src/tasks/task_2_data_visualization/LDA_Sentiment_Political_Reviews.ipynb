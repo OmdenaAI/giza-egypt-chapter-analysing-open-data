{
  "cells": [
    {
      "cell_type": "markdown",
      "metadata": {
        "id": "0CfVIZMi9BCg"
      },
      "source": [
        "#Importing Libraries\n"
      ]
    },
    {
      "cell_type": "code",
      "execution_count": 1,
      "metadata": {
        "colab": {
          "base_uri": "https://localhost:8080/"
        },
        "id": "d6wICcMw9Bbw",
        "outputId": "72d5290e-cdec-4335-c974-fad58a2504e0"
      },
      "outputs": [
        {
          "output_type": "stream",
          "name": "stdout",
          "text": [
            "Collecting pyLDAvis\n",
            "  Downloading pyLDAvis-3.3.1.tar.gz (1.7 MB)\n",
            "\u001b[K     |████████████████████████████████| 1.7 MB 4.0 MB/s \n",
            "\u001b[?25h  Installing build dependencies ... \u001b[?25l\u001b[?25hdone\n",
            "  Getting requirements to build wheel ... \u001b[?25l\u001b[?25hdone\n",
            "  Installing backend dependencies ... \u001b[?25l\u001b[?25hdone\n",
            "    Preparing wheel metadata ... \u001b[?25l\u001b[?25hdone\n",
            "Requirement already satisfied: numpy>=1.20.0 in /usr/local/lib/python3.7/dist-packages (from pyLDAvis) (1.21.5)\n",
            "Requirement already satisfied: setuptools in /usr/local/lib/python3.7/dist-packages (from pyLDAvis) (57.4.0)\n",
            "Collecting funcy\n",
            "  Downloading funcy-1.17-py2.py3-none-any.whl (33 kB)\n",
            "Requirement already satisfied: jinja2 in /usr/local/lib/python3.7/dist-packages (from pyLDAvis) (2.11.3)\n",
            "Requirement already satisfied: future in /usr/local/lib/python3.7/dist-packages (from pyLDAvis) (0.16.0)\n",
            "Requirement already satisfied: scikit-learn in /usr/local/lib/python3.7/dist-packages (from pyLDAvis) (1.0.2)\n",
            "Requirement already satisfied: sklearn in /usr/local/lib/python3.7/dist-packages (from pyLDAvis) (0.0)\n",
            "Requirement already satisfied: pandas>=1.2.0 in /usr/local/lib/python3.7/dist-packages (from pyLDAvis) (1.3.5)\n",
            "Requirement already satisfied: gensim in /usr/local/lib/python3.7/dist-packages (from pyLDAvis) (3.6.0)\n",
            "Requirement already satisfied: numexpr in /usr/local/lib/python3.7/dist-packages (from pyLDAvis) (2.8.1)\n",
            "Requirement already satisfied: scipy in /usr/local/lib/python3.7/dist-packages (from pyLDAvis) (1.4.1)\n",
            "Requirement already satisfied: joblib in /usr/local/lib/python3.7/dist-packages (from pyLDAvis) (1.1.0)\n",
            "Requirement already satisfied: python-dateutil>=2.7.3 in /usr/local/lib/python3.7/dist-packages (from pandas>=1.2.0->pyLDAvis) (2.8.2)\n",
            "Requirement already satisfied: pytz>=2017.3 in /usr/local/lib/python3.7/dist-packages (from pandas>=1.2.0->pyLDAvis) (2018.9)\n",
            "Requirement already satisfied: six>=1.5 in /usr/local/lib/python3.7/dist-packages (from python-dateutil>=2.7.3->pandas>=1.2.0->pyLDAvis) (1.15.0)\n",
            "Requirement already satisfied: smart-open>=1.2.1 in /usr/local/lib/python3.7/dist-packages (from gensim->pyLDAvis) (5.2.1)\n",
            "Requirement already satisfied: MarkupSafe>=0.23 in /usr/local/lib/python3.7/dist-packages (from jinja2->pyLDAvis) (2.0.1)\n",
            "Requirement already satisfied: packaging in /usr/local/lib/python3.7/dist-packages (from numexpr->pyLDAvis) (21.3)\n",
            "Requirement already satisfied: pyparsing!=3.0.5,>=2.0.2 in /usr/local/lib/python3.7/dist-packages (from packaging->numexpr->pyLDAvis) (3.0.7)\n",
            "Requirement already satisfied: threadpoolctl>=2.0.0 in /usr/local/lib/python3.7/dist-packages (from scikit-learn->pyLDAvis) (3.1.0)\n",
            "Building wheels for collected packages: pyLDAvis\n",
            "  Building wheel for pyLDAvis (PEP 517) ... \u001b[?25l\u001b[?25hdone\n",
            "  Created wheel for pyLDAvis: filename=pyLDAvis-3.3.1-py2.py3-none-any.whl size=136898 sha256=8d614896a827069741780cc9615f4db51919acf73546188cf55400e821538e79\n",
            "  Stored in directory: /root/.cache/pip/wheels/c9/21/f6/17bcf2667e8a68532ba2fbf6d5c72fdf4c7f7d9abfa4852d2f\n",
            "Successfully built pyLDAvis\n",
            "Installing collected packages: funcy, pyLDAvis\n",
            "Successfully installed funcy-1.17 pyLDAvis-3.3.1\n"
          ]
        }
      ],
      "source": [
        "!pip install pyLDAvis\n"
      ]
    },
    {
      "cell_type": "code",
      "execution_count": 2,
      "metadata": {
        "colab": {
          "base_uri": "https://localhost:8080/"
        },
        "id": "II9rvMkS9wL8",
        "outputId": "4e080eda-5599-4a7f-8166-ef3220a0566b"
      },
      "outputs": [
        {
          "output_type": "stream",
          "name": "stderr",
          "text": [
            "/usr/local/lib/python3.7/dist-packages/past/types/oldstr.py:5: DeprecationWarning: Using or importing the ABCs from 'collections' instead of from 'collections.abc' is deprecated since Python 3.3,and in 3.9 it will stop working\n",
            "  from collections import Iterable\n"
          ]
        },
        {
          "output_type": "stream",
          "name": "stdout",
          "text": [
            "[nltk_data] Downloading package stopwords to /root/nltk_data...\n",
            "[nltk_data]   Unzipping corpora/stopwords.zip.\n"
          ]
        }
      ],
      "source": [
        "#https://www.machinelearningplus.com/nlp/topic-modeling-gensim-python/#1introduction\n",
        "import numpy as np\n",
        "import pandas as pd\n",
        "import json\n",
        "import glob\n",
        "\n",
        "#Gensim\n",
        "import gensim\n",
        "import gensim.corpora as corpora\n",
        "from gensim.utils import simple_preprocess\n",
        "from gensim.models import CoherenceModel\n",
        "\n",
        "#spacy\n",
        "import spacy\n",
        "from nltk.corpus import stopwords\n",
        "\n",
        "#vis\n",
        "import pyLDAvis\n",
        "import pyLDAvis.sklearn\n",
        "pyLDAvis.enable_notebook()\n",
        "\n",
        "import warnings\n",
        "warnings.filterwarnings(\"ignore\", category=DeprecationWarning)\n",
        "\n",
        "import nltk\n",
        "nltk.download('stopwords')\n",
        "\n",
        "import gensim\n",
        "from gensim.corpora import Dictionary\n",
        "\n",
        "from IPython.display import clear_output\n",
        "\n",
        "import pyLDAvis.gensim_models as gensim_models\n",
        "from gensim.models.coherencemodel import CoherenceModel\n"
      ]
    },
    {
      "cell_type": "markdown",
      "metadata": {
        "id": "4FnQxqFC90pi"
      },
      "source": [
        "#Preparing data and storing in df dataframe\n"
      ]
    },
    {
      "cell_type": "code",
      "execution_count": 3,
      "metadata": {
        "colab": {
          "base_uri": "https://localhost:8080/",
          "height": 206
        },
        "id": "lvVANKrr91jY",
        "outputId": "8d5f13fe-08e1-42aa-822f-60b3d20d10b2"
      },
      "outputs": [
        {
          "output_type": "execute_result",
          "data": {
            "text/html": [
              "\n",
              "  <div id=\"df-8121c54b-a705-4b88-82e2-bb9a725ac967\">\n",
              "    <div class=\"colab-df-container\">\n",
              "      <div>\n",
              "<style scoped>\n",
              "    .dataframe tbody tr th:only-of-type {\n",
              "        vertical-align: middle;\n",
              "    }\n",
              "\n",
              "    .dataframe tbody tr th {\n",
              "        vertical-align: top;\n",
              "    }\n",
              "\n",
              "    .dataframe thead th {\n",
              "        text-align: right;\n",
              "    }\n",
              "</style>\n",
              "<table border=\"1\" class=\"dataframe\">\n",
              "  <thead>\n",
              "    <tr style=\"text-align: right;\">\n",
              "      <th></th>\n",
              "      <th>political_review</th>\n",
              "      <th>date</th>\n",
              "    </tr>\n",
              "  </thead>\n",
              "  <tbody>\n",
              "    <tr>\n",
              "      <th>0</th>\n",
              "      <td>Parliament approves law setting up Egyptian He...</td>\n",
              "      <td>2022-02-09</td>\n",
              "    </tr>\n",
              "    <tr>\n",
              "      <th>1</th>\n",
              "      <td>New head of Egypt's Supreme Constitutional Cou...</td>\n",
              "      <td>2022-02-09</td>\n",
              "    </tr>\n",
              "    <tr>\n",
              "      <th>2</th>\n",
              "      <td>Egypt’s HR council hails as 'historic step' th...</td>\n",
              "      <td>2022-02-09</td>\n",
              "    </tr>\n",
              "    <tr>\n",
              "      <th>3</th>\n",
              "      <td>Sisi names first Christian as president of Egy...</td>\n",
              "      <td>2022-02-08</td>\n",
              "    </tr>\n",
              "    <tr>\n",
              "      <th>4</th>\n",
              "      <td>Egyptian parliament rejects draft law imposing...</td>\n",
              "      <td>2022-02-08</td>\n",
              "    </tr>\n",
              "  </tbody>\n",
              "</table>\n",
              "</div>\n",
              "      <button class=\"colab-df-convert\" onclick=\"convertToInteractive('df-8121c54b-a705-4b88-82e2-bb9a725ac967')\"\n",
              "              title=\"Convert this dataframe to an interactive table.\"\n",
              "              style=\"display:none;\">\n",
              "        \n",
              "  <svg xmlns=\"http://www.w3.org/2000/svg\" height=\"24px\"viewBox=\"0 0 24 24\"\n",
              "       width=\"24px\">\n",
              "    <path d=\"M0 0h24v24H0V0z\" fill=\"none\"/>\n",
              "    <path d=\"M18.56 5.44l.94 2.06.94-2.06 2.06-.94-2.06-.94-.94-2.06-.94 2.06-2.06.94zm-11 1L8.5 8.5l.94-2.06 2.06-.94-2.06-.94L8.5 2.5l-.94 2.06-2.06.94zm10 10l.94 2.06.94-2.06 2.06-.94-2.06-.94-.94-2.06-.94 2.06-2.06.94z\"/><path d=\"M17.41 7.96l-1.37-1.37c-.4-.4-.92-.59-1.43-.59-.52 0-1.04.2-1.43.59L10.3 9.45l-7.72 7.72c-.78.78-.78 2.05 0 2.83L4 21.41c.39.39.9.59 1.41.59.51 0 1.02-.2 1.41-.59l7.78-7.78 2.81-2.81c.8-.78.8-2.07 0-2.86zM5.41 20L4 18.59l7.72-7.72 1.47 1.35L5.41 20z\"/>\n",
              "  </svg>\n",
              "      </button>\n",
              "      \n",
              "  <style>\n",
              "    .colab-df-container {\n",
              "      display:flex;\n",
              "      flex-wrap:wrap;\n",
              "      gap: 12px;\n",
              "    }\n",
              "\n",
              "    .colab-df-convert {\n",
              "      background-color: #E8F0FE;\n",
              "      border: none;\n",
              "      border-radius: 50%;\n",
              "      cursor: pointer;\n",
              "      display: none;\n",
              "      fill: #1967D2;\n",
              "      height: 32px;\n",
              "      padding: 0 0 0 0;\n",
              "      width: 32px;\n",
              "    }\n",
              "\n",
              "    .colab-df-convert:hover {\n",
              "      background-color: #E2EBFA;\n",
              "      box-shadow: 0px 1px 2px rgba(60, 64, 67, 0.3), 0px 1px 3px 1px rgba(60, 64, 67, 0.15);\n",
              "      fill: #174EA6;\n",
              "    }\n",
              "\n",
              "    [theme=dark] .colab-df-convert {\n",
              "      background-color: #3B4455;\n",
              "      fill: #D2E3FC;\n",
              "    }\n",
              "\n",
              "    [theme=dark] .colab-df-convert:hover {\n",
              "      background-color: #434B5C;\n",
              "      box-shadow: 0px 1px 3px 1px rgba(0, 0, 0, 0.15);\n",
              "      filter: drop-shadow(0px 1px 2px rgba(0, 0, 0, 0.3));\n",
              "      fill: #FFFFFF;\n",
              "    }\n",
              "  </style>\n",
              "\n",
              "      <script>\n",
              "        const buttonEl =\n",
              "          document.querySelector('#df-8121c54b-a705-4b88-82e2-bb9a725ac967 button.colab-df-convert');\n",
              "        buttonEl.style.display =\n",
              "          google.colab.kernel.accessAllowed ? 'block' : 'none';\n",
              "\n",
              "        async function convertToInteractive(key) {\n",
              "          const element = document.querySelector('#df-8121c54b-a705-4b88-82e2-bb9a725ac967');\n",
              "          const dataTable =\n",
              "            await google.colab.kernel.invokeFunction('convertToInteractive',\n",
              "                                                     [key], {});\n",
              "          if (!dataTable) return;\n",
              "\n",
              "          const docLinkHtml = 'Like what you see? Visit the ' +\n",
              "            '<a target=\"_blank\" href=https://colab.research.google.com/notebooks/data_table.ipynb>data table notebook</a>'\n",
              "            + ' to learn more about interactive tables.';\n",
              "          element.innerHTML = '';\n",
              "          dataTable['output_type'] = 'display_data';\n",
              "          await google.colab.output.renderOutput(dataTable, element);\n",
              "          const docLink = document.createElement('div');\n",
              "          docLink.innerHTML = docLinkHtml;\n",
              "          element.appendChild(docLink);\n",
              "        }\n",
              "      </script>\n",
              "    </div>\n",
              "  </div>\n",
              "  "
            ],
            "text/plain": [
              "                                    political_review        date\n",
              "0  Parliament approves law setting up Egyptian He...  2022-02-09\n",
              "1  New head of Egypt's Supreme Constitutional Cou...  2022-02-09\n",
              "2  Egypt’s HR council hails as 'historic step' th...  2022-02-09\n",
              "3  Sisi names first Christian as president of Egy...  2022-02-08\n",
              "4  Egyptian parliament rejects draft law imposing...  2022-02-08"
            ]
          },
          "metadata": {},
          "execution_count": 3
        }
      ],
      "source": [
        "df = pd.read_csv('/content/ahram_political_reviews.csv').drop('Unnamed: 0', axis =1)\n",
        "df.head()"
      ]
    },
    {
      "cell_type": "markdown",
      "metadata": {
        "id": "nQ_pvfWR-HSs"
      },
      "source": [
        "#Finding Null values\n"
      ]
    },
    {
      "cell_type": "code",
      "execution_count": 4,
      "metadata": {
        "colab": {
          "base_uri": "https://localhost:8080/"
        },
        "id": "A00WOmxX-Jaa",
        "outputId": "92788eb1-2372-4e7b-c710-0cf35ccee94d"
      },
      "outputs": [
        {
          "output_type": "execute_result",
          "data": {
            "text/plain": [
              "political_review    0\n",
              "date                0\n",
              "dtype: int64"
            ]
          },
          "metadata": {},
          "execution_count": 4
        }
      ],
      "source": [
        "df.isnull().sum()\n"
      ]
    },
    {
      "cell_type": "code",
      "execution_count": 5,
      "metadata": {
        "colab": {
          "base_uri": "https://localhost:8080/",
          "height": 49
        },
        "id": "7QmgsvS1-So1",
        "outputId": "afea32fd-ef8b-4ce5-9c66-0f202e5a8d95"
      },
      "outputs": [
        {
          "output_type": "execute_result",
          "data": {
            "text/html": [
              "\n",
              "  <div id=\"df-1ee7151d-57e8-45a0-a98b-45d99b32209a\">\n",
              "    <div class=\"colab-df-container\">\n",
              "      <div>\n",
              "<style scoped>\n",
              "    .dataframe tbody tr th:only-of-type {\n",
              "        vertical-align: middle;\n",
              "    }\n",
              "\n",
              "    .dataframe tbody tr th {\n",
              "        vertical-align: top;\n",
              "    }\n",
              "\n",
              "    .dataframe thead th {\n",
              "        text-align: right;\n",
              "    }\n",
              "</style>\n",
              "<table border=\"1\" class=\"dataframe\">\n",
              "  <thead>\n",
              "    <tr style=\"text-align: right;\">\n",
              "      <th></th>\n",
              "      <th>political_review</th>\n",
              "      <th>date</th>\n",
              "    </tr>\n",
              "  </thead>\n",
              "  <tbody>\n",
              "  </tbody>\n",
              "</table>\n",
              "</div>\n",
              "      <button class=\"colab-df-convert\" onclick=\"convertToInteractive('df-1ee7151d-57e8-45a0-a98b-45d99b32209a')\"\n",
              "              title=\"Convert this dataframe to an interactive table.\"\n",
              "              style=\"display:none;\">\n",
              "        \n",
              "  <svg xmlns=\"http://www.w3.org/2000/svg\" height=\"24px\"viewBox=\"0 0 24 24\"\n",
              "       width=\"24px\">\n",
              "    <path d=\"M0 0h24v24H0V0z\" fill=\"none\"/>\n",
              "    <path d=\"M18.56 5.44l.94 2.06.94-2.06 2.06-.94-2.06-.94-.94-2.06-.94 2.06-2.06.94zm-11 1L8.5 8.5l.94-2.06 2.06-.94-2.06-.94L8.5 2.5l-.94 2.06-2.06.94zm10 10l.94 2.06.94-2.06 2.06-.94-2.06-.94-.94-2.06-.94 2.06-2.06.94z\"/><path d=\"M17.41 7.96l-1.37-1.37c-.4-.4-.92-.59-1.43-.59-.52 0-1.04.2-1.43.59L10.3 9.45l-7.72 7.72c-.78.78-.78 2.05 0 2.83L4 21.41c.39.39.9.59 1.41.59.51 0 1.02-.2 1.41-.59l7.78-7.78 2.81-2.81c.8-.78.8-2.07 0-2.86zM5.41 20L4 18.59l7.72-7.72 1.47 1.35L5.41 20z\"/>\n",
              "  </svg>\n",
              "      </button>\n",
              "      \n",
              "  <style>\n",
              "    .colab-df-container {\n",
              "      display:flex;\n",
              "      flex-wrap:wrap;\n",
              "      gap: 12px;\n",
              "    }\n",
              "\n",
              "    .colab-df-convert {\n",
              "      background-color: #E8F0FE;\n",
              "      border: none;\n",
              "      border-radius: 50%;\n",
              "      cursor: pointer;\n",
              "      display: none;\n",
              "      fill: #1967D2;\n",
              "      height: 32px;\n",
              "      padding: 0 0 0 0;\n",
              "      width: 32px;\n",
              "    }\n",
              "\n",
              "    .colab-df-convert:hover {\n",
              "      background-color: #E2EBFA;\n",
              "      box-shadow: 0px 1px 2px rgba(60, 64, 67, 0.3), 0px 1px 3px 1px rgba(60, 64, 67, 0.15);\n",
              "      fill: #174EA6;\n",
              "    }\n",
              "\n",
              "    [theme=dark] .colab-df-convert {\n",
              "      background-color: #3B4455;\n",
              "      fill: #D2E3FC;\n",
              "    }\n",
              "\n",
              "    [theme=dark] .colab-df-convert:hover {\n",
              "      background-color: #434B5C;\n",
              "      box-shadow: 0px 1px 3px 1px rgba(0, 0, 0, 0.15);\n",
              "      filter: drop-shadow(0px 1px 2px rgba(0, 0, 0, 0.3));\n",
              "      fill: #FFFFFF;\n",
              "    }\n",
              "  </style>\n",
              "\n",
              "      <script>\n",
              "        const buttonEl =\n",
              "          document.querySelector('#df-1ee7151d-57e8-45a0-a98b-45d99b32209a button.colab-df-convert');\n",
              "        buttonEl.style.display =\n",
              "          google.colab.kernel.accessAllowed ? 'block' : 'none';\n",
              "\n",
              "        async function convertToInteractive(key) {\n",
              "          const element = document.querySelector('#df-1ee7151d-57e8-45a0-a98b-45d99b32209a');\n",
              "          const dataTable =\n",
              "            await google.colab.kernel.invokeFunction('convertToInteractive',\n",
              "                                                     [key], {});\n",
              "          if (!dataTable) return;\n",
              "\n",
              "          const docLinkHtml = 'Like what you see? Visit the ' +\n",
              "            '<a target=\"_blank\" href=https://colab.research.google.com/notebooks/data_table.ipynb>data table notebook</a>'\n",
              "            + ' to learn more about interactive tables.';\n",
              "          element.innerHTML = '';\n",
              "          dataTable['output_type'] = 'display_data';\n",
              "          await google.colab.output.renderOutput(dataTable, element);\n",
              "          const docLink = document.createElement('div');\n",
              "          docLink.innerHTML = docLinkHtml;\n",
              "          element.appendChild(docLink);\n",
              "        }\n",
              "      </script>\n",
              "    </div>\n",
              "  </div>\n",
              "  "
            ],
            "text/plain": [
              "Empty DataFrame\n",
              "Columns: [political_review, date]\n",
              "Index: []"
            ]
          },
          "metadata": {},
          "execution_count": 5
        }
      ],
      "source": [
        "df[df.duplicated() == True]\n"
      ]
    },
    {
      "cell_type": "code",
      "execution_count": 6,
      "metadata": {
        "id": "alOc374z-Z1e"
      },
      "outputs": [],
      "source": [
        "stop_words = stopwords.words(\"english\")\n"
      ]
    },
    {
      "cell_type": "markdown",
      "metadata": {
        "id": "xM20CZ9K-c5N"
      },
      "source": [
        "#Functions to clean Text via REGEX\n"
      ]
    },
    {
      "cell_type": "code",
      "execution_count": 7,
      "metadata": {
        "id": "ihoE2e2w-d42"
      },
      "outputs": [],
      "source": [
        "import re\n",
        "\"\"\"Functions to clean text using Regex\"\"\"\n",
        "ip_addr_regex = re.compile(r'\\b(?:[0-9]{1,3}\\.){3}[0-9]{1,3}\\b')\n",
        "emoji_pattern = re.compile(\"[\"\n",
        "        u\"\\U0001F600-\\U0001F64F\"  # emoticons\n",
        "        u\"\\U0001F300-\\U0001F5FF\"  # symbols & pictographs\n",
        "        u\"\\U0001F680-\\U0001F6FF\"  # transport & map symbols\n",
        "        u\"\\U0001F1E0-\\U0001F1FF\"  # flags (iOS)\n",
        "                           \"]+\", flags=re.UNICODE)\n",
        "\n",
        "def regex_cleaning(phrase):\n",
        "    # specific\n",
        "    phrase = re.sub(r\"won\\'t\", \"will not\", phrase)\n",
        "    phrase = re.sub(r\"can\\'t\", \"can not\", phrase)\n",
        "\n",
        "    # general\n",
        "    phrase = re.sub(r\"n\\'t\", \" not\", phrase)\n",
        "    phrase = re.sub(r\"\\'re\", \" are\", phrase)\n",
        "    phrase = re.sub(r\"\\'s\", \" is\", phrase)\n",
        "    phrase = re.sub(r\"\\'d\", \" would\", phrase)\n",
        "    phrase = re.sub(r\"\\'ll\", \" will\", phrase)\n",
        "    phrase = re.sub(r\"\\'t\", \" not\", phrase)\n",
        "    phrase = re.sub(r\"\\'ve\", \" have\", phrase)\n",
        "    phrase = re.sub(r\"\\'m\", \" am\", phrase)\n",
        "    phrase = re.sub(r\"[^a-zA-Z0-9]+\", \" \", phrase)\n",
        "    phrase = re.sub(r\"\\r\\n\", \"\", phrase)            # Removing additional line\n",
        "    phrase = re.sub(r\"\\n\", \"\", phrase)              # Removing additional line \n",
        "    phrase = re.sub(r\"\\S*@\\S*\\s?\", \"\", phrase)      # Removing email-addresses \n",
        "    phrase = re.sub(r'http\\S+', '', phrase)         # Removing website links\n",
        "    phrase = re.sub(ip_addr_regex, \"\", phrase)      # Removing IP address link.\n",
        "    phrase = emoji_pattern.sub(r'', phrase)         # Removing Emojis\n",
        "    \n",
        "    return phrase.lower() \n",
        "\n",
        "df['cleaned_text'] = df['political_review'].apply(regex_cleaning)"
      ]
    },
    {
      "cell_type": "code",
      "execution_count": 8,
      "metadata": {
        "colab": {
          "base_uri": "https://localhost:8080/",
          "height": 206
        },
        "id": "_0k5Xb_w-q3A",
        "outputId": "7dcb8590-8ae3-45e5-a601-8d75085e1f7c"
      },
      "outputs": [
        {
          "output_type": "execute_result",
          "data": {
            "text/html": [
              "\n",
              "  <div id=\"df-81d2ccb1-17d7-4ad9-8d31-4724c613b9e4\">\n",
              "    <div class=\"colab-df-container\">\n",
              "      <div>\n",
              "<style scoped>\n",
              "    .dataframe tbody tr th:only-of-type {\n",
              "        vertical-align: middle;\n",
              "    }\n",
              "\n",
              "    .dataframe tbody tr th {\n",
              "        vertical-align: top;\n",
              "    }\n",
              "\n",
              "    .dataframe thead th {\n",
              "        text-align: right;\n",
              "    }\n",
              "</style>\n",
              "<table border=\"1\" class=\"dataframe\">\n",
              "  <thead>\n",
              "    <tr style=\"text-align: right;\">\n",
              "      <th></th>\n",
              "      <th>political_review</th>\n",
              "      <th>date</th>\n",
              "      <th>cleaned_text</th>\n",
              "    </tr>\n",
              "  </thead>\n",
              "  <tbody>\n",
              "    <tr>\n",
              "      <th>0</th>\n",
              "      <td>Parliament approves law setting up Egyptian He...</td>\n",
              "      <td>2022-02-09</td>\n",
              "      <td>parliament approves law setting up egyptian he...</td>\n",
              "    </tr>\n",
              "    <tr>\n",
              "      <th>1</th>\n",
              "      <td>New head of Egypt's Supreme Constitutional Cou...</td>\n",
              "      <td>2022-02-09</td>\n",
              "      <td>new head of egypt is supreme constitutional co...</td>\n",
              "    </tr>\n",
              "    <tr>\n",
              "      <th>2</th>\n",
              "      <td>Egypt’s HR council hails as 'historic step' th...</td>\n",
              "      <td>2022-02-09</td>\n",
              "      <td>egypt s hr council hails as historic step the ...</td>\n",
              "    </tr>\n",
              "    <tr>\n",
              "      <th>3</th>\n",
              "      <td>Sisi names first Christian as president of Egy...</td>\n",
              "      <td>2022-02-08</td>\n",
              "      <td>sisi names first christian as president of egy...</td>\n",
              "    </tr>\n",
              "    <tr>\n",
              "      <th>4</th>\n",
              "      <td>Egyptian parliament rejects draft law imposing...</td>\n",
              "      <td>2022-02-08</td>\n",
              "      <td>egyptian parliament rejects draft law imposing...</td>\n",
              "    </tr>\n",
              "  </tbody>\n",
              "</table>\n",
              "</div>\n",
              "      <button class=\"colab-df-convert\" onclick=\"convertToInteractive('df-81d2ccb1-17d7-4ad9-8d31-4724c613b9e4')\"\n",
              "              title=\"Convert this dataframe to an interactive table.\"\n",
              "              style=\"display:none;\">\n",
              "        \n",
              "  <svg xmlns=\"http://www.w3.org/2000/svg\" height=\"24px\"viewBox=\"0 0 24 24\"\n",
              "       width=\"24px\">\n",
              "    <path d=\"M0 0h24v24H0V0z\" fill=\"none\"/>\n",
              "    <path d=\"M18.56 5.44l.94 2.06.94-2.06 2.06-.94-2.06-.94-.94-2.06-.94 2.06-2.06.94zm-11 1L8.5 8.5l.94-2.06 2.06-.94-2.06-.94L8.5 2.5l-.94 2.06-2.06.94zm10 10l.94 2.06.94-2.06 2.06-.94-2.06-.94-.94-2.06-.94 2.06-2.06.94z\"/><path d=\"M17.41 7.96l-1.37-1.37c-.4-.4-.92-.59-1.43-.59-.52 0-1.04.2-1.43.59L10.3 9.45l-7.72 7.72c-.78.78-.78 2.05 0 2.83L4 21.41c.39.39.9.59 1.41.59.51 0 1.02-.2 1.41-.59l7.78-7.78 2.81-2.81c.8-.78.8-2.07 0-2.86zM5.41 20L4 18.59l7.72-7.72 1.47 1.35L5.41 20z\"/>\n",
              "  </svg>\n",
              "      </button>\n",
              "      \n",
              "  <style>\n",
              "    .colab-df-container {\n",
              "      display:flex;\n",
              "      flex-wrap:wrap;\n",
              "      gap: 12px;\n",
              "    }\n",
              "\n",
              "    .colab-df-convert {\n",
              "      background-color: #E8F0FE;\n",
              "      border: none;\n",
              "      border-radius: 50%;\n",
              "      cursor: pointer;\n",
              "      display: none;\n",
              "      fill: #1967D2;\n",
              "      height: 32px;\n",
              "      padding: 0 0 0 0;\n",
              "      width: 32px;\n",
              "    }\n",
              "\n",
              "    .colab-df-convert:hover {\n",
              "      background-color: #E2EBFA;\n",
              "      box-shadow: 0px 1px 2px rgba(60, 64, 67, 0.3), 0px 1px 3px 1px rgba(60, 64, 67, 0.15);\n",
              "      fill: #174EA6;\n",
              "    }\n",
              "\n",
              "    [theme=dark] .colab-df-convert {\n",
              "      background-color: #3B4455;\n",
              "      fill: #D2E3FC;\n",
              "    }\n",
              "\n",
              "    [theme=dark] .colab-df-convert:hover {\n",
              "      background-color: #434B5C;\n",
              "      box-shadow: 0px 1px 3px 1px rgba(0, 0, 0, 0.15);\n",
              "      filter: drop-shadow(0px 1px 2px rgba(0, 0, 0, 0.3));\n",
              "      fill: #FFFFFF;\n",
              "    }\n",
              "  </style>\n",
              "\n",
              "      <script>\n",
              "        const buttonEl =\n",
              "          document.querySelector('#df-81d2ccb1-17d7-4ad9-8d31-4724c613b9e4 button.colab-df-convert');\n",
              "        buttonEl.style.display =\n",
              "          google.colab.kernel.accessAllowed ? 'block' : 'none';\n",
              "\n",
              "        async function convertToInteractive(key) {\n",
              "          const element = document.querySelector('#df-81d2ccb1-17d7-4ad9-8d31-4724c613b9e4');\n",
              "          const dataTable =\n",
              "            await google.colab.kernel.invokeFunction('convertToInteractive',\n",
              "                                                     [key], {});\n",
              "          if (!dataTable) return;\n",
              "\n",
              "          const docLinkHtml = 'Like what you see? Visit the ' +\n",
              "            '<a target=\"_blank\" href=https://colab.research.google.com/notebooks/data_table.ipynb>data table notebook</a>'\n",
              "            + ' to learn more about interactive tables.';\n",
              "          element.innerHTML = '';\n",
              "          dataTable['output_type'] = 'display_data';\n",
              "          await google.colab.output.renderOutput(dataTable, element);\n",
              "          const docLink = document.createElement('div');\n",
              "          docLink.innerHTML = docLinkHtml;\n",
              "          element.appendChild(docLink);\n",
              "        }\n",
              "      </script>\n",
              "    </div>\n",
              "  </div>\n",
              "  "
            ],
            "text/plain": [
              "                                    political_review  ...                                       cleaned_text\n",
              "0  Parliament approves law setting up Egyptian He...  ...  parliament approves law setting up egyptian he...\n",
              "1  New head of Egypt's Supreme Constitutional Cou...  ...  new head of egypt is supreme constitutional co...\n",
              "2  Egypt’s HR council hails as 'historic step' th...  ...  egypt s hr council hails as historic step the ...\n",
              "3  Sisi names first Christian as president of Egy...  ...  sisi names first christian as president of egy...\n",
              "4  Egyptian parliament rejects draft law imposing...  ...  egyptian parliament rejects draft law imposing...\n",
              "\n",
              "[5 rows x 3 columns]"
            ]
          },
          "metadata": {},
          "execution_count": 8
        }
      ],
      "source": [
        "df.head()\n"
      ]
    },
    {
      "cell_type": "markdown",
      "metadata": {
        "id": "KWzOiuqo-t4j"
      },
      "source": [
        "#Using Lemmatization to clean words for analysis\n"
      ]
    },
    {
      "cell_type": "code",
      "execution_count": 9,
      "metadata": {
        "id": "4jv36mhQ-ux1"
      },
      "outputs": [],
      "source": [
        "def lemmatization(texts, allowed_postags=[\"NOUN\", \"ADJ\", \"VERB\", \"ADV\"]):\n",
        "    nlp = spacy.load(\"en_core_web_sm\") #loading english words to nlp \n",
        "    texts_out = []\n",
        "    for text in texts:\n",
        "        doc = nlp(text)\n",
        "        new_text = []\n",
        "        for token in doc:\n",
        "            if token.pos_ in allowed_postags:\n",
        "                new_text.append(token.lemma_)\n",
        "        final = \" \".join(new_text)\n",
        "        texts_out.append(final)\n",
        "    return (texts_out)\n",
        "df['cleaned_text1'] = lemmatization(df.cleaned_text)"
      ]
    },
    {
      "cell_type": "code",
      "execution_count": 10,
      "metadata": {
        "colab": {
          "base_uri": "https://localhost:8080/"
        },
        "id": "IOehpaM1-_nT",
        "outputId": "a79ffd6c-86cb-4323-8a35-639d846a2e64"
      },
      "outputs": [
        {
          "output_type": "stream",
          "name": "stdout",
          "text": [
            "approve law set\n"
          ]
        }
      ],
      "source": [
        "print (df['cleaned_text1'][0][0:70])"
      ]
    },
    {
      "cell_type": "markdown",
      "metadata": {
        "id": "Z8vtgCSV_ABA"
      },
      "source": [
        "#Tokenization of words using Gensim's Simple Preprocess tool\n"
      ]
    },
    {
      "cell_type": "code",
      "execution_count": 11,
      "metadata": {
        "colab": {
          "base_uri": "https://localhost:8080/"
        },
        "id": "4HiyjXrE_CAR",
        "outputId": "1c732303-d420-4497-ae59-97085c49ea37"
      },
      "outputs": [
        {
          "output_type": "stream",
          "name": "stdout",
          "text": [
            "['approve', 'law', 'set']\n"
          ]
        }
      ],
      "source": [
        "def gen_words(texts):\n",
        "    final = []\n",
        "    for text in texts:\n",
        "        new = gensim.utils.simple_preprocess(text, deacc=True)\n",
        "        final.append(new)\n",
        "    return (final)\n",
        "\n",
        "df['cleaned_text2'] = gen_words(df['cleaned_text1'])\n",
        "\n",
        "print (df['cleaned_text2'][0][0:40])"
      ]
    },
    {
      "cell_type": "markdown",
      "metadata": {
        "id": "Jm-vbFIF_4xV"
      },
      "source": [
        "#Bigrams and Trigrams"
      ]
    },
    {
      "cell_type": "code",
      "execution_count": 12,
      "metadata": {
        "colab": {
          "base_uri": "https://localhost:8080/"
        },
        "id": "TxU1HQRq_P6E",
        "outputId": "405042df-2968-4403-ae89-3679d22325f2"
      },
      "outputs": [
        {
          "output_type": "stream",
          "name": "stderr",
          "text": [
            "/usr/local/lib/python3.7/dist-packages/gensim/models/phrases.py:598: UserWarning: For a faster implementation, use the gensim.models.phrases.Phraser class\n",
            "  warnings.warn(\"For a faster implementation, use the gensim.models.phrases.Phraser class\")\n"
          ]
        }
      ],
      "source": [
        "#BIGRAMS AND TRIGRAMS\n",
        "bigram_phrases = gensim.models.Phrases(df['cleaned_text2'], min_count=5, threshold=100)\n",
        "trigram_phrases = gensim.models.Phrases(bigram_phrases[df['cleaned_text2']], threshold=100)\n",
        "\n",
        "bigram = gensim.models.phrases.Phraser(bigram_phrases)\n",
        "trigram = gensim.models.phrases.Phraser(trigram_phrases)\n",
        "\n",
        "def make_bigrams(texts):\n",
        "    return([bigram[doc] for doc in texts])\n",
        "\n",
        "def make_trigrams(texts):\n",
        "    return ([trigram[bigram[doc]] for doc in texts])\n",
        "\n",
        "data_bigrams = make_bigrams(df['cleaned_text2'])\n",
        "df['cleaned_text2'] = make_trigrams(data_bigrams)"
      ]
    },
    {
      "cell_type": "code",
      "execution_count": 13,
      "metadata": {
        "colab": {
          "base_uri": "https://localhost:8080/"
        },
        "id": "Aonc_Cqy__6B",
        "outputId": "03a5a1c2-2120-4504-fa12-38bd85b06fd0"
      },
      "outputs": [
        {
          "output_type": "stream",
          "name": "stdout",
          "text": [
            "0                                     [approve, law, set]\n",
            "1          [new, head, constitutional_court, swear, sisi]\n",
            "2       [hail, historic, step, appointment, eskandar, ...\n",
            "3               [sisi, name, first, constitutional_court]\n",
            "4       [egyptian, reject, draft, law, impose, fine, p...\n",
            "                              ...                        \n",
            "9995                  [sisi, arrive, ahead, arab, summit]\n",
            "9996    [concern, military, escalation, call, end, hum...\n",
            "9997    [say, kill, suspect, arrest, part, operation_s...\n",
            "9998                                [receive, portuguese]\n",
            "9999                [condemn, torching, israeli, settler]\n",
            "Name: cleaned_text2, Length: 10000, dtype: object\n"
          ]
        }
      ],
      "source": [
        "print (df['cleaned_text2'])\n"
      ]
    },
    {
      "cell_type": "markdown",
      "metadata": {
        "id": "ECbrPmXbACei"
      },
      "source": [
        "#Using Vader for Sentiment Analysis on lemmatized words\n"
      ]
    },
    {
      "cell_type": "code",
      "execution_count": 14,
      "metadata": {
        "colab": {
          "base_uri": "https://localhost:8080/"
        },
        "id": "kExCoKj7ADbH",
        "outputId": "0a46b966-a325-43c4-ca54-d8c9fe6095ef"
      },
      "outputs": [
        {
          "output_type": "stream",
          "name": "stdout",
          "text": [
            "[nltk_data] Downloading package vader_lexicon to /root/nltk_data...\n"
          ]
        },
        {
          "output_type": "stream",
          "name": "stderr",
          "text": [
            "/usr/local/lib/python3.7/dist-packages/nltk/twitter/__init__.py:20: UserWarning: The twython library has not been installed. Some functionality from the twitter package will not be available.\n",
            "  warnings.warn(\"The twython library has not been installed. \"\n"
          ]
        }
      ],
      "source": [
        "nltk.download('vader_lexicon')\n",
        "from nltk.sentiment.vader import SentimentIntensityAnalyzer\n",
        "sentimentAnalyser = SentimentIntensityAnalyzer()"
      ]
    },
    {
      "cell_type": "code",
      "execution_count": 15,
      "metadata": {
        "id": "ESkfA5jGANCt"
      },
      "outputs": [],
      "source": [
        "df['LabelFromVADER'] = df['cleaned_text1'].apply(lambda review: \"pos\" if sentimentAnalyser.polarity_scores(review)['compound'] > 0.5 else \"neg\")\n"
      ]
    },
    {
      "cell_type": "code",
      "execution_count": 16,
      "metadata": {
        "colab": {
          "base_uri": "https://localhost:8080/"
        },
        "id": "5c63gACXAQal",
        "outputId": "8c09b98f-b3ed-42d3-da55-7cfd92c6a677"
      },
      "outputs": [
        {
          "output_type": "stream",
          "name": "stdout",
          "text": [
            "[(0, 1), (1, 1), (2, 1)]\n"
          ]
        }
      ],
      "source": [
        "#TF-IDF REMOVAL\n",
        "from gensim.models import TfidfModel\n",
        "\n",
        "id2word = corpora.Dictionary(df['cleaned_text2']) #converting trigram bigram cleaned data into corpora dictionary with tokens assigned unique id \n",
        "\n",
        "texts = df['cleaned_text2'].copy()\n",
        "\n",
        "corpus = [id2word.doc2bow(text) for text in texts] #collecting id2word in form of Bag Of Words (bow)\n",
        "print (corpus[0][0:20])\n",
        "\n",
        "tfidf = TfidfModel(corpus, id2word=id2word) #starting tf-idf model\n",
        "\n",
        "low_value = 0.03 #lowest threshold, if the word appears with this frequency, it is using a lot of space and maybe also delimitting words which are important to corpus \n",
        "words  = []\n",
        "words_missing_in_tfidf = []\n",
        "for i in range(0, len(corpus)):\n",
        "    bow = corpus[i]\n",
        "    low_value_words = [] #reinitialize to be safe. You can skip this.\n",
        "    tfidf_ids = [id for id, value in tfidf[bow]]\n",
        "    bow_ids = [id for id, value in bow]\n",
        "    low_value_words = [id for id, value in tfidf[bow] if value < low_value] \n",
        "    drops = low_value_words+words_missing_in_tfidf #drops words which are so frequent, present everywhere \n",
        "    for item in drops:\n",
        "        words.append(id2word[item])\n",
        "    words_missing_in_tfidf = [id for id in bow_ids if id not in tfidf_ids] # The words with tf-idf socre 0 will be missing\n",
        "\n",
        "    new_bow = [b for b in bow if b[0] not in low_value_words and b[0] not in words_missing_in_tfidf]\n",
        "    corpus[i] = new_bow"
      ]
    },
    {
      "cell_type": "code",
      "execution_count": 24,
      "metadata": {
        "id": "gHBzZv5XAUMz"
      },
      "outputs": [],
      "source": [
        "#LDA MODEL generation/declaration\n",
        "lda_model = gensim.models.ldamodel.LdaModel(corpus=corpus[:-1], #running till 2nd last object in list \n",
        "                                           id2word=id2word,\n",
        "                                           num_topics=10,\n",
        "                                           random_state=100,\n",
        "                                           update_every=1,\n",
        "                                           chunksize=100,\n",
        "                                           passes=10,\n",
        "                                           alpha=\"auto\")\n",
        "# train model, this might takes time\n",
        "model = gensim.models.ldamodel.LdaModel(corpus=corpus[:-1], #running till 2nd last object in list \n",
        "                                           id2word=id2word,\n",
        "                                           num_topics=10,\n",
        "                                           random_state=100,\n",
        "                                           update_every=1,\n",
        "                                           chunksize=100,\n",
        "                                           passes=10,\n",
        "                                           alpha=\"auto\")\n",
        "# save model to disk (no need to use pickle module)\n",
        "model.save('lda.model')"
      ]
    },
    {
      "cell_type": "code",
      "execution_count": 18,
      "metadata": {
        "colab": {
          "base_uri": "https://localhost:8080/"
        },
        "id": "OrrFaw94AVyk",
        "outputId": "c01e4e3f-8d53-4056-a92a-222dbc21ff5a"
      },
      "outputs": [
        {
          "output_type": "stream",
          "name": "stdout",
          "text": [
            "[(0, 0.09183687), (1, 0.08251491), (2, 0.07826659), (3, 0.08120294), (4, 0.05738639), (5, 0.21644911), (6, 0.097879946), (7, 0.06931297), (8, 0.15682885), (9, 0.068321414)]\n",
            "\n",
            "[(5, 0.21644911), (8, 0.15682885), (6, 0.097879946), (0, 0.09183687), (1, 0.08251491), (3, 0.08120294), (2, 0.07826659), (7, 0.06931297), (9, 0.068321414), (4, 0.05738639)]\n",
            "\n",
            "[(5, 0.21644911), (8, 0.15682885), (6, 0.097879946), (0, 0.09183687), (1, 0.08251491), (3, 0.08120294), (2, 0.07826659), (7, 0.06931297), (9, 0.068321414), (4, 0.05738639)]\n",
            "\n",
            "[(5, 0.21644911), (8, 0.15682885), (6, 0.097879946), (0, 0.09183687), (1, 0.08251491), (3, 0.08120294), (2, 0.07826659), (7, 0.06931297), (9, 0.068321414), (4, 0.05738639)]\n",
            "\n",
            "[(5, 0.21644911), (8, 0.15682885), (6, 0.097879946), (0, 0.09183687), (1, 0.08251491), (3, 0.08120294), (2, 0.07826659), (7, 0.06931297), (9, 0.068321414), (4, 0.05738639)]\n",
            "\n",
            "[(5, 0.21644911), (8, 0.15682885), (6, 0.097879946), (0, 0.09183687), (1, 0.08251491), (3, 0.08120294), (2, 0.07826659), (7, 0.06931297), (9, 0.068321414), (4, 0.05738639)]\n",
            "\n",
            "[(5, 0.21644911), (8, 0.15682885), (6, 0.097879946), (0, 0.09183687), (1, 0.08251491), (3, 0.08120294), (2, 0.07826659), (7, 0.06931297), (9, 0.068321414), (4, 0.05738639)]\n",
            "\n",
            "[(5, 0.21644911), (8, 0.15682885), (6, 0.097879946), (0, 0.09183687), (1, 0.08251491), (3, 0.08120294), (2, 0.07826659), (7, 0.06931297), (9, 0.068321414), (4, 0.05738639)]\n",
            "\n",
            "[(5, 0.21644911), (8, 0.15682885), (6, 0.097879946), (0, 0.09183687), (1, 0.08251491), (3, 0.08120294), (2, 0.07826659), (7, 0.06931297), (9, 0.068321414), (4, 0.05738639)]\n",
            "\n",
            "[(5, 0.21644911), (8, 0.15682885), (6, 0.097879946), (0, 0.09183687), (1, 0.08251491), (3, 0.08120294), (2, 0.07826659), (7, 0.06931297), (9, 0.068321414), (4, 0.05738639)]\n",
            "\n",
            "[(5, 0.21644911), (8, 0.15682885), (6, 0.097879946), (0, 0.09183687), (1, 0.08251491), (3, 0.08120294), (2, 0.07826659), (7, 0.06931297), (9, 0.068321414), (4, 0.05738639)]\n"
          ]
        }
      ],
      "source": [
        "#testing on document till 2nd last word\n",
        "test_doc = corpus[-1]\n",
        "vector = lda_model[test_doc] #converting to vector\n",
        "print(vector) # stores output in different opics, degree to relevance to that topic \n",
        "\n",
        "def Sort(sub_li):\n",
        "  sub_li.sort(key = lambda x: x[1])\n",
        "  sub_li.reverse()\n",
        "  return (sub_li)\n",
        "\n",
        "new_vector = Sort(vector)\n",
        "for i in range(10):\n",
        "  print(\"\")\n",
        "  print(new_vector)"
      ]
    },
    {
      "cell_type": "code",
      "source": [
        "lda_model.save(\"/content/lda.model.state\") #saving MODEL for further use"
      ],
      "metadata": {
        "id": "B39gmb5BRh1I"
      },
      "execution_count": 26,
      "outputs": []
    },
    {
      "cell_type": "code",
      "source": [
        "new_model = gensim.models.ldamodel.LdaModel.load(\"/content/lda.model.state\") #new model for this exercise\n"
      ],
      "metadata": {
        "id": "zJR-XBsNRh_S"
      },
      "execution_count": 27,
      "outputs": []
    },
    {
      "cell_type": "code",
      "source": [
        "test_doc = corpus[-1]\n",
        "vector = new_model[test_doc] #converting to vector\n",
        "print(vector) # stores output in different opics, degree to relevance to that topic \n",
        "\n",
        "def Sort(sub_li):\n",
        "  sub_li.sort(key = lambda x: x[1])\n",
        "  sub_li.reverse()\n",
        "  return (sub_li)\n",
        "\n",
        "new_vector = Sort(vector)\n",
        "for i in range(10):\n",
        "  print(\"\")\n",
        "  print(new_vector)"
      ],
      "metadata": {
        "colab": {
          "base_uri": "https://localhost:8080/"
        },
        "id": "pbEQ772VRiHl",
        "outputId": "7801a9c5-7969-49a3-d69c-d5c43c198828"
      },
      "execution_count": 28,
      "outputs": [
        {
          "output_type": "stream",
          "name": "stdout",
          "text": [
            "[(0, 0.09183687), (1, 0.08251491), (2, 0.07826659), (3, 0.08120294), (4, 0.05738639), (5, 0.21644911), (6, 0.097879946), (7, 0.06931297), (8, 0.15682885), (9, 0.068321414)]\n",
            "\n",
            "[(5, 0.21644911), (8, 0.15682885), (6, 0.097879946), (0, 0.09183687), (1, 0.08251491), (3, 0.08120294), (2, 0.07826659), (7, 0.06931297), (9, 0.068321414), (4, 0.05738639)]\n",
            "\n",
            "[(5, 0.21644911), (8, 0.15682885), (6, 0.097879946), (0, 0.09183687), (1, 0.08251491), (3, 0.08120294), (2, 0.07826659), (7, 0.06931297), (9, 0.068321414), (4, 0.05738639)]\n",
            "\n",
            "[(5, 0.21644911), (8, 0.15682885), (6, 0.097879946), (0, 0.09183687), (1, 0.08251491), (3, 0.08120294), (2, 0.07826659), (7, 0.06931297), (9, 0.068321414), (4, 0.05738639)]\n",
            "\n",
            "[(5, 0.21644911), (8, 0.15682885), (6, 0.097879946), (0, 0.09183687), (1, 0.08251491), (3, 0.08120294), (2, 0.07826659), (7, 0.06931297), (9, 0.068321414), (4, 0.05738639)]\n",
            "\n",
            "[(5, 0.21644911), (8, 0.15682885), (6, 0.097879946), (0, 0.09183687), (1, 0.08251491), (3, 0.08120294), (2, 0.07826659), (7, 0.06931297), (9, 0.068321414), (4, 0.05738639)]\n",
            "\n",
            "[(5, 0.21644911), (8, 0.15682885), (6, 0.097879946), (0, 0.09183687), (1, 0.08251491), (3, 0.08120294), (2, 0.07826659), (7, 0.06931297), (9, 0.068321414), (4, 0.05738639)]\n",
            "\n",
            "[(5, 0.21644911), (8, 0.15682885), (6, 0.097879946), (0, 0.09183687), (1, 0.08251491), (3, 0.08120294), (2, 0.07826659), (7, 0.06931297), (9, 0.068321414), (4, 0.05738639)]\n",
            "\n",
            "[(5, 0.21644911), (8, 0.15682885), (6, 0.097879946), (0, 0.09183687), (1, 0.08251491), (3, 0.08120294), (2, 0.07826659), (7, 0.06931297), (9, 0.068321414), (4, 0.05738639)]\n",
            "\n",
            "[(5, 0.21644911), (8, 0.15682885), (6, 0.097879946), (0, 0.09183687), (1, 0.08251491), (3, 0.08120294), (2, 0.07826659), (7, 0.06931297), (9, 0.068321414), (4, 0.05738639)]\n",
            "\n",
            "[(5, 0.21644911), (8, 0.15682885), (6, 0.097879946), (0, 0.09183687), (1, 0.08251491), (3, 0.08120294), (2, 0.07826659), (7, 0.06931297), (9, 0.068321414), (4, 0.05738639)]\n"
          ]
        }
      ]
    },
    {
      "cell_type": "markdown",
      "source": [
        "#Visualization of the textual data\n"
      ],
      "metadata": {
        "id": "mkJRAsl7VsrK"
      }
    },
    {
      "cell_type": "code",
      "source": [
        "pyLDAvis.enable_notebook()\n",
        "vis = gensim_models.prepare(new_model, corpus, id2word, mds=\"mmds\", R=30)\n",
        "vis"
      ],
      "metadata": {
        "colab": {
          "base_uri": "https://localhost:8080/",
          "height": 916
        },
        "id": "bTb4FfXiVtmY",
        "outputId": "c42f6286-cbbb-4706-9d08-871d9dbf81e9"
      },
      "execution_count": 29,
      "outputs": [
        {
          "output_type": "stream",
          "name": "stderr",
          "text": [
            "/usr/local/lib/python3.7/dist-packages/pyLDAvis/_prepare.py:247: FutureWarning: In a future version of pandas all arguments of DataFrame.drop except for the argument 'labels' will be keyword-only\n",
            "  by='saliency', ascending=False).head(R).drop('saliency', 1)\n"
          ]
        },
        {
          "output_type": "execute_result",
          "data": {
            "text/html": [
              "\n",
              "<link rel=\"stylesheet\" type=\"text/css\" href=\"https://cdn.jsdelivr.net/gh/bmabey/pyLDAvis@3.3.1/pyLDAvis/js/ldavis.v1.0.0.css\">\n",
              "\n",
              "\n",
              "<div id=\"ldavis_el3221404246885828642759827603\"></div>\n",
              "<script type=\"text/javascript\">\n",
              "\n",
              "var ldavis_el3221404246885828642759827603_data = {\"mdsDat\": {\"x\": [0.3467585424492596, 0.10896664368669795, -0.3105165933447387, -0.2091105435500713, 0.154739617902463, -0.16370188695005833, -0.07125553457135614, -0.3970208909783015, 0.16161115024647763, 0.37952949510962786], \"y\": [0.21984910512903266, 0.38470366329897415, -0.2552812271544558, 0.35847550405085254, -0.4058949053632473, 0.13948163300361643, -0.2893957261209917, 0.011818815149930023, -0.07060499936082724, -0.09315186263288365], \"topics\": [1, 2, 3, 4, 5, 6, 7, 8, 9, 10], \"cluster\": [1, 1, 1, 1, 1, 1, 1, 1, 1, 1], \"Freq\": [12.626540726447033, 11.702352733769466, 10.519331054019878, 10.484178084996625, 10.229073885692346, 9.71320232676173, 9.57197806936917, 8.83611170027438, 8.705222391858355, 7.6120090268110205]}, \"tinfo\": {\"Term\": [\"sisi\", \"egyptian\", \"new\", \"discuss\", \"say\", \"death\", \"military\", \"meet\", \"kill\", \"case\", \"head\", \"official\", \"sentence\", \"cooperation\", \"attack\", \"issue\", \"year\", \"terrorist\", \"visit\", \"day\", \"start\", \"law\", \"meeting\", \"minister\", \"will\", \"development\", \"parliament\", \"approve\", \"support\", \"terrorism\", \"sisi\", \"discuss\", \"minister\", \"development\", \"project\", \"state\", \"regional\", \"discusse\", \"chief\", \"conclude\", \"regulate\", \"service\", \"fund\", \"sector\", \"good\", \"german\", \"tie\", \"hail\", \"end\", \"tripartite\", \"bilateral_tie\", \"gerd\", \"promote\", \"spokesperson\", \"welcome\", \"road\", \"presidential\", \"illegal_migration\", \"home\", \"lebanese\", \"egyptian\", \"military\", \"cooperation\", \"force\", \"joint\", \"arab\", \"release\", \"follow\", \"ministry\", \"train\", \"return\", \"family\", \"upper\", \"exercise\", \"drill\", \"victim\", \"celebrate\", \"crash\", \"attempt\", \"speaker\", \"rise\", \"bilateral\", \"set\", \"great\", \"prisoner\", \"defence\", \"progress\", \"win\", \"carry\", \"public\", \"attack\", \"terrorist\", \"meeting\", \"talk\", \"first\", \"terror\", \"condemn\", \"prosecutor\", \"receive\", \"top\", \"deadly\", \"flight\", \"hold\", \"italian\", \"fire\", \"pilgrim\", \"armed_force\", \"part\", \"see\", \"group\", \"body\", \"hand\", \"hope\", \"greek\", \"training\", \"participate\", \"child\", \"suicide\", \"next\", \"chinese\", \"sentence\", \"day\", \"terrorism\", \"continue\", \"country\", \"woman\", \"inaugurate\", \"operation\", \"detain\", \"rain\", \"people\", \"murder\", \"agreement\", \"plan\", \"sign\", \"praise\", \"national\", \"tourist\", \"water\", \"future\", \"weather\", \"video\", \"award\", \"come\", \"warn\", \"football\", \"amendment\", \"fan\", \"th\", \"leak\", \"kill\", \"head\", \"support\", \"security\", \"tell\", \"police\", \"member\", \"prison\", \"injure\", \"counterpart\", \"african\", \"president\", \"attend\", \"french\", \"reform\", \"boost\", \"term\", \"bilateral_relation\", \"investigate\", \"major\", \"ambassador\", \"reach\", \"appoint\", \"stress\", \"investment\", \"ethiopian\", \"phone_call\", \"peace\", \"bus\", \"intelligence\", \"law\", \"parliament\", \"approve\", \"order\", \"summit\", \"temperature\", \"ahead\", \"prosecution\", \"court\", \"press\", \"increase\", \"charge\", \"week\", \"conference\", \"leader\", \"cabinet\", \"refer\", \"defendant\", \"detention\", \"journalist\", \"express\", \"employee\", \"suspect\", \"policeman\", \"investigation\", \"hot_weather\", \"jail\", \"swear\", \"degree\", \"hit\", \"year\", \"start\", \"will\", \"open\", \"expect\", \"school\", \"political\", \"crisis\", \"israeli\", \"palestinian\", \"take\", \"life\", \"urge\", \"close\", \"youth\", \"lead\", \"uphold\", \"stability\", \"time\", \"forecast\", \"aid\", \"second\", \"online\", \"resumption\", \"negotiation\", \"rafah_border_crossing\", \"storm\", \"campaign\", \"comprehensive\", \"pay\", \"say\", \"meet\", \"call\", \"effort\", \"high\", \"arrive\", \"die\", \"former\", \"make\", \"host\", \"face\", \"raise\", \"pm\", \"libyan\", \"education\", \"prayer\", \"artefact\", \"british\", \"place\", \"challenge\", \"pension\", \"low\", \"next_week\", \"thanaweya_amma\", \"system\", \"price\", \"wind\", \"join\", \"offer\", \"rank\", \"official\", \"arrest\", \"student\", \"delegation\", \"economic\", \"church\", \"medium\", \"authority\", \"launch\", \"exam\", \"health\", \"coptic\", \"more\", \"combat\", \"statement\", \"late\", \"work\", \"dam\", \"list\", \"seize\", \"special\", \"concern\", \"region\", \"railway\", \"inspect\", \"university\", \"seek\", \"draft\", \"policy\", \"target\", \"new\", \"death\", \"case\", \"issue\", \"visit\", \"report\", \"other\", \"decision\", \"ban\", \"citizen\", \"travel\", \"send\", \"lift\", \"toll\", \"right\", \"ask\", \"state_emergency_month\", \"road_accident\", \"senior\", \"decree\", \"extend\", \"level\", \"religious\", \"additional\", \"summon\", \"administrative_capital\", \"cultural\", \"traffic\", \"center\", \"justice\", \"lawyer\"], \"Freq\": [1542.0, 1046.0, 526.0, 646.0, 421.0, 370.0, 338.0, 283.0, 292.0, 237.0, 266.0, 243.0, 260.0, 271.0, 254.0, 220.0, 240.0, 250.0, 204.0, 228.0, 214.0, 213.0, 205.0, 222.0, 193.0, 216.0, 172.0, 166.0, 166.0, 167.0, 1541.7061788775347, 645.8729552765071, 221.6736320095791, 215.80921022953888, 158.99267934300315, 142.22918652142468, 132.52499287788976, 102.29685167971436, 83.46231426156763, 80.24732326049543, 65.36320025577707, 58.58159803204056, 57.378424773090266, 51.0473903318891, 48.525283929605486, 47.60379709517043, 47.018802187589294, 46.88418553163797, 46.41551599409242, 44.76992167448059, 43.3253792538047, 42.789705880557946, 42.34597674594185, 42.350084284583026, 41.09986696922874, 40.484826752524924, 37.18594502277513, 36.1686736185744, 34.9234679974926, 34.79096103801431, 1045.5490026538657, 337.377819960897, 270.7651958327708, 153.15593022715188, 132.05136659188983, 110.68523901092611, 98.5864436623911, 94.19122945836378, 83.02846858752619, 76.7875399422737, 76.20074309235947, 75.63197858157667, 74.19520833465509, 72.87200554073004, 66.01210288851219, 60.3099328495792, 60.104619895987554, 57.86460713666807, 55.08363572198781, 51.290394098826866, 50.9062206137549, 48.84810353210617, 45.68061460104558, 44.93801453990418, 44.727368483139216, 44.70129905385838, 44.33318823050391, 42.64399979148677, 41.95049768342592, 41.630413585084796, 253.47452812722776, 249.35869629851712, 204.883243650419, 162.7296131763306, 148.05791406453642, 133.91744433746553, 117.93986068078236, 117.80466670588015, 116.81861111793029, 109.27632594323771, 99.4326162456465, 99.38762751768832, 96.44919574014212, 90.49940799379321, 76.26185269532995, 71.39461074541016, 71.21591386129822, 67.72710789856963, 60.72164851998389, 57.60530159571605, 52.984011830817856, 52.23991173076833, 51.2967843973903, 49.63423087391081, 49.17174260884558, 47.90249100285557, 43.92458146430996, 43.842074518686296, 43.078617358356475, 42.47565191966852, 259.1944820386758, 227.39066064830033, 166.90605021340875, 140.23897427962953, 121.74852132169109, 114.36245741228257, 88.85519420662993, 83.11484356997124, 83.09152141706114, 78.99619780396269, 77.46380336356054, 77.45721949915495, 74.97737807608503, 74.19505399992809, 74.14264623286883, 70.10259921802832, 69.33273082265124, 68.44249019160166, 62.756956933818394, 58.007601724641916, 57.52082917916872, 57.176559115790916, 56.75692031622775, 53.05541086213603, 52.538582666065196, 51.9160101775741, 48.629175825899644, 48.34265904958439, 47.53075402151737, 46.308590652734644, 292.0624273484136, 265.7759492437695, 166.13226735172537, 152.16239942264258, 151.77308310764388, 139.58497641381967, 113.61781883908951, 106.72256949129755, 104.48902734802165, 103.02308282604739, 96.37758109750551, 95.99823253671192, 91.78979636912466, 80.7903544326975, 79.99218399761426, 75.86157182611623, 67.31293383510113, 62.47042264458696, 61.55600705175119, 59.290250939203354, 59.12320547453986, 58.50484225003422, 56.06637717611545, 54.83650733378466, 50.78140341749993, 46.635064344922746, 45.49914813730398, 44.08924957874659, 43.29731150715119, 42.41481789886822, 212.7508145263356, 172.02531279062302, 165.74251970003726, 151.80804661037146, 132.19356143715825, 128.68720550565683, 112.9558908786894, 99.26900085205915, 90.82331692179136, 90.23938955239225, 78.7478775158995, 75.17001734712427, 74.05919677431845, 68.02238055451498, 67.87515104496849, 67.20148246375355, 65.99663271945582, 53.3735964832263, 51.81271701679462, 48.969383862496336, 47.627491500591574, 47.46052399159973, 46.46659214789001, 44.67311118545154, 44.61850064884129, 43.89164607057403, 43.10310128091363, 42.62282589552364, 42.45789958918696, 41.34036264698886, 240.02546137883013, 213.57105592497334, 193.16863600387495, 130.7969719176543, 106.79445027609162, 104.50630552202419, 97.64413245862356, 94.66097056621285, 88.6463136570055, 86.59864739549683, 63.12268358155222, 61.87016316782372, 57.21573039776743, 57.05373434695035, 55.58627756546043, 53.010296336431544, 49.61617098347703, 47.32174198107326, 46.2759092703109, 44.04156691523095, 42.81793331619393, 42.627596907062454, 42.061298510504855, 38.695214378106606, 36.85756637696569, 36.70960624662696, 34.566500907779414, 34.441663890603294, 33.61258357288995, 33.44194785831812, 420.7205181307285, 282.8924803988413, 136.72443083808292, 123.30674012881198, 111.59405205679151, 92.11868232857489, 78.2560525265997, 68.30713509389005, 65.4537689935586, 63.27441717052011, 62.77902039482741, 59.804613257841574, 58.74405825247869, 58.00108702619425, 45.78493973391842, 43.23817265809945, 43.18925440627344, 39.459086588063144, 38.40133647846235, 38.28674017904738, 37.82275388721452, 37.69321553843746, 35.684231779385776, 34.92526829858181, 31.179897510473413, 30.93664346909041, 30.840494251571247, 30.510825503000003, 29.43932270681376, 29.389728235931926, 242.3294609642712, 153.37075394915198, 151.34654454720217, 120.03418316581875, 105.2792734041676, 104.48737959911169, 97.7824462238675, 95.44710538838795, 92.04931981249678, 66.93166658792016, 65.30467222906626, 62.001131775518, 60.02899753776849, 57.90873077205605, 56.49753023842673, 54.608973318918224, 52.02958825650807, 50.90577579482905, 50.55677579886686, 50.483592092172536, 46.73621529262195, 45.424443834332855, 44.363571416855116, 41.30286702929098, 37.43585659048666, 36.419960320583975, 35.60633889765543, 35.007243159383535, 34.398072986836276, 33.9292037173932, 525.6532251513361, 369.96877643759905, 236.94593740363877, 220.16722160900756, 203.75653601868567, 92.36180262638685, 77.68194540469864, 77.23644304418906, 73.38738806356231, 73.05670783010973, 66.72834155434096, 59.842520407623084, 50.39868329798696, 47.542174759550036, 45.833130752052945, 43.24959543091245, 40.18632090034968, 37.49771115768569, 36.43506140510053, 36.154296017354554, 33.72699745996323, 30.692415349339434, 30.685726445330943, 27.684530788094815, 30.60515240589401, 24.43347806152327, 21.61029229046553, 21.453559150473772, 20.10410320492634, 18.65958090677655, 25.603082846000035], \"Total\": [1542.0, 1046.0, 526.0, 646.0, 421.0, 370.0, 338.0, 283.0, 292.0, 237.0, 266.0, 243.0, 260.0, 271.0, 254.0, 220.0, 240.0, 250.0, 204.0, 228.0, 214.0, 213.0, 205.0, 222.0, 193.0, 216.0, 172.0, 166.0, 166.0, 167.0, 1542.5370084899937, 646.7037563265219, 222.5044686508881, 216.6400059218402, 159.8235084296313, 143.06005425602604, 133.35579727922516, 103.1277079367226, 84.29321778578561, 81.07822974799329, 66.1942868813158, 59.41243928705044, 58.2093167046692, 51.87819982638682, 49.35627176828832, 48.43462298462833, 47.84958791802733, 47.715099738816626, 47.246389415835765, 45.60095032477924, 44.156146231651874, 43.620536426811874, 43.17677865649851, 43.181338754908644, 41.930707245783374, 41.3157069629703, 38.016810779110656, 36.99955053945239, 35.754401811816656, 35.622201304125575, 1046.3871651020484, 338.2159589961275, 271.6033009934137, 153.99404034615068, 132.88941885871398, 111.52340728576128, 99.42452751411003, 95.02933952126997, 83.86674907777332, 77.6256567555565, 77.03892639060022, 76.47021931817933, 75.03343736896365, 73.71008280825718, 66.85014877518773, 61.148041634872534, 60.942808388742094, 58.702681168871486, 55.9218233463411, 52.12849188453742, 51.74459363715089, 49.686296490533834, 46.5187354090143, 45.77619397745342, 45.56555555472889, 45.53959342014687, 45.171411989517324, 43.48210439747371, 42.78857496221615, 42.46859171352604, 254.30784191702534, 250.1920407132374, 205.71659526152237, 163.56297375926306, 148.89126186436826, 134.7508503651949, 118.77317767489059, 118.63817651380776, 117.65197040704628, 110.10976537995927, 100.26600997357848, 100.22098419328965, 97.28251305870782, 91.33285957386524, 77.09531245678313, 72.2283563436552, 72.04933115259311, 68.56049641018552, 61.555020120502775, 58.438690550845365, 53.817605736790846, 53.07350210656612, 52.13029674274439, 50.46798357339187, 50.005131726164564, 48.73582801157876, 44.75799104886174, 44.67545728379177, 43.91200803189918, 43.30908476636642, 260.02452215831715, 228.2206491274843, 167.73605699409487, 141.06897948961924, 122.57850739555103, 115.19243468433872, 89.68520756748656, 83.94494104892547, 83.92154791756548, 79.82624667687507, 78.29375748989719, 78.28721359499968, 75.80736930505864, 75.02502148948213, 74.972622182199, 70.93259926161245, 70.1626721677874, 69.27252793174313, 63.58696811777845, 58.83766077299456, 58.3507741097509, 58.006515138140315, 57.58708982431336, 53.885436269855276, 53.36857742775486, 52.74813318823194, 49.45920375912206, 49.17654469841133, 48.36071396701578, 47.13940502164081, 292.9021497218942, 266.6157086930441, 166.97197077068546, 153.00215735342675, 152.6128418495262, 140.4247362288515, 114.45766287053964, 107.56243018109677, 105.32875404201053, 103.86286204553032, 97.21729397784888, 96.83803215572117, 92.6295097002049, 81.6301226688701, 80.8319485720232, 76.70126785451691, 68.15275202076157, 63.3102163785616, 62.39582521402487, 60.130032399488655, 59.962927004937235, 59.344700630559956, 56.90620060656859, 55.67628257759497, 51.62113332355228, 47.47488123617698, 46.33896630800826, 44.92895019976085, 44.137057009193114, 43.25470917534283, 213.5927745506716, 172.86722755475543, 166.5844493409699, 152.6499873326028, 133.03550944640943, 129.5292081062521, 113.7978389826787, 100.1110321566204, 91.66535466561736, 91.08140264705817, 79.58981977684942, 76.01201464032751, 74.90119920385064, 68.86434246689794, 68.71709732542597, 68.04387085280815, 66.83861195279005, 54.21578847082133, 52.654717032055686, 49.81144133352324, 48.46950647858984, 48.30244456817213, 47.30863916218275, 45.515142541196916, 45.46049008586318, 44.73369422327526, 43.94506765763001, 43.46506964659709, 43.30023253365224, 42.18229360153806, 240.85257733151778, 214.39814773969104, 193.99575662780742, 131.6240419151919, 107.62152025962108, 105.33341195372863, 98.47127168701657, 95.48810895515227, 89.47345785540318, 87.4257683349058, 63.949733962927695, 62.6972399799771, 58.04280115830435, 57.880776450990396, 56.41342806099063, 53.83741892575563, 50.44334910792353, 48.14879120461015, 47.10304978115521, 44.868716709198466, 43.645098426889035, 43.45467575895681, 42.88841205060989, 39.52252081752231, 37.684686718150154, 37.554266452994526, 35.39377441005987, 35.268691668699546, 34.43971331640263, 34.26913809297447, 421.55415057513903, 283.72612351263217, 137.55804749787913, 124.14034996585595, 112.42775221106223, 92.95231623192448, 79.08970674252205, 69.14080899469013, 66.28743307396908, 64.10809495262184, 63.612725947169025, 60.63824610622089, 59.57767808890984, 58.834728050884834, 46.618570457751815, 44.07189486331229, 44.023190443742685, 40.29276515903639, 39.23526705509714, 39.12033998295188, 38.65681632323311, 38.52691447223636, 36.51792932335405, 35.75924712749915, 32.01351747145723, 31.77025709175457, 31.674243404683363, 31.344604150715853, 30.272939882725407, 30.223521473275596, 243.16697586397163, 154.20828714674113, 152.184077117647, 120.87170976894137, 106.1167485447302, 105.32488435578071, 98.62003286993294, 96.28460645685485, 92.88676676752475, 67.76926220592824, 66.14217086933245, 62.838576039168615, 60.86655831418828, 58.7461832580643, 57.33497385444587, 55.446441160356954, 52.867006606785665, 51.74333692660328, 51.39443316268252, 51.32134529628308, 47.57380716225819, 46.26201393113958, 45.201175726195, 42.140381632862656, 38.27331030277756, 37.25742462155519, 36.44380266463046, 35.84477499768876, 35.235630881807005, 34.766835100291466, 526.4735153193732, 370.7890394513075, 237.76622531720807, 220.98751361220178, 204.5767905331151, 93.18205417237195, 78.50225683354223, 78.05677348314683, 74.20769082903803, 73.8769628191273, 67.54869256445436, 60.66276797971898, 51.218980054325435, 48.362593715657134, 46.653375429902404, 44.06997096311582, 41.0066072125692, 38.31812334104729, 37.255406448273604, 36.97456469766618, 34.54720978181853, 31.51272044790843, 31.505959680777263, 28.50549066093847, 31.530865356826837, 25.253668006360737, 22.431069890879627, 22.27393552086571, 20.929524971197367, 19.48392633259367, 27.8434807636237], \"Category\": [\"Default\", \"Default\", \"Default\", \"Default\", \"Default\", \"Default\", \"Default\", \"Default\", \"Default\", \"Default\", \"Default\", \"Default\", \"Default\", \"Default\", \"Default\", \"Default\", \"Default\", \"Default\", \"Default\", \"Default\", \"Default\", \"Default\", \"Default\", \"Default\", \"Default\", \"Default\", \"Default\", \"Default\", \"Default\", \"Default\", \"Topic1\", \"Topic1\", \"Topic1\", \"Topic1\", \"Topic1\", \"Topic1\", \"Topic1\", \"Topic1\", \"Topic1\", \"Topic1\", \"Topic1\", \"Topic1\", \"Topic1\", \"Topic1\", \"Topic1\", \"Topic1\", \"Topic1\", \"Topic1\", \"Topic1\", \"Topic1\", \"Topic1\", \"Topic1\", \"Topic1\", \"Topic1\", \"Topic1\", \"Topic1\", \"Topic1\", \"Topic1\", \"Topic1\", \"Topic1\", \"Topic2\", \"Topic2\", \"Topic2\", \"Topic2\", \"Topic2\", \"Topic2\", \"Topic2\", \"Topic2\", \"Topic2\", \"Topic2\", \"Topic2\", \"Topic2\", \"Topic2\", \"Topic2\", \"Topic2\", \"Topic2\", \"Topic2\", \"Topic2\", \"Topic2\", \"Topic2\", \"Topic2\", \"Topic2\", \"Topic2\", \"Topic2\", \"Topic2\", \"Topic2\", \"Topic2\", \"Topic2\", \"Topic2\", \"Topic2\", \"Topic3\", \"Topic3\", \"Topic3\", \"Topic3\", \"Topic3\", \"Topic3\", \"Topic3\", \"Topic3\", \"Topic3\", \"Topic3\", \"Topic3\", \"Topic3\", \"Topic3\", \"Topic3\", \"Topic3\", \"Topic3\", \"Topic3\", \"Topic3\", \"Topic3\", \"Topic3\", \"Topic3\", \"Topic3\", \"Topic3\", \"Topic3\", \"Topic3\", \"Topic3\", \"Topic3\", \"Topic3\", \"Topic3\", \"Topic3\", \"Topic4\", \"Topic4\", \"Topic4\", \"Topic4\", \"Topic4\", \"Topic4\", \"Topic4\", \"Topic4\", \"Topic4\", \"Topic4\", \"Topic4\", \"Topic4\", \"Topic4\", \"Topic4\", \"Topic4\", \"Topic4\", \"Topic4\", \"Topic4\", \"Topic4\", \"Topic4\", \"Topic4\", \"Topic4\", \"Topic4\", \"Topic4\", \"Topic4\", \"Topic4\", \"Topic4\", \"Topic4\", \"Topic4\", \"Topic4\", \"Topic5\", \"Topic5\", \"Topic5\", \"Topic5\", \"Topic5\", \"Topic5\", \"Topic5\", \"Topic5\", \"Topic5\", \"Topic5\", \"Topic5\", \"Topic5\", \"Topic5\", \"Topic5\", \"Topic5\", \"Topic5\", \"Topic5\", \"Topic5\", \"Topic5\", \"Topic5\", \"Topic5\", \"Topic5\", \"Topic5\", \"Topic5\", \"Topic5\", \"Topic5\", \"Topic5\", \"Topic5\", \"Topic5\", \"Topic5\", \"Topic6\", \"Topic6\", \"Topic6\", \"Topic6\", \"Topic6\", \"Topic6\", \"Topic6\", \"Topic6\", \"Topic6\", \"Topic6\", \"Topic6\", \"Topic6\", \"Topic6\", \"Topic6\", \"Topic6\", \"Topic6\", \"Topic6\", \"Topic6\", \"Topic6\", \"Topic6\", \"Topic6\", \"Topic6\", \"Topic6\", \"Topic6\", \"Topic6\", \"Topic6\", \"Topic6\", \"Topic6\", \"Topic6\", \"Topic6\", \"Topic7\", \"Topic7\", \"Topic7\", \"Topic7\", \"Topic7\", \"Topic7\", \"Topic7\", \"Topic7\", \"Topic7\", \"Topic7\", \"Topic7\", \"Topic7\", \"Topic7\", \"Topic7\", \"Topic7\", \"Topic7\", \"Topic7\", \"Topic7\", \"Topic7\", \"Topic7\", \"Topic7\", \"Topic7\", \"Topic7\", \"Topic7\", \"Topic7\", \"Topic7\", \"Topic7\", \"Topic7\", \"Topic7\", \"Topic7\", \"Topic8\", \"Topic8\", \"Topic8\", \"Topic8\", \"Topic8\", \"Topic8\", \"Topic8\", \"Topic8\", \"Topic8\", \"Topic8\", \"Topic8\", \"Topic8\", \"Topic8\", \"Topic8\", \"Topic8\", \"Topic8\", \"Topic8\", \"Topic8\", \"Topic8\", \"Topic8\", \"Topic8\", \"Topic8\", \"Topic8\", \"Topic8\", \"Topic8\", \"Topic8\", \"Topic8\", \"Topic8\", \"Topic8\", \"Topic8\", \"Topic9\", \"Topic9\", \"Topic9\", \"Topic9\", \"Topic9\", \"Topic9\", \"Topic9\", \"Topic9\", \"Topic9\", \"Topic9\", \"Topic9\", \"Topic9\", \"Topic9\", \"Topic9\", \"Topic9\", \"Topic9\", \"Topic9\", \"Topic9\", \"Topic9\", \"Topic9\", \"Topic9\", \"Topic9\", \"Topic9\", \"Topic9\", \"Topic9\", \"Topic9\", \"Topic9\", \"Topic9\", \"Topic9\", \"Topic9\", \"Topic10\", \"Topic10\", \"Topic10\", \"Topic10\", \"Topic10\", \"Topic10\", \"Topic10\", \"Topic10\", \"Topic10\", \"Topic10\", \"Topic10\", \"Topic10\", \"Topic10\", \"Topic10\", \"Topic10\", \"Topic10\", \"Topic10\", \"Topic10\", \"Topic10\", \"Topic10\", \"Topic10\", \"Topic10\", \"Topic10\", \"Topic10\", \"Topic10\", \"Topic10\", \"Topic10\", \"Topic10\", \"Topic10\", \"Topic10\", \"Topic10\"], \"logprob\": [30.0, 29.0, 28.0, 27.0, 26.0, 25.0, 24.0, 23.0, 22.0, 21.0, 20.0, 19.0, 18.0, 17.0, 16.0, 15.0, 14.0, 13.0, 12.0, 11.0, 10.0, 9.0, 8.0, 7.0, 6.0, 5.0, 4.0, 3.0, 2.0, 1.0, -1.4651, -2.3351, -3.4045, -3.4313, -3.7369, -3.8483, -3.919, -4.1779, -4.3813, -4.4206, -4.6258, -4.7353, -4.7561, -4.873, -4.9236, -4.9428, -4.9552, -4.958, -4.9681, -5.0042, -5.037, -5.0494, -5.0599, -5.0598, -5.0897, -5.1048, -5.1898, -5.2175, -5.2526, -5.2564, -1.7774, -2.9085, -3.1285, -3.6983, -3.8465, -4.023, -4.1388, -4.1844, -4.3105, -4.3887, -4.3963, -4.4038, -4.423, -4.441, -4.5399, -4.6302, -4.6336, -4.6716, -4.7209, -4.7922, -4.7997, -4.841, -4.908, -4.9244, -4.9291, -4.9297, -4.938, -4.9768, -4.9932, -5.0009, -3.0879, -3.1043, -3.3007, -3.5311, -3.6255, -3.7259, -3.853, -3.8541, -3.8625, -3.9293, -4.0237, -4.0241, -4.0541, -4.1178, -4.289, -4.3549, -4.3574, -4.4077, -4.5168, -4.5695, -4.6532, -4.6673, -4.6855, -4.7185, -4.7278, -4.754, -4.8407, -4.8425, -4.8601, -4.8742, -3.0622, -3.1931, -3.5024, -3.6764, -3.8178, -3.8804, -4.1328, -4.1996, -4.1999, -4.2504, -4.27, -4.2701, -4.3026, -4.3131, -4.3138, -4.3698, -4.3809, -4.3938, -4.4805, -4.5592, -4.5676, -4.5737, -4.581, -4.6485, -4.6582, -4.6702, -4.7356, -4.7415, -4.7584, -4.7845, -2.9182, -3.0125, -3.4824, -3.5702, -3.5728, -3.6565, -3.8623, -3.9249, -3.9461, -3.9602, -4.0269, -4.0308, -4.0757, -4.2033, -4.2132, -4.2663, -4.3858, -4.4605, -4.4752, -4.5127, -4.5155, -4.5261, -4.5686, -4.5908, -4.6676, -4.7528, -4.7775, -4.8089, -4.8271, -4.8477, -3.1833, -3.3958, -3.433, -3.5208, -3.6591, -3.686, -3.8164, -3.9456, -4.0345, -4.0409, -4.1772, -4.2237, -4.2386, -4.3236, -4.3257, -4.3357, -4.3538, -4.5661, -4.5958, -4.6522, -4.68, -4.6835, -4.7047, -4.744, -4.7453, -4.7617, -4.7798, -4.791, -4.7949, -4.8216, -3.048, -3.1648, -3.2652, -3.6551, -3.8579, -3.8795, -3.9474, -3.9785, -4.0441, -4.0675, -4.3837, -4.4037, -4.4819, -4.4848, -4.5108, -4.5583, -4.6245, -4.6718, -4.6941, -4.7436, -4.7718, -4.7763, -4.7896, -4.8731, -4.9217, -4.9257, -4.9859, -4.9895, -5.0139, -5.019, -2.4068, -2.8037, -3.5308, -3.6341, -3.7339, -3.9257, -4.0888, -4.2248, -4.2674, -4.3013, -4.3092, -4.3577, -4.3756, -4.3883, -4.6248, -4.6821, -4.6832, -4.7735, -4.8007, -4.8037, -4.8159, -4.8193, -4.8741, -4.8956, -5.009, -5.0168, -5.0199, -5.0307, -5.0664, -5.0681, -2.9436, -3.401, -3.4143, -3.6461, -3.7772, -3.7848, -3.8511, -3.8753, -3.9115, -4.2302, -4.2548, -4.3067, -4.339, -4.375, -4.3997, -4.4337, -4.482, -4.5039, -4.5108, -4.5122, -4.5893, -4.6178, -4.6414, -4.7129, -4.8112, -4.8387, -4.8613, -4.8783, -4.8959, -4.9096, -2.035, -2.3862, -2.8318, -2.9053, -2.9827, -3.7739, -3.947, -3.9528, -4.0039, -4.0084, -4.099, -4.2079, -4.3797, -4.438, -4.4746, -4.5327, -4.6061, -4.6754, -4.7041, -4.7119, -4.7814, -4.8756, -4.8759, -4.9788, -4.8785, -5.1037, -5.2265, -5.2338, -5.2987, -5.3733, -5.0569], \"loglift\": [30.0, 29.0, 28.0, 27.0, 26.0, 25.0, 24.0, 23.0, 22.0, 21.0, 20.0, 19.0, 18.0, 17.0, 16.0, 15.0, 14.0, 13.0, 12.0, 11.0, 10.0, 9.0, 8.0, 7.0, 6.0, 5.0, 4.0, 3.0, 2.0, 1.0, 2.0688, 2.0681, 2.0656, 2.0655, 2.0642, 2.0635, 2.0631, 2.0613, 2.0595, 2.0591, 2.0567, 2.0553, 2.055, 2.0532, 2.0524, 2.0521, 2.0519, 2.0518, 2.0516, 2.051, 2.0504, 2.0501, 2.0499, 2.0499, 2.0494, 2.0491, 2.0473, 2.0467, 2.0459, 2.0458, 2.1446, 2.1429, 2.1423, 2.1399, 2.1391, 2.1378, 2.1369, 2.1365, 2.1353, 2.1345, 2.1344, 2.1344, 2.1341, 2.1339, 2.1328, 2.1316, 2.1315, 2.131, 2.1303, 2.1292, 2.129, 2.1284, 2.1272, 2.1269, 2.1268, 2.1268, 2.1266, 2.1259, 2.1256, 2.1254, 2.2487, 2.2486, 2.2479, 2.2468, 2.2463, 2.2458, 2.2449, 2.2449, 2.2448, 2.2444, 2.2436, 2.2436, 2.2434, 2.2428, 2.2411, 2.2403, 2.2403, 2.2397, 2.2383, 2.2376, 2.2363, 2.2361, 2.2358, 2.2353, 2.2351, 2.2347, 2.2332, 2.2331, 2.2328, 2.2325, 2.2521, 2.2517, 2.2503, 2.2494, 2.2485, 2.2481, 2.246, 2.2454, 2.2454, 2.2449, 2.2446, 2.2446, 2.2443, 2.2442, 2.2442, 2.2435, 2.2434, 2.2432, 2.2422, 2.2411, 2.241, 2.2409, 2.2408, 2.2398, 2.2396, 2.2394, 2.2384, 2.2382, 2.238, 2.2375, 2.2771, 2.2768, 2.2749, 2.2744, 2.2744, 2.2739, 2.2726, 2.2721, 2.2719, 2.2718, 2.2713, 2.2712, 2.2708, 2.2696, 2.2695, 2.2689, 2.2675, 2.2666, 2.2664, 2.2659, 2.2658, 2.2657, 2.2651, 2.2647, 2.2635, 2.2621, 2.2616, 2.2611, 2.2607, 2.2603, 2.3277, 2.3268, 2.3266, 2.3262, 2.3253, 2.3252, 2.3243, 2.3232, 2.3225, 2.3224, 2.321, 2.3205, 2.3204, 2.3194, 2.3194, 2.3192, 2.319, 2.316, 2.3156, 2.3146, 2.3142, 2.3141, 2.3137, 2.313, 2.313, 2.3127, 2.3123, 2.3121, 2.312, 2.3115, 2.3429, 2.3425, 2.3421, 2.34, 2.3386, 2.3384, 2.3379, 2.3376, 2.337, 2.3368, 2.3333, 2.3331, 2.332, 2.3319, 2.3316, 2.3308, 2.3298, 2.329, 2.3286, 2.3277, 2.3272, 2.3271, 2.3269, 2.3252, 2.3241, 2.3236, 2.3227, 2.3226, 2.322, 2.3219, 2.4243, 2.4234, 2.4202, 2.4196, 2.4189, 2.4173, 2.4157, 2.4142, 2.4137, 2.4132, 2.4131, 2.4125, 2.4122, 2.4121, 2.4083, 2.4072, 2.4072, 2.4054, 2.4048, 2.4048, 2.4045, 2.4044, 2.4032, 2.4027, 2.3999, 2.3997, 2.3996, 2.3994, 2.3984, 2.3983, 2.4378, 2.4358, 2.4357, 2.4343, 2.4333, 2.4333, 2.4327, 2.4325, 2.4322, 2.4288, 2.4285, 2.4278, 2.4274, 2.4269, 2.4265, 2.426, 2.4253, 2.4249, 2.4248, 2.4248, 2.4235, 2.423, 2.4225, 2.4212, 2.4191, 2.4185, 2.418, 2.4176, 2.4172, 2.4169, 2.5739, 2.5732, 2.572, 2.5717, 2.5714, 2.5666, 2.5649, 2.5649, 2.5643, 2.5643, 2.5632, 2.5618, 2.5593, 2.5583, 2.5577, 2.5567, 2.5552, 2.5538, 2.5532, 2.553, 2.5514, 2.5491, 2.5491, 2.5462, 2.5456, 2.5424, 2.5382, 2.5379, 2.5352, 2.5322, 2.4916]}, \"token.table\": {\"Topic\": [10, 10, 5, 4, 6, 7, 5, 4, 5, 6, 2, 3, 9, 8, 8, 10, 3, 2, 5, 9, 4, 10, 2, 5, 1, 3, 5, 8, 5, 6, 8, 7, 2, 10, 2, 10, 8, 6, 1, 3, 3, 9, 10, 7, 9, 4, 7, 9, 1, 3, 6, 4, 2, 9, 5, 4, 6, 2, 7, 10, 9, 4, 3, 10, 10, 10, 2, 6, 6, 9, 4, 6, 1, 8, 1, 1, 9, 2, 9, 8, 8, 2, 6, 1, 5, 9, 2, 7, 6, 10, 8, 2, 4, 3, 3, 3, 2, 4, 2, 7, 8, 5, 1, 4, 1, 1, 1, 2, 3, 3, 1, 3, 5, 9, 8, 6, 3, 1, 3, 8, 6, 1, 4, 6, 5, 9, 5, 5, 6, 5, 7, 10, 3, 6, 8, 2, 6, 10, 5, 9, 9, 6, 9, 10, 7, 6, 4, 1, 10, 8, 7, 10, 9, 8, 5, 8, 9, 8, 3, 5, 2, 1, 2, 9, 4, 4, 7, 10, 3, 8, 8, 9, 7, 7, 4, 6, 10, 7, 6, 3, 3, 7, 5, 8, 4, 5, 3, 8, 4, 8, 5, 6, 9, 7, 4, 8, 5, 1, 6, 8, 5, 2, 2, 1, 1, 6, 3, 2, 7, 9, 4, 8, 8, 5, 3, 6, 5, 9, 1, 1, 2, 10, 10, 7, 2, 10, 2, 1, 10, 8, 7, 7, 1, 5, 3, 9, 9, 10, 10, 4, 1, 2, 4, 1, 2, 9, 1, 7, 7, 1, 10, 9, 7, 5, 9, 3, 6, 10, 5, 6, 6, 8, 7, 3, 9, 5, 6, 5, 3, 4, 3, 4, 8, 1, 7, 10, 3, 4, 10, 2, 3, 10, 1, 9, 7, 2, 7, 2, 4, 10, 4, 4, 4, 6, 1, 7, 2, 8, 4, 9, 7, 7], \"Freq\": [0.982266901947029, 0.9503569934456662, 0.9874786272273095, 0.9893497253306643, 0.9929889794937131, 0.9852194530396201, 0.9839412941790191, 0.9907155044113024, 0.9840755383963555, 0.9964915732333836, 0.9953067495111575, 0.9854359348545411, 0.992164577085333, 0.9897547875025688, 0.9767579215992939, 0.9757210876310464, 0.9948572489657945, 0.9835158567589621, 0.9932040048334239, 0.9866582364084286, 0.9898051833127103, 0.9837255301230119, 0.9861874090240438, 0.9793048191349213, 0.973816867405355, 0.9848078388921729, 0.9908571543322199, 0.9679157001527738, 0.9742380419936861, 0.9846588555335682, 0.9959431853822458, 0.9640278215983415, 0.981570431758653, 0.9967774005067969, 0.9845296202510375, 0.9555878610490895, 0.9713617012674196, 0.9866861226463193, 0.9846581039405559, 0.9830646766957379, 0.9697734372954692, 0.9874209749777143, 0.9881294142901574, 0.9847829192178136, 0.9872981831894267, 0.9835681710839074, 0.9872323758225592, 0.9727202984933153, 0.9867013654424297, 0.9934903006720343, 0.9874486209272467, 0.9924222923176537, 0.9977787420432407, 0.9866550757189992, 0.9916922947381127, 0.9952805152563635, 0.9927414815767148, 0.9880298283676334, 0.9948882749853019, 0.9807824641010593, 0.9856341517429059, 0.994651451864014, 0.9873734880453298, 0.9978719989876855, 0.9864614762308233, 0.973642294219418, 0.9881511146757811, 0.9775750108019611, 0.969971696280344, 0.9927881406608069, 0.9890189356555876, 0.9875658427400322, 0.9970457629969272, 0.9862218892014657, 0.9989117794358897, 0.9890649374519742, 0.976432408970534, 0.9872827691371829, 0.9894762272681257, 0.9867312435435489, 0.9908140264936454, 0.9996299982310939, 0.9730356386759285, 0.9736193721626905, 0.9899972106551558, 0.9886488035889972, 0.9903665444237211, 0.9942249444337735, 0.990313363747633, 0.9841605216376543, 0.9903678715532817, 0.9938509484820119, 0.9760750840542618, 0.9857927489768314, 0.9940140082553659, 0.9878170803937145, 0.9891681924082028, 0.9858168783800894, 0.9935449427528736, 0.9806386994567114, 0.9835002076013062, 0.9922807580306332, 0.9792246881920159, 0.9857631870133927, 0.9857742137616067, 0.9910266053941152, 0.9927816312795888, 0.9830437196715017, 0.9907271196458382, 0.9924931488589109, 0.9850131354072202, 0.9797732943190627, 0.9976906511020588, 0.9827315787443858, 0.996195314745249, 0.9719718037926948, 0.9868166125814014, 0.9789004493548168, 0.9783178532759511, 0.9827152100925669, 0.9835986221121548, 0.9729847923858811, 0.9923598597129749, 0.9925892560316993, 0.9873846979953779, 0.9667311164698196, 0.9709925416384935, 0.9936562227894712, 0.9898705428605492, 0.987967460542582, 0.9947083988173528, 0.9955313601385881, 0.985406571303209, 0.9784943405937407, 0.9890059498260411, 0.9933070754138853, 0.9837097399352478, 0.975162791917144, 0.9969199621008218, 0.9919482449907686, 0.9904532497105413, 0.9972247443673196, 0.035915049863537774, 0.9337912964519821, 0.9844454109713084, 0.9895644991808955, 0.9758290326083299, 0.9825333280553463, 0.9837297307049078, 0.9858123241402102, 0.9888792556067896, 0.9762006183443613, 0.9923253718659765, 0.9863234707618209, 0.9812068553035028, 0.9805780218924384, 0.993712911546575, 0.997440759054392, 0.9965165899201697, 0.9960014658777605, 0.9964047852746611, 0.9977327706991826, 0.9896651642360723, 0.9857629815420945, 0.9835578054718006, 0.9834289069691219, 0.981831168631677, 0.9991005904274484, 0.979231010541885, 0.9858171223574053, 0.9579512301198146, 0.9952009278405286, 0.979285499086291, 0.9952589063053239, 0.988743323455612, 0.9957419758497159, 0.9936020077154313, 0.9951299446031199, 0.9949832737701497, 0.991824790666156, 0.9849017028826526, 0.9629655671662586, 0.9793240172398733, 0.9830090425000065, 0.9834755984209325, 0.9711049595040954, 0.9829934335233824, 0.9685164101632726, 0.9863376048532578, 0.9903037831040049, 0.9969753460803423, 0.988681952589061, 0.9649323468635553, 0.995214120027672, 0.9868523179564751, 0.9756784938193209, 0.9913460431086253, 0.9732536538896269, 0.9881270751697948, 0.9757554026229622, 0.994771127984466, 0.9875880904370935, 0.9740674037422349, 0.9948473886118332, 0.9727451029670229, 0.9889020007816699, 0.9946208165654544, 0.9889661584097974, 0.9852409191991999, 0.9729385072304769, 0.9896494359778734, 0.9894745289119533, 0.9595175739412939, 0.9941915516145944, 0.9944584828899115, 0.9874531812033682, 0.9897076763987459, 0.9734260070253241, 0.9973319699144374, 0.9819578556158914, 0.9957301530645969, 0.9839408262467255, 0.9873145727160582, 0.9867791626972677, 0.9865142670170052, 0.9859951091666644, 0.9856102138443252, 0.9681547997194015, 0.9656005246051472, 0.99868545814486, 0.9968346990043854, 0.9895367816922879, 0.9830718909035826, 0.9934500442950499, 0.990983349214796, 0.9878222734132741, 0.9742534945517343, 0.9890745509677277, 0.9663027042795348, 0.9960599017745974, 0.9930580314156477, 0.9888488927213233, 0.9870269685934776, 0.999651866705928, 0.9783517258270777, 0.9879385906555443, 0.9726423777267824, 0.9761408090240871, 0.9981429515884883, 0.9925901450160999, 0.9754525604288311, 0.9767162385416811, 0.988874472513224, 0.9878533094113737, 0.9922194414811765, 0.984880797537201, 0.9922162928475381, 0.9831636286914689, 0.9941788387224564, 0.972338262411301, 0.9893001518143547, 0.9683409524629443, 0.9851487425502307, 0.9965580611166213, 0.9779434884400784, 0.9959843362976593, 0.995914372410754, 0.9830857597590424, 0.9944278617674026, 0.9956118141365349, 0.9952354970612208, 0.9925411777985369, 0.978767810049466, 0.9822446136948392, 0.9765822003823517, 0.9925025998855859, 0.9899212810405166, 0.981630121352046, 0.9428059976346651, 0.9919400777821861, 0.9798994284892836, 0.991877080908253, 0.9868215394525959, 0.9662503612547683, 0.99121095018939, 0.9862269755298307, 0.9820339277654736, 0.9812252100937635, 0.9826482398443807, 0.9971805671033747, 0.9930937370730221, 0.9907690500875708, 0.9939885268858449, 0.9879681605444268, 0.9778036835790084, 0.9948671216055626, 0.9889125789987818, 0.9787131962058588, 0.9896483246698766, 0.9836002326889001, 0.9964601693659925, 0.9926714600548001], \"Term\": [\"additional\", \"administrative_capital\", \"african\", \"agreement\", \"ahead\", \"aid\", \"ambassador\", \"amendment\", \"appoint\", \"approve\", \"arab\", \"armed_force\", \"arrest\", \"arrive\", \"artefact\", \"ask\", \"attack\", \"attempt\", \"attend\", \"authority\", \"award\", \"ban\", \"bilateral\", \"bilateral_relation\", \"bilateral_tie\", \"body\", \"boost\", \"british\", \"bus\", \"cabinet\", \"call\", \"campaign\", \"carry\", \"case\", \"celebrate\", \"center\", \"challenge\", \"charge\", \"chief\", \"child\", \"chinese\", \"church\", \"citizen\", \"close\", \"combat\", \"come\", \"comprehensive\", \"concern\", \"conclude\", \"condemn\", \"conference\", \"continue\", \"cooperation\", \"coptic\", \"counterpart\", \"country\", \"court\", \"crash\", \"crisis\", \"cultural\", \"dam\", \"day\", \"deadly\", \"death\", \"decision\", \"decree\", \"defence\", \"defendant\", \"degree\", \"delegation\", \"detain\", \"detention\", \"development\", \"die\", \"discuss\", \"discusse\", \"draft\", \"drill\", \"economic\", \"education\", \"effort\", \"egyptian\", \"employee\", \"end\", \"ethiopian\", \"exam\", \"exercise\", \"expect\", \"express\", \"extend\", \"face\", \"family\", \"fan\", \"fire\", \"first\", \"flight\", \"follow\", \"football\", \"force\", \"forecast\", \"former\", \"french\", \"fund\", \"future\", \"gerd\", \"german\", \"good\", \"great\", \"greek\", \"group\", \"hail\", \"hand\", \"head\", \"health\", \"high\", \"hit\", \"hold\", \"home\", \"hope\", \"host\", \"hot_weather\", \"illegal_migration\", \"inaugurate\", \"increase\", \"injure\", \"inspect\", \"intelligence\", \"investigate\", \"investigation\", \"investment\", \"israeli\", \"issue\", \"italian\", \"jail\", \"join\", \"joint\", \"journalist\", \"justice\", \"kill\", \"late\", \"launch\", \"law\", \"lawyer\", \"lawyer\", \"lead\", \"leader\", \"leak\", \"lebanese\", \"level\", \"libyan\", \"life\", \"lift\", \"list\", \"low\", \"major\", \"make\", \"medium\", \"meet\", \"meeting\", \"member\", \"military\", \"minister\", \"ministry\", \"more\", \"murder\", \"national\", \"negotiation\", \"new\", \"next\", \"next_week\", \"offer\", \"official\", \"online\", \"open\", \"operation\", \"order\", \"other\", \"palestinian\", \"parliament\", \"part\", \"participate\", \"pay\", \"peace\", \"pension\", \"people\", \"phone_call\", \"pilgrim\", \"place\", \"plan\", \"pm\", \"police\", \"policeman\", \"policy\", \"political\", \"praise\", \"prayer\", \"president\", \"presidential\", \"press\", \"price\", \"prison\", \"prisoner\", \"progress\", \"project\", \"promote\", \"prosecution\", \"prosecutor\", \"public\", \"rafah_border_crossing\", \"railway\", \"rain\", \"raise\", \"rank\", \"reach\", \"receive\", \"refer\", \"reform\", \"region\", \"regional\", \"regulate\", \"release\", \"religious\", \"report\", \"resumption\", \"return\", \"right\", \"rise\", \"road\", \"road_accident\", \"say\", \"school\", \"second\", \"sector\", \"security\", \"see\", \"seek\", \"seize\", \"send\", \"senior\", \"sentence\", \"service\", \"set\", \"sign\", \"sisi\", \"speaker\", \"special\", \"spokesperson\", \"stability\", \"start\", \"state\", \"state_emergency_month\", \"statement\", \"storm\", \"stress\", \"student\", \"suicide\", \"summit\", \"summon\", \"support\", \"suspect\", \"swear\", \"system\", \"take\", \"talk\", \"target\", \"tell\", \"temperature\", \"term\", \"terror\", \"terrorism\", \"terrorist\", \"th\", \"thanaweya_amma\", \"tie\", \"time\", \"toll\", \"top\", \"tourist\", \"traffic\", \"train\", \"training\", \"travel\", \"tripartite\", \"university\", \"uphold\", \"upper\", \"urge\", \"victim\", \"video\", \"visit\", \"warn\", \"water\", \"weather\", \"week\", \"welcome\", \"will\", \"win\", \"wind\", \"woman\", \"work\", \"year\", \"youth\"]}, \"R\": 30, \"lambda.step\": 0.01, \"plot.opts\": {\"xlab\": \"PC1\", \"ylab\": \"PC2\"}, \"topic.order\": [7, 1, 9, 2, 4, 3, 6, 8, 10, 5]};\n",
              "\n",
              "function LDAvis_load_lib(url, callback){\n",
              "  var s = document.createElement('script');\n",
              "  s.src = url;\n",
              "  s.async = true;\n",
              "  s.onreadystatechange = s.onload = callback;\n",
              "  s.onerror = function(){console.warn(\"failed to load library \" + url);};\n",
              "  document.getElementsByTagName(\"head\")[0].appendChild(s);\n",
              "}\n",
              "\n",
              "if(typeof(LDAvis) !== \"undefined\"){\n",
              "   // already loaded: just create the visualization\n",
              "   !function(LDAvis){\n",
              "       new LDAvis(\"#\" + \"ldavis_el3221404246885828642759827603\", ldavis_el3221404246885828642759827603_data);\n",
              "   }(LDAvis);\n",
              "}else if(typeof define === \"function\" && define.amd){\n",
              "   // require.js is available: use it to load d3/LDAvis\n",
              "   require.config({paths: {d3: \"https://d3js.org/d3.v5\"}});\n",
              "   require([\"d3\"], function(d3){\n",
              "      window.d3 = d3;\n",
              "      LDAvis_load_lib(\"https://cdn.jsdelivr.net/gh/bmabey/pyLDAvis@3.3.1/pyLDAvis/js/ldavis.v3.0.0.js\", function(){\n",
              "        new LDAvis(\"#\" + \"ldavis_el3221404246885828642759827603\", ldavis_el3221404246885828642759827603_data);\n",
              "      });\n",
              "    });\n",
              "}else{\n",
              "    // require.js not available: dynamically load d3 & LDAvis\n",
              "    LDAvis_load_lib(\"https://d3js.org/d3.v5.js\", function(){\n",
              "         LDAvis_load_lib(\"https://cdn.jsdelivr.net/gh/bmabey/pyLDAvis@3.3.1/pyLDAvis/js/ldavis.v3.0.0.js\", function(){\n",
              "                 new LDAvis(\"#\" + \"ldavis_el3221404246885828642759827603\", ldavis_el3221404246885828642759827603_data);\n",
              "            })\n",
              "         });\n",
              "}\n",
              "</script>"
            ],
            "text/plain": [
              "PreparedData(topic_coordinates=              x         y  topics  cluster       Freq\n",
              "topic                                                \n",
              "6      0.346759  0.219849       1        1  12.626541\n",
              "0      0.108967  0.384704       2        1  11.702353\n",
              "8     -0.310517 -0.255281       3        1  10.519331\n",
              "1     -0.209111  0.358476       4        1  10.484178\n",
              "3      0.154740 -0.405895       5        1  10.229074\n",
              "2     -0.163702  0.139482       6        1   9.713202\n",
              "5     -0.071256 -0.289396       7        1   9.571978\n",
              "7     -0.397021  0.011819       8        1   8.836112\n",
              "9      0.161611 -0.070605       9        1   8.705222\n",
              "4      0.379529 -0.093152      10        1   7.612009, topic_info=          Term         Freq        Total Category  logprob  loglift\n",
              "6         sisi  1542.000000  1542.000000  Default  30.0000  30.0000\n",
              "17    egyptian  1046.000000  1046.000000  Default  29.0000  29.0000\n",
              "5          new   526.000000   526.000000  Default  28.0000  28.0000\n",
              "23     discuss   646.000000   646.000000  Default  27.0000  27.0000\n",
              "131        say   421.000000   421.000000  Default  26.0000  26.0000\n",
              "...        ...          ...          ...      ...      ...      ...\n",
              "797   cultural    21.610292    22.431070  Topic10  -5.2265   2.5382\n",
              "337    traffic    21.453559    22.273936  Topic10  -5.2338   2.5379\n",
              "2220    center    20.104103    20.929525  Topic10  -5.2987   2.5352\n",
              "1558   justice    18.659581    19.483926  Topic10  -5.3733   2.5322\n",
              "1747    lawyer    25.603083    27.843481  Topic10  -5.0569   2.4916\n",
              "\n",
              "[331 rows x 6 columns], token_table=      Topic      Freq                    Term\n",
              "term                                         \n",
              "1702     10  0.982267              additional\n",
              "981      10  0.950357  administrative_capital\n",
              "327       5  0.987479                 african\n",
              "397       4  0.989350               agreement\n",
              "324       6  0.992989                   ahead\n",
              "...     ...       ...                     ...\n",
              "2027      8  0.978713                    wind\n",
              "1297      4  0.989648                   woman\n",
              "1197      9  0.983600                    work\n",
              "93        7  0.996460                    year\n",
              "119       7  0.992671                   youth\n",
              "\n",
              "[302 rows x 3 columns], R=30, lambda_step=0.01, plot_opts={'xlab': 'PC1', 'ylab': 'PC2'}, topic_order=[7, 1, 9, 2, 4, 3, 6, 8, 10, 5])"
            ]
          },
          "metadata": {},
          "execution_count": 29
        }
      ]
    },
    {
      "cell_type": "code",
      "source": [
        "#Finding out coherence of the model\n",
        "coherence_model_lda = CoherenceModel(model=new_model,texts=df['cleaned_text2'],\\\n",
        "                                     dictionary=id2word , coherence='c_v')\n",
        "print('\\nCoherence Score: ', coherence_model_lda.get_coherence())"
      ],
      "metadata": {
        "colab": {
          "base_uri": "https://localhost:8080/"
        },
        "id": "eWkl16hkRiPN",
        "outputId": "45ae49fb-9739-4c26-e884-9bb285e6640a"
      },
      "execution_count": 30,
      "outputs": [
        {
          "output_type": "stream",
          "name": "stdout",
          "text": [
            "\n",
            "Coherence Score:  0.5285625493630419\n"
          ]
        }
      ]
    },
    {
      "cell_type": "code",
      "source": [
        "%%time\n",
        "# Computing coherence score via coherence model for different sizes of topics in the new_model created above, to use further for graphical visualizations\n",
        "def calculate_topic_cv(ldamodel,texts,dictionary,topic_range):\n",
        "  cv_score =[]\n",
        "  topic_num = []\n",
        "  for i in range(2,topic_range):\n",
        "    topic_num.append(i)\n",
        "    Lda = gensim.models.ldamodel.LdaModel\n",
        "    ldamodel = Lda(corpus=corpus[:-1],id2word=id2word,num_topics=i,random_state=100,update_every=1,chunksize=100,passes=10,alpha=\"auto\")\n",
        "    cv_score.append(CoherenceModel(model=ldamodel,texts=texts, dictionary=dictionary, coherence='c_v').get_coherence())\n",
        "    clear_output()\n",
        "  return topic_num,cv_score\n",
        "\n",
        "topic_num,cv_score = calculate_topic_cv(lda_model,df['cleaned_text2'],id2word,10)\n",
        "print(topic_num)\n",
        "print(cv_score)"
      ],
      "metadata": {
        "colab": {
          "base_uri": "https://localhost:8080/"
        },
        "id": "e1Olwt_hV2F9",
        "outputId": "c2a492fc-6e62-4860-889c-095d162e65c5"
      },
      "execution_count": 31,
      "outputs": [
        {
          "output_type": "stream",
          "name": "stdout",
          "text": [
            "[2, 3, 4, 5, 6, 7, 8, 9]\n",
            "[0.4618587082655068, 0.43387341309016847, 0.4799595386666917, 0.5049542845198254, 0.5013439474922353, 0.5302386091413486, 0.5389320632610359, 0.5202287972113688]\n",
            "CPU times: user 2min 44s, sys: 900 ms, total: 2min 45s\n",
            "Wall time: 3min 2s\n"
          ]
        }
      ]
    },
    {
      "cell_type": "markdown",
      "source": [
        "#Zipping values found above into Topic and Coherence Score\n"
      ],
      "metadata": {
        "id": "lPxAitI8V4ee"
      }
    },
    {
      "cell_type": "code",
      "source": [
        "pd.DataFrame(zip(topic_num,cv_score),columns=['Topic','Coherence_Score']).set_index('Topic').sort_values('Coherence_Score',ascending=False)\n"
      ],
      "metadata": {
        "colab": {
          "base_uri": "https://localhost:8080/",
          "height": 332
        },
        "id": "br2FzPGpV5K3",
        "outputId": "ec6fad09-4494-4f6a-b6e0-ee06c616244e"
      },
      "execution_count": 32,
      "outputs": [
        {
          "output_type": "execute_result",
          "data": {
            "text/html": [
              "\n",
              "  <div id=\"df-943b1517-d5dd-4cd3-a705-746822962742\">\n",
              "    <div class=\"colab-df-container\">\n",
              "      <div>\n",
              "<style scoped>\n",
              "    .dataframe tbody tr th:only-of-type {\n",
              "        vertical-align: middle;\n",
              "    }\n",
              "\n",
              "    .dataframe tbody tr th {\n",
              "        vertical-align: top;\n",
              "    }\n",
              "\n",
              "    .dataframe thead th {\n",
              "        text-align: right;\n",
              "    }\n",
              "</style>\n",
              "<table border=\"1\" class=\"dataframe\">\n",
              "  <thead>\n",
              "    <tr style=\"text-align: right;\">\n",
              "      <th></th>\n",
              "      <th>Coherence_Score</th>\n",
              "    </tr>\n",
              "    <tr>\n",
              "      <th>Topic</th>\n",
              "      <th></th>\n",
              "    </tr>\n",
              "  </thead>\n",
              "  <tbody>\n",
              "    <tr>\n",
              "      <th>8</th>\n",
              "      <td>0.538932</td>\n",
              "    </tr>\n",
              "    <tr>\n",
              "      <th>7</th>\n",
              "      <td>0.530239</td>\n",
              "    </tr>\n",
              "    <tr>\n",
              "      <th>9</th>\n",
              "      <td>0.520229</td>\n",
              "    </tr>\n",
              "    <tr>\n",
              "      <th>5</th>\n",
              "      <td>0.504954</td>\n",
              "    </tr>\n",
              "    <tr>\n",
              "      <th>6</th>\n",
              "      <td>0.501344</td>\n",
              "    </tr>\n",
              "    <tr>\n",
              "      <th>4</th>\n",
              "      <td>0.479960</td>\n",
              "    </tr>\n",
              "    <tr>\n",
              "      <th>2</th>\n",
              "      <td>0.461859</td>\n",
              "    </tr>\n",
              "    <tr>\n",
              "      <th>3</th>\n",
              "      <td>0.433873</td>\n",
              "    </tr>\n",
              "  </tbody>\n",
              "</table>\n",
              "</div>\n",
              "      <button class=\"colab-df-convert\" onclick=\"convertToInteractive('df-943b1517-d5dd-4cd3-a705-746822962742')\"\n",
              "              title=\"Convert this dataframe to an interactive table.\"\n",
              "              style=\"display:none;\">\n",
              "        \n",
              "  <svg xmlns=\"http://www.w3.org/2000/svg\" height=\"24px\"viewBox=\"0 0 24 24\"\n",
              "       width=\"24px\">\n",
              "    <path d=\"M0 0h24v24H0V0z\" fill=\"none\"/>\n",
              "    <path d=\"M18.56 5.44l.94 2.06.94-2.06 2.06-.94-2.06-.94-.94-2.06-.94 2.06-2.06.94zm-11 1L8.5 8.5l.94-2.06 2.06-.94-2.06-.94L8.5 2.5l-.94 2.06-2.06.94zm10 10l.94 2.06.94-2.06 2.06-.94-2.06-.94-.94-2.06-.94 2.06-2.06.94z\"/><path d=\"M17.41 7.96l-1.37-1.37c-.4-.4-.92-.59-1.43-.59-.52 0-1.04.2-1.43.59L10.3 9.45l-7.72 7.72c-.78.78-.78 2.05 0 2.83L4 21.41c.39.39.9.59 1.41.59.51 0 1.02-.2 1.41-.59l7.78-7.78 2.81-2.81c.8-.78.8-2.07 0-2.86zM5.41 20L4 18.59l7.72-7.72 1.47 1.35L5.41 20z\"/>\n",
              "  </svg>\n",
              "      </button>\n",
              "      \n",
              "  <style>\n",
              "    .colab-df-container {\n",
              "      display:flex;\n",
              "      flex-wrap:wrap;\n",
              "      gap: 12px;\n",
              "    }\n",
              "\n",
              "    .colab-df-convert {\n",
              "      background-color: #E8F0FE;\n",
              "      border: none;\n",
              "      border-radius: 50%;\n",
              "      cursor: pointer;\n",
              "      display: none;\n",
              "      fill: #1967D2;\n",
              "      height: 32px;\n",
              "      padding: 0 0 0 0;\n",
              "      width: 32px;\n",
              "    }\n",
              "\n",
              "    .colab-df-convert:hover {\n",
              "      background-color: #E2EBFA;\n",
              "      box-shadow: 0px 1px 2px rgba(60, 64, 67, 0.3), 0px 1px 3px 1px rgba(60, 64, 67, 0.15);\n",
              "      fill: #174EA6;\n",
              "    }\n",
              "\n",
              "    [theme=dark] .colab-df-convert {\n",
              "      background-color: #3B4455;\n",
              "      fill: #D2E3FC;\n",
              "    }\n",
              "\n",
              "    [theme=dark] .colab-df-convert:hover {\n",
              "      background-color: #434B5C;\n",
              "      box-shadow: 0px 1px 3px 1px rgba(0, 0, 0, 0.15);\n",
              "      filter: drop-shadow(0px 1px 2px rgba(0, 0, 0, 0.3));\n",
              "      fill: #FFFFFF;\n",
              "    }\n",
              "  </style>\n",
              "\n",
              "      <script>\n",
              "        const buttonEl =\n",
              "          document.querySelector('#df-943b1517-d5dd-4cd3-a705-746822962742 button.colab-df-convert');\n",
              "        buttonEl.style.display =\n",
              "          google.colab.kernel.accessAllowed ? 'block' : 'none';\n",
              "\n",
              "        async function convertToInteractive(key) {\n",
              "          const element = document.querySelector('#df-943b1517-d5dd-4cd3-a705-746822962742');\n",
              "          const dataTable =\n",
              "            await google.colab.kernel.invokeFunction('convertToInteractive',\n",
              "                                                     [key], {});\n",
              "          if (!dataTable) return;\n",
              "\n",
              "          const docLinkHtml = 'Like what you see? Visit the ' +\n",
              "            '<a target=\"_blank\" href=https://colab.research.google.com/notebooks/data_table.ipynb>data table notebook</a>'\n",
              "            + ' to learn more about interactive tables.';\n",
              "          element.innerHTML = '';\n",
              "          dataTable['output_type'] = 'display_data';\n",
              "          await google.colab.output.renderOutput(dataTable, element);\n",
              "          const docLink = document.createElement('div');\n",
              "          docLink.innerHTML = docLinkHtml;\n",
              "          element.appendChild(docLink);\n",
              "        }\n",
              "      </script>\n",
              "    </div>\n",
              "  </div>\n",
              "  "
            ],
            "text/plain": [
              "       Coherence_Score\n",
              "Topic                 \n",
              "8             0.538932\n",
              "7             0.530239\n",
              "9             0.520229\n",
              "5             0.504954\n",
              "6             0.501344\n",
              "4             0.479960\n",
              "2             0.461859\n",
              "3             0.433873"
            ]
          },
          "metadata": {},
          "execution_count": 32
        }
      ]
    },
    {
      "cell_type": "code",
      "source": [
        "import matplotlib.pyplot as plt\n",
        "\n",
        "plt.figure(figsize = (16,8))\n",
        "plt.plot(topic_num,cv_score,color='RED', marker='*', linestyle='dashed')\n",
        "plt.xticks(range(2,10))\n",
        "plt.xlabel('Number of topics')\n",
        "plt.ylabel('Coherence score')\n",
        "plt.show()"
      ],
      "metadata": {
        "colab": {
          "base_uri": "https://localhost:8080/",
          "height": 497
        },
        "id": "nIcICgDEV9Zn",
        "outputId": "cbb3315b-265a-4a8c-9a86-cfd0cfe4fa3a"
      },
      "execution_count": 33,
      "outputs": [
        {
          "output_type": "display_data",
          "data": {
            "image/png": "[encoded data removed]",
            "text/plain": [
              "<Figure size 1152x576 with 1 Axes>"
            ]
          },
          "metadata": {
            "needs_background": "light"
          }
        }
      ]
    },
    {
      "cell_type": "code",
      "source": [
        "# Creating LDA model with number of topics as 2\n",
        "Lda2 = gensim.models.ldamodel.LdaModel\n",
        "ldamodel2 = Lda2(corpus=corpus,id2word=id2word,num_topics=2,random_state=100,update_every=1,chunksize=100,passes=10,alpha=\"auto\")\n",
        "clear_output()"
      ],
      "metadata": {
        "id": "psLm8JwPWAHr"
      },
      "execution_count": 34,
      "outputs": []
    },
    {
      "cell_type": "code",
      "source": [
        "print(CoherenceModel(model=ldamodel2,texts=df['cleaned_text2'],dictionary=id2word , coherence='c_v').get_coherence())\n"
      ],
      "metadata": {
        "colab": {
          "base_uri": "https://localhost:8080/"
        },
        "id": "AapAWaOGWPz6",
        "outputId": "1bb2f346-c920-458d-b66a-7d8a7402ef63"
      },
      "execution_count": 35,
      "outputs": [
        {
          "output_type": "stream",
          "name": "stdout",
          "text": [
            "0.4618587082655068\n"
          ]
        }
      ]
    },
    {
      "cell_type": "code",
      "source": [
        "ldamodel2.print_topics()\n"
      ],
      "metadata": {
        "colab": {
          "base_uri": "https://localhost:8080/"
        },
        "id": "pdoVRk5TWP7l",
        "outputId": "22f77c49-aaa6-4e0e-ac7d-5045e84ead75"
      },
      "execution_count": 36,
      "outputs": [
        {
          "output_type": "execute_result",
          "data": {
            "text/plain": [
              "[(0,\n",
              "  '0.027*\"discuss\" + 0.020*\"new\" + 0.015*\"military\" + 0.014*\"death\" + 0.014*\"kill\" + 0.012*\"cooperation\" + 0.012*\"head\" + 0.012*\"meet\" + 0.011*\"attack\" + 0.011*\"terrorist\"'),\n",
              " (1,\n",
              "  '0.050*\"sisi\" + 0.033*\"egyptian\" + 0.014*\"say\" + 0.008*\"official\" + 0.008*\"sentence\" + 0.008*\"law\" + 0.007*\"year\" + 0.007*\"day\" + 0.007*\"minister\" + 0.007*\"development\"')]"
            ]
          },
          "metadata": {},
          "execution_count": 36
        }
      ]
    },
    {
      "cell_type": "code",
      "source": [
        "vis2 = gensim_models.prepare(ldamodel2, corpus, id2word, mds=\"mmds\", R=30)\n",
        "vis2"
      ],
      "metadata": {
        "colab": {
          "base_uri": "https://localhost:8080/",
          "height": 916
        },
        "id": "87jvjYGcWQFz",
        "outputId": "924b83ec-f1eb-4e01-8e78-2243563141c1"
      },
      "execution_count": 37,
      "outputs": [
        {
          "output_type": "stream",
          "name": "stderr",
          "text": [
            "/usr/local/lib/python3.7/dist-packages/pyLDAvis/_prepare.py:247: FutureWarning: In a future version of pandas all arguments of DataFrame.drop except for the argument 'labels' will be keyword-only\n",
            "  by='saliency', ascending=False).head(R).drop('saliency', 1)\n"
          ]
        },
        {
          "output_type": "execute_result",
          "data": {
            "text/html": [
              "\n",
              "<link rel=\"stylesheet\" type=\"text/css\" href=\"https://cdn.jsdelivr.net/gh/bmabey/pyLDAvis@3.3.1/pyLDAvis/js/ldavis.v1.0.0.css\">\n",
              "\n",
              "\n",
              "<div id=\"ldavis_el3221404246872552485523802255\"></div>\n",
              "<script type=\"text/javascript\">\n",
              "\n",
              "var ldavis_el3221404246872552485523802255_data = {\"mdsDat\": {\"x\": [-0.06957745034339073, 0.06957745034339073], \"y\": [0.21963851898081943, -0.21963851898081943], \"topics\": [1, 2], \"cluster\": [1, 1], \"Freq\": [57.426661590045455, 42.573338409954545]}, \"tinfo\": {\"Term\": [\"sisi\", \"discuss\", \"new\", \"military\", \"death\", \"kill\", \"egyptian\", \"cooperation\", \"head\", \"meet\", \"say\", \"attack\", \"terrorist\", \"case\", \"meeting\", \"issue\", \"visit\", \"talk\", \"force\", \"sentence\", \"official\", \"law\", \"year\", \"police\", \"summit\", \"day\", \"minister\", \"joint\", \"temperature\", \"continue\", \"say\", \"law\", \"year\", \"approve\", \"day\", \"sisi\", \"parliament\", \"minister\", \"support\", \"order\", \"start\", \"project\", \"first\", \"will\", \"tell\", \"call\", \"state\", \"open\", \"security\", \"student\", \"woman\", \"arrest\", \"prison\", \"release\", \"sentence\", \"receive\", \"school\", \"launch\", \"press\", \"increase\", \"official\", \"development\", \"effort\", \"economic\", \"member\", \"egyptian\", \"ahead\", \"prosecutor\", \"discuss\", \"kill\", \"military\", \"cooperation\", \"attack\", \"terrorist\", \"new\", \"death\", \"meet\", \"head\", \"meeting\", \"force\", \"talk\", \"joint\", \"condemn\", \"visit\", \"case\", \"summit\", \"counterpart\", \"injure\", \"police\", \"arab\", \"regional\", \"issue\", \"delegation\", \"continue\", \"deadly\", \"hold\", \"flight\", \"church\", \"temperature\", \"african\", \"terror\", \"country\", \"egyptian\"], \"Freq\": [1518.0, 611.0, 448.0, 345.0, 315.0, 305.0, 1110.0, 277.0, 278.0, 276.0, 427.0, 246.0, 242.0, 202.0, 199.0, 187.0, 174.0, 158.0, 157.0, 253.0, 257.0, 238.0, 228.0, 146.0, 142.0, 222.0, 219.0, 135.0, 138.0, 132.0, 426.8094385966046, 237.52050741740481, 227.5188459056371, 185.00215759296597, 221.96686258329785, 1513.825561866263, 191.9995518571652, 218.2791110416008, 180.5691966264365, 169.37080522824076, 202.1871094528178, 156.79989167576989, 150.14485426632396, 183.0409433095718, 164.89668004336414, 138.94308550864145, 140.25505542274578, 124.25802970471841, 165.30812438987823, 160.14217749624044, 111.89268994778654, 162.3266931796764, 116.01331581784575, 105.50972781398319, 251.9498306914863, 118.223804667544, 99.11833641267415, 97.80160428038137, 100.65078855017752, 88.16467639636824, 254.97020751987037, 209.03266385222466, 124.82633049601567, 111.35499736003887, 122.83039582660055, 1002.7051906878379, 124.88377386971328, 116.96125159915198, 610.3813121125173, 304.7650083005853, 345.02632027140214, 277.2176051726222, 246.4159819524906, 242.11783009666632, 446.87445201054277, 314.63649527868887, 275.6138675149925, 277.2105651703625, 199.2460182403043, 156.93872656514367, 158.16942791255886, 135.36546725954122, 123.45427581720331, 173.40441185034916, 201.346034152469, 141.36293108938722, 107.6121859702566, 109.21973696244366, 145.60439626034935, 113.22124491352646, 125.18519446803693, 186.64747324400423, 121.94936009605567, 131.36477645157785, 96.63829959068248, 93.93134538846279, 96.66437483714743, 106.18027884397205, 137.26132310617402, 100.61086181818848, 129.46864822390526, 113.18895728411506, 108.14799090414566], \"Total\": [1518.0, 611.0, 448.0, 345.0, 315.0, 305.0, 1110.0, 277.0, 278.0, 276.0, 427.0, 246.0, 242.0, 202.0, 199.0, 187.0, 174.0, 158.0, 157.0, 253.0, 257.0, 238.0, 228.0, 146.0, 142.0, 222.0, 219.0, 135.0, 138.0, 132.0, 427.640677516692, 238.10557939463752, 228.09078748803017, 185.54761302474432, 222.68009495509048, 1518.7358832340594, 192.64836427152414, 219.02627375910592, 181.22575049789344, 169.99135209409243, 202.99124670497983, 157.43157076617697, 150.7575691951379, 183.82440546581174, 165.60509213831193, 139.58376086681713, 140.90853084827413, 124.86139524437066, 166.11505796734258, 160.9250565049718, 112.44997549868955, 163.15847080529386, 116.61327184747502, 106.05996787899377, 253.27106100397168, 118.84900124470958, 99.65961102465816, 98.36822759841856, 101.26870814212042, 88.71638566571946, 257.1927513582692, 213.1061380168836, 125.93681326317608, 112.19674005581922, 124.25713982622783, 1110.8531815919835, 126.75377839852442, 119.92732790835498, 611.0706874657324, 305.3619389258583, 345.7205298236629, 277.83638386487587, 246.97203545484484, 242.71357563219655, 448.00201171554426, 315.54436841372427, 276.43967513114274, 278.1146961288209, 199.93152517444193, 157.53812695078142, 158.79283805409696, 135.9199827230719, 124.00296464009877, 174.216766166997, 202.30219242191643, 142.07751354265514, 108.16950681041904, 109.78666062304538, 146.42137921107937, 113.86418361620001, 125.91378371164758, 187.76381111127847, 122.72611557318376, 132.2143953794706, 97.28413590926115, 94.55925411277961, 97.32917231561018, 106.91551593927124, 138.5134931567061, 101.3295912299554, 130.73232439239072, 115.00909372407835, 1110.8531815919835], \"Category\": [\"Default\", \"Default\", \"Default\", \"Default\", \"Default\", \"Default\", \"Default\", \"Default\", \"Default\", \"Default\", \"Default\", \"Default\", \"Default\", \"Default\", \"Default\", \"Default\", \"Default\", \"Default\", \"Default\", \"Default\", \"Default\", \"Default\", \"Default\", \"Default\", \"Default\", \"Default\", \"Default\", \"Default\", \"Default\", \"Default\", \"Topic1\", \"Topic1\", \"Topic1\", \"Topic1\", \"Topic1\", \"Topic1\", \"Topic1\", \"Topic1\", \"Topic1\", \"Topic1\", \"Topic1\", \"Topic1\", \"Topic1\", \"Topic1\", \"Topic1\", \"Topic1\", \"Topic1\", \"Topic1\", \"Topic1\", \"Topic1\", \"Topic1\", \"Topic1\", \"Topic1\", \"Topic1\", \"Topic1\", \"Topic1\", \"Topic1\", \"Topic1\", \"Topic1\", \"Topic1\", \"Topic1\", \"Topic1\", \"Topic1\", \"Topic1\", \"Topic1\", \"Topic1\", \"Topic1\", \"Topic1\", \"Topic2\", \"Topic2\", \"Topic2\", \"Topic2\", \"Topic2\", \"Topic2\", \"Topic2\", \"Topic2\", \"Topic2\", \"Topic2\", \"Topic2\", \"Topic2\", \"Topic2\", \"Topic2\", \"Topic2\", \"Topic2\", \"Topic2\", \"Topic2\", \"Topic2\", \"Topic2\", \"Topic2\", \"Topic2\", \"Topic2\", \"Topic2\", \"Topic2\", \"Topic2\", \"Topic2\", \"Topic2\", \"Topic2\", \"Topic2\", \"Topic2\", \"Topic2\", \"Topic2\", \"Topic2\", \"Topic2\"], \"logprob\": [30.0, 29.0, 28.0, 27.0, 26.0, 25.0, 24.0, 23.0, 22.0, 21.0, 20.0, 19.0, 18.0, 17.0, 16.0, 15.0, 14.0, 13.0, 12.0, 11.0, 10.0, 9.0, 8.0, 7.0, 6.0, 5.0, 4.0, 3.0, 2.0, 1.0, -4.2641, -4.8502, -4.8932, -5.1001, -4.9179, -2.998, -5.0629, -4.9347, -5.1243, -5.1883, -5.0112, -5.2655, -5.3088, -5.1107, -5.2151, -5.3864, -5.377, -5.4981, -5.2126, -5.2444, -5.6029, -5.2308, -5.5667, -5.6616, -4.7912, -5.5479, -5.7241, -5.7375, -5.7088, -5.8412, -4.7793, -4.9779, -5.4935, -5.6077, -5.5096, -3.41, -5.4931, -5.5586, -3.6071, -4.3016, -4.1775, -4.3964, -4.5141, -4.5317, -3.9189, -4.2697, -4.4022, -4.3964, -4.7266, -4.9653, -4.9575, -5.1132, -5.2053, -4.8655, -4.7161, -5.0698, -5.3426, -5.3278, -5.0403, -5.2918, -5.1914, -4.7919, -5.2176, -5.1432, -5.4502, -5.4786, -5.4499, -5.356, -5.0993, -5.4099, -5.1577, -5.2921, -5.3377], \"loglift\": [30.0, 29.0, 28.0, 27.0, 26.0, 25.0, 24.0, 23.0, 22.0, 21.0, 20.0, 19.0, 18.0, 17.0, 16.0, 15.0, 14.0, 13.0, 12.0, 11.0, 10.0, 9.0, 8.0, 7.0, 6.0, 5.0, 4.0, 3.0, 2.0, 1.0, 0.5527, 0.5522, 0.5522, 0.5517, 0.5515, 0.5514, 0.5513, 0.5512, 0.551, 0.551, 0.5507, 0.5506, 0.5506, 0.5504, 0.5504, 0.5501, 0.55, 0.5498, 0.5498, 0.5498, 0.5497, 0.5496, 0.5495, 0.5495, 0.5494, 0.5494, 0.5492, 0.5489, 0.5485, 0.5484, 0.546, 0.5354, 0.5458, 0.5471, 0.5431, 0.4522, 0.5398, 0.5296, 0.8528, 0.852, 0.8519, 0.8517, 0.8517, 0.8515, 0.8514, 0.8511, 0.851, 0.8507, 0.8505, 0.8501, 0.85, 0.8499, 0.8495, 0.8493, 0.8492, 0.8489, 0.8488, 0.8488, 0.8483, 0.8483, 0.8481, 0.848, 0.8476, 0.8475, 0.8473, 0.8473, 0.8471, 0.847, 0.8449, 0.8468, 0.8442, 0.838, -1.4754]}, \"token.table\": {\"Topic\": [1, 2, 1, 2, 1, 2, 1, 2, 1, 2, 1, 2, 1, 2, 1, 2, 1, 2, 1, 2, 1, 2, 1, 2, 1, 2, 1, 2, 1, 2, 1, 2, 1, 2, 1, 2, 1, 2, 1, 2, 1, 2, 1, 2, 1, 2, 1, 2, 1, 2, 1, 2, 1, 2, 1, 2, 1, 2, 1, 2, 1, 2, 1, 2, 1, 2, 1, 2, 1, 2, 1, 2, 1, 2, 1, 2, 1, 2, 1, 2, 1, 2, 1, 2, 1, 2, 1, 2, 1, 2, 1, 2, 1, 2, 1, 2, 1, 2, 1, 2, 1, 2, 1, 2, 1, 2, 1, 2, 1, 2, 1, 2, 1, 2, 1, 2, 1, 2, 1, 2, 1, 2, 1, 2, 1, 2, 1, 2, 1, 2, 1, 2, 1, 2, 1, 2, 1, 2, 1, 2, 1, 2, 1, 2], \"Freq\": [0.009868785493574325, 0.9967473348510069, 0.9861638964874846, 0.015778622343799755, 0.9970486657531331, 0.005389452247314234, 0.008782392919714617, 0.9924103999277517, 0.9928997201335852, 0.00612901061810855, 0.004049041415390671, 0.9960641881861051, 0.995817845405569, 0.007164157161191143, 0.004943100161338958, 0.9935631324291305, 0.009353179388555791, 0.9914370151869139, 0.00806432332406213, 0.9919117688596419, 0.007563472926906971, 0.9908149534248132, 0.0035992406253255306, 0.996989653215172, 0.009244749555460473, 0.998432951989731, 0.017389929224190376, 0.9825310011667562, 0.9969458655241383, 0.004490747142000624, 0.01027916823903046, 0.9970793191859547, 0.0031691264370430957, 0.9982748276685752, 0.008148224975015056, 0.9940834469518367, 0.9807319580041459, 0.018769989626873606, 0.0016364718853513621, 0.9982478500643309, 0.9893335576842622, 0.008912914934092452, 0.992561243699105, 0.00794048994959284, 0.9029095983346628, 0.09722256891340338, 0.9949749176828573, 0.006633166117885715, 0.010274411835716542, 0.9966179480645045, 0.006347669731482991, 0.9965841478428296, 0.0035956388278626113, 0.9959919553179434, 0.010575379526654397, 0.9940856755055132, 0.9919249904023505, 0.011271874890935802, 0.009108574705933714, 0.9928346429467748, 0.005325839916017409, 0.9959320642952555, 0.007357269916943962, 0.9932314387874348, 0.003274802365735566, 0.9988147215493475, 0.9962566409153795, 0.01016588409097326, 0.9995565858015342, 0.004199817587401404, 0.003617425753107259, 0.9984095078576034, 0.005001712456939903, 0.9953407789310407, 0.9898827558079486, 0.008047827282991452, 0.002892509740483323, 0.9979158604667463, 0.9953143805923729, 0.0045656622962952885, 0.0022321328338921454, 0.9977633767497891, 0.9914742878767422, 0.0077762689245234684, 0.9931011883802452, 0.00800888055145359, 0.9941682204307446, 0.005882652191897897, 0.9966344678088711, 0.00519080451983787, 0.006829603746310924, 0.9971221469613948, 0.9973465827001238, 0.009874718640595284, 0.9947409772682037, 0.008575353252312101, 0.9972586771250732, 0.006351966096338046, 0.9755908185447777, 0.02501514919345584, 0.9928564713559394, 0.008414037892846943, 0.00794194226019034, 0.9927427825237924, 0.9994345851673065, 0.009428628161955723, 0.9985018321446585, 0.002338411784882104, 0.9933813606347013, 0.010034155157926276, 0.9932874359435747, 0.006019923854203483, 0.9949814203054499, 0.003948338969466071, 0.9968816939888359, 0.0032922116710331437, 0.9951168007435293, 0.004926320795760046, 0.9935523360948785, 0.007096802400677703, 0.9942516316286444, 0.006214072697679028, 0.007038411463329668, 0.9924160163294831, 0.9987543133507616, 0.005517979631772163, 0.006297513239604192, 0.9950070918574624, 0.9963461743204939, 0.006038461662548448, 0.007219513256146521, 0.9890733160920734, 0.007649217625768804, 0.9867490737241756, 0.004120082683448167, 0.9970600093944564, 0.005739975675139334, 0.9930157917991047, 0.9955152556390829, 0.005439974074530508, 0.9959984384461267, 0.008892843200411846, 0.9996019677557783, 0.004384219156823589], \"Term\": [\"african\", \"african\", \"ahead\", \"ahead\", \"approve\", \"approve\", \"arab\", \"arab\", \"arrest\", \"arrest\", \"attack\", \"attack\", \"call\", \"call\", \"case\", \"case\", \"church\", \"church\", \"condemn\", \"condemn\", \"continue\", \"continue\", \"cooperation\", \"cooperation\", \"counterpart\", \"counterpart\", \"country\", \"country\", \"day\", \"day\", \"deadly\", \"deadly\", \"death\", \"death\", \"delegation\", \"delegation\", \"development\", \"development\", \"discuss\", \"discuss\", \"economic\", \"economic\", \"effort\", \"effort\", \"egyptian\", \"egyptian\", \"first\", \"first\", \"flight\", \"flight\", \"force\", \"force\", \"head\", \"head\", \"hold\", \"hold\", \"increase\", \"increase\", \"injure\", \"injure\", \"issue\", \"issue\", \"joint\", \"joint\", \"kill\", \"kill\", \"launch\", \"launch\", \"law\", \"law\", \"meet\", \"meet\", \"meeting\", \"meeting\", \"member\", \"member\", \"military\", \"military\", \"minister\", \"minister\", \"new\", \"new\", \"official\", \"official\", \"open\", \"open\", \"order\", \"order\", \"parliament\", \"parliament\", \"police\", \"police\", \"press\", \"press\", \"prison\", \"prison\", \"project\", \"project\", \"prosecutor\", \"prosecutor\", \"receive\", \"receive\", \"regional\", \"regional\", \"release\", \"release\", \"say\", \"say\", \"school\", \"school\", \"security\", \"security\", \"sentence\", \"sentence\", \"sisi\", \"sisi\", \"start\", \"start\", \"state\", \"state\", \"student\", \"student\", \"summit\", \"summit\", \"support\", \"support\", \"talk\", \"talk\", \"tell\", \"tell\", \"temperature\", \"temperature\", \"terror\", \"terror\", \"terrorist\", \"terrorist\", \"visit\", \"visit\", \"will\", \"will\", \"woman\", \"woman\", \"year\", \"year\"]}, \"R\": 30, \"lambda.step\": 0.01, \"plot.opts\": {\"xlab\": \"PC1\", \"ylab\": \"PC2\"}, \"topic.order\": [2, 1]};\n",
              "\n",
              "function LDAvis_load_lib(url, callback){\n",
              "  var s = document.createElement('script');\n",
              "  s.src = url;\n",
              "  s.async = true;\n",
              "  s.onreadystatechange = s.onload = callback;\n",
              "  s.onerror = function(){console.warn(\"failed to load library \" + url);};\n",
              "  document.getElementsByTagName(\"head\")[0].appendChild(s);\n",
              "}\n",
              "\n",
              "if(typeof(LDAvis) !== \"undefined\"){\n",
              "   // already loaded: just create the visualization\n",
              "   !function(LDAvis){\n",
              "       new LDAvis(\"#\" + \"ldavis_el3221404246872552485523802255\", ldavis_el3221404246872552485523802255_data);\n",
              "   }(LDAvis);\n",
              "}else if(typeof define === \"function\" && define.amd){\n",
              "   // require.js is available: use it to load d3/LDAvis\n",
              "   require.config({paths: {d3: \"https://d3js.org/d3.v5\"}});\n",
              "   require([\"d3\"], function(d3){\n",
              "      window.d3 = d3;\n",
              "      LDAvis_load_lib(\"https://cdn.jsdelivr.net/gh/bmabey/pyLDAvis@3.3.1/pyLDAvis/js/ldavis.v3.0.0.js\", function(){\n",
              "        new LDAvis(\"#\" + \"ldavis_el3221404246872552485523802255\", ldavis_el3221404246872552485523802255_data);\n",
              "      });\n",
              "    });\n",
              "}else{\n",
              "    // require.js not available: dynamically load d3 & LDAvis\n",
              "    LDAvis_load_lib(\"https://d3js.org/d3.v5.js\", function(){\n",
              "         LDAvis_load_lib(\"https://cdn.jsdelivr.net/gh/bmabey/pyLDAvis@3.3.1/pyLDAvis/js/ldavis.v3.0.0.js\", function(){\n",
              "                 new LDAvis(\"#\" + \"ldavis_el3221404246872552485523802255\", ldavis_el3221404246872552485523802255_data);\n",
              "            })\n",
              "         });\n",
              "}\n",
              "</script>"
            ],
            "text/plain": [
              "PreparedData(topic_coordinates=              x         y  topics  cluster       Freq\n",
              "topic                                                \n",
              "1     -0.069577  0.219639       1        1  57.426662\n",
              "0      0.069577 -0.219639       2        1  42.573338, topic_info=            Term         Freq        Total Category  logprob  loglift\n",
              "6           sisi  1518.000000  1518.000000  Default  30.0000  30.0000\n",
              "23       discuss   611.000000   611.000000  Default  29.0000  29.0000\n",
              "5            new   448.000000   448.000000  Default  28.0000  28.0000\n",
              "576     military   345.000000   345.000000  Default  27.0000  27.0000\n",
              "530        death   315.000000   315.000000  Default  26.0000  26.0000\n",
              "..           ...          ...          ...      ...      ...      ...\n",
              "952  temperature   137.261323   138.513493   Topic2  -5.0993   0.8449\n",
              "327      african   100.610862   101.329591   Topic2  -5.4099   0.8468\n",
              "347       terror   129.468648   130.732324   Topic2  -5.1577   0.8442\n",
              "449      country   113.188957   115.009094   Topic2  -5.2921   0.8380\n",
              "17      egyptian   108.147991  1110.853182   Topic2  -5.3377  -1.4754\n",
              "\n",
              "[103 rows x 6 columns], token_table=      Topic      Freq     Term\n",
              "term                          \n",
              "327       1  0.009869  african\n",
              "327       2  0.996747  african\n",
              "324       1  0.986164    ahead\n",
              "324       2  0.015779    ahead\n",
              "0         1  0.997049  approve\n",
              "...     ...       ...      ...\n",
              "118       2  0.005440     will\n",
              "1297      1  0.995998    woman\n",
              "1297      2  0.008893    woman\n",
              "93        1  0.999602     year\n",
              "93        2  0.004384     year\n",
              "\n",
              "[144 rows x 3 columns], R=30, lambda_step=0.01, plot_opts={'xlab': 'PC1', 'ylab': 'PC2'}, topic_order=[2, 1])"
            ]
          },
          "metadata": {},
          "execution_count": 37
        }
      ]
    },
    {
      "cell_type": "code",
      "source": [
        "# Creating a lookup table for topics\n",
        "topic_data = pd.DataFrame((ldamodel2.print_topics()),columns=['TopicNumber','TopKeywords'])\n",
        "topic_data['TopicName'] = ['Political Negative Reviews Initiatives', 'Political Leaders in Egypt'] #enter selected topics names here\n",
        "topic_data = topic_data[['TopicNumber','TopicName','TopKeywords']]\n",
        "topic_data['TopKeywords'] = topic_data.TopKeywords.str.replace(r'[^a-z]',' ',regex=True).apply(lambda x: x.split())\n",
        "topic_data.style.set_properties(subset=['TopKeywords'], **{'width': '300px'}) #space between columns"
      ],
      "metadata": {
        "colab": {
          "base_uri": "https://localhost:8080/",
          "height": 146
        },
        "id": "SK9E4QV2WXOB",
        "outputId": "f00a665e-827f-4ea1-88e1-a2d45c25f76a"
      },
      "execution_count": 48,
      "outputs": [
        {
          "output_type": "execute_result",
          "data": {
            "text/html": [
              "<style type=\"text/css\">\n",
              "#T_160bc_row0_col2, #T_160bc_row1_col2 {\n",
              "  width: 300px;\n",
              "}\n",
              "</style>\n",
              "<table id=\"T_160bc_\" class=\"dataframe\">\n",
              "  <thead>\n",
              "    <tr>\n",
              "      <th class=\"blank level0\" >&nbsp;</th>\n",
              "      <th class=\"col_heading level0 col0\" >TopicNumber</th>\n",
              "      <th class=\"col_heading level0 col1\" >TopicName</th>\n",
              "      <th class=\"col_heading level0 col2\" >TopKeywords</th>\n",
              "    </tr>\n",
              "  </thead>\n",
              "  <tbody>\n",
              "    <tr>\n",
              "      <th id=\"T_160bc_level0_row0\" class=\"row_heading level0 row0\" >0</th>\n",
              "      <td id=\"T_160bc_row0_col0\" class=\"data row0 col0\" >0</td>\n",
              "      <td id=\"T_160bc_row0_col1\" class=\"data row0 col1\" >Political Negative Reviews Initiatives</td>\n",
              "      <td id=\"T_160bc_row0_col2\" class=\"data row0 col2\" >['discuss', 'new', 'military', 'death', 'kill', 'cooperation', 'head', 'meet', 'attack', 'terrorist']</td>\n",
              "    </tr>\n",
              "    <tr>\n",
              "      <th id=\"T_160bc_level0_row1\" class=\"row_heading level0 row1\" >1</th>\n",
              "      <td id=\"T_160bc_row1_col0\" class=\"data row1 col0\" >1</td>\n",
              "      <td id=\"T_160bc_row1_col1\" class=\"data row1 col1\" >Political Leaders in Egypt</td>\n",
              "      <td id=\"T_160bc_row1_col2\" class=\"data row1 col2\" >['sisi', 'egyptian', 'say', 'official', 'sentence', 'law', 'year', 'day', 'minister', 'development']</td>\n",
              "    </tr>\n",
              "  </tbody>\n",
              "</table>\n"
            ],
            "text/plain": [
              "<pandas.io.formats.style.Styler at 0x7fb72b85c150>"
            ]
          },
          "metadata": {},
          "execution_count": 48
        }
      ]
    },
    {
      "cell_type": "code",
      "source": [
        "df.isnull().sum()\n"
      ],
      "metadata": {
        "colab": {
          "base_uri": "https://localhost:8080/"
        },
        "id": "ZxZdGKaQWaBL",
        "outputId": "d3125ad1-998a-4296-f8cb-dc79da55ce3e"
      },
      "execution_count": 49,
      "outputs": [
        {
          "output_type": "execute_result",
          "data": {
            "text/plain": [
              "political_review    0\n",
              "date                0\n",
              "cleaned_text        0\n",
              "cleaned_text1       0\n",
              "cleaned_text2       0\n",
              "LabelFromVADER      0\n",
              "TopicNumber         0\n",
              "TopicName           0\n",
              "label               0\n",
              "dtype: int64"
            ]
          },
          "metadata": {},
          "execution_count": 49
        }
      ]
    },
    {
      "cell_type": "code",
      "source": [
        "#Creating new columns and inserting topic numbers and names\n",
        "for y,sent in enumerate(ldamodel2[corpus]):\n",
        "  topic_num =[]\n",
        "  topic_details = sorted(sent,key=lambda x: x[1], reverse=True)[:2] # Getting top 2 topics in descending order\n",
        "  topic_num.append(topic_details[0][0]) # Appending top topic\n",
        "  if len(topic_details) > 1:\n",
        "    if topic_details[1][1] > 0.35: # Appending second topic only if it has more than 35% influence on current row\n",
        "      topic_num.append(topic_details[1][0])\n",
        "  df.loc[y,'TopicNumber'] = ','.join(str(x) for x in sorted(topic_num))"
      ],
      "metadata": {
        "id": "mfYIPlwiWccI"
      },
      "execution_count": 50,
      "outputs": []
    },
    {
      "cell_type": "code",
      "source": [
        "df.dropna(inplace = True)"
      ],
      "metadata": {
        "id": "AJDJ8Y34WciX"
      },
      "execution_count": 51,
      "outputs": []
    },
    {
      "cell_type": "code",
      "source": [
        "for index,topic_num in enumerate(df.TopicNumber):\n",
        "  topic_name_list=[]\n",
        "  for single_topic_num in (topic_num).split(','):\n",
        "    single_topic_num=int(single_topic_num)\n",
        "    topic_name_list.append(topic_data.loc[topic_data.TopicNumber == single_topic_num,'TopicName'][single_topic_num]) \n",
        "  # Extracting topic names from lookup table\n",
        "  df.loc[index,'TopicName'] =' & '.join(topic_name_list)"
      ],
      "metadata": {
        "id": "FmmIfgzaWcps"
      },
      "execution_count": 52,
      "outputs": []
    },
    {
      "cell_type": "code",
      "source": [
        "df.head()\n"
      ],
      "metadata": {
        "colab": {
          "base_uri": "https://localhost:8080/",
          "height": 406
        },
        "id": "xHvjbCYuWjK2",
        "outputId": "e0ffa0be-629a-49f6-8ecb-9e7bdd7d3e6c"
      },
      "execution_count": 63,
      "outputs": [
        {
          "output_type": "execute_result",
          "data": {
            "text/html": [
              "\n",
              "  <div id=\"df-719aa64c-3fef-4de0-abee-1f4a93448bed\">\n",
              "    <div class=\"colab-df-container\">\n",
              "      <div>\n",
              "<style scoped>\n",
              "    .dataframe tbody tr th:only-of-type {\n",
              "        vertical-align: middle;\n",
              "    }\n",
              "\n",
              "    .dataframe tbody tr th {\n",
              "        vertical-align: top;\n",
              "    }\n",
              "\n",
              "    .dataframe thead th {\n",
              "        text-align: right;\n",
              "    }\n",
              "</style>\n",
              "<table border=\"1\" class=\"dataframe\">\n",
              "  <thead>\n",
              "    <tr style=\"text-align: right;\">\n",
              "      <th></th>\n",
              "      <th>political_review</th>\n",
              "      <th>date</th>\n",
              "      <th>cleaned_text</th>\n",
              "      <th>cleaned_text1</th>\n",
              "      <th>cleaned_text2</th>\n",
              "      <th>LabelFromVADER</th>\n",
              "      <th>TopicNumber</th>\n",
              "      <th>TopicName</th>\n",
              "      <th>label</th>\n",
              "    </tr>\n",
              "  </thead>\n",
              "  <tbody>\n",
              "    <tr>\n",
              "      <th>0</th>\n",
              "      <td>Parliament approves law setting up Egyptian He...</td>\n",
              "      <td>2022-02-09</td>\n",
              "      <td>parliament approves law setting up egyptian he...</td>\n",
              "      <td>approve law set</td>\n",
              "      <td>[approve, law, set]</td>\n",
              "      <td>neg</td>\n",
              "      <td>0,1</td>\n",
              "      <td>Political Negative Reviews Initiatives &amp; Polit...</td>\n",
              "      <td>Political Negative Reviews Initiatives &amp; Polit...</td>\n",
              "    </tr>\n",
              "    <tr>\n",
              "      <th>1</th>\n",
              "      <td>New head of Egypt's Supreme Constitutional Cou...</td>\n",
              "      <td>2022-02-09</td>\n",
              "      <td>new head of egypt is supreme constitutional co...</td>\n",
              "      <td>new head constitutional court swear sisi</td>\n",
              "      <td>[new, head, constitutional_court, swear, sisi]</td>\n",
              "      <td>neg</td>\n",
              "      <td>0,1</td>\n",
              "      <td>Political Negative Reviews Initiatives &amp; Polit...</td>\n",
              "      <td>Political Negative Reviews Initiatives &amp; Polit...</td>\n",
              "    </tr>\n",
              "    <tr>\n",
              "      <th>2</th>\n",
              "      <td>Egypt’s HR council hails as 'historic step' th...</td>\n",
              "      <td>2022-02-09</td>\n",
              "      <td>egypt s hr council hails as historic step the ...</td>\n",
              "      <td>hail historic step appointment eskandar head c...</td>\n",
              "      <td>[hail, historic, step, appointment, eskandar, ...</td>\n",
              "      <td>neg</td>\n",
              "      <td>0,1</td>\n",
              "      <td>Political Negative Reviews Initiatives &amp; Polit...</td>\n",
              "      <td>Political Negative Reviews Initiatives &amp; Polit...</td>\n",
              "    </tr>\n",
              "    <tr>\n",
              "      <th>3</th>\n",
              "      <td>Sisi names first Christian as president of Egy...</td>\n",
              "      <td>2022-02-08</td>\n",
              "      <td>sisi names first christian as president of egy...</td>\n",
              "      <td>sisi name first constitutional court</td>\n",
              "      <td>[sisi, name, first, constitutional_court]</td>\n",
              "      <td>neg</td>\n",
              "      <td>1</td>\n",
              "      <td>Political Leaders in Egypt</td>\n",
              "      <td>Political Leaders in Egypt_neg</td>\n",
              "    </tr>\n",
              "    <tr>\n",
              "      <th>4</th>\n",
              "      <td>Egyptian parliament rejects draft law imposing...</td>\n",
              "      <td>2022-02-08</td>\n",
              "      <td>egyptian parliament rejects draft law imposing...</td>\n",
              "      <td>egyptian reject draft law impose fine parent a...</td>\n",
              "      <td>[egyptian, reject, draft, law, impose, fine, p...</td>\n",
              "      <td>neg</td>\n",
              "      <td>1</td>\n",
              "      <td>Political Leaders in Egypt</td>\n",
              "      <td>Political Leaders in Egypt_neg</td>\n",
              "    </tr>\n",
              "  </tbody>\n",
              "</table>\n",
              "</div>\n",
              "      <button class=\"colab-df-convert\" onclick=\"convertToInteractive('df-719aa64c-3fef-4de0-abee-1f4a93448bed')\"\n",
              "              title=\"Convert this dataframe to an interactive table.\"\n",
              "              style=\"display:none;\">\n",
              "        \n",
              "  <svg xmlns=\"http://www.w3.org/2000/svg\" height=\"24px\"viewBox=\"0 0 24 24\"\n",
              "       width=\"24px\">\n",
              "    <path d=\"M0 0h24v24H0V0z\" fill=\"none\"/>\n",
              "    <path d=\"M18.56 5.44l.94 2.06.94-2.06 2.06-.94-2.06-.94-.94-2.06-.94 2.06-2.06.94zm-11 1L8.5 8.5l.94-2.06 2.06-.94-2.06-.94L8.5 2.5l-.94 2.06-2.06.94zm10 10l.94 2.06.94-2.06 2.06-.94-2.06-.94-.94-2.06-.94 2.06-2.06.94z\"/><path d=\"M17.41 7.96l-1.37-1.37c-.4-.4-.92-.59-1.43-.59-.52 0-1.04.2-1.43.59L10.3 9.45l-7.72 7.72c-.78.78-.78 2.05 0 2.83L4 21.41c.39.39.9.59 1.41.59.51 0 1.02-.2 1.41-.59l7.78-7.78 2.81-2.81c.8-.78.8-2.07 0-2.86zM5.41 20L4 18.59l7.72-7.72 1.47 1.35L5.41 20z\"/>\n",
              "  </svg>\n",
              "      </button>\n",
              "      \n",
              "  <style>\n",
              "    .colab-df-container {\n",
              "      display:flex;\n",
              "      flex-wrap:wrap;\n",
              "      gap: 12px;\n",
              "    }\n",
              "\n",
              "    .colab-df-convert {\n",
              "      background-color: #E8F0FE;\n",
              "      border: none;\n",
              "      border-radius: 50%;\n",
              "      cursor: pointer;\n",
              "      display: none;\n",
              "      fill: #1967D2;\n",
              "      height: 32px;\n",
              "      padding: 0 0 0 0;\n",
              "      width: 32px;\n",
              "    }\n",
              "\n",
              "    .colab-df-convert:hover {\n",
              "      background-color: #E2EBFA;\n",
              "      box-shadow: 0px 1px 2px rgba(60, 64, 67, 0.3), 0px 1px 3px 1px rgba(60, 64, 67, 0.15);\n",
              "      fill: #174EA6;\n",
              "    }\n",
              "\n",
              "    [theme=dark] .colab-df-convert {\n",
              "      background-color: #3B4455;\n",
              "      fill: #D2E3FC;\n",
              "    }\n",
              "\n",
              "    [theme=dark] .colab-df-convert:hover {\n",
              "      background-color: #434B5C;\n",
              "      box-shadow: 0px 1px 3px 1px rgba(0, 0, 0, 0.15);\n",
              "      filter: drop-shadow(0px 1px 2px rgba(0, 0, 0, 0.3));\n",
              "      fill: #FFFFFF;\n",
              "    }\n",
              "  </style>\n",
              "\n",
              "      <script>\n",
              "        const buttonEl =\n",
              "          document.querySelector('#df-719aa64c-3fef-4de0-abee-1f4a93448bed button.colab-df-convert');\n",
              "        buttonEl.style.display =\n",
              "          google.colab.kernel.accessAllowed ? 'block' : 'none';\n",
              "\n",
              "        async function convertToInteractive(key) {\n",
              "          const element = document.querySelector('#df-719aa64c-3fef-4de0-abee-1f4a93448bed');\n",
              "          const dataTable =\n",
              "            await google.colab.kernel.invokeFunction('convertToInteractive',\n",
              "                                                     [key], {});\n",
              "          if (!dataTable) return;\n",
              "\n",
              "          const docLinkHtml = 'Like what you see? Visit the ' +\n",
              "            '<a target=\"_blank\" href=https://colab.research.google.com/notebooks/data_table.ipynb>data table notebook</a>'\n",
              "            + ' to learn more about interactive tables.';\n",
              "          element.innerHTML = '';\n",
              "          dataTable['output_type'] = 'display_data';\n",
              "          await google.colab.output.renderOutput(dataTable, element);\n",
              "          const docLink = document.createElement('div');\n",
              "          docLink.innerHTML = docLinkHtml;\n",
              "          element.appendChild(docLink);\n",
              "        }\n",
              "      </script>\n",
              "    </div>\n",
              "  </div>\n",
              "  "
            ],
            "text/plain": [
              "                                    political_review  ...                                              label\n",
              "0  Parliament approves law setting up Egyptian He...  ...  Political Negative Reviews Initiatives & Polit...\n",
              "1  New head of Egypt's Supreme Constitutional Cou...  ...  Political Negative Reviews Initiatives & Polit...\n",
              "2  Egypt’s HR council hails as 'historic step' th...  ...  Political Negative Reviews Initiatives & Polit...\n",
              "3  Sisi names first Christian as president of Egy...  ...                     Political Leaders in Egypt_neg\n",
              "4  Egyptian parliament rejects draft law imposing...  ...                     Political Leaders in Egypt_neg\n",
              "\n",
              "[5 rows x 9 columns]"
            ]
          },
          "metadata": {},
          "execution_count": 63
        }
      ]
    },
    {
      "cell_type": "code",
      "source": [
        "df['label'] = df.TopicName.str.cat(df.LabelFromVADER, sep='_')\n"
      ],
      "metadata": {
        "id": "saCn-KvFWjSR"
      },
      "execution_count": 64,
      "outputs": []
    },
    {
      "cell_type": "code",
      "source": [
        "df.to_csv('LDA_Political_Reviews.csv')\n"
      ],
      "metadata": {
        "id": "NJ1hjnJBWjbv"
      },
      "execution_count": 65,
      "outputs": []
    },
    {
      "cell_type": "code",
      "source": [
        ""
      ],
      "metadata": {
        "id": "BF2sgABYWQNm"
      },
      "execution_count": null,
      "outputs": []
    }
  ],
  "metadata": {
    "colab": {
      "name": "LDA_Sentiment_Political_Reviews.ipynb",
      "provenance": []
    },
    "kernelspec": {
      "display_name": "Python 3",
      "name": "python3"
    },
    "language_info": {
      "name": "python"
    }
  },
  "nbformat": 4,
  "nbformat_minor": 0
}