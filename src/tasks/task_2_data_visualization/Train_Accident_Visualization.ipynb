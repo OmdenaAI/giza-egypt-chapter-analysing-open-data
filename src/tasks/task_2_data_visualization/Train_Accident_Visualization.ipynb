{
 "cells": [
  {
   "cell_type": "code",
   "execution_count": 1,
   "id": "0a8c9b4f",
   "metadata": {},
   "outputs": [],
   "source": [
    "import numpy as np\n",
    "import pandas as pd\n",
    "import matplotlib.pyplot as plt\n",
    "import seaborn as sb\n",
    "%matplotlib inline\n",
    "\n",
    "# Read the data from a CSV file\n",
    "train_data = pd.read_csv('data/train_accident.csv')"
   ]
  },
  {
   "cell_type": "code",
   "execution_count": 2,
   "id": "bbb4142c",
   "metadata": {},
   "outputs": [
    {
     "name": "stdout",
     "output_type": "stream",
     "text": [
      "(20, 5)\n"
     ]
    },
    {
     "data": {
      "text/html": [
       "<div>\n",
       "<style scoped>\n",
       "    .dataframe tbody tr th:only-of-type {\n",
       "        vertical-align: middle;\n",
       "    }\n",
       "\n",
       "    .dataframe tbody tr th {\n",
       "        vertical-align: top;\n",
       "    }\n",
       "\n",
       "    .dataframe thead th {\n",
       "        text-align: right;\n",
       "    }\n",
       "</style>\n",
       "<table border=\"1\" class=\"dataframe\">\n",
       "  <thead>\n",
       "    <tr style=\"text-align: right;\">\n",
       "      <th></th>\n",
       "      <th>Date</th>\n",
       "      <th>Killed</th>\n",
       "      <th>Injured</th>\n",
       "      <th>Type</th>\n",
       "      <th>Details</th>\n",
       "    </tr>\n",
       "  </thead>\n",
       "  <tbody>\n",
       "    <tr>\n",
       "      <th>15</th>\n",
       "      <td>February 28, 2018</td>\n",
       "      <td>15</td>\n",
       "      <td>Dozens</td>\n",
       "      <td>Collision</td>\n",
       "      <td>A head-on crash between two trains killed at l...</td>\n",
       "    </tr>\n",
       "    <tr>\n",
       "      <th>16</th>\n",
       "      <td>February 27, 2019</td>\n",
       "      <td>25</td>\n",
       "      <td>50</td>\n",
       "      <td>Collision</td>\n",
       "      <td>Ramses Station rail disaster: A train smashes ...</td>\n",
       "    </tr>\n",
       "    <tr>\n",
       "      <th>17</th>\n",
       "      <td>March 26, 2021</td>\n",
       "      <td>18</td>\n",
       "      <td>0</td>\n",
       "      <td>Collision</td>\n",
       "      <td>Sohag train collision: A passenger train runs ...</td>\n",
       "    </tr>\n",
       "    <tr>\n",
       "      <th>18</th>\n",
       "      <td>April 15, 2021</td>\n",
       "      <td>0</td>\n",
       "      <td>15</td>\n",
       "      <td>Derailment</td>\n",
       "      <td>A passenger train derails in Minya al-Qamh. Fi...</td>\n",
       "    </tr>\n",
       "    <tr>\n",
       "      <th>19</th>\n",
       "      <td>April 18, 2021</td>\n",
       "      <td>23</td>\n",
       "      <td>139</td>\n",
       "      <td>Derailment</td>\n",
       "      <td>Toukh train accident: A passenger train derail...</td>\n",
       "    </tr>\n",
       "  </tbody>\n",
       "</table>\n",
       "</div>"
      ],
      "text/plain": [
       "                 Date Killed Injured        Type  \\\n",
       "15  February 28, 2018     15  Dozens   Collision   \n",
       "16  February 27, 2019     25      50   Collision   \n",
       "17     March 26, 2021     18       0   Collision   \n",
       "18     April 15, 2021      0      15  Derailment   \n",
       "19     April 18, 2021     23     139  Derailment   \n",
       "\n",
       "                                              Details  \n",
       "15  A head-on crash between two trains killed at l...  \n",
       "16  Ramses Station rail disaster: A train smashes ...  \n",
       "17  Sohag train collision: A passenger train runs ...  \n",
       "18  A passenger train derails in Minya al-Qamh. Fi...  \n",
       "19  Toukh train accident: A passenger train derail...  "
      ]
     },
     "execution_count": 2,
     "metadata": {},
     "output_type": "execute_result"
    }
   ],
   "source": [
    "train_data = train_data.drop(['Unnamed: 0'], axis = 1)\n",
    "print(train_data.shape)\n",
    "train_data.tail(5)"
   ]
  },
  {
   "cell_type": "code",
   "execution_count": 3,
   "id": "ba957fed",
   "metadata": {},
   "outputs": [
    {
     "name": "stdout",
     "output_type": "stream",
     "text": [
      "Number of NaN values in our DataFrame: 1\n"
     ]
    }
   ],
   "source": [
    "# We count the number of NaN values in dataset\n",
    "x =  train_data.isnull().sum().sum()\n",
    "print('Number of NaN values in our DataFrame:', x)"
   ]
  },
  {
   "cell_type": "markdown",
   "id": "1aaac6af",
   "metadata": {},
   "source": [
    "### Challenge: \n",
    "The dataset is dirty and needs to be cleaned. <br>\n",
    "There is one Nan values in the dataset. <br>\n",
    "The \"killed\" column with an index of 3 has a value \"25-70\" <br>\n",
    "The \"Injured\" column with index of 1, 2, 15 has a value \"many\", \"hundreds, \"dozens\" respectively. <br>\n",
    "\n",
    "Assumptions needs to be made which could distort the results.<br>\n",
    "All changes would be documented.<br>"
   ]
  },
  {
   "cell_type": "code",
   "execution_count": 5,
   "id": "e0f461bc",
   "metadata": {},
   "outputs": [
    {
     "name": "stdout",
     "output_type": "stream",
     "text": [
      "\"25-70\" in column \"Killed\" index 3 was changed to  31\n",
      "\"many\" in column \"Injured\" index 1 was changed to  272\n",
      "\"hundreds\" in column \"Injured\" index 2 was changed to  175\n",
      "\"dozens\" in column \"Injured\" index 15 was changed to  18\n"
     ]
    }
   ],
   "source": [
    "# We replace:  all NaN values with 0\n",
    "#             \"25-70\" value with the a random number in the range of 25-70\n",
    "#             \"many\" with a random number in the range of 200-300\n",
    "#             \"hundreds\" with a random number in the range of 100-300\n",
    "#             \"dozens\" with a random multiple of 12 number in the range of 11-121\n",
    "train_data = train_data.fillna(0)\n",
    "train_data['Killed'][3] = np.random.randint(25, 70)\n",
    "train_data['Injured'][1] = np.random.randint(200, 300)\n",
    "train_data['Injured'][2] = np.random.randint(100, 300)\n",
    "x =  np.random.randint(11, 121, 12)\n",
    "train_data['Injured'][15] =  x[np.random.randint(9)]\n",
    "\n",
    "print('\"25-70\" in column \"Killed\" index 3 was changed to ', train_data['Killed'][3])\n",
    "print('\"many\" in column \"Injured\" index 1 was changed to ', train_data['Injured'][1])\n",
    "print('\"hundreds\" in column \"Injured\" index 2 was changed to ', train_data['Injured'][2])\n",
    "print('\"dozens\" in column \"Injured\" index 15 was changed to ', train_data['Injured'][15])"
   ]
  },
  {
   "cell_type": "code",
   "execution_count": 6,
   "id": "6f29248d",
   "metadata": {},
   "outputs": [],
   "source": [
    "# Convert \"Killed\" and \"Injured\" values from object to integers  \n",
    "train_data['Killed'] = pd.to_numeric(train_data['Killed'])\n",
    "train_data['Injured'] = pd.to_numeric(train_data['Injured'])"
   ]
  },
  {
   "cell_type": "code",
   "execution_count": 7,
   "id": "7cf52781",
   "metadata": {},
   "outputs": [
    {
     "data": {
      "text/html": [
       "<div>\n",
       "<style scoped>\n",
       "    .dataframe tbody tr th:only-of-type {\n",
       "        vertical-align: middle;\n",
       "    }\n",
       "\n",
       "    .dataframe tbody tr th {\n",
       "        vertical-align: top;\n",
       "    }\n",
       "\n",
       "    .dataframe thead th {\n",
       "        text-align: right;\n",
       "    }\n",
       "</style>\n",
       "<table border=\"1\" class=\"dataframe\">\n",
       "  <thead>\n",
       "    <tr style=\"text-align: right;\">\n",
       "      <th></th>\n",
       "      <th>Date</th>\n",
       "      <th>Killed</th>\n",
       "      <th>Injured</th>\n",
       "      <th>Type</th>\n",
       "      <th>Details</th>\n",
       "    </tr>\n",
       "  </thead>\n",
       "  <tbody>\n",
       "    <tr>\n",
       "      <th>0</th>\n",
       "      <td>April 29, 1931</td>\n",
       "      <td>48</td>\n",
       "      <td>0</td>\n",
       "      <td>fire</td>\n",
       "      <td>The rear cars of a passenger train from Alexan...</td>\n",
       "    </tr>\n",
       "    <tr>\n",
       "      <th>1</th>\n",
       "      <td>January 30, 1954</td>\n",
       "      <td>28</td>\n",
       "      <td>272</td>\n",
       "      <td>Run over</td>\n",
       "      <td>President Mohammed Naguib visits Ibyar, a vill...</td>\n",
       "    </tr>\n",
       "    <tr>\n",
       "      <th>2</th>\n",
       "      <td>March 23, 1956</td>\n",
       "      <td>0</td>\n",
       "      <td>175</td>\n",
       "      <td>Derailment</td>\n",
       "      <td>A speeding express train of the Egyptian state...</td>\n",
       "    </tr>\n",
       "    <tr>\n",
       "      <th>3</th>\n",
       "      <td>September 8, 1977</td>\n",
       "      <td>31</td>\n",
       "      <td>0</td>\n",
       "      <td>Derailment</td>\n",
       "      <td>As an 11-car Cairo to Aswan express passes Asy...</td>\n",
       "    </tr>\n",
       "    <tr>\n",
       "      <th>4</th>\n",
       "      <td>June 10, 1983</td>\n",
       "      <td>22</td>\n",
       "      <td>46</td>\n",
       "      <td>Collision</td>\n",
       "      <td>One train crashes into the rear of another sou...</td>\n",
       "    </tr>\n",
       "    <tr>\n",
       "      <th>5</th>\n",
       "      <td>February 20, 2002</td>\n",
       "      <td>383</td>\n",
       "      <td>0</td>\n",
       "      <td>fire</td>\n",
       "      <td>2002 El Ayyat railway accident A train packed ...</td>\n",
       "    </tr>\n",
       "    <tr>\n",
       "      <th>6</th>\n",
       "      <td>August 21, 2006</td>\n",
       "      <td>57</td>\n",
       "      <td>128</td>\n",
       "      <td>Collision</td>\n",
       "      <td>Qalyoub train collision – Two trains collide i...</td>\n",
       "    </tr>\n",
       "    <tr>\n",
       "      <th>7</th>\n",
       "      <td>September 4, 2006</td>\n",
       "      <td>5</td>\n",
       "      <td>30</td>\n",
       "      <td>Collision</td>\n",
       "      <td>A passenger train collides with a freight trai...</td>\n",
       "    </tr>\n",
       "    <tr>\n",
       "      <th>8</th>\n",
       "      <td>July 16, 2008</td>\n",
       "      <td>44</td>\n",
       "      <td>33</td>\n",
       "      <td>Collision</td>\n",
       "      <td>At least 44 people are killed and 33 injured w...</td>\n",
       "    </tr>\n",
       "    <tr>\n",
       "      <th>9</th>\n",
       "      <td>October 24, 2009</td>\n",
       "      <td>18</td>\n",
       "      <td>0</td>\n",
       "      <td>Collision</td>\n",
       "      <td>2009 El Ayyat railway accident – A passenger t...</td>\n",
       "    </tr>\n",
       "    <tr>\n",
       "      <th>10</th>\n",
       "      <td>July 17, 2012</td>\n",
       "      <td>0</td>\n",
       "      <td>15</td>\n",
       "      <td>Derailment</td>\n",
       "      <td>A passenger train strikes wooden planks and ch...</td>\n",
       "    </tr>\n",
       "    <tr>\n",
       "      <th>11</th>\n",
       "      <td>November 17, 2012</td>\n",
       "      <td>51</td>\n",
       "      <td>12</td>\n",
       "      <td>Collision</td>\n",
       "      <td>Manfalut railway accident – A school bus carry...</td>\n",
       "    </tr>\n",
       "    <tr>\n",
       "      <th>12</th>\n",
       "      <td>January 15, 2013</td>\n",
       "      <td>19</td>\n",
       "      <td>230</td>\n",
       "      <td>Collision</td>\n",
       "      <td>Badrashin railway accident – A passenger train...</td>\n",
       "    </tr>\n",
       "    <tr>\n",
       "      <th>13</th>\n",
       "      <td>January 31, 2016</td>\n",
       "      <td>7</td>\n",
       "      <td>0</td>\n",
       "      <td>Collision</td>\n",
       "      <td>Seven are killed and scores injured when a tra...</td>\n",
       "    </tr>\n",
       "    <tr>\n",
       "      <th>14</th>\n",
       "      <td>August 11, 2017</td>\n",
       "      <td>40</td>\n",
       "      <td>133</td>\n",
       "      <td>Collision</td>\n",
       "      <td>Alexandria train collision: Two trains collide...</td>\n",
       "    </tr>\n",
       "    <tr>\n",
       "      <th>15</th>\n",
       "      <td>February 28, 2018</td>\n",
       "      <td>15</td>\n",
       "      <td>18</td>\n",
       "      <td>Collision</td>\n",
       "      <td>A head-on crash between two trains killed at l...</td>\n",
       "    </tr>\n",
       "    <tr>\n",
       "      <th>16</th>\n",
       "      <td>February 27, 2019</td>\n",
       "      <td>25</td>\n",
       "      <td>50</td>\n",
       "      <td>Collision</td>\n",
       "      <td>Ramses Station rail disaster: A train smashes ...</td>\n",
       "    </tr>\n",
       "    <tr>\n",
       "      <th>17</th>\n",
       "      <td>March 26, 2021</td>\n",
       "      <td>18</td>\n",
       "      <td>0</td>\n",
       "      <td>Collision</td>\n",
       "      <td>Sohag train collision: A passenger train runs ...</td>\n",
       "    </tr>\n",
       "    <tr>\n",
       "      <th>18</th>\n",
       "      <td>April 15, 2021</td>\n",
       "      <td>0</td>\n",
       "      <td>15</td>\n",
       "      <td>Derailment</td>\n",
       "      <td>A passenger train derails in Minya al-Qamh. Fi...</td>\n",
       "    </tr>\n",
       "    <tr>\n",
       "      <th>19</th>\n",
       "      <td>April 18, 2021</td>\n",
       "      <td>23</td>\n",
       "      <td>139</td>\n",
       "      <td>Derailment</td>\n",
       "      <td>Toukh train accident: A passenger train derail...</td>\n",
       "    </tr>\n",
       "  </tbody>\n",
       "</table>\n",
       "</div>"
      ],
      "text/plain": [
       "                 Date  Killed  Injured        Type  \\\n",
       "0      April 29, 1931      48        0        fire   \n",
       "1    January 30, 1954      28      272    Run over   \n",
       "2      March 23, 1956       0      175  Derailment   \n",
       "3   September 8, 1977      31        0  Derailment   \n",
       "4       June 10, 1983      22       46   Collision   \n",
       "5   February 20, 2002     383        0        fire   \n",
       "6     August 21, 2006      57      128   Collision   \n",
       "7   September 4, 2006       5       30   Collision   \n",
       "8       July 16, 2008      44       33   Collision   \n",
       "9    October 24, 2009      18        0   Collision   \n",
       "10      July 17, 2012       0       15  Derailment   \n",
       "11  November 17, 2012      51       12   Collision   \n",
       "12   January 15, 2013      19      230   Collision   \n",
       "13   January 31, 2016       7        0   Collision   \n",
       "14    August 11, 2017      40      133   Collision   \n",
       "15  February 28, 2018      15       18   Collision   \n",
       "16  February 27, 2019      25       50   Collision   \n",
       "17     March 26, 2021      18        0   Collision   \n",
       "18     April 15, 2021       0       15  Derailment   \n",
       "19     April 18, 2021      23      139  Derailment   \n",
       "\n",
       "                                              Details  \n",
       "0   The rear cars of a passenger train from Alexan...  \n",
       "1   President Mohammed Naguib visits Ibyar, a vill...  \n",
       "2   A speeding express train of the Egyptian state...  \n",
       "3   As an 11-car Cairo to Aswan express passes Asy...  \n",
       "4   One train crashes into the rear of another sou...  \n",
       "5   2002 El Ayyat railway accident A train packed ...  \n",
       "6   Qalyoub train collision – Two trains collide i...  \n",
       "7   A passenger train collides with a freight trai...  \n",
       "8   At least 44 people are killed and 33 injured w...  \n",
       "9   2009 El Ayyat railway accident – A passenger t...  \n",
       "10  A passenger train strikes wooden planks and ch...  \n",
       "11  Manfalut railway accident – A school bus carry...  \n",
       "12  Badrashin railway accident – A passenger train...  \n",
       "13  Seven are killed and scores injured when a tra...  \n",
       "14  Alexandria train collision: Two trains collide...  \n",
       "15  A head-on crash between two trains killed at l...  \n",
       "16  Ramses Station rail disaster: A train smashes ...  \n",
       "17  Sohag train collision: A passenger train runs ...  \n",
       "18  A passenger train derails in Minya al-Qamh. Fi...  \n",
       "19  Toukh train accident: A passenger train derail...  "
      ]
     },
     "execution_count": 7,
     "metadata": {},
     "output_type": "execute_result"
    }
   ],
   "source": [
    "train_data"
   ]
  },
  {
   "cell_type": "code",
   "execution_count": 8,
   "id": "823b6dde",
   "metadata": {},
   "outputs": [
    {
     "name": "stderr",
     "output_type": "stream",
     "text": [
      "C:\\Users\\Sage\\anaconda3\\lib\\site-packages\\seaborn\\_decorators.py:36: FutureWarning: Pass the following variable as a keyword arg: x. From version 0.12, the only valid positional argument will be `data`, and passing other arguments without an explicit keyword will result in an error or misinterpretation.\n",
      "  warnings.warn(\n"
     ]
    },
    {
     "data": {
      "image/png": "[encoded data removed]",
      "text/plain": [
       "<Figure size 432x288 with 1 Axes>"
      ]
     },
     "metadata": {
      "needs_background": "light"
     },
     "output_type": "display_data"
    }
   ],
   "source": [
    "sb.countplot(train_data.Type);"
   ]
  },
  {
   "cell_type": "code",
   "execution_count": 9,
   "id": "017b2ced",
   "metadata": {},
   "outputs": [
    {
     "name": "stderr",
     "output_type": "stream",
     "text": [
      "C:\\Users\\Sage\\AppData\\Local\\Temp/ipykernel_5284/4060654020.py:1: FutureWarning: Indexing with multiple keys (implicitly converted to a tuple of keys) will be deprecated, use a list instead.\n",
      "  acc_type = train_data.groupby(['Type'])['Killed', 'Injured'].sum()\n"
     ]
    },
    {
     "data": {
      "text/html": [
       "<div>\n",
       "<style scoped>\n",
       "    .dataframe tbody tr th:only-of-type {\n",
       "        vertical-align: middle;\n",
       "    }\n",
       "\n",
       "    .dataframe tbody tr th {\n",
       "        vertical-align: top;\n",
       "    }\n",
       "\n",
       "    .dataframe thead th {\n",
       "        text-align: right;\n",
       "    }\n",
       "</style>\n",
       "<table border=\"1\" class=\"dataframe\">\n",
       "  <thead>\n",
       "    <tr style=\"text-align: right;\">\n",
       "      <th></th>\n",
       "      <th>Killed</th>\n",
       "      <th>Injured</th>\n",
       "    </tr>\n",
       "    <tr>\n",
       "      <th>Type</th>\n",
       "      <th></th>\n",
       "      <th></th>\n",
       "    </tr>\n",
       "  </thead>\n",
       "  <tbody>\n",
       "    <tr>\n",
       "      <th>Collision</th>\n",
       "      <td>321</td>\n",
       "      <td>680</td>\n",
       "    </tr>\n",
       "    <tr>\n",
       "      <th>Derailment</th>\n",
       "      <td>54</td>\n",
       "      <td>344</td>\n",
       "    </tr>\n",
       "    <tr>\n",
       "      <th>Run over</th>\n",
       "      <td>28</td>\n",
       "      <td>272</td>\n",
       "    </tr>\n",
       "    <tr>\n",
       "      <th>fire</th>\n",
       "      <td>431</td>\n",
       "      <td>0</td>\n",
       "    </tr>\n",
       "  </tbody>\n",
       "</table>\n",
       "</div>"
      ],
      "text/plain": [
       "            Killed  Injured\n",
       "Type                       \n",
       "Collision      321      680\n",
       "Derailment      54      344\n",
       "Run over        28      272\n",
       "fire           431        0"
      ]
     },
     "execution_count": 9,
     "metadata": {},
     "output_type": "execute_result"
    }
   ],
   "source": [
    "acc_type = train_data.groupby(['Type'])['Killed', 'Injured'].sum()\n",
    "acc_type"
   ]
  },
  {
   "cell_type": "code",
   "execution_count": 10,
   "id": "c727d06c",
   "metadata": {},
   "outputs": [],
   "source": [
    "killed_values = acc_type['Killed'].values\n",
    "injured_values = acc_type['Injured'].values\n",
    "labels = acc_type.index"
   ]
  },
  {
   "cell_type": "code",
   "execution_count": 20,
   "id": "c9a0bc62",
   "metadata": {},
   "outputs": [
    {
     "name": "stderr",
     "output_type": "stream",
     "text": [
      "C:\\Users\\Sage\\AppData\\Local\\Temp/ipykernel_5284/2342464941.py:12: UserWarning: FixedFormatter should only be used together with FixedLocator\n",
      "  ax.set_xticklabels([\" \", \"Collision\", \"Derailment\", \"Run over\", \"Fire\"])\n"
     ]
    },
    {
     "data": {
      "image/png": "[encoded data removed]",
      "text/plain": [
       "<Figure size 432x288 with 1 Axes>"
      ]
     },
     "metadata": {
      "needs_background": "light"
     },
     "output_type": "display_data"
    }
   ],
   "source": [
    "x = np.arange(len(labels))\n",
    "width = 0.35\n",
    "\n",
    "fig, ax = plt.subplots()\n",
    "rects1 = ax.bar(x - width/2, killed_values, width, label='Killed')\n",
    "rects2 = ax.bar(x + width/2, injured_values, width, label='Injured')\n",
    "\n",
    "ax.set_title('Count by Accident Type and Casualty')\n",
    "ax.set_xlabel('Accident Type')\n",
    "ax.set_ylabel('Count')\n",
    "ax.legend()\n",
    "ax.set_xticklabels([\" \", \"Collision\", \"Derailment\", \"Run over\", \"Fire\"])\n",
    "\n",
    "ax.bar_label(rects1, padding=3)\n",
    "ax.bar_label(rects2, padding=3)\n",
    "\n",
    "fig.tight_layout()\n",
    "\n",
    "plt.show()"
   ]
  },
  {
   "cell_type": "code",
   "execution_count": null,
   "id": "1595ea3a",
   "metadata": {},
   "outputs": [],
   "source": []
  }
 ],
 "metadata": {
  "kernelspec": {
   "display_name": "Python 3 (ipykernel)",
   "language": "python",
   "name": "python3"
  },
  "language_info": {
   "codemirror_mode": {
    "name": "ipython",
    "version": 3
   },
   "file_extension": ".py",
   "mimetype": "text/x-python",
   "name": "python",
   "nbconvert_exporter": "python",
   "pygments_lexer": "ipython3",
   "version": "3.8.12"
  }
 },
 "nbformat": 4,
 "nbformat_minor": 5
}
