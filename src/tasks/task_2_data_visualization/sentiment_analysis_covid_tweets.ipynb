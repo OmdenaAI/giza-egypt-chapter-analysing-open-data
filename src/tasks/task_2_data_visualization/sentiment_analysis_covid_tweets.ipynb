{
  "nbformat": 4,
  "nbformat_minor": 0,
  "metadata": {
    "colab": {
      "name": "sentiment_analysis_covid_tweets.ipynb",
      "provenance": []
    },
    "kernelspec": {
      "name": "python3",
      "display_name": "Python 3"
    },
    "language_info": {
      "name": "python"
    },
    "accelerator": "GPU",
    "widgets": {
      "application/vnd.jupyter.widget-state+json": {
        "95c90fa18f8d4b03a2c6dadd2b7c032d": {
          "model_module": "@jupyter-widgets/controls",
          "model_name": "HBoxModel",
          "model_module_version": "1.5.0",
          "state": {
            "_view_name": "HBoxView",
            "_dom_classes": [],
            "_model_name": "HBoxModel",
            "_view_module": "@jupyter-widgets/controls",
            "_model_module_version": "1.5.0",
            "_view_count": null,
            "_view_module_version": "1.5.0",
            "box_style": "",
            "layout": "IPY_MODEL_233ca6bcdf7f43dc85c9d1b45e481125",
            "_model_module": "@jupyter-widgets/controls",
            "children": [
              "IPY_MODEL_5743a11627484e98ae35d844557034d3",
              "IPY_MODEL_e0cc5160632542a09652b7a4ad47dad7",
              "IPY_MODEL_4de1e1d608284355a1d96568e4f9ecf3"
            ]
          }
        },
        "233ca6bcdf7f43dc85c9d1b45e481125": {
          "model_module": "@jupyter-widgets/base",
          "model_name": "LayoutModel",
          "model_module_version": "1.2.0",
          "state": {
            "_view_name": "LayoutView",
            "grid_template_rows": null,
            "right": null,
            "justify_content": null,
            "_view_module": "@jupyter-widgets/base",
            "overflow": null,
            "_model_module_version": "1.2.0",
            "_view_count": null,
            "flex_flow": null,
            "width": null,
            "min_width": null,
            "border": null,
            "align_items": null,
            "bottom": null,
            "_model_module": "@jupyter-widgets/base",
            "top": null,
            "grid_column": null,
            "overflow_y": null,
            "overflow_x": null,
            "grid_auto_flow": null,
            "grid_area": null,
            "grid_template_columns": null,
            "flex": null,
            "_model_name": "LayoutModel",
            "justify_items": null,
            "grid_row": null,
            "max_height": null,
            "align_content": null,
            "visibility": null,
            "align_self": null,
            "height": null,
            "min_height": null,
            "padding": null,
            "grid_auto_rows": null,
            "grid_gap": null,
            "max_width": null,
            "order": null,
            "_view_module_version": "1.2.0",
            "grid_template_areas": null,
            "object_position": null,
            "object_fit": null,
            "grid_auto_columns": null,
            "margin": null,
            "display": null,
            "left": null
          }
        },
        "5743a11627484e98ae35d844557034d3": {
          "model_module": "@jupyter-widgets/controls",
          "model_name": "HTMLModel",
          "model_module_version": "1.5.0",
          "state": {
            "_view_name": "HTMLView",
            "style": "IPY_MODEL_4badbc1b0d804beda4aad900ba58209d",
            "_dom_classes": [],
            "description": "",
            "_model_name": "HTMLModel",
            "placeholder": "​",
            "_view_module": "@jupyter-widgets/controls",
            "_model_module_version": "1.5.0",
            "value": "Downloading: 100%",
            "_view_count": null,
            "_view_module_version": "1.5.0",
            "description_tooltip": null,
            "_model_module": "@jupyter-widgets/controls",
            "layout": "IPY_MODEL_825fe4d20e3845b7b9f3c4255c193fc7"
          }
        },
        "e0cc5160632542a09652b7a4ad47dad7": {
          "model_module": "@jupyter-widgets/controls",
          "model_name": "FloatProgressModel",
          "model_module_version": "1.5.0",
          "state": {
            "_view_name": "ProgressView",
            "style": "IPY_MODEL_ddb098e248f14cd78ef9f5bf7a48475e",
            "_dom_classes": [],
            "description": "",
            "_model_name": "FloatProgressModel",
            "bar_style": "success",
            "max": 1154,
            "_view_module": "@jupyter-widgets/controls",
            "_model_module_version": "1.5.0",
            "value": 1154,
            "_view_count": null,
            "_view_module_version": "1.5.0",
            "orientation": "horizontal",
            "min": 0,
            "description_tooltip": null,
            "_model_module": "@jupyter-widgets/controls",
            "layout": "IPY_MODEL_fb28a69420ba42eb8d2d1616809ad2c7"
          }
        },
        "4de1e1d608284355a1d96568e4f9ecf3": {
          "model_module": "@jupyter-widgets/controls",
          "model_name": "HTMLModel",
          "model_module_version": "1.5.0",
          "state": {
            "_view_name": "HTMLView",
            "style": "IPY_MODEL_71626f5b9d3747abb3a238cc0789638f",
            "_dom_classes": [],
            "description": "",
            "_model_name": "HTMLModel",
            "placeholder": "​",
            "_view_module": "@jupyter-widgets/controls",
            "_model_module_version": "1.5.0",
            "value": " 1.13k/1.13k [00:00&lt;00:00, 29.2kB/s]",
            "_view_count": null,
            "_view_module_version": "1.5.0",
            "description_tooltip": null,
            "_model_module": "@jupyter-widgets/controls",
            "layout": "IPY_MODEL_760a1d9b28a54aa3b447c04327528a88"
          }
        },
        "4badbc1b0d804beda4aad900ba58209d": {
          "model_module": "@jupyter-widgets/controls",
          "model_name": "DescriptionStyleModel",
          "model_module_version": "1.5.0",
          "state": {
            "_view_name": "StyleView",
            "_model_name": "DescriptionStyleModel",
            "description_width": "",
            "_view_module": "@jupyter-widgets/base",
            "_model_module_version": "1.5.0",
            "_view_count": null,
            "_view_module_version": "1.2.0",
            "_model_module": "@jupyter-widgets/controls"
          }
        },
        "825fe4d20e3845b7b9f3c4255c193fc7": {
          "model_module": "@jupyter-widgets/base",
          "model_name": "LayoutModel",
          "model_module_version": "1.2.0",
          "state": {
            "_view_name": "LayoutView",
            "grid_template_rows": null,
            "right": null,
            "justify_content": null,
            "_view_module": "@jupyter-widgets/base",
            "overflow": null,
            "_model_module_version": "1.2.0",
            "_view_count": null,
            "flex_flow": null,
            "width": null,
            "min_width": null,
            "border": null,
            "align_items": null,
            "bottom": null,
            "_model_module": "@jupyter-widgets/base",
            "top": null,
            "grid_column": null,
            "overflow_y": null,
            "overflow_x": null,
            "grid_auto_flow": null,
            "grid_area": null,
            "grid_template_columns": null,
            "flex": null,
            "_model_name": "LayoutModel",
            "justify_items": null,
            "grid_row": null,
            "max_height": null,
            "align_content": null,
            "visibility": null,
            "align_self": null,
            "height": null,
            "min_height": null,
            "padding": null,
            "grid_auto_rows": null,
            "grid_gap": null,
            "max_width": null,
            "order": null,
            "_view_module_version": "1.2.0",
            "grid_template_areas": null,
            "object_position": null,
            "object_fit": null,
            "grid_auto_columns": null,
            "margin": null,
            "display": null,
            "left": null
          }
        },
        "ddb098e248f14cd78ef9f5bf7a48475e": {
          "model_module": "@jupyter-widgets/controls",
          "model_name": "ProgressStyleModel",
          "model_module_version": "1.5.0",
          "state": {
            "_view_name": "StyleView",
            "_model_name": "ProgressStyleModel",
            "description_width": "",
            "_view_module": "@jupyter-widgets/base",
            "_model_module_version": "1.5.0",
            "_view_count": null,
            "_view_module_version": "1.2.0",
            "bar_color": null,
            "_model_module": "@jupyter-widgets/controls"
          }
        },
        "fb28a69420ba42eb8d2d1616809ad2c7": {
          "model_module": "@jupyter-widgets/base",
          "model_name": "LayoutModel",
          "model_module_version": "1.2.0",
          "state": {
            "_view_name": "LayoutView",
            "grid_template_rows": null,
            "right": null,
            "justify_content": null,
            "_view_module": "@jupyter-widgets/base",
            "overflow": null,
            "_model_module_version": "1.2.0",
            "_view_count": null,
            "flex_flow": null,
            "width": null,
            "min_width": null,
            "border": null,
            "align_items": null,
            "bottom": null,
            "_model_module": "@jupyter-widgets/base",
            "top": null,
            "grid_column": null,
            "overflow_y": null,
            "overflow_x": null,
            "grid_auto_flow": null,
            "grid_area": null,
            "grid_template_columns": null,
            "flex": null,
            "_model_name": "LayoutModel",
            "justify_items": null,
            "grid_row": null,
            "max_height": null,
            "align_content": null,
            "visibility": null,
            "align_self": null,
            "height": null,
            "min_height": null,
            "padding": null,
            "grid_auto_rows": null,
            "grid_gap": null,
            "max_width": null,
            "order": null,
            "_view_module_version": "1.2.0",
            "grid_template_areas": null,
            "object_position": null,
            "object_fit": null,
            "grid_auto_columns": null,
            "margin": null,
            "display": null,
            "left": null
          }
        },
        "71626f5b9d3747abb3a238cc0789638f": {
          "model_module": "@jupyter-widgets/controls",
          "model_name": "DescriptionStyleModel",
          "model_module_version": "1.5.0",
          "state": {
            "_view_name": "StyleView",
            "_model_name": "DescriptionStyleModel",
            "description_width": "",
            "_view_module": "@jupyter-widgets/base",
            "_model_module_version": "1.5.0",
            "_view_count": null,
            "_view_module_version": "1.2.0",
            "_model_module": "@jupyter-widgets/controls"
          }
        },
        "760a1d9b28a54aa3b447c04327528a88": {
          "model_module": "@jupyter-widgets/base",
          "model_name": "LayoutModel",
          "model_module_version": "1.2.0",
          "state": {
            "_view_name": "LayoutView",
            "grid_template_rows": null,
            "right": null,
            "justify_content": null,
            "_view_module": "@jupyter-widgets/base",
            "overflow": null,
            "_model_module_version": "1.2.0",
            "_view_count": null,
            "flex_flow": null,
            "width": null,
            "min_width": null,
            "border": null,
            "align_items": null,
            "bottom": null,
            "_model_module": "@jupyter-widgets/base",
            "top": null,
            "grid_column": null,
            "overflow_y": null,
            "overflow_x": null,
            "grid_auto_flow": null,
            "grid_area": null,
            "grid_template_columns": null,
            "flex": null,
            "_model_name": "LayoutModel",
            "justify_items": null,
            "grid_row": null,
            "max_height": null,
            "align_content": null,
            "visibility": null,
            "align_self": null,
            "height": null,
            "min_height": null,
            "padding": null,
            "grid_auto_rows": null,
            "grid_gap": null,
            "max_width": null,
            "order": null,
            "_view_module_version": "1.2.0",
            "grid_template_areas": null,
            "object_position": null,
            "object_fit": null,
            "grid_auto_columns": null,
            "margin": null,
            "display": null,
            "left": null
          }
        },
        "fd11340bf8a64b2da65133b00d3352b9": {
          "model_module": "@jupyter-widgets/controls",
          "model_name": "HBoxModel",
          "model_module_version": "1.5.0",
          "state": {
            "_view_name": "HBoxView",
            "_dom_classes": [],
            "_model_name": "HBoxModel",
            "_view_module": "@jupyter-widgets/controls",
            "_model_module_version": "1.5.0",
            "_view_count": null,
            "_view_module_version": "1.5.0",
            "box_style": "",
            "layout": "IPY_MODEL_3545997a62874908988a2a40165dcf7a",
            "_model_module": "@jupyter-widgets/controls",
            "children": [
              "IPY_MODEL_cb53f79715ae4436beaa691c6143fe6a",
              "IPY_MODEL_db3cc7d2bdb041a79b9a3a8960338c6b",
              "IPY_MODEL_bc44d506ee1541e8b876c6e9b0220e75"
            ]
          }
        },
        "3545997a62874908988a2a40165dcf7a": {
          "model_module": "@jupyter-widgets/base",
          "model_name": "LayoutModel",
          "model_module_version": "1.2.0",
          "state": {
            "_view_name": "LayoutView",
            "grid_template_rows": null,
            "right": null,
            "justify_content": null,
            "_view_module": "@jupyter-widgets/base",
            "overflow": null,
            "_model_module_version": "1.2.0",
            "_view_count": null,
            "flex_flow": null,
            "width": null,
            "min_width": null,
            "border": null,
            "align_items": null,
            "bottom": null,
            "_model_module": "@jupyter-widgets/base",
            "top": null,
            "grid_column": null,
            "overflow_y": null,
            "overflow_x": null,
            "grid_auto_flow": null,
            "grid_area": null,
            "grid_template_columns": null,
            "flex": null,
            "_model_name": "LayoutModel",
            "justify_items": null,
            "grid_row": null,
            "max_height": null,
            "align_content": null,
            "visibility": null,
            "align_self": null,
            "height": null,
            "min_height": null,
            "padding": null,
            "grid_auto_rows": null,
            "grid_gap": null,
            "max_width": null,
            "order": null,
            "_view_module_version": "1.2.0",
            "grid_template_areas": null,
            "object_position": null,
            "object_fit": null,
            "grid_auto_columns": null,
            "margin": null,
            "display": null,
            "left": null
          }
        },
        "cb53f79715ae4436beaa691c6143fe6a": {
          "model_module": "@jupyter-widgets/controls",
          "model_name": "HTMLModel",
          "model_module_version": "1.5.0",
          "state": {
            "_view_name": "HTMLView",
            "style": "IPY_MODEL_37b337d988e248d488b7aac25dc968ea",
            "_dom_classes": [],
            "description": "",
            "_model_name": "HTMLModel",
            "placeholder": "​",
            "_view_module": "@jupyter-widgets/controls",
            "_model_module_version": "1.5.0",
            "value": "Downloading: 100%",
            "_view_count": null,
            "_view_module_version": "1.5.0",
            "description_tooltip": null,
            "_model_module": "@jupyter-widgets/controls",
            "layout": "IPY_MODEL_90d5691ab51745e9986d1047f991df0d"
          }
        },
        "db3cc7d2bdb041a79b9a3a8960338c6b": {
          "model_module": "@jupyter-widgets/controls",
          "model_name": "FloatProgressModel",
          "model_module_version": "1.5.0",
          "state": {
            "_view_name": "ProgressView",
            "style": "IPY_MODEL_6795ac902b24448e894fbdbcf7053ae1",
            "_dom_classes": [],
            "description": "",
            "_model_name": "FloatProgressModel",
            "bar_style": "success",
            "max": 1629486723,
            "_view_module": "@jupyter-widgets/controls",
            "_model_module_version": "1.5.0",
            "value": 1629486723,
            "_view_count": null,
            "_view_module_version": "1.5.0",
            "orientation": "horizontal",
            "min": 0,
            "description_tooltip": null,
            "_model_module": "@jupyter-widgets/controls",
            "layout": "IPY_MODEL_996c1524964a46c8895ec7cd42d2c936"
          }
        },
        "bc44d506ee1541e8b876c6e9b0220e75": {
          "model_module": "@jupyter-widgets/controls",
          "model_name": "HTMLModel",
          "model_module_version": "1.5.0",
          "state": {
            "_view_name": "HTMLView",
            "style": "IPY_MODEL_5eed38b02413474f9a79d63fd80d95e3",
            "_dom_classes": [],
            "description": "",
            "_model_name": "HTMLModel",
            "placeholder": "​",
            "_view_module": "@jupyter-widgets/controls",
            "_model_module_version": "1.5.0",
            "value": " 1.52G/1.52G [00:44&lt;00:00, 37.3MB/s]",
            "_view_count": null,
            "_view_module_version": "1.5.0",
            "description_tooltip": null,
            "_model_module": "@jupyter-widgets/controls",
            "layout": "IPY_MODEL_af009b75f4e44035b4cc5dce96a2fce0"
          }
        },
        "37b337d988e248d488b7aac25dc968ea": {
          "model_module": "@jupyter-widgets/controls",
          "model_name": "DescriptionStyleModel",
          "model_module_version": "1.5.0",
          "state": {
            "_view_name": "StyleView",
            "_model_name": "DescriptionStyleModel",
            "description_width": "",
            "_view_module": "@jupyter-widgets/base",
            "_model_module_version": "1.5.0",
            "_view_count": null,
            "_view_module_version": "1.2.0",
            "_model_module": "@jupyter-widgets/controls"
          }
        },
        "90d5691ab51745e9986d1047f991df0d": {
          "model_module": "@jupyter-widgets/base",
          "model_name": "LayoutModel",
          "model_module_version": "1.2.0",
          "state": {
            "_view_name": "LayoutView",
            "grid_template_rows": null,
            "right": null,
            "justify_content": null,
            "_view_module": "@jupyter-widgets/base",
            "overflow": null,
            "_model_module_version": "1.2.0",
            "_view_count": null,
            "flex_flow": null,
            "width": null,
            "min_width": null,
            "border": null,
            "align_items": null,
            "bottom": null,
            "_model_module": "@jupyter-widgets/base",
            "top": null,
            "grid_column": null,
            "overflow_y": null,
            "overflow_x": null,
            "grid_auto_flow": null,
            "grid_area": null,
            "grid_template_columns": null,
            "flex": null,
            "_model_name": "LayoutModel",
            "justify_items": null,
            "grid_row": null,
            "max_height": null,
            "align_content": null,
            "visibility": null,
            "align_self": null,
            "height": null,
            "min_height": null,
            "padding": null,
            "grid_auto_rows": null,
            "grid_gap": null,
            "max_width": null,
            "order": null,
            "_view_module_version": "1.2.0",
            "grid_template_areas": null,
            "object_position": null,
            "object_fit": null,
            "grid_auto_columns": null,
            "margin": null,
            "display": null,
            "left": null
          }
        },
        "6795ac902b24448e894fbdbcf7053ae1": {
          "model_module": "@jupyter-widgets/controls",
          "model_name": "ProgressStyleModel",
          "model_module_version": "1.5.0",
          "state": {
            "_view_name": "StyleView",
            "_model_name": "ProgressStyleModel",
            "description_width": "",
            "_view_module": "@jupyter-widgets/base",
            "_model_module_version": "1.5.0",
            "_view_count": null,
            "_view_module_version": "1.2.0",
            "bar_color": null,
            "_model_module": "@jupyter-widgets/controls"
          }
        },
        "996c1524964a46c8895ec7cd42d2c936": {
          "model_module": "@jupyter-widgets/base",
          "model_name": "LayoutModel",
          "model_module_version": "1.2.0",
          "state": {
            "_view_name": "LayoutView",
            "grid_template_rows": null,
            "right": null,
            "justify_content": null,
            "_view_module": "@jupyter-widgets/base",
            "overflow": null,
            "_model_module_version": "1.2.0",
            "_view_count": null,
            "flex_flow": null,
            "width": null,
            "min_width": null,
            "border": null,
            "align_items": null,
            "bottom": null,
            "_model_module": "@jupyter-widgets/base",
            "top": null,
            "grid_column": null,
            "overflow_y": null,
            "overflow_x": null,
            "grid_auto_flow": null,
            "grid_area": null,
            "grid_template_columns": null,
            "flex": null,
            "_model_name": "LayoutModel",
            "justify_items": null,
            "grid_row": null,
            "max_height": null,
            "align_content": null,
            "visibility": null,
            "align_self": null,
            "height": null,
            "min_height": null,
            "padding": null,
            "grid_auto_rows": null,
            "grid_gap": null,
            "max_width": null,
            "order": null,
            "_view_module_version": "1.2.0",
            "grid_template_areas": null,
            "object_position": null,
            "object_fit": null,
            "grid_auto_columns": null,
            "margin": null,
            "display": null,
            "left": null
          }
        },
        "5eed38b02413474f9a79d63fd80d95e3": {
          "model_module": "@jupyter-widgets/controls",
          "model_name": "DescriptionStyleModel",
          "model_module_version": "1.5.0",
          "state": {
            "_view_name": "StyleView",
            "_model_name": "DescriptionStyleModel",
            "description_width": "",
            "_view_module": "@jupyter-widgets/base",
            "_model_module_version": "1.5.0",
            "_view_count": null,
            "_view_module_version": "1.2.0",
            "_model_module": "@jupyter-widgets/controls"
          }
        },
        "af009b75f4e44035b4cc5dce96a2fce0": {
          "model_module": "@jupyter-widgets/base",
          "model_name": "LayoutModel",
          "model_module_version": "1.2.0",
          "state": {
            "_view_name": "LayoutView",
            "grid_template_rows": null,
            "right": null,
            "justify_content": null,
            "_view_module": "@jupyter-widgets/base",
            "overflow": null,
            "_model_module_version": "1.2.0",
            "_view_count": null,
            "flex_flow": null,
            "width": null,
            "min_width": null,
            "border": null,
            "align_items": null,
            "bottom": null,
            "_model_module": "@jupyter-widgets/base",
            "top": null,
            "grid_column": null,
            "overflow_y": null,
            "overflow_x": null,
            "grid_auto_flow": null,
            "grid_area": null,
            "grid_template_columns": null,
            "flex": null,
            "_model_name": "LayoutModel",
            "justify_items": null,
            "grid_row": null,
            "max_height": null,
            "align_content": null,
            "visibility": null,
            "align_self": null,
            "height": null,
            "min_height": null,
            "padding": null,
            "grid_auto_rows": null,
            "grid_gap": null,
            "max_width": null,
            "order": null,
            "_view_module_version": "1.2.0",
            "grid_template_areas": null,
            "object_position": null,
            "object_fit": null,
            "grid_auto_columns": null,
            "margin": null,
            "display": null,
            "left": null
          }
        },
        "56959ec51d024b56a0261a3c3528f5de": {
          "model_module": "@jupyter-widgets/controls",
          "model_name": "HBoxModel",
          "model_module_version": "1.5.0",
          "state": {
            "_view_name": "HBoxView",
            "_dom_classes": [],
            "_model_name": "HBoxModel",
            "_view_module": "@jupyter-widgets/controls",
            "_model_module_version": "1.5.0",
            "_view_count": null,
            "_view_module_version": "1.5.0",
            "box_style": "",
            "layout": "IPY_MODEL_9cd42e1123c84a38b829873ed05860b4",
            "_model_module": "@jupyter-widgets/controls",
            "children": [
              "IPY_MODEL_dbb551c78d734f14bddc70f30efe2cb7",
              "IPY_MODEL_3dad8c2b63bb43189c5b6d12605926b9",
              "IPY_MODEL_d316a7617b544c969ce479345878f19b"
            ]
          }
        },
        "9cd42e1123c84a38b829873ed05860b4": {
          "model_module": "@jupyter-widgets/base",
          "model_name": "LayoutModel",
          "model_module_version": "1.2.0",
          "state": {
            "_view_name": "LayoutView",
            "grid_template_rows": null,
            "right": null,
            "justify_content": null,
            "_view_module": "@jupyter-widgets/base",
            "overflow": null,
            "_model_module_version": "1.2.0",
            "_view_count": null,
            "flex_flow": null,
            "width": null,
            "min_width": null,
            "border": null,
            "align_items": null,
            "bottom": null,
            "_model_module": "@jupyter-widgets/base",
            "top": null,
            "grid_column": null,
            "overflow_y": null,
            "overflow_x": null,
            "grid_auto_flow": null,
            "grid_area": null,
            "grid_template_columns": null,
            "flex": null,
            "_model_name": "LayoutModel",
            "justify_items": null,
            "grid_row": null,
            "max_height": null,
            "align_content": null,
            "visibility": null,
            "align_self": null,
            "height": null,
            "min_height": null,
            "padding": null,
            "grid_auto_rows": null,
            "grid_gap": null,
            "max_width": null,
            "order": null,
            "_view_module_version": "1.2.0",
            "grid_template_areas": null,
            "object_position": null,
            "object_fit": null,
            "grid_auto_columns": null,
            "margin": null,
            "display": null,
            "left": null
          }
        },
        "dbb551c78d734f14bddc70f30efe2cb7": {
          "model_module": "@jupyter-widgets/controls",
          "model_name": "HTMLModel",
          "model_module_version": "1.5.0",
          "state": {
            "_view_name": "HTMLView",
            "style": "IPY_MODEL_6f348ebbadd4452c84538285dd5b26ba",
            "_dom_classes": [],
            "description": "",
            "_model_name": "HTMLModel",
            "placeholder": "​",
            "_view_module": "@jupyter-widgets/controls",
            "_model_module_version": "1.5.0",
            "value": "Downloading: 100%",
            "_view_count": null,
            "_view_module_version": "1.5.0",
            "description_tooltip": null,
            "_model_module": "@jupyter-widgets/controls",
            "layout": "IPY_MODEL_dc0e3ace52864f078dda4ba990b55067"
          }
        },
        "3dad8c2b63bb43189c5b6d12605926b9": {
          "model_module": "@jupyter-widgets/controls",
          "model_name": "FloatProgressModel",
          "model_module_version": "1.5.0",
          "state": {
            "_view_name": "ProgressView",
            "style": "IPY_MODEL_8921133a928f486b9d5e37725b71c81d",
            "_dom_classes": [],
            "description": "",
            "_model_name": "FloatProgressModel",
            "bar_style": "success",
            "max": 26,
            "_view_module": "@jupyter-widgets/controls",
            "_model_module_version": "1.5.0",
            "value": 26,
            "_view_count": null,
            "_view_module_version": "1.5.0",
            "orientation": "horizontal",
            "min": 0,
            "description_tooltip": null,
            "_model_module": "@jupyter-widgets/controls",
            "layout": "IPY_MODEL_068b969da56640c68e06c13b7be9d0e4"
          }
        },
        "d316a7617b544c969ce479345878f19b": {
          "model_module": "@jupyter-widgets/controls",
          "model_name": "HTMLModel",
          "model_module_version": "1.5.0",
          "state": {
            "_view_name": "HTMLView",
            "style": "IPY_MODEL_cf4538338c9a49b5b08557e73b12c469",
            "_dom_classes": [],
            "description": "",
            "_model_name": "HTMLModel",
            "placeholder": "​",
            "_view_module": "@jupyter-widgets/controls",
            "_model_module_version": "1.5.0",
            "value": " 26.0/26.0 [00:00&lt;00:00, 435B/s]",
            "_view_count": null,
            "_view_module_version": "1.5.0",
            "description_tooltip": null,
            "_model_module": "@jupyter-widgets/controls",
            "layout": "IPY_MODEL_d2c4ca3460bf4f70aa147dcfa1bfc73d"
          }
        },
        "6f348ebbadd4452c84538285dd5b26ba": {
          "model_module": "@jupyter-widgets/controls",
          "model_name": "DescriptionStyleModel",
          "model_module_version": "1.5.0",
          "state": {
            "_view_name": "StyleView",
            "_model_name": "DescriptionStyleModel",
            "description_width": "",
            "_view_module": "@jupyter-widgets/base",
            "_model_module_version": "1.5.0",
            "_view_count": null,
            "_view_module_version": "1.2.0",
            "_model_module": "@jupyter-widgets/controls"
          }
        },
        "dc0e3ace52864f078dda4ba990b55067": {
          "model_module": "@jupyter-widgets/base",
          "model_name": "LayoutModel",
          "model_module_version": "1.2.0",
          "state": {
            "_view_name": "LayoutView",
            "grid_template_rows": null,
            "right": null,
            "justify_content": null,
            "_view_module": "@jupyter-widgets/base",
            "overflow": null,
            "_model_module_version": "1.2.0",
            "_view_count": null,
            "flex_flow": null,
            "width": null,
            "min_width": null,
            "border": null,
            "align_items": null,
            "bottom": null,
            "_model_module": "@jupyter-widgets/base",
            "top": null,
            "grid_column": null,
            "overflow_y": null,
            "overflow_x": null,
            "grid_auto_flow": null,
            "grid_area": null,
            "grid_template_columns": null,
            "flex": null,
            "_model_name": "LayoutModel",
            "justify_items": null,
            "grid_row": null,
            "max_height": null,
            "align_content": null,
            "visibility": null,
            "align_self": null,
            "height": null,
            "min_height": null,
            "padding": null,
            "grid_auto_rows": null,
            "grid_gap": null,
            "max_width": null,
            "order": null,
            "_view_module_version": "1.2.0",
            "grid_template_areas": null,
            "object_position": null,
            "object_fit": null,
            "grid_auto_columns": null,
            "margin": null,
            "display": null,
            "left": null
          }
        },
        "8921133a928f486b9d5e37725b71c81d": {
          "model_module": "@jupyter-widgets/controls",
          "model_name": "ProgressStyleModel",
          "model_module_version": "1.5.0",
          "state": {
            "_view_name": "StyleView",
            "_model_name": "ProgressStyleModel",
            "description_width": "",
            "_view_module": "@jupyter-widgets/base",
            "_model_module_version": "1.5.0",
            "_view_count": null,
            "_view_module_version": "1.2.0",
            "bar_color": null,
            "_model_module": "@jupyter-widgets/controls"
          }
        },
        "068b969da56640c68e06c13b7be9d0e4": {
          "model_module": "@jupyter-widgets/base",
          "model_name": "LayoutModel",
          "model_module_version": "1.2.0",
          "state": {
            "_view_name": "LayoutView",
            "grid_template_rows": null,
            "right": null,
            "justify_content": null,
            "_view_module": "@jupyter-widgets/base",
            "overflow": null,
            "_model_module_version": "1.2.0",
            "_view_count": null,
            "flex_flow": null,
            "width": null,
            "min_width": null,
            "border": null,
            "align_items": null,
            "bottom": null,
            "_model_module": "@jupyter-widgets/base",
            "top": null,
            "grid_column": null,
            "overflow_y": null,
            "overflow_x": null,
            "grid_auto_flow": null,
            "grid_area": null,
            "grid_template_columns": null,
            "flex": null,
            "_model_name": "LayoutModel",
            "justify_items": null,
            "grid_row": null,
            "max_height": null,
            "align_content": null,
            "visibility": null,
            "align_self": null,
            "height": null,
            "min_height": null,
            "padding": null,
            "grid_auto_rows": null,
            "grid_gap": null,
            "max_width": null,
            "order": null,
            "_view_module_version": "1.2.0",
            "grid_template_areas": null,
            "object_position": null,
            "object_fit": null,
            "grid_auto_columns": null,
            "margin": null,
            "display": null,
            "left": null
          }
        },
        "cf4538338c9a49b5b08557e73b12c469": {
          "model_module": "@jupyter-widgets/controls",
          "model_name": "DescriptionStyleModel",
          "model_module_version": "1.5.0",
          "state": {
            "_view_name": "StyleView",
            "_model_name": "DescriptionStyleModel",
            "description_width": "",
            "_view_module": "@jupyter-widgets/base",
            "_model_module_version": "1.5.0",
            "_view_count": null,
            "_view_module_version": "1.2.0",
            "_model_module": "@jupyter-widgets/controls"
          }
        },
        "d2c4ca3460bf4f70aa147dcfa1bfc73d": {
          "model_module": "@jupyter-widgets/base",
          "model_name": "LayoutModel",
          "model_module_version": "1.2.0",
          "state": {
            "_view_name": "LayoutView",
            "grid_template_rows": null,
            "right": null,
            "justify_content": null,
            "_view_module": "@jupyter-widgets/base",
            "overflow": null,
            "_model_module_version": "1.2.0",
            "_view_count": null,
            "flex_flow": null,
            "width": null,
            "min_width": null,
            "border": null,
            "align_items": null,
            "bottom": null,
            "_model_module": "@jupyter-widgets/base",
            "top": null,
            "grid_column": null,
            "overflow_y": null,
            "overflow_x": null,
            "grid_auto_flow": null,
            "grid_area": null,
            "grid_template_columns": null,
            "flex": null,
            "_model_name": "LayoutModel",
            "justify_items": null,
            "grid_row": null,
            "max_height": null,
            "align_content": null,
            "visibility": null,
            "align_self": null,
            "height": null,
            "min_height": null,
            "padding": null,
            "grid_auto_rows": null,
            "grid_gap": null,
            "max_width": null,
            "order": null,
            "_view_module_version": "1.2.0",
            "grid_template_areas": null,
            "object_position": null,
            "object_fit": null,
            "grid_auto_columns": null,
            "margin": null,
            "display": null,
            "left": null
          }
        },
        "b44d0ea781714642908cb6d5f97b641a": {
          "model_module": "@jupyter-widgets/controls",
          "model_name": "HBoxModel",
          "model_module_version": "1.5.0",
          "state": {
            "_view_name": "HBoxView",
            "_dom_classes": [],
            "_model_name": "HBoxModel",
            "_view_module": "@jupyter-widgets/controls",
            "_model_module_version": "1.5.0",
            "_view_count": null,
            "_view_module_version": "1.5.0",
            "box_style": "",
            "layout": "IPY_MODEL_0f61bd69859c4b4ca659c049b2a7b2be",
            "_model_module": "@jupyter-widgets/controls",
            "children": [
              "IPY_MODEL_4991242c5aa14724a743c086cf60acb2",
              "IPY_MODEL_fe997b58708943ca84c979158140020c",
              "IPY_MODEL_e49cde8d8b1342028f6bdaf130882970"
            ]
          }
        },
        "0f61bd69859c4b4ca659c049b2a7b2be": {
          "model_module": "@jupyter-widgets/base",
          "model_name": "LayoutModel",
          "model_module_version": "1.2.0",
          "state": {
            "_view_name": "LayoutView",
            "grid_template_rows": null,
            "right": null,
            "justify_content": null,
            "_view_module": "@jupyter-widgets/base",
            "overflow": null,
            "_model_module_version": "1.2.0",
            "_view_count": null,
            "flex_flow": null,
            "width": null,
            "min_width": null,
            "border": null,
            "align_items": null,
            "bottom": null,
            "_model_module": "@jupyter-widgets/base",
            "top": null,
            "grid_column": null,
            "overflow_y": null,
            "overflow_x": null,
            "grid_auto_flow": null,
            "grid_area": null,
            "grid_template_columns": null,
            "flex": null,
            "_model_name": "LayoutModel",
            "justify_items": null,
            "grid_row": null,
            "max_height": null,
            "align_content": null,
            "visibility": null,
            "align_self": null,
            "height": null,
            "min_height": null,
            "padding": null,
            "grid_auto_rows": null,
            "grid_gap": null,
            "max_width": null,
            "order": null,
            "_view_module_version": "1.2.0",
            "grid_template_areas": null,
            "object_position": null,
            "object_fit": null,
            "grid_auto_columns": null,
            "margin": null,
            "display": null,
            "left": null
          }
        },
        "4991242c5aa14724a743c086cf60acb2": {
          "model_module": "@jupyter-widgets/controls",
          "model_name": "HTMLModel",
          "model_module_version": "1.5.0",
          "state": {
            "_view_name": "HTMLView",
            "style": "IPY_MODEL_a5630defd980494b85064a6a6bb29600",
            "_dom_classes": [],
            "description": "",
            "_model_name": "HTMLModel",
            "placeholder": "​",
            "_view_module": "@jupyter-widgets/controls",
            "_model_module_version": "1.5.0",
            "value": "Downloading: 100%",
            "_view_count": null,
            "_view_module_version": "1.5.0",
            "description_tooltip": null,
            "_model_module": "@jupyter-widgets/controls",
            "layout": "IPY_MODEL_a61ee41cd9fa411598cc8e3b431c2c6f"
          }
        },
        "fe997b58708943ca84c979158140020c": {
          "model_module": "@jupyter-widgets/controls",
          "model_name": "FloatProgressModel",
          "model_module_version": "1.5.0",
          "state": {
            "_view_name": "ProgressView",
            "style": "IPY_MODEL_e2fc041dbdcf43fb968904207165b045",
            "_dom_classes": [],
            "description": "",
            "_model_name": "FloatProgressModel",
            "bar_style": "success",
            "max": 898822,
            "_view_module": "@jupyter-widgets/controls",
            "_model_module_version": "1.5.0",
            "value": 898822,
            "_view_count": null,
            "_view_module_version": "1.5.0",
            "orientation": "horizontal",
            "min": 0,
            "description_tooltip": null,
            "_model_module": "@jupyter-widgets/controls",
            "layout": "IPY_MODEL_650a1440f1e347d4a4ef21909739fd68"
          }
        },
        "e49cde8d8b1342028f6bdaf130882970": {
          "model_module": "@jupyter-widgets/controls",
          "model_name": "HTMLModel",
          "model_module_version": "1.5.0",
          "state": {
            "_view_name": "HTMLView",
            "style": "IPY_MODEL_61baaebc56b54dd88f0d0df50d31018f",
            "_dom_classes": [],
            "description": "",
            "_model_name": "HTMLModel",
            "placeholder": "​",
            "_view_module": "@jupyter-widgets/controls",
            "_model_module_version": "1.5.0",
            "value": " 878k/878k [00:00&lt;00:00, 2.22MB/s]",
            "_view_count": null,
            "_view_module_version": "1.5.0",
            "description_tooltip": null,
            "_model_module": "@jupyter-widgets/controls",
            "layout": "IPY_MODEL_3078d4dd3ddc4d53b551c77579f222f2"
          }
        },
        "a5630defd980494b85064a6a6bb29600": {
          "model_module": "@jupyter-widgets/controls",
          "model_name": "DescriptionStyleModel",
          "model_module_version": "1.5.0",
          "state": {
            "_view_name": "StyleView",
            "_model_name": "DescriptionStyleModel",
            "description_width": "",
            "_view_module": "@jupyter-widgets/base",
            "_model_module_version": "1.5.0",
            "_view_count": null,
            "_view_module_version": "1.2.0",
            "_model_module": "@jupyter-widgets/controls"
          }
        },
        "a61ee41cd9fa411598cc8e3b431c2c6f": {
          "model_module": "@jupyter-widgets/base",
          "model_name": "LayoutModel",
          "model_module_version": "1.2.0",
          "state": {
            "_view_name": "LayoutView",
            "grid_template_rows": null,
            "right": null,
            "justify_content": null,
            "_view_module": "@jupyter-widgets/base",
            "overflow": null,
            "_model_module_version": "1.2.0",
            "_view_count": null,
            "flex_flow": null,
            "width": null,
            "min_width": null,
            "border": null,
            "align_items": null,
            "bottom": null,
            "_model_module": "@jupyter-widgets/base",
            "top": null,
            "grid_column": null,
            "overflow_y": null,
            "overflow_x": null,
            "grid_auto_flow": null,
            "grid_area": null,
            "grid_template_columns": null,
            "flex": null,
            "_model_name": "LayoutModel",
            "justify_items": null,
            "grid_row": null,
            "max_height": null,
            "align_content": null,
            "visibility": null,
            "align_self": null,
            "height": null,
            "min_height": null,
            "padding": null,
            "grid_auto_rows": null,
            "grid_gap": null,
            "max_width": null,
            "order": null,
            "_view_module_version": "1.2.0",
            "grid_template_areas": null,
            "object_position": null,
            "object_fit": null,
            "grid_auto_columns": null,
            "margin": null,
            "display": null,
            "left": null
          }
        },
        "e2fc041dbdcf43fb968904207165b045": {
          "model_module": "@jupyter-widgets/controls",
          "model_name": "ProgressStyleModel",
          "model_module_version": "1.5.0",
          "state": {
            "_view_name": "StyleView",
            "_model_name": "ProgressStyleModel",
            "description_width": "",
            "_view_module": "@jupyter-widgets/base",
            "_model_module_version": "1.5.0",
            "_view_count": null,
            "_view_module_version": "1.2.0",
            "bar_color": null,
            "_model_module": "@jupyter-widgets/controls"
          }
        },
        "650a1440f1e347d4a4ef21909739fd68": {
          "model_module": "@jupyter-widgets/base",
          "model_name": "LayoutModel",
          "model_module_version": "1.2.0",
          "state": {
            "_view_name": "LayoutView",
            "grid_template_rows": null,
            "right": null,
            "justify_content": null,
            "_view_module": "@jupyter-widgets/base",
            "overflow": null,
            "_model_module_version": "1.2.0",
            "_view_count": null,
            "flex_flow": null,
            "width": null,
            "min_width": null,
            "border": null,
            "align_items": null,
            "bottom": null,
            "_model_module": "@jupyter-widgets/base",
            "top": null,
            "grid_column": null,
            "overflow_y": null,
            "overflow_x": null,
            "grid_auto_flow": null,
            "grid_area": null,
            "grid_template_columns": null,
            "flex": null,
            "_model_name": "LayoutModel",
            "justify_items": null,
            "grid_row": null,
            "max_height": null,
            "align_content": null,
            "visibility": null,
            "align_self": null,
            "height": null,
            "min_height": null,
            "padding": null,
            "grid_auto_rows": null,
            "grid_gap": null,
            "max_width": null,
            "order": null,
            "_view_module_version": "1.2.0",
            "grid_template_areas": null,
            "object_position": null,
            "object_fit": null,
            "grid_auto_columns": null,
            "margin": null,
            "display": null,
            "left": null
          }
        },
        "61baaebc56b54dd88f0d0df50d31018f": {
          "model_module": "@jupyter-widgets/controls",
          "model_name": "DescriptionStyleModel",
          "model_module_version": "1.5.0",
          "state": {
            "_view_name": "StyleView",
            "_model_name": "DescriptionStyleModel",
            "description_width": "",
            "_view_module": "@jupyter-widgets/base",
            "_model_module_version": "1.5.0",
            "_view_count": null,
            "_view_module_version": "1.2.0",
            "_model_module": "@jupyter-widgets/controls"
          }
        },
        "3078d4dd3ddc4d53b551c77579f222f2": {
          "model_module": "@jupyter-widgets/base",
          "model_name": "LayoutModel",
          "model_module_version": "1.2.0",
          "state": {
            "_view_name": "LayoutView",
            "grid_template_rows": null,
            "right": null,
            "justify_content": null,
            "_view_module": "@jupyter-widgets/base",
            "overflow": null,
            "_model_module_version": "1.2.0",
            "_view_count": null,
            "flex_flow": null,
            "width": null,
            "min_width": null,
            "border": null,
            "align_items": null,
            "bottom": null,
            "_model_module": "@jupyter-widgets/base",
            "top": null,
            "grid_column": null,
            "overflow_y": null,
            "overflow_x": null,
            "grid_auto_flow": null,
            "grid_area": null,
            "grid_template_columns": null,
            "flex": null,
            "_model_name": "LayoutModel",
            "justify_items": null,
            "grid_row": null,
            "max_height": null,
            "align_content": null,
            "visibility": null,
            "align_self": null,
            "height": null,
            "min_height": null,
            "padding": null,
            "grid_auto_rows": null,
            "grid_gap": null,
            "max_width": null,
            "order": null,
            "_view_module_version": "1.2.0",
            "grid_template_areas": null,
            "object_position": null,
            "object_fit": null,
            "grid_auto_columns": null,
            "margin": null,
            "display": null,
            "left": null
          }
        },
        "0ed62f8ad36e4e91a93f843454c85b7a": {
          "model_module": "@jupyter-widgets/controls",
          "model_name": "HBoxModel",
          "model_module_version": "1.5.0",
          "state": {
            "_view_name": "HBoxView",
            "_dom_classes": [],
            "_model_name": "HBoxModel",
            "_view_module": "@jupyter-widgets/controls",
            "_model_module_version": "1.5.0",
            "_view_count": null,
            "_view_module_version": "1.5.0",
            "box_style": "",
            "layout": "IPY_MODEL_e15258d7db624e37955670846aad7164",
            "_model_module": "@jupyter-widgets/controls",
            "children": [
              "IPY_MODEL_61040e7153a84c5da0b2ec6a3bff8f48",
              "IPY_MODEL_6f9b88b2a73045e2886bbcfb9f933295",
              "IPY_MODEL_d392c598761b4fd4b0249b15c5397170"
            ]
          }
        },
        "e15258d7db624e37955670846aad7164": {
          "model_module": "@jupyter-widgets/base",
          "model_name": "LayoutModel",
          "model_module_version": "1.2.0",
          "state": {
            "_view_name": "LayoutView",
            "grid_template_rows": null,
            "right": null,
            "justify_content": null,
            "_view_module": "@jupyter-widgets/base",
            "overflow": null,
            "_model_module_version": "1.2.0",
            "_view_count": null,
            "flex_flow": null,
            "width": null,
            "min_width": null,
            "border": null,
            "align_items": null,
            "bottom": null,
            "_model_module": "@jupyter-widgets/base",
            "top": null,
            "grid_column": null,
            "overflow_y": null,
            "overflow_x": null,
            "grid_auto_flow": null,
            "grid_area": null,
            "grid_template_columns": null,
            "flex": null,
            "_model_name": "LayoutModel",
            "justify_items": null,
            "grid_row": null,
            "max_height": null,
            "align_content": null,
            "visibility": null,
            "align_self": null,
            "height": null,
            "min_height": null,
            "padding": null,
            "grid_auto_rows": null,
            "grid_gap": null,
            "max_width": null,
            "order": null,
            "_view_module_version": "1.2.0",
            "grid_template_areas": null,
            "object_position": null,
            "object_fit": null,
            "grid_auto_columns": null,
            "margin": null,
            "display": null,
            "left": null
          }
        },
        "61040e7153a84c5da0b2ec6a3bff8f48": {
          "model_module": "@jupyter-widgets/controls",
          "model_name": "HTMLModel",
          "model_module_version": "1.5.0",
          "state": {
            "_view_name": "HTMLView",
            "style": "IPY_MODEL_5007e8e6696748c4992c1f93119b7a03",
            "_dom_classes": [],
            "description": "",
            "_model_name": "HTMLModel",
            "placeholder": "​",
            "_view_module": "@jupyter-widgets/controls",
            "_model_module_version": "1.5.0",
            "value": "Downloading: 100%",
            "_view_count": null,
            "_view_module_version": "1.5.0",
            "description_tooltip": null,
            "_model_module": "@jupyter-widgets/controls",
            "layout": "IPY_MODEL_c1b92fac9cfe419583b193017e2305b2"
          }
        },
        "6f9b88b2a73045e2886bbcfb9f933295": {
          "model_module": "@jupyter-widgets/controls",
          "model_name": "FloatProgressModel",
          "model_module_version": "1.5.0",
          "state": {
            "_view_name": "ProgressView",
            "style": "IPY_MODEL_2d35c2bc2f2d4ae6951463acdd4a28f6",
            "_dom_classes": [],
            "description": "",
            "_model_name": "FloatProgressModel",
            "bar_style": "success",
            "max": 456318,
            "_view_module": "@jupyter-widgets/controls",
            "_model_module_version": "1.5.0",
            "value": 456318,
            "_view_count": null,
            "_view_module_version": "1.5.0",
            "orientation": "horizontal",
            "min": 0,
            "description_tooltip": null,
            "_model_module": "@jupyter-widgets/controls",
            "layout": "IPY_MODEL_a1ec77bdd0ac42b7887dca036e416f09"
          }
        },
        "d392c598761b4fd4b0249b15c5397170": {
          "model_module": "@jupyter-widgets/controls",
          "model_name": "HTMLModel",
          "model_module_version": "1.5.0",
          "state": {
            "_view_name": "HTMLView",
            "style": "IPY_MODEL_a51d5b3f16ff4ace928a6f95703a5018",
            "_dom_classes": [],
            "description": "",
            "_model_name": "HTMLModel",
            "placeholder": "​",
            "_view_module": "@jupyter-widgets/controls",
            "_model_module_version": "1.5.0",
            "value": " 446k/446k [00:00&lt;00:00, 642kB/s]",
            "_view_count": null,
            "_view_module_version": "1.5.0",
            "description_tooltip": null,
            "_model_module": "@jupyter-widgets/controls",
            "layout": "IPY_MODEL_adeddada468148388ed19fbd19cf397c"
          }
        },
        "5007e8e6696748c4992c1f93119b7a03": {
          "model_module": "@jupyter-widgets/controls",
          "model_name": "DescriptionStyleModel",
          "model_module_version": "1.5.0",
          "state": {
            "_view_name": "StyleView",
            "_model_name": "DescriptionStyleModel",
            "description_width": "",
            "_view_module": "@jupyter-widgets/base",
            "_model_module_version": "1.5.0",
            "_view_count": null,
            "_view_module_version": "1.2.0",
            "_model_module": "@jupyter-widgets/controls"
          }
        },
        "c1b92fac9cfe419583b193017e2305b2": {
          "model_module": "@jupyter-widgets/base",
          "model_name": "LayoutModel",
          "model_module_version": "1.2.0",
          "state": {
            "_view_name": "LayoutView",
            "grid_template_rows": null,
            "right": null,
            "justify_content": null,
            "_view_module": "@jupyter-widgets/base",
            "overflow": null,
            "_model_module_version": "1.2.0",
            "_view_count": null,
            "flex_flow": null,
            "width": null,
            "min_width": null,
            "border": null,
            "align_items": null,
            "bottom": null,
            "_model_module": "@jupyter-widgets/base",
            "top": null,
            "grid_column": null,
            "overflow_y": null,
            "overflow_x": null,
            "grid_auto_flow": null,
            "grid_area": null,
            "grid_template_columns": null,
            "flex": null,
            "_model_name": "LayoutModel",
            "justify_items": null,
            "grid_row": null,
            "max_height": null,
            "align_content": null,
            "visibility": null,
            "align_self": null,
            "height": null,
            "min_height": null,
            "padding": null,
            "grid_auto_rows": null,
            "grid_gap": null,
            "max_width": null,
            "order": null,
            "_view_module_version": "1.2.0",
            "grid_template_areas": null,
            "object_position": null,
            "object_fit": null,
            "grid_auto_columns": null,
            "margin": null,
            "display": null,
            "left": null
          }
        },
        "2d35c2bc2f2d4ae6951463acdd4a28f6": {
          "model_module": "@jupyter-widgets/controls",
          "model_name": "ProgressStyleModel",
          "model_module_version": "1.5.0",
          "state": {
            "_view_name": "StyleView",
            "_model_name": "ProgressStyleModel",
            "description_width": "",
            "_view_module": "@jupyter-widgets/base",
            "_model_module_version": "1.5.0",
            "_view_count": null,
            "_view_module_version": "1.2.0",
            "bar_color": null,
            "_model_module": "@jupyter-widgets/controls"
          }
        },
        "a1ec77bdd0ac42b7887dca036e416f09": {
          "model_module": "@jupyter-widgets/base",
          "model_name": "LayoutModel",
          "model_module_version": "1.2.0",
          "state": {
            "_view_name": "LayoutView",
            "grid_template_rows": null,
            "right": null,
            "justify_content": null,
            "_view_module": "@jupyter-widgets/base",
            "overflow": null,
            "_model_module_version": "1.2.0",
            "_view_count": null,
            "flex_flow": null,
            "width": null,
            "min_width": null,
            "border": null,
            "align_items": null,
            "bottom": null,
            "_model_module": "@jupyter-widgets/base",
            "top": null,
            "grid_column": null,
            "overflow_y": null,
            "overflow_x": null,
            "grid_auto_flow": null,
            "grid_area": null,
            "grid_template_columns": null,
            "flex": null,
            "_model_name": "LayoutModel",
            "justify_items": null,
            "grid_row": null,
            "max_height": null,
            "align_content": null,
            "visibility": null,
            "align_self": null,
            "height": null,
            "min_height": null,
            "padding": null,
            "grid_auto_rows": null,
            "grid_gap": null,
            "max_width": null,
            "order": null,
            "_view_module_version": "1.2.0",
            "grid_template_areas": null,
            "object_position": null,
            "object_fit": null,
            "grid_auto_columns": null,
            "margin": null,
            "display": null,
            "left": null
          }
        },
        "a51d5b3f16ff4ace928a6f95703a5018": {
          "model_module": "@jupyter-widgets/controls",
          "model_name": "DescriptionStyleModel",
          "model_module_version": "1.5.0",
          "state": {
            "_view_name": "StyleView",
            "_model_name": "DescriptionStyleModel",
            "description_width": "",
            "_view_module": "@jupyter-widgets/base",
            "_model_module_version": "1.5.0",
            "_view_count": null,
            "_view_module_version": "1.2.0",
            "_model_module": "@jupyter-widgets/controls"
          }
        },
        "adeddada468148388ed19fbd19cf397c": {
          "model_module": "@jupyter-widgets/base",
          "model_name": "LayoutModel",
          "model_module_version": "1.2.0",
          "state": {
            "_view_name": "LayoutView",
            "grid_template_rows": null,
            "right": null,
            "justify_content": null,
            "_view_module": "@jupyter-widgets/base",
            "overflow": null,
            "_model_module_version": "1.2.0",
            "_view_count": null,
            "flex_flow": null,
            "width": null,
            "min_width": null,
            "border": null,
            "align_items": null,
            "bottom": null,
            "_model_module": "@jupyter-widgets/base",
            "top": null,
            "grid_column": null,
            "overflow_y": null,
            "overflow_x": null,
            "grid_auto_flow": null,
            "grid_area": null,
            "grid_template_columns": null,
            "flex": null,
            "_model_name": "LayoutModel",
            "justify_items": null,
            "grid_row": null,
            "max_height": null,
            "align_content": null,
            "visibility": null,
            "align_self": null,
            "height": null,
            "min_height": null,
            "padding": null,
            "grid_auto_rows": null,
            "grid_gap": null,
            "max_width": null,
            "order": null,
            "_view_module_version": "1.2.0",
            "grid_template_areas": null,
            "object_position": null,
            "object_fit": null,
            "grid_auto_columns": null,
            "margin": null,
            "display": null,
            "left": null
          }
        },
        "ca2c6e321e5c4864bcfa6b3d2a654634": {
          "model_module": "@jupyter-widgets/controls",
          "model_name": "HBoxModel",
          "model_module_version": "1.5.0",
          "state": {
            "_view_name": "HBoxView",
            "_dom_classes": [],
            "_model_name": "HBoxModel",
            "_view_module": "@jupyter-widgets/controls",
            "_model_module_version": "1.5.0",
            "_view_count": null,
            "_view_module_version": "1.5.0",
            "box_style": "",
            "layout": "IPY_MODEL_ee1e8b428028483a93368d090467ac49",
            "_model_module": "@jupyter-widgets/controls",
            "children": [
              "IPY_MODEL_4002e73beaec45da91381a0c7fe8e040",
              "IPY_MODEL_190cd16e460f405b92e29a867b13cfef",
              "IPY_MODEL_b5b5ae67f33947afa94d921f02a722aa"
            ]
          }
        },
        "ee1e8b428028483a93368d090467ac49": {
          "model_module": "@jupyter-widgets/base",
          "model_name": "LayoutModel",
          "model_module_version": "1.2.0",
          "state": {
            "_view_name": "LayoutView",
            "grid_template_rows": null,
            "right": null,
            "justify_content": null,
            "_view_module": "@jupyter-widgets/base",
            "overflow": null,
            "_model_module_version": "1.2.0",
            "_view_count": null,
            "flex_flow": null,
            "width": null,
            "min_width": null,
            "border": null,
            "align_items": null,
            "bottom": null,
            "_model_module": "@jupyter-widgets/base",
            "top": null,
            "grid_column": null,
            "overflow_y": null,
            "overflow_x": null,
            "grid_auto_flow": null,
            "grid_area": null,
            "grid_template_columns": null,
            "flex": null,
            "_model_name": "LayoutModel",
            "justify_items": null,
            "grid_row": null,
            "max_height": null,
            "align_content": null,
            "visibility": null,
            "align_self": null,
            "height": null,
            "min_height": null,
            "padding": null,
            "grid_auto_rows": null,
            "grid_gap": null,
            "max_width": null,
            "order": null,
            "_view_module_version": "1.2.0",
            "grid_template_areas": null,
            "object_position": null,
            "object_fit": null,
            "grid_auto_columns": null,
            "margin": null,
            "display": null,
            "left": null
          }
        },
        "4002e73beaec45da91381a0c7fe8e040": {
          "model_module": "@jupyter-widgets/controls",
          "model_name": "HTMLModel",
          "model_module_version": "1.5.0",
          "state": {
            "_view_name": "HTMLView",
            "style": "IPY_MODEL_c2f56053726a4698ba5b84e4b376dd93",
            "_dom_classes": [],
            "description": "",
            "_model_name": "HTMLModel",
            "placeholder": "​",
            "_view_module": "@jupyter-widgets/controls",
            "_model_module_version": "1.5.0",
            "value": "Downloading: 100%",
            "_view_count": null,
            "_view_module_version": "1.5.0",
            "description_tooltip": null,
            "_model_module": "@jupyter-widgets/controls",
            "layout": "IPY_MODEL_4a27a2fdc5414128beac823a72877cae"
          }
        },
        "190cd16e460f405b92e29a867b13cfef": {
          "model_module": "@jupyter-widgets/controls",
          "model_name": "FloatProgressModel",
          "model_module_version": "1.5.0",
          "state": {
            "_view_name": "ProgressView",
            "style": "IPY_MODEL_d5b1fd791c2a4437b399561b4faf01e5",
            "_dom_classes": [],
            "description": "",
            "_model_name": "FloatProgressModel",
            "bar_style": "success",
            "max": 1355863,
            "_view_module": "@jupyter-widgets/controls",
            "_model_module_version": "1.5.0",
            "value": 1355863,
            "_view_count": null,
            "_view_module_version": "1.5.0",
            "orientation": "horizontal",
            "min": 0,
            "description_tooltip": null,
            "_model_module": "@jupyter-widgets/controls",
            "layout": "IPY_MODEL_e6454cd39507450498ce118e4c7a0f87"
          }
        },
        "b5b5ae67f33947afa94d921f02a722aa": {
          "model_module": "@jupyter-widgets/controls",
          "model_name": "HTMLModel",
          "model_module_version": "1.5.0",
          "state": {
            "_view_name": "HTMLView",
            "style": "IPY_MODEL_d79bd24db7894797b1ca34e4f1353d0b",
            "_dom_classes": [],
            "description": "",
            "_model_name": "HTMLModel",
            "placeholder": "​",
            "_view_module": "@jupyter-widgets/controls",
            "_model_module_version": "1.5.0",
            "value": " 1.29M/1.29M [00:00&lt;00:00, 2.14MB/s]",
            "_view_count": null,
            "_view_module_version": "1.5.0",
            "description_tooltip": null,
            "_model_module": "@jupyter-widgets/controls",
            "layout": "IPY_MODEL_832adf8dc7384199ab71768b620aa394"
          }
        },
        "c2f56053726a4698ba5b84e4b376dd93": {
          "model_module": "@jupyter-widgets/controls",
          "model_name": "DescriptionStyleModel",
          "model_module_version": "1.5.0",
          "state": {
            "_view_name": "StyleView",
            "_model_name": "DescriptionStyleModel",
            "description_width": "",
            "_view_module": "@jupyter-widgets/base",
            "_model_module_version": "1.5.0",
            "_view_count": null,
            "_view_module_version": "1.2.0",
            "_model_module": "@jupyter-widgets/controls"
          }
        },
        "4a27a2fdc5414128beac823a72877cae": {
          "model_module": "@jupyter-widgets/base",
          "model_name": "LayoutModel",
          "model_module_version": "1.2.0",
          "state": {
            "_view_name": "LayoutView",
            "grid_template_rows": null,
            "right": null,
            "justify_content": null,
            "_view_module": "@jupyter-widgets/base",
            "overflow": null,
            "_model_module_version": "1.2.0",
            "_view_count": null,
            "flex_flow": null,
            "width": null,
            "min_width": null,
            "border": null,
            "align_items": null,
            "bottom": null,
            "_model_module": "@jupyter-widgets/base",
            "top": null,
            "grid_column": null,
            "overflow_y": null,
            "overflow_x": null,
            "grid_auto_flow": null,
            "grid_area": null,
            "grid_template_columns": null,
            "flex": null,
            "_model_name": "LayoutModel",
            "justify_items": null,
            "grid_row": null,
            "max_height": null,
            "align_content": null,
            "visibility": null,
            "align_self": null,
            "height": null,
            "min_height": null,
            "padding": null,
            "grid_auto_rows": null,
            "grid_gap": null,
            "max_width": null,
            "order": null,
            "_view_module_version": "1.2.0",
            "grid_template_areas": null,
            "object_position": null,
            "object_fit": null,
            "grid_auto_columns": null,
            "margin": null,
            "display": null,
            "left": null
          }
        },
        "d5b1fd791c2a4437b399561b4faf01e5": {
          "model_module": "@jupyter-widgets/controls",
          "model_name": "ProgressStyleModel",
          "model_module_version": "1.5.0",
          "state": {
            "_view_name": "StyleView",
            "_model_name": "ProgressStyleModel",
            "description_width": "",
            "_view_module": "@jupyter-widgets/base",
            "_model_module_version": "1.5.0",
            "_view_count": null,
            "_view_module_version": "1.2.0",
            "bar_color": null,
            "_model_module": "@jupyter-widgets/controls"
          }
        },
        "e6454cd39507450498ce118e4c7a0f87": {
          "model_module": "@jupyter-widgets/base",
          "model_name": "LayoutModel",
          "model_module_version": "1.2.0",
          "state": {
            "_view_name": "LayoutView",
            "grid_template_rows": null,
            "right": null,
            "justify_content": null,
            "_view_module": "@jupyter-widgets/base",
            "overflow": null,
            "_model_module_version": "1.2.0",
            "_view_count": null,
            "flex_flow": null,
            "width": null,
            "min_width": null,
            "border": null,
            "align_items": null,
            "bottom": null,
            "_model_module": "@jupyter-widgets/base",
            "top": null,
            "grid_column": null,
            "overflow_y": null,
            "overflow_x": null,
            "grid_auto_flow": null,
            "grid_area": null,
            "grid_template_columns": null,
            "flex": null,
            "_model_name": "LayoutModel",
            "justify_items": null,
            "grid_row": null,
            "max_height": null,
            "align_content": null,
            "visibility": null,
            "align_self": null,
            "height": null,
            "min_height": null,
            "padding": null,
            "grid_auto_rows": null,
            "grid_gap": null,
            "max_width": null,
            "order": null,
            "_view_module_version": "1.2.0",
            "grid_template_areas": null,
            "object_position": null,
            "object_fit": null,
            "grid_auto_columns": null,
            "margin": null,
            "display": null,
            "left": null
          }
        },
        "d79bd24db7894797b1ca34e4f1353d0b": {
          "model_module": "@jupyter-widgets/controls",
          "model_name": "DescriptionStyleModel",
          "model_module_version": "1.5.0",
          "state": {
            "_view_name": "StyleView",
            "_model_name": "DescriptionStyleModel",
            "description_width": "",
            "_view_module": "@jupyter-widgets/base",
            "_model_module_version": "1.5.0",
            "_view_count": null,
            "_view_module_version": "1.2.0",
            "_model_module": "@jupyter-widgets/controls"
          }
        },
        "832adf8dc7384199ab71768b620aa394": {
          "model_module": "@jupyter-widgets/base",
          "model_name": "LayoutModel",
          "model_module_version": "1.2.0",
          "state": {
            "_view_name": "LayoutView",
            "grid_template_rows": null,
            "right": null,
            "justify_content": null,
            "_view_module": "@jupyter-widgets/base",
            "overflow": null,
            "_model_module_version": "1.2.0",
            "_view_count": null,
            "flex_flow": null,
            "width": null,
            "min_width": null,
            "border": null,
            "align_items": null,
            "bottom": null,
            "_model_module": "@jupyter-widgets/base",
            "top": null,
            "grid_column": null,
            "overflow_y": null,
            "overflow_x": null,
            "grid_auto_flow": null,
            "grid_area": null,
            "grid_template_columns": null,
            "flex": null,
            "_model_name": "LayoutModel",
            "justify_items": null,
            "grid_row": null,
            "max_height": null,
            "align_content": null,
            "visibility": null,
            "align_self": null,
            "height": null,
            "min_height": null,
            "padding": null,
            "grid_auto_rows": null,
            "grid_gap": null,
            "max_width": null,
            "order": null,
            "_view_module_version": "1.2.0",
            "grid_template_areas": null,
            "object_position": null,
            "object_fit": null,
            "grid_auto_columns": null,
            "margin": null,
            "display": null,
            "left": null
          }
        }
      }
    }
  },
  "cells": [
    {
      "cell_type": "code",
      "execution_count": null,
      "metadata": {
        "id": "mBn_VhHy4sRd"
      },
      "outputs": [],
      "source": [
        "#!pip install ast\n",
        "!pip install transformers\n",
        "!pip install pyyaml==5.4.1"
      ]
    },
    {
      "cell_type": "code",
      "source": [
        "import pandas as pd\n",
        "import numpy as np\n",
        "import matplotlib.pyplot as plt\n",
        "import seaborn as sns\n",
        "import plotly.express as px\n",
        "import ast\n",
        "from google.colab import drive\n",
        "import re\n",
        "from wordcloud import WordCloud\n",
        "import spacy\n",
        "import nltk\n",
        "import en_core_web_sm\n",
        "from collections import defaultdict\n",
        "from transformers import pipeline"
      ],
      "metadata": {
        "id": "p5YtQPBC4y9Q",
        "colab": {
          "base_uri": "https://localhost:8080/"
        },
        "outputId": "3f229828-6c61-42c3-e05d-c4ec5115f656"
      },
      "execution_count": 1,
      "outputs": [
        {
          "output_type": "stream",
          "name": "stderr",
          "text": [
            "/usr/local/lib/python3.7/dist-packages/distributed/config.py:20: YAMLLoadWarning: calling yaml.load() without Loader=... is deprecated, as the default Loader is unsafe. Please read https://msg.pyyaml.org/load for full details.\n",
            "  defaults = yaml.load(f)\n"
          ]
        }
      ]
    },
    {
      "cell_type": "code",
      "source": [
        "nlp = spacy.load('en_core_web_sm')"
      ],
      "metadata": {
        "id": "1DePpThNrwiB"
      },
      "execution_count": 2,
      "outputs": []
    },
    {
      "cell_type": "code",
      "source": [
        "drive.mount(\"/content/drive\")"
      ],
      "metadata": {
        "colab": {
          "base_uri": "https://localhost:8080/"
        },
        "id": "BkYI16sy5gR4",
        "outputId": "df39e4e9-c75c-4c93-fe8a-070b14b1c8ba"
      },
      "execution_count": 3,
      "outputs": [
        {
          "output_type": "stream",
          "name": "stdout",
          "text": [
            "Mounted at /content/drive\n"
          ]
        }
      ]
    },
    {
      "cell_type": "code",
      "source": [
        "data = pd.read_csv(\"/content/drive/MyDrive/Colab Notebooks/covid_tweets_2020-2021.csv\")"
      ],
      "metadata": {
        "id": "0gumUSAU576W"
      },
      "execution_count": 4,
      "outputs": []
    },
    {
      "cell_type": "code",
      "source": [
        "data.head()"
      ],
      "metadata": {
        "id": "mQi5V1KE6IzA",
        "colab": {
          "base_uri": "https://localhost:8080/",
          "height": 687
        },
        "outputId": "38400e74-b449-48f1-9e7d-29a5849901b0"
      },
      "execution_count": 5,
      "outputs": [
        {
          "output_type": "execute_result",
          "data": {
            "text/html": [
              "\n",
              "  <div id=\"df-ed891ba6-fc8a-4cb0-a14d-35565d5be1e3\">\n",
              "    <div class=\"colab-df-container\">\n",
              "      <div>\n",
              "<style scoped>\n",
              "    .dataframe tbody tr th:only-of-type {\n",
              "        vertical-align: middle;\n",
              "    }\n",
              "\n",
              "    .dataframe tbody tr th {\n",
              "        vertical-align: top;\n",
              "    }\n",
              "\n",
              "    .dataframe thead th {\n",
              "        text-align: right;\n",
              "    }\n",
              "</style>\n",
              "<table border=\"1\" class=\"dataframe\">\n",
              "  <thead>\n",
              "    <tr style=\"text-align: right;\">\n",
              "      <th></th>\n",
              "      <th>Unnamed: 0</th>\n",
              "      <th>Unnamed: 0.1</th>\n",
              "      <th>url</th>\n",
              "      <th>date</th>\n",
              "      <th>content</th>\n",
              "      <th>renderedContent</th>\n",
              "      <th>id</th>\n",
              "      <th>user</th>\n",
              "      <th>replyCount</th>\n",
              "      <th>retweetCount</th>\n",
              "      <th>likeCount</th>\n",
              "      <th>quoteCount</th>\n",
              "      <th>conversationId</th>\n",
              "      <th>lang</th>\n",
              "      <th>source</th>\n",
              "      <th>sourceUrl</th>\n",
              "      <th>sourceLabel</th>\n",
              "      <th>outlinks</th>\n",
              "      <th>tcooutlinks</th>\n",
              "      <th>media</th>\n",
              "      <th>retweetedTweet</th>\n",
              "      <th>quotedTweet</th>\n",
              "      <th>inReplyToTweetId</th>\n",
              "      <th>inReplyToUser</th>\n",
              "      <th>mentionedUsers</th>\n",
              "      <th>coordinates</th>\n",
              "      <th>place</th>\n",
              "      <th>hashtags</th>\n",
              "      <th>cashtags</th>\n",
              "    </tr>\n",
              "  </thead>\n",
              "  <tbody>\n",
              "    <tr>\n",
              "      <th>0</th>\n",
              "      <td>0</td>\n",
              "      <td>0</td>\n",
              "      <td>https://twitter.com/persi_giovanni/status/1476...</td>\n",
              "      <td>2021-12-30 23:24:14+00:00</td>\n",
              "      <td>Sei inutile come un tampone rapido. \\n\\n#Posit...</td>\n",
              "      <td>Sei inutile come un tampone rapido. \\n\\n#Posit...</td>\n",
              "      <td>1476695654663610372</td>\n",
              "      <td>{'username': 'persi_giovanni', 'id': 134822023...</td>\n",
              "      <td>0</td>\n",
              "      <td>1</td>\n",
              "      <td>1</td>\n",
              "      <td>0</td>\n",
              "      <td>1476695654663610372</td>\n",
              "      <td>it</td>\n",
              "      <td>&lt;a href=\"http://twitter.com/download/iphone\" r...</td>\n",
              "      <td>http://twitter.com/download/iphone</td>\n",
              "      <td>Twitter for iPhone</td>\n",
              "      <td>NaN</td>\n",
              "      <td>NaN</td>\n",
              "      <td>NaN</td>\n",
              "      <td>NaN</td>\n",
              "      <td>NaN</td>\n",
              "      <td>NaN</td>\n",
              "      <td>NaN</td>\n",
              "      <td>NaN</td>\n",
              "      <td>{'longitude': 13.0838725, 'latitude': 43.7262228}</td>\n",
              "      <td>{'fullName': 'Mondolfo, Marche', 'name': 'Mond...</td>\n",
              "      <td>['Positivo', 'Covid', 'megagreenpass', 'lockdo...</td>\n",
              "      <td>NaN</td>\n",
              "    </tr>\n",
              "    <tr>\n",
              "      <th>1</th>\n",
              "      <td>1</td>\n",
              "      <td>1</td>\n",
              "      <td>https://twitter.com/annalisatheatro/status/147...</td>\n",
              "      <td>2021-12-30 22:59:03+00:00</td>\n",
              "      <td>VI SBLOCCO UN RICORDO . ERA IL 2019 E BRINDAVA...</td>\n",
              "      <td>VI SBLOCCO UN RICORDO . ERA IL 2019 E BRINDAVA...</td>\n",
              "      <td>1476689319146536960</td>\n",
              "      <td>{'username': 'annalisatheatro', 'id': 34757913...</td>\n",
              "      <td>0</td>\n",
              "      <td>0</td>\n",
              "      <td>1</td>\n",
              "      <td>0</td>\n",
              "      <td>1476689319146536960</td>\n",
              "      <td>it</td>\n",
              "      <td>&lt;a href=\"http://twitter.com/download/iphone\" r...</td>\n",
              "      <td>http://twitter.com/download/iphone</td>\n",
              "      <td>Twitter for iPhone</td>\n",
              "      <td>NaN</td>\n",
              "      <td>NaN</td>\n",
              "      <td>[{'previewUrl': 'https://pbs.twimg.com/media/F...</td>\n",
              "      <td>NaN</td>\n",
              "      <td>NaN</td>\n",
              "      <td>NaN</td>\n",
              "      <td>NaN</td>\n",
              "      <td>NaN</td>\n",
              "      <td>{'longitude': 11.9017633, 'latitude': 42.2538717}</td>\n",
              "      <td>{'fullName': 'Vetralla, Lazio', 'name': 'Vetra...</td>\n",
              "      <td>['31dicembre', 'Covid_19', 'Covid', 'italia', ...</td>\n",
              "      <td>NaN</td>\n",
              "    </tr>\n",
              "    <tr>\n",
              "      <th>2</th>\n",
              "      <td>2</td>\n",
              "      <td>2</td>\n",
              "      <td>https://twitter.com/DilfirazDegerli/status/147...</td>\n",
              "      <td>2021-12-30 22:18:06+00:00</td>\n",
              "      <td>Covid-19, Türkiye'de 30 Aralık'ta 139 toplamda...</td>\n",
              "      <td>Covid-19, Türkiye'de 30 Aralık'ta 139 toplamda...</td>\n",
              "      <td>1476679010344185861</td>\n",
              "      <td>{'username': 'DilfirazDegerli', 'id': 28401298...</td>\n",
              "      <td>0</td>\n",
              "      <td>1</td>\n",
              "      <td>1</td>\n",
              "      <td>0</td>\n",
              "      <td>1476679010344185861</td>\n",
              "      <td>tr</td>\n",
              "      <td>&lt;a href=\"http://twitter.com/download/android\" ...</td>\n",
              "      <td>http://twitter.com/download/android</td>\n",
              "      <td>Twitter for Android</td>\n",
              "      <td>['https://www.istanbulgercegi.com/covid-19-tur...</td>\n",
              "      <td>['https://t.co/54lqvNvbQC']</td>\n",
              "      <td>[{'previewUrl': 'https://pbs.twimg.com/media/F...</td>\n",
              "      <td>NaN</td>\n",
              "      <td>NaN</td>\n",
              "      <td>NaN</td>\n",
              "      <td>NaN</td>\n",
              "      <td>[{'username': 'istanbulgercegi', 'id': 2892180...</td>\n",
              "      <td>{'longitude': 26.5279979, 'latitude': 39.1665387}</td>\n",
              "      <td>{'fullName': 'Ayvalık, Balıkesir', 'name': 'Ay...</td>\n",
              "      <td>['COVID19', 'Covid_19', 'Covid', 'Koronavirüs'...</td>\n",
              "      <td>NaN</td>\n",
              "    </tr>\n",
              "    <tr>\n",
              "      <th>3</th>\n",
              "      <td>3</td>\n",
              "      <td>3</td>\n",
              "      <td>https://twitter.com/WafaaAlansarya1/status/147...</td>\n",
              "      <td>2021-12-30 21:35:56+00:00</td>\n",
              "      <td>Moreover, the smart soldiers of Allaah will in...</td>\n",
              "      <td>Moreover, the smart soldiers of Allaah will in...</td>\n",
              "      <td>1476668401787490306</td>\n",
              "      <td>{'username': 'WafaaAlansarya1', 'id': 13841317...</td>\n",
              "      <td>0</td>\n",
              "      <td>7</td>\n",
              "      <td>1</td>\n",
              "      <td>0</td>\n",
              "      <td>1476668401787490306</td>\n",
              "      <td>en</td>\n",
              "      <td>&lt;a href=\"http://twitter.com/download/android\" ...</td>\n",
              "      <td>http://twitter.com/download/android</td>\n",
              "      <td>Twitter for Android</td>\n",
              "      <td>['https://awaited-mahdi.com/showthread.php?p=3...</td>\n",
              "      <td>['https://t.co/dMGQmUDKxN']</td>\n",
              "      <td>NaN</td>\n",
              "      <td>NaN</td>\n",
              "      <td>NaN</td>\n",
              "      <td>NaN</td>\n",
              "      <td>NaN</td>\n",
              "      <td>NaN</td>\n",
              "      <td>{'longitude': 41.8153438, 'latitude': 12.1068662}</td>\n",
              "      <td>{'fullName': 'Yemen', 'name': 'Yemen', 'type':...</td>\n",
              "      <td>['ItIsCosmicAndCovidiousWar', 'Covid']</td>\n",
              "      <td>NaN</td>\n",
              "    </tr>\n",
              "    <tr>\n",
              "      <th>4</th>\n",
              "      <td>4</td>\n",
              "      <td>4</td>\n",
              "      <td>https://twitter.com/dedesi_heidinin/status/147...</td>\n",
              "      <td>2021-12-30 17:17:12+00:00</td>\n",
              "      <td>#yeniyıl #yılbaşı #pahalı #dolar #covid #2022 ...</td>\n",
              "      <td>#yeniyıl #yılbaşı #pahalı #dolar #covid #2022 ...</td>\n",
              "      <td>1476603289957502976</td>\n",
              "      <td>{'username': 'dedesi_heidinin', 'id': 33311944...</td>\n",
              "      <td>0</td>\n",
              "      <td>0</td>\n",
              "      <td>0</td>\n",
              "      <td>0</td>\n",
              "      <td>1476603289957502976</td>\n",
              "      <td>tr</td>\n",
              "      <td>&lt;a href=\"http://twitter.com/download/iphone\" r...</td>\n",
              "      <td>http://twitter.com/download/iphone</td>\n",
              "      <td>Twitter for iPhone</td>\n",
              "      <td>NaN</td>\n",
              "      <td>NaN</td>\n",
              "      <td>NaN</td>\n",
              "      <td>NaN</td>\n",
              "      <td>NaN</td>\n",
              "      <td>NaN</td>\n",
              "      <td>NaN</td>\n",
              "      <td>NaN</td>\n",
              "      <td>{'longitude': 26.7231666, 'latitude': 38.2832034}</td>\n",
              "      <td>{'fullName': 'İzmir, Türkiye', 'name': 'İzmir'...</td>\n",
              "      <td>['yeniyıl', 'yılbaşı', 'pahalı', 'dolar', 'cov...</td>\n",
              "      <td>NaN</td>\n",
              "    </tr>\n",
              "  </tbody>\n",
              "</table>\n",
              "</div>\n",
              "      <button class=\"colab-df-convert\" onclick=\"convertToInteractive('df-ed891ba6-fc8a-4cb0-a14d-35565d5be1e3')\"\n",
              "              title=\"Convert this dataframe to an interactive table.\"\n",
              "              style=\"display:none;\">\n",
              "        \n",
              "  <svg xmlns=\"http://www.w3.org/2000/svg\" height=\"24px\"viewBox=\"0 0 24 24\"\n",
              "       width=\"24px\">\n",
              "    <path d=\"M0 0h24v24H0V0z\" fill=\"none\"/>\n",
              "    <path d=\"M18.56 5.44l.94 2.06.94-2.06 2.06-.94-2.06-.94-.94-2.06-.94 2.06-2.06.94zm-11 1L8.5 8.5l.94-2.06 2.06-.94-2.06-.94L8.5 2.5l-.94 2.06-2.06.94zm10 10l.94 2.06.94-2.06 2.06-.94-2.06-.94-.94-2.06-.94 2.06-2.06.94z\"/><path d=\"M17.41 7.96l-1.37-1.37c-.4-.4-.92-.59-1.43-.59-.52 0-1.04.2-1.43.59L10.3 9.45l-7.72 7.72c-.78.78-.78 2.05 0 2.83L4 21.41c.39.39.9.59 1.41.59.51 0 1.02-.2 1.41-.59l7.78-7.78 2.81-2.81c.8-.78.8-2.07 0-2.86zM5.41 20L4 18.59l7.72-7.72 1.47 1.35L5.41 20z\"/>\n",
              "  </svg>\n",
              "      </button>\n",
              "      \n",
              "  <style>\n",
              "    .colab-df-container {\n",
              "      display:flex;\n",
              "      flex-wrap:wrap;\n",
              "      gap: 12px;\n",
              "    }\n",
              "\n",
              "    .colab-df-convert {\n",
              "      background-color: #E8F0FE;\n",
              "      border: none;\n",
              "      border-radius: 50%;\n",
              "      cursor: pointer;\n",
              "      display: none;\n",
              "      fill: #1967D2;\n",
              "      height: 32px;\n",
              "      padding: 0 0 0 0;\n",
              "      width: 32px;\n",
              "    }\n",
              "\n",
              "    .colab-df-convert:hover {\n",
              "      background-color: #E2EBFA;\n",
              "      box-shadow: 0px 1px 2px rgba(60, 64, 67, 0.3), 0px 1px 3px 1px rgba(60, 64, 67, 0.15);\n",
              "      fill: #174EA6;\n",
              "    }\n",
              "\n",
              "    [theme=dark] .colab-df-convert {\n",
              "      background-color: #3B4455;\n",
              "      fill: #D2E3FC;\n",
              "    }\n",
              "\n",
              "    [theme=dark] .colab-df-convert:hover {\n",
              "      background-color: #434B5C;\n",
              "      box-shadow: 0px 1px 3px 1px rgba(0, 0, 0, 0.15);\n",
              "      filter: drop-shadow(0px 1px 2px rgba(0, 0, 0, 0.3));\n",
              "      fill: #FFFFFF;\n",
              "    }\n",
              "  </style>\n",
              "\n",
              "      <script>\n",
              "        const buttonEl =\n",
              "          document.querySelector('#df-ed891ba6-fc8a-4cb0-a14d-35565d5be1e3 button.colab-df-convert');\n",
              "        buttonEl.style.display =\n",
              "          google.colab.kernel.accessAllowed ? 'block' : 'none';\n",
              "\n",
              "        async function convertToInteractive(key) {\n",
              "          const element = document.querySelector('#df-ed891ba6-fc8a-4cb0-a14d-35565d5be1e3');\n",
              "          const dataTable =\n",
              "            await google.colab.kernel.invokeFunction('convertToInteractive',\n",
              "                                                     [key], {});\n",
              "          if (!dataTable) return;\n",
              "\n",
              "          const docLinkHtml = 'Like what you see? Visit the ' +\n",
              "            '<a target=\"_blank\" href=https://colab.research.google.com/notebooks/data_table.ipynb>data table notebook</a>'\n",
              "            + ' to learn more about interactive tables.';\n",
              "          element.innerHTML = '';\n",
              "          dataTable['output_type'] = 'display_data';\n",
              "          await google.colab.output.renderOutput(dataTable, element);\n",
              "          const docLink = document.createElement('div');\n",
              "          docLink.innerHTML = docLinkHtml;\n",
              "          element.appendChild(docLink);\n",
              "        }\n",
              "      </script>\n",
              "    </div>\n",
              "  </div>\n",
              "  "
            ],
            "text/plain": [
              "   Unnamed: 0  ...  cashtags\n",
              "0           0  ...       NaN\n",
              "1           1  ...       NaN\n",
              "2           2  ...       NaN\n",
              "3           3  ...       NaN\n",
              "4           4  ...       NaN\n",
              "\n",
              "[5 rows x 29 columns]"
            ]
          },
          "metadata": {},
          "execution_count": 5
        }
      ]
    },
    {
      "cell_type": "code",
      "source": [
        "data.info()"
      ],
      "metadata": {
        "id": "VOO80Yif6K6H",
        "colab": {
          "base_uri": "https://localhost:8080/"
        },
        "outputId": "69757cd7-df0d-47fa-aaa3-ff9b118af500"
      },
      "execution_count": 6,
      "outputs": [
        {
          "output_type": "stream",
          "name": "stdout",
          "text": [
            "<class 'pandas.core.frame.DataFrame'>\n",
            "RangeIndex: 12391 entries, 0 to 12390\n",
            "Data columns (total 29 columns):\n",
            " #   Column            Non-Null Count  Dtype  \n",
            "---  ------            --------------  -----  \n",
            " 0   Unnamed: 0        12391 non-null  int64  \n",
            " 1   Unnamed: 0.1      12391 non-null  int64  \n",
            " 2   url               12391 non-null  object \n",
            " 3   date              12391 non-null  object \n",
            " 4   content           12391 non-null  object \n",
            " 5   renderedContent   12391 non-null  object \n",
            " 6   id                12391 non-null  int64  \n",
            " 7   user              12391 non-null  object \n",
            " 8   replyCount        12391 non-null  int64  \n",
            " 9   retweetCount      12391 non-null  int64  \n",
            " 10  likeCount         12391 non-null  int64  \n",
            " 11  quoteCount        12391 non-null  int64  \n",
            " 12  conversationId    12391 non-null  int64  \n",
            " 13  lang              12391 non-null  object \n",
            " 14  source            12391 non-null  object \n",
            " 15  sourceUrl         12391 non-null  object \n",
            " 16  sourceLabel       12391 non-null  object \n",
            " 17  outlinks          4778 non-null   object \n",
            " 18  tcooutlinks       4778 non-null   object \n",
            " 19  media             4917 non-null   object \n",
            " 20  retweetedTweet    0 non-null      float64\n",
            " 21  quotedTweet       1137 non-null   object \n",
            " 22  inReplyToTweetId  827 non-null    float64\n",
            " 23  inReplyToUser     827 non-null    object \n",
            " 24  mentionedUsers    2676 non-null   object \n",
            " 25  coordinates       12386 non-null  object \n",
            " 26  place             12380 non-null  object \n",
            " 27  hashtags          12383 non-null  object \n",
            " 28  cashtags          2 non-null      object \n",
            "dtypes: float64(2), int64(8), object(19)\n",
            "memory usage: 2.7+ MB\n"
          ]
        }
      ]
    },
    {
      "cell_type": "code",
      "source": [
        "fig = px.histogram(data, x = data['lang'], text_auto = True, title = 'Number of languages in the tweets')\n",
        "fig.show()"
      ],
      "metadata": {
        "id": "YThre7kt7NcY",
        "colab": {
          "base_uri": "https://localhost:8080/",
          "height": 542
        },
        "outputId": "3e004f4d-a5d4-4910-8a35-1f013c2621cf"
      },
      "execution_count": 7,
      "outputs": [
        {
          "output_type": "display_data",
          "data": {
            "text/html": [
              "<html>\n",
              "<head><meta charset=\"utf-8\" /></head>\n",
              "<body>\n",
              "    <div>            <script src=\"https://cdnjs.cloudflare.com/ajax/libs/mathjax/2.7.5/MathJax.js?config=TeX-AMS-MML_SVG\"></script><script type=\"text/javascript\">if (window.MathJax) {MathJax.Hub.Config({SVG: {font: \"STIX-Web\"}});}</script>                <script type=\"text/javascript\">window.PlotlyConfig = {MathJaxConfig: 'local'};</script>\n",
              "        <script src=\"https://cdn.plot.ly/plotly-2.8.3.min.js\"></script>                <div id=\"fe834eca-dbb3-4282-8b6d-875be3985594\" class=\"plotly-graph-div\" style=\"height:525px; width:100%;\"></div>            <script type=\"text/javascript\">                                    window.PLOTLYENV=window.PLOTLYENV || {};                                    if (document.getElementById(\"fe834eca-dbb3-4282-8b6d-875be3985594\")) {                    Plotly.newPlot(                        \"fe834eca-dbb3-4282-8b6d-875be3985594\",                        [{\"alignmentgroup\":\"True\",\"bingroup\":\"x\",\"hovertemplate\":\"lang=%{x}<br>count=%{y}<extra></extra>\",\"legendgroup\":\"\",\"marker\":{\"color\":\"#636efa\",\"pattern\":{\"shape\":\"\"}},\"name\":\"\",\"offsetgroup\":\"\",\"orientation\":\"v\",\"showlegend\":false,\"texttemplate\":\"%{value}\",\"x\":[\"it\",\"it\",\"tr\",\"en\",\"tr\",\"en\",\"el\",\"it\",\"tr\",\"en\",\"it\",\"it\",\"it\",\"it\",\"el\",\"el\",\"el\",\"it\",\"tr\",\"el\",\"it\",\"it\",\"it\",\"it\",\"it\",\"it\",\"it\",\"und\",\"it\",\"it\",\"it\",\"it\",\"it\",\"it\",\"it\",\"tr\",\"el\",\"el\",\"it\",\"it\",\"en\",\"el\",\"ca\",\"it\",\"el\",\"und\",\"tr\",\"tr\",\"el\",\"en\",\"it\",\"it\",\"it\",\"it\",\"sl\",\"tr\",\"it\",\"tr\",\"tr\",\"it\",\"el\",\"el\",\"el\",\"el\",\"el\",\"ru\",\"it\",\"it\",\"it\",\"en\",\"el\",\"en\",\"it\",\"it\",\"el\",\"en\",\"it\",\"el\",\"el\",\"und\",\"it\",\"ca\",\"en\",\"it\",\"it\",\"it\",\"it\",\"en\",\"tr\",\"und\",\"it\",\"en\",\"it\",\"it\",\"it\",\"en\",\"it\",\"it\",\"en\",\"it\",\"it\",\"it\",\"en\",\"und\",\"it\",\"it\",\"it\",\"en\",\"it\",\"it\",\"fr\",\"en\",\"el\",\"tr\",\"it\",\"it\",\"it\",\"en\",\"tr\",\"it\",\"it\",\"en\",\"it\",\"en\",\"tr\",\"en\",\"it\",\"it\",\"it\",\"it\",\"it\",\"it\",\"it\",\"it\",\"it\",\"ur\",\"en\",\"el\",\"el\",\"it\",\"it\",\"it\",\"en\",\"tr\",\"en\",\"en\",\"en\",\"en\",\"tr\",\"it\",\"it\",\"it\",\"it\",\"und\",\"und\",\"it\",\"el\",\"it\",\"el\",\"it\",\"und\",\"tr\",\"it\",\"it\",\"el\",\"it\",\"it\",\"it\",\"it\",\"it\",\"it\",\"en\",\"und\",\"it\",\"tr\",\"it\",\"it\",\"it\",\"it\",\"it\",\"tr\",\"und\",\"it\",\"en\",\"it\",\"en\",\"it\",\"en\",\"it\",\"und\",\"und\",\"und\",\"fr\",\"fr\",\"it\",\"it\",\"it\",\"it\",\"it\",\"it\",\"en\",\"en\",\"tr\",\"en\",\"it\",\"it\",\"it\",\"en\",\"en\",\"it\",\"und\",\"und\",\"it\",\"it\",\"it\",\"und\",\"it\",\"it\",\"it\",\"it\",\"en\",\"it\",\"it\",\"en\",\"it\",\"it\",\"ca\",\"ru\",\"el\",\"it\",\"it\",\"it\",\"it\",\"it\",\"el\",\"it\",\"it\",\"it\",\"und\",\"en\",\"it\",\"it\",\"it\",\"en\",\"en\",\"en\",\"it\",\"it\",\"en\",\"it\",\"en\",\"tr\",\"en\",\"el\",\"en\",\"en\",\"tr\",\"it\",\"und\",\"tr\",\"el\",\"el\",\"it\",\"it\",\"it\",\"it\",\"en\",\"it\",\"it\",\"it\",\"it\",\"und\",\"pl\",\"und\",\"fr\",\"en\",\"it\",\"en\",\"it\",\"en\",\"en\",\"en\",\"und\",\"en\",\"it\",\"it\",\"it\",\"und\",\"it\",\"it\",\"en\",\"en\",\"en\",\"en\",\"el\",\"it\",\"tr\",\"it\",\"tr\",\"it\",\"und\",\"it\",\"tr\",\"en\",\"es\",\"tr\",\"it\",\"en\",\"en\",\"it\",\"it\",\"it\",\"en\",\"it\",\"und\",\"it\",\"it\",\"it\",\"en\",\"en\",\"it\",\"it\",\"it\",\"it\",\"it\",\"it\",\"tr\",\"ar\",\"en\",\"und\",\"it\",\"it\",\"en\",\"it\",\"it\",\"it\",\"it\",\"it\",\"it\",\"it\",\"it\",\"en\",\"en\",\"it\",\"en\",\"it\",\"it\",\"it\",\"en\",\"und\",\"ru\",\"en\",\"ca\",\"en\",\"en\",\"it\",\"und\",\"it\",\"el\",\"tr\",\"it\",\"it\",\"und\",\"it\",\"el\",\"fr\",\"tr\",\"en\",\"en\",\"it\",\"en\",\"tr\",\"el\",\"ta\",\"el\",\"und\",\"tr\",\"en\",\"en\",\"it\",\"it\",\"it\",\"en\",\"it\",\"und\",\"ro\",\"it\",\"it\",\"it\",\"en\",\"el\",\"tr\",\"en\",\"en\",\"tr\",\"en\",\"tr\",\"und\",\"it\",\"en\",\"it\",\"tr\",\"it\",\"en\",\"tr\",\"it\",\"tr\",\"und\",\"en\",\"en\",\"it\",\"tl\",\"en\",\"en\",\"und\",\"en\",\"und\",\"it\",\"it\",\"tr\",\"it\",\"es\",\"it\",\"en\",\"tr\",\"ro\",\"it\",\"it\",\"tr\",\"en\",\"en\",\"it\",\"ru\",\"en\",\"it\",\"it\",\"it\",\"en\",\"en\",\"und\",\"it\",\"en\",\"it\",\"tr\",\"it\",\"it\",\"tr\",\"en\",\"en\",\"it\",\"und\",\"tr\",\"it\",\"tr\",\"en\",\"sl\",\"en\",\"tr\",\"it\",\"pl\",\"en\",\"tr\",\"en\",\"en\",\"en\",\"en\",\"tr\",\"tr\",\"und\",\"en\",\"it\",\"tr\",\"it\",\"ro\",\"ro\",\"el\",\"en\",\"it\",\"en\",\"it\",\"en\",\"tr\",\"it\",\"it\",\"it\",\"it\",\"it\",\"und\",\"en\",\"en\",\"it\",\"it\",\"tr\",\"en\",\"it\",\"it\",\"und\",\"it\",\"it\",\"tr\",\"tr\",\"it\",\"en\",\"en\",\"it\",\"tr\",\"it\",\"es\",\"en\",\"en\",\"und\",\"tr\",\"tr\",\"tr\",\"tr\",\"it\",\"it\",\"und\",\"en\",\"en\",\"en\",\"tr\",\"tr\",\"en\",\"tr\",\"en\",\"it\",\"tr\",\"tr\",\"it\",\"tr\",\"en\",\"it\",\"it\",\"und\",\"tr\",\"it\",\"en\",\"en\",\"tr\",\"tr\",\"en\",\"tr\",\"en\",\"it\",\"und\",\"und\",\"ru\",\"it\",\"en\",\"ar\",\"tr\",\"tr\",\"el\",\"tr\",\"it\",\"it\",\"it\",\"tr\",\"tr\",\"tr\",\"und\",\"it\",\"en\",\"en\",\"it\",\"en\",\"it\",\"en\",\"en\",\"it\",\"it\",\"it\",\"it\",\"it\",\"en\",\"en\",\"tr\",\"en\",\"fr\",\"tr\",\"en\",\"en\",\"und\",\"und\",\"it\",\"en\",\"it\",\"it\",\"it\",\"tr\",\"it\",\"tr\",\"it\",\"en\",\"tr\",\"it\",\"tr\",\"tr\",\"tr\",\"it\",\"tr\",\"it\",\"it\",\"en\",\"it\",\"it\",\"und\",\"el\",\"es\",\"tr\",\"und\",\"tr\",\"en\",\"und\",\"it\",\"en\",\"it\",\"en\",\"en\",\"tr\",\"und\",\"tr\",\"it\",\"it\",\"und\",\"en\",\"tr\",\"sd\",\"en\",\"it\",\"it\",\"tr\",\"el\",\"tr\",\"tr\",\"en\",\"en\",\"tr\",\"en\",\"en\",\"it\",\"tr\",\"fr\",\"en\",\"it\",\"it\",\"en\",\"en\",\"tr\",\"en\",\"tr\",\"tr\",\"it\",\"und\",\"sl\",\"und\",\"tr\",\"en\",\"it\",\"it\",\"tr\",\"en\",\"el\",\"fr\",\"tr\",\"it\",\"tr\",\"und\",\"it\",\"tr\",\"tr\",\"it\",\"und\",\"it\",\"it\",\"en\",\"en\",\"en\",\"it\",\"it\",\"en\",\"en\",\"en\",\"it\",\"fr\",\"tr\",\"tr\",\"it\",\"und\",\"en\",\"in\",\"tr\",\"en\",\"en\",\"en\",\"tr\",\"it\",\"it\",\"it\",\"it\",\"en\",\"en\",\"en\",\"tr\",\"en\",\"en\",\"it\",\"it\",\"en\",\"tr\",\"en\",\"tr\",\"it\",\"fr\",\"en\",\"tr\",\"en\",\"ur\",\"tr\",\"tr\",\"und\",\"it\",\"it\",\"und\",\"tr\",\"it\",\"hi\",\"en\",\"it\",\"it\",\"it\",\"tr\",\"tl\",\"und\",\"tr\",\"en\",\"it\",\"it\",\"en\",\"th\",\"tr\",\"en\",\"fr\",\"ar\",\"tr\",\"en\",\"tr\",\"it\",\"tr\",\"en\",\"en\",\"en\",\"tr\",\"fr\",\"fr\",\"it\",\"en\",\"it\",\"it\",\"ar\",\"tr\",\"en\",\"tr\",\"tr\",\"und\",\"it\",\"tr\",\"en\",\"it\",\"en\",\"und\",\"it\",\"it\",\"en\",\"und\",\"und\",\"it\",\"en\",\"it\",\"it\",\"en\",\"it\",\"tr\",\"tr\",\"en\",\"en\",\"tr\",\"en\",\"it\",\"ro\",\"tr\",\"iw\",\"tr\",\"en\",\"it\",\"en\",\"it\",\"en\",\"en\",\"en\",\"en\",\"en\",\"en\",\"it\",\"und\",\"en\",\"it\",\"tr\",\"en\",\"en\",\"und\",\"it\",\"tr\",\"und\",\"en\",\"en\",\"und\",\"it\",\"it\",\"en\",\"en\",\"en\",\"en\",\"it\",\"it\",\"it\",\"it\",\"tr\",\"und\",\"it\",\"en\",\"en\",\"en\",\"en\",\"en\",\"en\",\"tr\",\"en\",\"tr\",\"fr\",\"es\",\"en\",\"en\",\"it\",\"it\",\"tr\",\"it\",\"en\",\"und\",\"tr\",\"fr\",\"en\",\"und\",\"it\",\"en\",\"en\",\"en\",\"ar\",\"tr\",\"en\",\"it\",\"en\",\"und\",\"es\",\"tr\",\"tr\",\"und\",\"es\",\"tr\",\"en\",\"en\",\"en\",\"en\",\"en\",\"en\",\"en\",\"en\",\"und\",\"en\",\"it\",\"el\",\"und\",\"en\",\"en\",\"tr\",\"en\",\"en\",\"tr\",\"en\",\"tr\",\"en\",\"tr\",\"it\",\"it\",\"en\",\"en\",\"sl\",\"sl\",\"it\",\"en\",\"tr\",\"it\",\"fr\",\"en\",\"en\",\"en\",\"it\",\"it\",\"it\",\"en\",\"el\",\"it\",\"tr\",\"en\",\"en\",\"tr\",\"tr\",\"tr\",\"it\",\"ru\",\"tr\",\"tr\",\"tr\",\"en\",\"it\",\"en\",\"tr\",\"it\",\"und\",\"iw\",\"en\",\"it\",\"tr\",\"tr\",\"it\",\"it\",\"tr\",\"iw\",\"it\",\"en\",\"tr\",\"en\",\"it\",\"es\",\"it\",\"en\",\"nl\",\"tr\",\"it\",\"en\",\"it\",\"it\",\"lv\",\"en\",\"en\",\"en\",\"en\",\"tr\",\"it\",\"it\",\"fr\",\"el\",\"en\",\"tr\",\"tr\",\"it\",\"tr\",\"und\",\"und\",\"tr\",\"en\",\"tr\",\"tr\",\"it\",\"el\",\"it\",\"it\",\"en\",\"ru\",\"el\",\"it\",\"und\",\"en\",\"tr\",\"it\",\"sl\",\"sl\",\"tr\",\"tr\",\"en\",\"sl\",\"it\",\"it\",\"it\",\"tr\",\"tr\",\"tr\",\"it\",\"it\",\"tr\",\"en\",\"en\",\"in\",\"it\",\"it\",\"en\",\"en\",\"und\",\"und\",\"it\",\"ro\",\"it\",\"es\",\"en\",\"tr\",\"en\",\"en\",\"en\",\"it\",\"en\",\"it\",\"tr\",\"it\",\"lt\",\"en\",\"en\",\"ar\",\"it\",\"tr\",\"sl\",\"it\",\"en\",\"it\",\"it\",\"tr\",\"it\",\"en\",\"en\",\"it\",\"it\",\"it\",\"tr\",\"it\",\"it\",\"it\",\"en\",\"en\",\"en\",\"tr\",\"en\",\"tr\",\"fr\",\"en\",\"tr\",\"tr\",\"it\",\"it\",\"en\",\"en\",\"it\",\"en\",\"tr\",\"en\",\"en\",\"en\",\"it\",\"en\",\"en\",\"en\",\"hi\",\"en\",\"de\",\"it\",\"tr\",\"en\",\"en\",\"it\",\"en\",\"und\",\"en\",\"en\",\"it\",\"tr\",\"it\",\"hi\",\"it\",\"sl\",\"it\",\"it\",\"tr\",\"en\",\"tr\",\"it\",\"it\",\"tr\",\"en\",\"it\",\"it\",\"it\",\"tr\",\"ar\",\"it\",\"el\",\"tr\",\"en\",\"it\",\"it\",\"it\",\"it\",\"it\",\"it\",\"it\",\"tr\",\"en\",\"fr\",\"en\",\"it\",\"it\",\"it\",\"it\",\"tr\",\"tr\",\"en\",\"tr\",\"it\",\"tr\",\"it\",\"en\",\"it\",\"it\",\"en\",\"tr\",\"en\",\"en\",\"it\",\"en\",\"it\",\"en\",\"it\",\"en\",\"it\",\"it\",\"en\",\"tr\",\"tr\",\"und\",\"it\",\"en\",\"en\",\"sl\",\"und\",\"it\",\"it\",\"und\",\"it\",\"tr\",\"tr\",\"und\",\"en\",\"tr\",\"en\",\"it\",\"en\",\"es\",\"und\",\"el\",\"el\",\"it\",\"tr\",\"tr\",\"tr\",\"tr\",\"tr\",\"tr\",\"ur\",\"tr\",\"it\",\"it\",\"it\",\"en\",\"el\",\"en\",\"tr\",\"und\",\"tr\",\"it\",\"en\",\"it\",\"it\",\"it\",\"en\",\"it\",\"it\",\"und\",\"en\",\"tr\",\"tr\",\"tr\",\"tr\",\"tr\",\"tr\",\"it\",\"it\",\"und\",\"it\",\"ca\",\"en\",\"tr\",\"el\",\"en\",\"it\",\"tr\",\"it\",\"und\",\"ur\",\"hi\",\"tr\",\"it\",\"en\",\"tr\",\"tr\",\"it\",\"it\",\"ru\",\"it\",\"it\",\"tr\",\"it\",\"und\",\"it\",\"tr\",\"it\",\"en\",\"it\",\"en\",\"it\",\"en\",\"it\",\"it\",\"en\",\"it\",\"it\",\"it\",\"it\",\"it\",\"it\",\"it\",\"it\",\"it\",\"it\",\"ca\",\"en\",\"it\",\"el\",\"tr\",\"tr\",\"tr\",\"de\",\"tr\",\"el\",\"tr\",\"tr\",\"en\",\"it\",\"tr\",\"it\",\"it\",\"it\",\"it\",\"tr\",\"en\",\"it\",\"tr\",\"el\",\"it\",\"ur\",\"tr\",\"tr\",\"tr\",\"en\",\"tr\",\"en\",\"tr\",\"en\",\"in\",\"tr\",\"en\",\"en\",\"en\",\"und\",\"it\",\"en\",\"cs\",\"es\",\"pt\",\"en\",\"tr\",\"it\",\"en\",\"it\",\"it\",\"en\",\"en\",\"ur\",\"und\",\"it\",\"en\",\"it\",\"it\",\"tr\",\"it\",\"en\",\"it\",\"it\",\"it\",\"it\",\"it\",\"it\",\"it\",\"it\",\"it\",\"ar\",\"en\",\"en\",\"en\",\"it\",\"it\",\"und\",\"en\",\"tr\",\"en\",\"in\",\"und\",\"it\",\"en\",\"hi\",\"en\",\"tr\",\"tr\",\"und\",\"it\",\"it\",\"it\",\"it\",\"it\",\"tr\",\"en\",\"it\",\"it\",\"en\",\"it\",\"tr\",\"it\",\"tr\",\"it\",\"it\",\"it\",\"it\",\"it\",\"it\",\"tr\",\"it\",\"und\",\"und\",\"und\",\"tr\",\"tr\",\"tr\",\"it\",\"it\",\"tr\",\"tr\",\"tr\",\"it\",\"en\",\"und\",\"tr\",\"it\",\"tr\",\"it\",\"tr\",\"tr\",\"tr\",\"tr\",\"it\",\"it\",\"it\",\"it\",\"en\",\"tr\",\"it\",\"tr\",\"tr\",\"tr\",\"tr\",\"en\",\"it\",\"en\",\"tr\",\"it\",\"it\",\"en\",\"en\",\"it\",\"it\",\"und\",\"it\",\"und\",\"tr\",\"it\",\"it\",\"tr\",\"tr\",\"tr\",\"tr\",\"tr\",\"it\",\"tr\",\"it\",\"tr\",\"und\",\"it\",\"tr\",\"und\",\"en\",\"tr\",\"en\",\"it\",\"it\",\"tr\",\"tr\",\"it\",\"tr\",\"it\",\"fr\",\"it\",\"it\",\"und\",\"it\",\"it\",\"en\",\"tr\",\"it\",\"en\",\"tr\",\"en\",\"tr\",\"it\",\"tr\",\"it\",\"tr\",\"it\",\"it\",\"en\",\"it\",\"it\",\"en\",\"it\",\"tr\",\"it\",\"it\",\"fi\",\"en\",\"en\",\"tr\",\"it\",\"und\",\"tr\",\"fi\",\"tr\",\"it\",\"tr\",\"it\",\"it\",\"it\",\"it\",\"it\",\"it\",\"und\",\"tr\",\"el\",\"it\",\"tr\",\"en\",\"el\",\"it\",\"tr\",\"tr\",\"it\",\"en\",\"tr\",\"it\",\"it\",\"tr\",\"tr\",\"en\",\"tr\",\"it\",\"it\",\"it\",\"it\",\"en\",\"en\",\"tr\",\"tr\",\"tr\",\"tr\",\"tr\",\"tr\",\"tr\",\"it\",\"it\",\"tr\",\"tr\",\"tr\",\"tr\",\"tr\",\"tr\",\"tr\",\"tr\",\"tr\",\"tr\",\"en\",\"en\",\"it\",\"und\",\"tr\",\"tr\",\"en\",\"tr\",\"el\",\"it\",\"en\",\"tr\",\"it\",\"tr\",\"tr\",\"pl\",\"en\",\"tr\",\"it\",\"tr\",\"it\",\"en\",\"tr\",\"it\",\"tr\",\"en\",\"tr\",\"und\",\"und\",\"tr\",\"it\",\"it\",\"it\",\"tr\",\"it\",\"tr\",\"tr\",\"und\",\"it\",\"und\",\"tr\",\"tr\",\"it\",\"it\",\"it\",\"en\",\"tr\",\"en\",\"tr\",\"tr\",\"it\",\"it\",\"en\",\"en\",\"tr\",\"it\",\"it\",\"it\",\"en\",\"sr\",\"tr\",\"en\",\"en\",\"tr\",\"it\",\"it\",\"en\",\"und\",\"und\",\"und\",\"und\",\"tr\",\"tr\",\"und\",\"it\",\"en\",\"en\",\"el\",\"en\",\"tr\",\"ro\",\"und\",\"fi\",\"en\",\"tr\",\"it\",\"el\",\"el\",\"tr\",\"it\",\"tr\",\"en\",\"und\",\"it\",\"it\",\"it\",\"el\",\"tr\",\"it\",\"tr\",\"en\",\"tr\",\"it\",\"en\",\"tr\",\"it\",\"it\",\"el\",\"it\",\"tr\",\"it\",\"it\",\"tr\",\"el\",\"en\",\"tr\",\"tr\",\"en\",\"fr\",\"it\",\"tr\",\"it\",\"ar\",\"tr\",\"en\",\"it\",\"it\",\"it\",\"tr\",\"en\",\"tr\",\"it\",\"it\",\"it\",\"it\",\"it\",\"it\",\"el\",\"en\",\"it\",\"it\",\"it\",\"it\",\"it\",\"it\",\"it\",\"tr\",\"tr\",\"it\",\"it\",\"tr\",\"it\",\"und\",\"und\",\"en\",\"it\",\"es\",\"en\",\"it\",\"it\",\"it\",\"it\",\"it\",\"it\",\"en\",\"it\",\"tr\",\"it\",\"en\",\"it\",\"it\",\"it\",\"it\",\"it\",\"it\",\"en\",\"it\",\"en\",\"tr\",\"tr\",\"tr\",\"it\",\"it\",\"tr\",\"tr\",\"en\",\"it\",\"und\",\"it\",\"und\",\"en\",\"it\",\"it\",\"it\",\"it\",\"it\",\"it\",\"it\",\"tr\",\"it\",\"en\",\"und\",\"de\",\"it\",\"pl\",\"en\",\"tl\",\"und\",\"en\",\"it\",\"tr\",\"es\",\"it\",\"it\",\"en\",\"it\",\"en\",\"en\",\"tr\",\"it\",\"it\",\"it\",\"it\",\"tr\",\"tr\",\"it\",\"tr\",\"tr\",\"tr\",\"it\",\"en\",\"el\",\"it\",\"und\",\"tr\",\"en\",\"en\",\"it\",\"en\",\"tr\",\"en\",\"en\",\"it\",\"it\",\"it\",\"tr\",\"tr\",\"it\",\"it\",\"it\",\"it\",\"tr\",\"it\",\"el\",\"tr\",\"en\",\"en\",\"en\",\"und\",\"it\",\"it\",\"it\",\"tr\",\"it\",\"el\",\"tr\",\"it\",\"und\",\"en\",\"it\",\"it\",\"it\",\"it\",\"tr\",\"fa\",\"tr\",\"tr\",\"it\",\"it\",\"it\",\"it\",\"it\",\"it\",\"tr\",\"it\",\"und\",\"tr\",\"tr\",\"tr\",\"it\",\"it\",\"it\",\"it\",\"el\",\"en\",\"it\",\"en\",\"it\",\"en\",\"it\",\"tr\",\"tr\",\"tr\",\"tr\",\"tr\",\"it\",\"el\",\"el\",\"it\",\"it\",\"en\",\"it\",\"it\",\"it\",\"und\",\"pt\",\"en\",\"it\",\"it\",\"it\",\"ur\",\"it\",\"it\",\"it\",\"und\",\"it\",\"en\",\"en\",\"en\",\"it\",\"en\",\"und\",\"en\",\"it\",\"it\",\"it\",\"tr\",\"en\",\"en\",\"it\",\"tr\",\"tr\",\"it\",\"it\",\"en\",\"en\",\"en\",\"en\",\"it\",\"tr\",\"it\",\"it\",\"en\",\"und\",\"it\",\"tr\",\"it\",\"en\",\"tr\",\"it\",\"tr\",\"tr\",\"tr\",\"it\",\"it\",\"it\",\"tr\",\"en\",\"it\",\"fi\",\"en\",\"en\",\"en\",\"en\",\"en\",\"it\",\"und\",\"en\",\"en\",\"tr\",\"tr\",\"tr\",\"tr\",\"tr\",\"tr\",\"tr\",\"it\",\"sv\",\"en\",\"en\",\"it\",\"it\",\"en\",\"it\",\"en\",\"tr\",\"it\",\"tr\",\"en\",\"en\",\"es\",\"en\",\"tr\",\"el\",\"it\",\"tr\",\"tr\",\"und\",\"tr\",\"tr\",\"und\",\"ar\",\"en\",\"en\",\"it\",\"it\",\"en\",\"tr\",\"en\",\"tr\",\"tr\",\"it\",\"it\",\"it\",\"ro\",\"it\",\"it\",\"en\",\"in\",\"ro\",\"tr\",\"tr\",\"tr\",\"tr\",\"it\",\"en\",\"en\",\"el\",\"en\",\"en\",\"tr\",\"it\",\"it\",\"en\",\"tr\",\"it\",\"it\",\"und\",\"und\",\"it\",\"und\",\"tr\",\"it\",\"it\",\"it\",\"it\",\"it\",\"en\",\"it\",\"it\",\"en\",\"el\",\"tr\",\"en\",\"tr\",\"it\",\"it\",\"it\",\"it\",\"it\",\"pt\",\"tr\",\"tr\",\"tr\",\"it\",\"it\",\"es\",\"it\",\"it\",\"it\",\"tr\",\"en\",\"tr\",\"en\",\"und\",\"it\",\"und\",\"ar\",\"und\",\"it\",\"tr\",\"und\",\"tr\",\"tr\",\"it\",\"it\",\"it\",\"tr\",\"it\",\"und\",\"tr\",\"tr\",\"it\",\"it\",\"it\",\"en\",\"it\",\"tr\",\"it\",\"el\",\"it\",\"en\",\"it\",\"it\",\"en\",\"it\",\"it\",\"en\",\"el\",\"en\",\"it\",\"tr\",\"und\",\"el\",\"tr\",\"it\",\"it\",\"it\",\"it\",\"tr\",\"en\",\"en\",\"it\",\"it\",\"tr\",\"und\",\"it\",\"tr\",\"it\",\"en\",\"en\",\"it\",\"en\",\"it\",\"tr\",\"en\",\"in\",\"tr\",\"it\",\"en\",\"tr\",\"it\",\"it\",\"en\",\"tr\",\"it\",\"tr\",\"tr\",\"it\",\"tr\",\"tr\",\"tr\",\"it\",\"tr\",\"it\",\"tr\",\"tr\",\"ar\",\"tr\",\"en\",\"und\",\"it\",\"en\",\"it\",\"en\",\"it\",\"en\",\"tr\",\"en\",\"en\",\"it\",\"tr\",\"en\",\"und\",\"tr\",\"it\",\"en\",\"en\",\"tr\",\"und\",\"tr\",\"en\",\"en\",\"tr\",\"it\",\"tr\",\"it\",\"en\",\"it\",\"en\",\"en\",\"en\",\"it\",\"und\",\"it\",\"it\",\"tr\",\"tr\",\"en\",\"en\",\"it\",\"en\",\"und\",\"it\",\"en\",\"en\",\"ar\",\"en\",\"ar\",\"it\",\"und\",\"en\",\"tr\",\"en\",\"fr\",\"en\",\"it\",\"it\",\"en\",\"en\",\"en\",\"it\",\"it\",\"en\",\"it\",\"it\",\"it\",\"ur\",\"it\",\"en\",\"it\",\"en\",\"en\",\"en\",\"en\",\"en\",\"en\",\"en\",\"en\",\"en\",\"en\",\"en\",\"en\",\"en\",\"en\",\"el\",\"en\",\"it\",\"en\",\"tr\",\"tr\",\"it\",\"el\",\"it\",\"el\",\"tr\",\"it\",\"en\",\"it\",\"it\",\"it\",\"en\",\"tr\",\"tr\",\"it\",\"tr\",\"en\",\"en\",\"ar\",\"el\",\"und\",\"en\",\"tr\",\"en\",\"it\",\"it\",\"it\",\"tr\",\"en\",\"ar\",\"en\",\"tr\",\"tr\",\"tr\",\"it\",\"it\",\"tr\",\"it\",\"en\",\"it\",\"it\",\"tr\",\"it\",\"it\",\"it\",\"und\",\"it\",\"tr\",\"tr\",\"tr\",\"it\",\"en\",\"it\",\"it\",\"en\",\"und\",\"en\",\"en\",\"it\",\"en\",\"tr\",\"tr\",\"ru\",\"en\",\"en\",\"it\",\"en\",\"en\",\"en\",\"tr\",\"it\",\"en\",\"it\",\"ar\",\"it\",\"tr\",\"it\",\"it\",\"it\",\"en\",\"ar\",\"tr\",\"en\",\"und\",\"it\",\"el\",\"it\",\"it\",\"it\",\"it\",\"und\",\"tr\",\"it\",\"en\",\"fr\",\"it\",\"tr\",\"en\",\"tr\",\"it\",\"tr\",\"tr\",\"tr\",\"ar\",\"tr\",\"it\",\"en\",\"tr\",\"it\",\"en\",\"en\",\"en\",\"tr\",\"tr\",\"el\",\"tr\",\"it\",\"und\",\"tr\",\"en\",\"tr\",\"it\",\"und\",\"tr\",\"it\",\"und\",\"tr\",\"tr\",\"it\",\"tr\",\"it\",\"it\",\"it\",\"und\",\"tr\",\"es\",\"it\",\"tr\",\"tr\",\"tr\",\"it\",\"und\",\"it\",\"tr\",\"it\",\"und\",\"it\",\"el\",\"en\",\"en\",\"it\",\"tr\",\"it\",\"en\",\"it\",\"en\",\"tr\",\"en\",\"it\",\"en\",\"in\",\"en\",\"und\",\"it\",\"ar\",\"en\",\"tr\",\"ca\",\"und\",\"tr\",\"en\",\"ar\",\"it\",\"und\",\"tr\",\"it\",\"it\",\"it\",\"tr\",\"tr\",\"und\",\"it\",\"it\",\"it\",\"tr\",\"tr\",\"tr\",\"en\",\"en\",\"it\",\"it\",\"el\",\"tr\",\"und\",\"it\",\"it\",\"en\",\"it\",\"it\",\"it\",\"en\",\"el\",\"it\",\"ar\",\"en\",\"it\",\"it\",\"it\",\"it\",\"it\",\"tr\",\"it\",\"en\",\"en\",\"en\",\"it\",\"en\",\"en\",\"en\",\"it\",\"en\",\"en\",\"it\",\"it\",\"it\",\"en\",\"en\",\"tr\",\"tr\",\"it\",\"en\",\"tr\",\"und\",\"it\",\"en\",\"it\",\"it\",\"it\",\"fr\",\"tr\",\"en\",\"ar\",\"tr\",\"it\",\"it\",\"it\",\"tr\",\"tr\",\"tr\",\"tr\",\"und\",\"it\",\"it\",\"tr\",\"en\",\"tr\",\"it\",\"es\",\"tr\",\"und\",\"en\",\"tr\",\"it\",\"en\",\"en\",\"it\",\"it\",\"en\",\"el\",\"en\",\"und\",\"el\",\"it\",\"tr\",\"tr\",\"tr\",\"it\",\"und\",\"tr\",\"und\",\"en\",\"en\",\"en\",\"en\",\"tr\",\"en\",\"en\",\"el\",\"tr\",\"it\",\"it\",\"it\",\"tr\",\"tr\",\"it\",\"en\",\"tr\",\"tr\",\"it\",\"fr\",\"en\",\"tr\",\"tr\",\"tr\",\"tr\",\"tr\",\"tr\",\"tr\",\"und\",\"en\",\"tr\",\"it\",\"it\",\"in\",\"in\",\"et\",\"cy\",\"tr\",\"it\",\"tr\",\"it\",\"it\",\"hi\",\"en\",\"tr\",\"it\",\"tr\",\"ar\",\"en\",\"tr\",\"it\",\"it\",\"it\",\"tr\",\"tr\",\"tr\",\"tr\",\"en\",\"fa\",\"tr\",\"en\",\"it\",\"tr\",\"it\",\"it\",\"it\",\"tr\",\"it\",\"it\",\"tr\",\"tr\",\"tr\",\"tr\",\"tr\",\"en\",\"tr\",\"it\",\"en\",\"it\",\"it\",\"tr\",\"und\",\"ar\",\"tr\",\"en\",\"it\",\"tr\",\"en\",\"en\",\"tr\",\"fa\",\"it\",\"it\",\"pt\",\"en\",\"en\",\"tr\",\"tr\",\"en\",\"it\",\"und\",\"pt\",\"tr\",\"tr\",\"tr\",\"sl\",\"tr\",\"it\",\"it\",\"it\",\"tr\",\"it\",\"it\",\"it\",\"it\",\"en\",\"en\",\"it\",\"und\",\"tr\",\"tr\",\"tr\",\"tr\",\"en\",\"und\",\"und\",\"und\",\"en\",\"und\",\"it\",\"en\",\"en\",\"en\",\"tr\",\"tr\",\"tr\",\"fr\",\"tr\",\"tr\",\"und\",\"it\",\"tr\",\"el\",\"und\",\"tr\",\"it\",\"und\",\"en\",\"en\",\"en\",\"it\",\"en\",\"tr\",\"it\",\"tr\",\"it\",\"el\",\"en\",\"it\",\"tr\",\"it\",\"tr\",\"it\",\"tr\",\"it\",\"fr\",\"en\",\"es\",\"it\",\"tr\",\"tr\",\"en\",\"tr\",\"it\",\"it\",\"und\",\"it\",\"it\",\"tr\",\"el\",\"el\",\"en\",\"tr\",\"it\",\"tr\",\"tr\",\"et\",\"tr\",\"tr\",\"und\",\"it\",\"es\",\"it\",\"it\",\"fr\",\"tr\",\"tr\",\"tr\",\"tr\",\"it\",\"es\",\"en\",\"tr\",\"tr\",\"it\",\"en\",\"it\",\"it\",\"tr\",\"und\",\"it\",\"it\",\"tr\",\"it\",\"en\",\"und\",\"tr\",\"tr\",\"en\",\"en\",\"tr\",\"tr\",\"tr\",\"tr\",\"tr\",\"in\",\"tr\",\"it\",\"tr\",\"it\",\"it\",\"it\",\"en\",\"tr\",\"en\",\"tr\",\"tr\",\"tr\",\"tr\",\"tl\",\"tr\",\"tr\",\"tr\",\"el\",\"it\",\"pl\",\"en\",\"it\",\"it\",\"it\",\"tr\",\"und\",\"tr\",\"it\",\"it\",\"en\",\"it\",\"it\",\"el\",\"en\",\"und\",\"tr\",\"tr\",\"ar\",\"it\",\"it\",\"en\",\"it\",\"it\",\"it\",\"tr\",\"it\",\"it\",\"tr\",\"it\",\"it\",\"it\",\"und\",\"it\",\"it\",\"it\",\"it\",\"it\",\"it\",\"el\",\"it\",\"it\",\"it\",\"it\",\"el\",\"it\",\"it\",\"en\",\"tr\",\"en\",\"nl\",\"it\",\"tr\",\"it\",\"tr\",\"en\",\"it\",\"en\",\"it\",\"it\",\"it\",\"it\",\"tr\",\"en\",\"tr\",\"tr\",\"tr\",\"it\",\"und\",\"en\",\"it\",\"und\",\"it\",\"tr\",\"und\",\"el\",\"tr\",\"it\",\"el\",\"tr\",\"und\",\"en\",\"tr\",\"en\",\"en\",\"en\",\"tr\",\"it\",\"it\",\"en\",\"tr\",\"und\",\"tr\",\"it\",\"it\",\"tr\",\"el\",\"tr\",\"it\",\"it\",\"en\",\"it\",\"it\",\"it\",\"tr\",\"en\",\"tr\",\"tr\",\"und\",\"it\",\"it\",\"de\",\"tr\",\"tr\",\"el\",\"el\",\"it\",\"it\",\"tr\",\"und\",\"und\",\"it\",\"it\",\"en\",\"en\",\"el\",\"und\",\"tr\",\"tr\",\"tr\",\"en\",\"tr\",\"tr\",\"it\",\"tr\",\"tr\",\"tr\",\"en\",\"it\",\"en\",\"tr\",\"tr\",\"tr\",\"tr\",\"it\",\"und\",\"en\",\"en\",\"tr\",\"it\",\"it\",\"tr\",\"it\",\"tr\",\"tr\",\"it\",\"tr\",\"it\",\"tr\",\"el\",\"it\",\"it\",\"en\",\"tr\",\"it\",\"tr\",\"it\",\"tr\",\"it\",\"it\",\"en\",\"tr\",\"tr\",\"und\",\"tr\",\"it\",\"tr\",\"it\",\"tr\",\"it\",\"en\",\"en\",\"tr\",\"tr\",\"tr\",\"tr\",\"tr\",\"es\",\"tr\",\"tr\",\"it\",\"tr\",\"tr\",\"tr\",\"und\",\"und\",\"und\",\"it\",\"it\",\"it\",\"tr\",\"it\",\"tr\",\"tr\",\"und\",\"tr\",\"tr\",\"tr\",\"tr\",\"tr\",\"tr\",\"it\",\"it\",\"tr\",\"en\",\"it\",\"tr\",\"tr\",\"it\",\"en\",\"it\",\"tr\",\"tr\",\"tr\",\"it\",\"it\",\"tr\",\"und\",\"it\",\"it\",\"it\",\"tr\",\"it\",\"it\",\"und\",\"en\",\"it\",\"und\",\"en\",\"und\",\"tr\",\"it\",\"tr\",\"tr\",\"it\",\"en\",\"tr\",\"it\",\"it\",\"tr\",\"tr\",\"tr\",\"tr\",\"en\",\"tr\",\"tr\",\"tr\",\"it\",\"tr\",\"en\",\"tr\",\"en\",\"en\",\"it\",\"tr\",\"und\",\"tr\",\"tr\",\"tr\",\"tr\",\"el\",\"it\",\"und\",\"und\",\"it\",\"tr\",\"tr\",\"tr\",\"tr\",\"it\",\"tr\",\"tr\",\"vi\",\"tr\",\"it\",\"tr\",\"en\",\"tr\",\"it\",\"it\",\"tr\",\"it\",\"en\",\"tr\",\"tr\",\"it\",\"tr\",\"tr\",\"tr\",\"tr\",\"tr\",\"it\",\"en\",\"it\",\"tr\",\"tr\",\"tr\",\"tr\",\"tr\",\"tr\",\"tr\",\"el\",\"tr\",\"tr\",\"it\",\"tr\",\"und\",\"el\",\"el\",\"tr\",\"tr\",\"tr\",\"it\",\"und\",\"tr\",\"it\",\"tr\",\"tr\",\"tr\",\"tr\",\"tr\",\"it\",\"it\",\"tr\",\"en\",\"tr\",\"tr\",\"tr\",\"it\",\"tr\",\"tr\",\"it\",\"it\",\"it\",\"tr\",\"tr\",\"it\",\"und\",\"tr\",\"und\",\"und\",\"en\",\"tr\",\"tr\",\"tr\",\"el\",\"en\",\"en\",\"es\",\"tr\",\"tr\",\"it\",\"tr\",\"en\",\"en\",\"und\",\"tr\",\"it\",\"und\",\"tr\",\"und\",\"en\",\"und\",\"tr\",\"tr\",\"und\",\"und\",\"tr\",\"tr\",\"it\",\"tr\",\"en\",\"it\",\"tr\",\"it\",\"tr\",\"en\",\"und\",\"tr\",\"it\",\"tr\",\"it\",\"tr\",\"tr\",\"ro\",\"tr\",\"it\",\"it\",\"el\",\"en\",\"it\",\"it\",\"tr\",\"en\",\"tr\",\"it\",\"en\",\"tr\",\"und\",\"tr\",\"tr\",\"tr\",\"und\",\"it\",\"tr\",\"en\",\"en\",\"und\",\"tr\",\"tr\",\"en\",\"it\",\"tr\",\"tr\",\"en\",\"fr\",\"tr\",\"el\",\"tr\",\"und\",\"tr\",\"it\",\"und\",\"tr\",\"it\",\"tr\",\"it\",\"it\",\"und\",\"it\",\"el\",\"it\",\"it\",\"tr\",\"en\",\"el\",\"tr\",\"it\",\"tr\",\"tr\",\"it\",\"tr\",\"tr\",\"tr\",\"tr\",\"en\",\"tr\",\"und\",\"en\",\"tr\",\"tr\",\"en\",\"tr\",\"tr\",\"tr\",\"tr\",\"en\",\"en\",\"it\",\"und\",\"tr\",\"tr\",\"tr\",\"it\",\"tr\",\"it\",\"it\",\"el\",\"en\",\"en\",\"el\",\"tr\",\"tr\",\"it\",\"it\",\"tr\",\"it\",\"en\",\"tr\",\"el\",\"tr\",\"und\",\"tr\",\"tr\",\"tr\",\"en\",\"it\",\"tr\",\"tr\",\"und\",\"tr\",\"en\",\"it\",\"und\",\"el\",\"und\",\"el\",\"und\",\"und\",\"und\",\"und\",\"tr\",\"tr\",\"tr\",\"en\",\"it\",\"tr\",\"de\",\"el\",\"und\",\"tr\",\"it\",\"it\",\"tr\",\"tr\",\"tr\",\"en\",\"tr\",\"el\",\"it\",\"tr\",\"und\",\"tr\",\"fa\",\"it\",\"it\",\"en\",\"en\",\"en\",\"it\",\"tr\",\"und\",\"und\",\"und\",\"tr\",\"tr\",\"tr\",\"et\",\"en\",\"tr\",\"it\",\"tr\",\"tr\",\"it\",\"el\",\"tr\",\"it\",\"und\",\"it\",\"en\",\"tr\",\"el\",\"tr\",\"it\",\"tr\",\"und\",\"en\",\"it\",\"en\",\"en\",\"tr\",\"tr\",\"it\",\"en\",\"el\",\"en\",\"en\",\"it\",\"tr\",\"tr\",\"tr\",\"it\",\"it\",\"tr\",\"en\",\"tr\",\"en\",\"tr\",\"tr\",\"it\",\"tr\",\"tr\",\"it\",\"tr\",\"el\",\"it\",\"tr\",\"it\",\"it\",\"tr\",\"tr\",\"tr\",\"it\",\"it\",\"tr\",\"it\",\"it\",\"it\",\"it\",\"it\",\"en\",\"it\",\"und\",\"tr\",\"el\",\"en\",\"it\",\"en\",\"tr\",\"tr\",\"tr\",\"el\",\"it\",\"it\",\"tr\",\"tr\",\"el\",\"el\",\"it\",\"tr\",\"tr\",\"tr\",\"tr\",\"tr\",\"tr\",\"tr\",\"und\",\"tr\",\"tr\",\"tr\",\"tr\",\"tr\",\"en\",\"it\",\"it\",\"tr\",\"tr\",\"tr\",\"und\",\"und\",\"und\",\"it\",\"tr\",\"tr\",\"tr\",\"en\",\"tr\",\"und\",\"tr\",\"tr\",\"en\",\"it\",\"el\",\"it\",\"tr\",\"it\",\"tr\",\"und\",\"tr\",\"en\",\"tr\",\"tr\",\"el\",\"tr\",\"el\",\"en\",\"und\",\"it\",\"tr\",\"es\",\"it\",\"und\",\"tr\",\"und\",\"und\",\"en\",\"en\",\"en\",\"tr\",\"tr\",\"it\",\"tr\",\"tr\",\"el\",\"it\",\"tr\",\"tr\",\"tr\",\"tr\",\"in\",\"tr\",\"it\",\"it\",\"el\",\"en\",\"und\",\"tr\",\"it\",\"it\",\"und\",\"en\",\"it\",\"en\",\"it\",\"it\",\"und\",\"it\",\"it\",\"it\",\"el\",\"it\",\"en\",\"lt\",\"tr\",\"tr\",\"tr\",\"it\",\"tr\",\"tr\",\"tr\",\"en\",\"tr\",\"tr\",\"tr\",\"en\",\"tr\",\"it\",\"en\",\"tr\",\"tr\",\"tr\",\"und\",\"it\",\"it\",\"tr\",\"tr\",\"tr\",\"it\",\"es\",\"tr\",\"it\",\"el\",\"ca\",\"en\",\"tr\",\"el\",\"tr\",\"tr\",\"tr\",\"und\",\"tr\",\"tr\",\"und\",\"en\",\"en\",\"und\",\"el\",\"tr\",\"it\",\"es\",\"it\",\"tr\",\"tr\",\"tr\",\"tr\",\"tr\",\"tr\",\"en\",\"it\",\"it\",\"tr\",\"en\",\"tr\",\"tr\",\"it\",\"it\",\"es\",\"tr\",\"tr\",\"tr\",\"en\",\"it\",\"tr\",\"und\",\"tr\",\"tr\",\"und\",\"tr\",\"und\",\"it\",\"tr\",\"tr\",\"tr\",\"tr\",\"it\",\"tr\",\"fr\",\"it\",\"und\",\"it\",\"und\",\"tr\",\"tr\",\"und\",\"tr\",\"und\",\"tr\",\"tr\",\"it\",\"tr\",\"tr\",\"en\",\"it\",\"tr\",\"en\",\"tr\",\"en\",\"it\",\"it\",\"hi\",\"tr\",\"tr\",\"tr\",\"tr\",\"el\",\"tr\",\"tr\",\"und\",\"tr\",\"tr\",\"tr\",\"tr\",\"und\",\"tr\",\"und\",\"en\",\"it\",\"it\",\"it\",\"tr\",\"und\",\"en\",\"it\",\"tr\",\"en\",\"und\",\"it\",\"el\",\"it\",\"it\",\"tr\",\"it\",\"tr\",\"en\",\"tr\",\"und\",\"tr\",\"it\",\"und\",\"it\",\"en\",\"ar\",\"it\",\"it\",\"ru\",\"tr\",\"it\",\"it\",\"en\",\"tr\",\"it\",\"tr\",\"tr\",\"el\",\"tr\",\"en\",\"tr\",\"tr\",\"it\",\"tr\",\"tr\",\"tr\",\"tr\",\"tr\",\"it\",\"it\",\"it\",\"it\",\"it\",\"tr\",\"el\",\"it\",\"tr\",\"tr\",\"tr\",\"und\",\"it\",\"it\",\"it\",\"it\",\"tr\",\"it\",\"it\",\"it\",\"tr\",\"it\",\"tr\",\"it\",\"it\",\"und\",\"it\",\"tr\",\"und\",\"it\",\"it\",\"tr\",\"tr\",\"it\",\"tr\",\"tr\",\"it\",\"tr\",\"it\",\"tr\",\"it\",\"tr\",\"und\",\"und\",\"und\",\"tr\",\"it\",\"en\",\"en\",\"en\",\"en\",\"pl\",\"tr\",\"en\",\"it\",\"it\",\"it\",\"it\",\"tr\",\"tr\",\"el\",\"und\",\"it\",\"it\",\"it\",\"it\",\"it\",\"it\",\"und\",\"tr\",\"it\",\"it\",\"und\",\"it\",\"it\",\"it\",\"it\",\"und\",\"it\",\"it\",\"tr\",\"it\",\"it\",\"it\",\"it\",\"tr\",\"tr\",\"it\",\"it\",\"it\",\"it\",\"it\",\"tr\",\"tr\",\"tr\",\"en\",\"en\",\"en\",\"en\",\"en\",\"en\",\"en\",\"en\",\"en\",\"en\",\"en\",\"en\",\"en\",\"en\",\"en\",\"en\",\"en\",\"en\",\"en\",\"en\",\"en\",\"en\",\"en\",\"it\",\"it\",\"it\",\"tr\",\"und\",\"it\",\"tr\",\"it\",\"und\",\"it\",\"tr\",\"en\",\"en\",\"tr\",\"it\",\"en\",\"tr\",\"und\",\"tr\",\"it\",\"it\",\"it\",\"it\",\"en\",\"und\",\"en\",\"en\",\"und\",\"it\",\"en\",\"und\",\"tr\",\"it\",\"it\",\"it\",\"it\",\"und\",\"tr\",\"tr\",\"en\",\"tr\",\"und\",\"und\",\"tr\",\"en\",\"tr\",\"it\",\"tr\",\"tr\",\"en\",\"en\",\"it\",\"it\",\"tr\",\"it\",\"uk\",\"it\",\"und\",\"tr\",\"it\",\"tr\",\"it\",\"en\",\"tr\",\"el\",\"en\",\"en\",\"it\",\"tr\",\"tr\",\"it\",\"en\",\"en\",\"en\",\"it\",\"tr\",\"it\",\"it\",\"tr\",\"it\",\"en\",\"en\",\"tr\",\"en\",\"en\",\"tr\",\"tr\",\"it\",\"el\",\"und\",\"it\",\"it\",\"tr\",\"it\",\"tr\",\"und\",\"en\",\"it\",\"el\",\"tr\",\"it\",\"en\",\"tr\",\"tr\",\"it\",\"fr\",\"en\",\"it\",\"en\",\"it\",\"it\",\"en\",\"it\",\"it\",\"it\",\"en\",\"tr\",\"it\",\"ar\",\"it\",\"it\",\"tr\",\"tr\",\"it\",\"und\",\"it\",\"it\",\"it\",\"it\",\"tr\",\"it\",\"it\",\"tr\",\"tr\",\"it\",\"it\",\"tr\",\"en\",\"tr\",\"en\",\"it\",\"it\",\"en\",\"tr\",\"tr\",\"tr\",\"it\",\"it\",\"tr\",\"und\",\"it\",\"it\",\"it\",\"it\",\"it\",\"it\",\"en\",\"it\",\"tr\",\"it\",\"it\",\"it\",\"tr\",\"it\",\"it\",\"und\",\"tr\",\"en\",\"it\",\"en\",\"it\",\"en\",\"en\",\"it\",\"it\",\"el\",\"it\",\"it\",\"it\",\"it\",\"tr\",\"it\",\"it\",\"en\",\"und\",\"it\",\"es\",\"it\",\"tr\",\"it\",\"it\",\"it\",\"en\",\"ar\",\"it\",\"it\",\"en\",\"en\",\"it\",\"tr\",\"en\",\"tr\",\"it\",\"tr\",\"en\",\"und\",\"it\",\"tr\",\"tr\",\"tr\",\"it\",\"tr\",\"it\",\"el\",\"it\",\"it\",\"el\",\"en\",\"en\",\"it\",\"tr\",\"it\",\"it\",\"it\",\"bg\",\"tr\",\"en\",\"it\",\"tr\",\"und\",\"it\",\"it\",\"it\",\"it\",\"it\",\"it\",\"en\",\"tr\",\"it\",\"it\",\"en\",\"it\",\"tr\",\"und\",\"und\",\"it\",\"tr\",\"tr\",\"it\",\"tr\",\"tr\",\"it\",\"tr\",\"it\",\"tr\",\"tr\",\"ar\",\"it\",\"ar\",\"und\",\"tr\",\"en\",\"it\",\"es\",\"en\",\"it\",\"it\",\"tr\",\"en\",\"en\",\"it\",\"it\",\"tr\",\"tr\",\"en\",\"en\",\"tr\",\"it\",\"it\",\"it\",\"ro\",\"tr\",\"tr\",\"en\",\"it\",\"it\",\"it\",\"it\",\"und\",\"tr\",\"tr\",\"it\",\"und\",\"it\",\"en\",\"it\",\"en\",\"it\",\"en\",\"it\",\"it\",\"it\",\"it\",\"und\",\"tr\",\"tr\",\"it\",\"tr\",\"und\",\"tr\",\"tr\",\"en\",\"tr\",\"tr\",\"en\",\"en\",\"tr\",\"tr\",\"tr\",\"en\",\"it\",\"en\",\"it\",\"it\",\"und\",\"it\",\"it\",\"et\",\"it\",\"it\",\"tr\",\"tr\",\"ar\",\"tr\",\"it\",\"tr\",\"it\",\"it\",\"it\",\"en\",\"und\",\"it\",\"it\",\"it\",\"it\",\"ro\",\"it\",\"tr\",\"it\",\"en\",\"en\",\"it\",\"en\",\"it\",\"ar\",\"it\",\"it\",\"en\",\"it\",\"tr\",\"tr\",\"it\",\"it\",\"en\",\"en\",\"tr\",\"it\",\"und\",\"it\",\"it\",\"it\",\"tr\",\"it\",\"tr\",\"en\",\"en\",\"it\",\"it\",\"en\",\"tr\",\"tr\",\"tr\",\"tr\",\"tr\",\"it\",\"en\",\"tr\",\"tr\",\"en\",\"tr\",\"tr\",\"und\",\"tr\",\"en\",\"el\",\"tr\",\"it\",\"it\",\"it\",\"it\",\"it\",\"und\",\"en\",\"und\",\"tr\",\"en\",\"it\",\"it\",\"en\",\"it\",\"it\",\"tr\",\"it\",\"it\",\"und\",\"it\",\"it\",\"en\",\"it\",\"und\",\"it\",\"tr\",\"it\",\"it\",\"it\",\"en\",\"en\",\"it\",\"en\",\"tr\",\"und\",\"en\",\"it\",\"und\",\"it\",\"it\",\"it\",\"it\",\"it\",\"es\",\"it\",\"it\",\"en\",\"und\",\"it\",\"it\",\"it\",\"tr\",\"it\",\"it\",\"und\",\"it\",\"tr\",\"it\",\"it\",\"it\",\"it\",\"en\",\"it\",\"tr\",\"it\",\"tr\",\"tr\",\"it\",\"it\",\"it\",\"it\",\"it\",\"it\",\"it\",\"tr\",\"tr\",\"it\",\"und\",\"it\",\"und\",\"it\",\"und\",\"tr\",\"en\",\"it\",\"tr\",\"tr\",\"en\",\"nl\",\"it\",\"it\",\"it\",\"it\",\"it\",\"it\",\"it\",\"tr\",\"it\",\"it\",\"tr\",\"tr\",\"it\",\"tr\",\"it\",\"it\",\"es\",\"it\",\"it\",\"it\",\"it\",\"it\",\"it\",\"tr\",\"et\",\"it\",\"it\",\"tr\",\"tr\",\"it\",\"it\",\"und\",\"tr\",\"it\",\"it\",\"it\",\"en\",\"it\",\"it\",\"tr\",\"tr\",\"it\",\"it\",\"it\",\"en\",\"en\",\"en\",\"it\",\"it\",\"it\",\"it\",\"it\",\"tr\",\"it\",\"it\",\"en\",\"it\",\"it\",\"it\",\"it\",\"it\",\"it\",\"tr\",\"tr\",\"it\",\"it\",\"it\",\"tr\",\"it\",\"it\",\"it\",\"it\",\"it\",\"it\",\"it\",\"el\",\"it\",\"it\",\"tr\",\"it\",\"el\",\"in\",\"es\",\"tr\",\"tr\",\"tr\",\"tr\",\"tr\",\"tr\",\"it\",\"tr\",\"el\",\"it\",\"it\",\"it\",\"en\",\"it\",\"it\",\"it\",\"it\",\"und\",\"tr\",\"it\",\"el\",\"it\",\"tr\",\"it\",\"und\",\"it\",\"tr\",\"it\",\"en\",\"it\",\"en\",\"tr\",\"en\",\"en\",\"el\",\"it\",\"it\",\"en\",\"it\",\"it\",\"it\",\"tr\",\"en\",\"und\",\"it\",\"it\",\"it\",\"it\",\"el\",\"en\",\"und\",\"hu\",\"und\",\"en\",\"en\",\"it\",\"it\",\"it\",\"tr\",\"it\",\"tr\",\"it\",\"tr\",\"tr\",\"tr\",\"und\",\"it\",\"tr\",\"it\",\"en\",\"it\",\"en\",\"it\",\"en\",\"it\",\"it\",\"und\",\"it\",\"en\",\"it\",\"it\",\"it\",\"it\",\"tr\",\"it\",\"it\",\"ro\",\"it\",\"en\",\"it\",\"tr\",\"it\",\"en\",\"en\",\"en\",\"en\",\"it\",\"it\",\"it\",\"it\",\"it\",\"it\",\"it\",\"it\",\"tr\",\"tr\",\"en\",\"tr\",\"it\",\"it\",\"it\",\"und\",\"it\",\"it\",\"it\",\"it\",\"it\",\"it\",\"it\",\"it\",\"it\",\"it\",\"en\",\"fr\",\"en\",\"it\",\"it\",\"it\",\"en\",\"tr\",\"fr\",\"it\",\"it\",\"en\",\"it\",\"it\",\"it\",\"it\",\"en\",\"it\",\"en\",\"en\",\"ru\",\"en\",\"tr\",\"it\",\"it\",\"it\",\"fr\",\"it\",\"en\",\"en\",\"it\",\"it\",\"it\",\"it\",\"it\",\"it\",\"it\",\"tr\",\"it\",\"es\",\"it\",\"it\",\"it\",\"it\",\"it\",\"it\",\"en\",\"tr\",\"it\",\"it\",\"it\",\"it\",\"it\",\"en\",\"it\",\"it\",\"en\",\"en\",\"en\",\"it\",\"it\",\"tr\",\"it\",\"tr\",\"it\",\"it\",\"tr\",\"it\",\"tr\",\"en\",\"tr\",\"tr\",\"en\",\"it\",\"it\",\"it\",\"tr\",\"tr\",\"it\",\"it\",\"it\",\"it\",\"en\",\"tr\",\"tr\",\"tr\",\"fr\",\"it\",\"en\",\"it\",\"it\",\"it\",\"tr\",\"tr\",\"it\",\"it\",\"it\",\"en\",\"it\",\"it\",\"it\",\"el\",\"it\",\"it\",\"en\",\"it\",\"it\",\"it\",\"tr\",\"es\",\"it\",\"en\",\"it\",\"it\",\"it\",\"und\",\"it\",\"en\",\"tr\",\"it\",\"en\",\"en\",\"it\",\"it\",\"it\",\"en\",\"en\",\"it\",\"it\",\"it\",\"tr\",\"und\",\"und\",\"it\",\"und\",\"en\",\"it\",\"ht\",\"it\",\"it\",\"it\",\"en\",\"en\",\"en\",\"it\",\"en\",\"it\",\"en\",\"it\",\"it\",\"it\",\"it\",\"en\",\"en\",\"it\",\"it\",\"fr\",\"it\",\"en\",\"it\",\"it\",\"it\",\"en\",\"it\",\"tr\",\"it\",\"und\",\"it\",\"en\",\"und\",\"it\",\"it\",\"it\",\"it\",\"it\",\"it\",\"it\",\"it\",\"es\",\"tr\",\"tr\",\"it\",\"it\",\"it\",\"it\",\"it\",\"ro\",\"ro\",\"en\",\"tr\",\"it\",\"it\",\"it\",\"it\",\"it\",\"es\",\"tr\",\"it\",\"und\",\"it\",\"it\",\"und\",\"en\",\"it\",\"it\",\"it\",\"it\",\"tr\",\"it\",\"it\",\"it\",\"it\",\"it\",\"it\",\"it\",\"it\",\"it\",\"it\",\"en\",\"it\",\"it\",\"tr\",\"tr\",\"it\",\"it\",\"und\",\"und\",\"it\",\"it\",\"it\",\"en\",\"tr\",\"tr\",\"it\",\"en\",\"it\",\"bg\",\"it\",\"tr\",\"en\",\"it\",\"und\",\"tr\",\"und\",\"it\",\"it\",\"en\",\"en\",\"tr\",\"it\",\"en\",\"en\",\"it\",\"tr\",\"it\",\"tr\",\"tr\",\"tr\",\"en\",\"tr\",\"en\",\"it\",\"it\",\"und\",\"en\",\"und\",\"tr\",\"tr\",\"en\",\"tr\",\"tr\",\"fr\",\"it\",\"tr\",\"tr\",\"tr\",\"und\",\"en\",\"it\",\"tr\",\"en\",\"und\",\"und\",\"it\",\"tr\",\"tr\",\"en\",\"en\",\"it\",\"it\",\"tr\",\"it\",\"tr\",\"und\",\"tl\",\"it\",\"tr\",\"en\",\"und\",\"en\",\"tr\",\"en\",\"it\",\"tr\",\"en\",\"el\",\"it\",\"it\",\"en\",\"es\",\"tr\",\"und\",\"tr\",\"tr\",\"es\",\"en\",\"it\",\"tr\",\"en\",\"it\",\"ur\",\"tr\",\"it\",\"en\",\"en\",\"tr\",\"it\",\"tr\",\"it\",\"en\",\"und\",\"it\",\"it\",\"it\",\"it\",\"it\",\"it\",\"tr\",\"tr\",\"tr\",\"it\",\"it\",\"tr\",\"it\",\"en\",\"und\",\"it\",\"it\",\"it\",\"it\",\"it\",\"tr\",\"it\",\"it\",\"it\",\"tr\",\"it\",\"en\",\"tr\",\"tr\",\"en\",\"it\",\"tr\",\"it\",\"tr\",\"it\",\"it\",\"it\",\"en\",\"it\",\"it\",\"it\",\"en\",\"el\",\"el\",\"it\",\"tr\",\"tr\",\"it\",\"it\",\"it\",\"tr\",\"it\",\"tr\",\"tr\",\"und\",\"tr\",\"en\",\"en\",\"it\",\"en\",\"it\",\"it\",\"tr\",\"tr\",\"tr\",\"tr\",\"it\",\"it\",\"en\",\"it\",\"it\",\"en\",\"en\",\"en\",\"it\",\"en\",\"it\",\"it\",\"it\",\"it\",\"it\",\"it\",\"tr\",\"it\",\"tr\",\"tr\",\"tr\",\"tr\",\"und\",\"tr\",\"it\",\"und\",\"it\",\"tr\",\"it\",\"it\",\"tr\",\"tr\",\"tr\",\"it\",\"tr\",\"und\",\"it\",\"it\",\"it\",\"tr\",\"it\",\"tr\",\"tr\",\"tr\",\"tr\",\"el\",\"tr\",\"en\",\"it\",\"tr\",\"tr\",\"it\",\"it\",\"it\",\"und\",\"it\",\"it\",\"fr\",\"und\",\"tr\",\"fr\",\"tr\",\"en\",\"it\",\"it\",\"en\",\"it\",\"en\",\"tr\",\"it\",\"it\",\"el\",\"tr\",\"tr\",\"it\",\"tr\",\"en\",\"it\",\"en\",\"el\",\"tr\",\"en\",\"en\",\"tr\",\"tr\",\"tr\",\"tr\",\"it\",\"tr\",\"it\",\"it\",\"it\",\"it\",\"en\",\"tr\",\"tr\",\"tr\",\"tr\",\"tr\",\"en\",\"en\",\"en\",\"en\",\"it\",\"en\",\"it\",\"it\",\"und\",\"tr\",\"en\",\"hi\",\"it\",\"it\",\"tr\",\"el\",\"tr\",\"tr\",\"tr\",\"ro\",\"ro\",\"tr\",\"it\",\"it\",\"it\",\"it\",\"tr\",\"en\",\"en\",\"tr\",\"tr\",\"en\",\"en\",\"en\",\"en\",\"en\",\"el\",\"en\",\"it\",\"tr\",\"en\",\"tr\",\"it\",\"en\",\"it\",\"tr\",\"en\",\"tr\",\"en\",\"tr\",\"tr\",\"und\",\"it\",\"it\",\"tr\",\"en\",\"tr\",\"tr\",\"tr\",\"en\",\"it\",\"it\",\"it\",\"tr\",\"it\",\"tr\",\"tr\",\"en\",\"tr\",\"tr\",\"it\",\"und\",\"en\",\"it\",\"it\",\"it\",\"it\",\"en\",\"it\",\"en\",\"it\",\"tr\",\"it\",\"tr\",\"tr\",\"en\",\"en\",\"und\",\"it\",\"tr\",\"tr\",\"it\",\"it\",\"it\",\"tr\",\"it\",\"und\",\"it\",\"en\",\"it\",\"it\",\"it\",\"tr\",\"tr\",\"en\",\"it\",\"und\",\"tr\",\"it\",\"it\",\"it\",\"it\",\"en\",\"tr\",\"it\",\"tr\",\"it\",\"und\",\"ru\",\"und\",\"en\",\"el\",\"el\",\"fr\",\"it\",\"it\",\"it\",\"en\",\"el\",\"en\",\"und\",\"en\",\"en\",\"it\",\"el\",\"it\",\"it\",\"it\",\"it\",\"tl\",\"it\",\"it\",\"tr\",\"it\",\"tr\",\"it\",\"tr\",\"tr\",\"en\",\"und\",\"tr\",\"it\",\"it\",\"it\",\"it\",\"it\",\"en\",\"tr\",\"tr\",\"tr\",\"it\",\"en\",\"it\",\"tr\",\"en\",\"it\",\"it\",\"en\",\"tr\",\"fr\",\"it\",\"tr\",\"it\",\"en\",\"it\",\"tr\",\"en\",\"tr\",\"it\",\"it\",\"it\",\"tr\",\"es\",\"en\",\"it\",\"tr\",\"it\",\"it\",\"pt\",\"tr\",\"en\",\"fr\",\"en\",\"tr\",\"tr\",\"el\",\"it\",\"und\",\"it\",\"ro\",\"it\",\"tr\",\"it\",\"und\",\"it\",\"und\",\"fr\",\"en\",\"it\",\"it\",\"en\",\"it\",\"en\",\"tr\",\"en\",\"en\",\"tr\",\"it\",\"it\",\"tr\",\"en\",\"en\",\"en\",\"en\",\"en\",\"it\",\"tr\",\"tr\",\"tr\",\"tr\",\"und\",\"und\",\"tr\",\"tr\",\"tr\",\"it\",\"it\",\"tr\",\"it\",\"tr\",\"en\",\"it\",\"en\",\"tr\",\"tr\",\"tr\",\"tr\",\"en\",\"it\",\"und\",\"en\",\"en\",\"en\",\"it\",\"it\",\"tr\",\"en\",\"en\",\"und\",\"tr\",\"it\",\"und\",\"it\",\"it\",\"it\",\"tr\",\"tr\",\"tr\",\"und\",\"tr\",\"it\",\"it\",\"el\",\"it\",\"en\",\"tr\",\"tr\",\"it\",\"tr\",\"tr\",\"tr\",\"it\",\"en\",\"tr\",\"tr\",\"it\",\"it\",\"en\",\"it\",\"tr\",\"tr\",\"tr\",\"it\",\"tr\",\"tr\",\"tr\",\"und\",\"tr\",\"tr\",\"tr\",\"tr\",\"it\",\"tr\",\"fr\",\"it\",\"en\",\"it\",\"it\",\"en\",\"it\",\"tr\",\"en\",\"en\",\"tr\",\"tr\",\"tr\",\"tr\",\"tr\",\"tl\",\"en\",\"und\",\"it\",\"it\",\"en\",\"en\",\"it\",\"it\",\"en\",\"und\",\"ca\",\"en\",\"it\",\"en\",\"tr\",\"it\",\"tr\",\"tr\",\"en\",\"tr\",\"tr\",\"en\",\"en\",\"it\",\"en\",\"it\",\"it\",\"tr\",\"tr\",\"it\",\"it\",\"it\",\"en\",\"en\",\"it\",\"en\",\"it\",\"it\",\"en\",\"en\",\"tr\",\"it\",\"tr\",\"it\",\"it\",\"en\",\"it\",\"en\",\"en\",\"tr\",\"en\",\"it\",\"en\",\"ar\",\"en\",\"en\",\"el\",\"tr\",\"en\",\"it\",\"el\",\"it\",\"it\",\"en\",\"en\",\"en\",\"tr\",\"en\",\"it\",\"und\",\"en\",\"und\",\"und\",\"it\",\"tr\",\"tr\",\"tr\",\"en\",\"tr\",\"en\",\"en\",\"en\",\"en\",\"it\",\"en\",\"tr\",\"tr\",\"it\",\"en\",\"it\",\"it\",\"it\",\"it\",\"sr\",\"en\",\"tr\",\"tr\",\"it\",\"it\",\"it\",\"it\",\"und\",\"und\",\"it\",\"it\",\"en\",\"it\",\"it\",\"en\",\"en\",\"it\",\"fr\",\"it\",\"en\",\"en\",\"en\",\"it\",\"in\",\"tr\",\"tr\",\"it\",\"en\",\"it\",\"it\",\"tr\",\"tr\",\"en\",\"und\",\"en\",\"en\",\"en\",\"en\",\"en\",\"en\",\"en\",\"en\",\"en\",\"it\",\"en\",\"en\",\"en\",\"en\",\"en\",\"en\",\"it\",\"en\",\"it\",\"it\",\"en\",\"it\",\"en\",\"tr\",\"tr\",\"en\",\"en\",\"it\",\"und\",\"en\",\"en\",\"it\",\"en\",\"en\",\"en\",\"it\",\"en\",\"en\",\"el\",\"und\",\"und\",\"el\",\"en\",\"tr\",\"tr\",\"tr\",\"tr\",\"tr\",\"it\",\"tr\",\"tr\",\"tr\",\"en\",\"it\",\"it\",\"en\",\"en\",\"en\",\"it\",\"en\",\"it\",\"tr\",\"tr\",\"it\",\"tl\",\"fr\",\"it\",\"en\",\"fr\",\"it\",\"en\",\"it\",\"tr\",\"ro\",\"it\",\"fr\",\"it\",\"tr\",\"tr\",\"tr\",\"en\",\"tr\",\"en\",\"en\",\"tr\",\"tr\",\"tr\",\"tr\",\"en\",\"tr\",\"en\",\"it\",\"it\",\"tr\",\"tr\",\"ml\",\"fr\",\"et\",\"fr\",\"en\",\"it\",\"it\",\"ar\",\"tr\",\"en\",\"en\",\"it\",\"en\",\"und\",\"en\",\"en\",\"tr\",\"tr\",\"fr\",\"en\",\"en\",\"it\",\"it\",\"tr\",\"tr\",\"en\",\"tr\",\"it\",\"und\",\"und\",\"tr\",\"tr\",\"tr\",\"tr\",\"en\",\"it\",\"en\",\"und\",\"tr\",\"en\",\"tr\",\"ar\",\"en\",\"und\",\"it\",\"tr\",\"it\",\"tr\",\"tr\",\"tr\",\"und\",\"ne\",\"it\",\"und\",\"en\",\"it\",\"es\",\"de\",\"it\",\"it\",\"it\",\"tr\",\"tr\",\"en\",\"tr\",\"tr\",\"en\",\"tr\",\"tr\",\"tr\",\"tr\",\"tr\",\"it\",\"tr\",\"tr\",\"tr\",\"en\",\"el\",\"und\",\"und\",\"en\",\"tr\",\"it\",\"tr\",\"en\",\"it\",\"it\",\"ru\",\"tr\",\"tr\",\"en\",\"it\",\"tr\",\"ru\",\"en\",\"en\",\"it\",\"tr\",\"it\",\"en\",\"en\",\"it\",\"tr\",\"it\",\"it\",\"en\",\"it\",\"it\",\"it\",\"it\",\"tl\",\"tr\",\"tr\",\"tr\",\"en\",\"en\",\"es\",\"en\",\"it\",\"it\",\"tr\",\"tr\",\"tr\",\"tr\",\"ar\",\"tr\",\"es\",\"en\",\"tr\",\"it\",\"it\",\"und\",\"it\",\"it\",\"it\",\"und\",\"tr\",\"und\",\"it\",\"in\",\"en\",\"it\",\"it\",\"en\",\"en\",\"it\",\"und\",\"tr\",\"tr\",\"en\",\"tr\",\"und\",\"en\",\"und\",\"it\",\"tr\",\"en\",\"it\",\"it\",\"en\",\"en\",\"el\",\"tr\",\"it\",\"und\",\"it\",\"tr\",\"en\",\"und\",\"tr\",\"tr\",\"it\",\"ar\",\"tr\",\"tr\",\"it\",\"it\",\"und\",\"tr\",\"tr\",\"it\",\"en\",\"tr\",\"und\",\"tr\",\"tr\",\"und\",\"und\",\"tr\",\"en\",\"it\",\"tr\",\"tr\",\"en\",\"it\",\"ar\",\"und\",\"tr\",\"it\",\"en\",\"und\",\"en\",\"tr\",\"en\",\"es\",\"ar\",\"und\",\"tr\",\"und\",\"it\",\"it\",\"ar\",\"el\",\"en\",\"it\",\"it\",\"ur\",\"und\",\"el\",\"el\",\"el\",\"el\",\"el\",\"el\",\"el\",\"el\",\"el\",\"el\",\"el\",\"el\",\"el\",\"el\",\"el\",\"it\",\"tr\",\"ar\",\"tr\",\"tr\",\"en\",\"en\",\"en\",\"tr\",\"tr\",\"tr\",\"und\",\"tr\",\"und\",\"en\",\"it\",\"und\",\"tr\",\"und\",\"und\",\"tr\",\"und\",\"und\",\"en\",\"tr\",\"en\",\"tr\",\"en\",\"en\",\"en\",\"tr\",\"en\",\"en\",\"it\",\"it\",\"tr\",\"ar\",\"tr\",\"sv\",\"tr\",\"en\",\"en\",\"en\",\"ar\",\"it\",\"tr\",\"tr\",\"tr\",\"en\",\"en\",\"tr\",\"tr\",\"tr\",\"ur\",\"ar\",\"it\",\"tr\",\"tr\",\"it\",\"pt\",\"ar\",\"tr\",\"tr\",\"en\",\"it\",\"tr\",\"tr\",\"en\",\"tr\",\"en\",\"en\",\"en\",\"tr\",\"it\",\"en\",\"en\",\"en\",\"en\",\"en\",\"en\",\"tr\",\"tr\",\"en\",\"it\",\"it\",\"it\",\"tr\",\"it\",\"en\",\"en\",\"en\",\"en\",\"tr\",\"en\",\"tr\",\"it\",\"en\",\"tr\",\"tr\",\"en\",\"en\",\"en\",\"en\",\"en\",\"ar\",\"tr\",\"it\",\"tr\",\"tr\",\"ar\",\"it\",\"it\",\"it\",\"en\",\"tr\",\"it\",\"fr\",\"en\",\"en\",\"en\",\"it\",\"tr\",\"tr\",\"it\",\"en\",\"tr\",\"tr\",\"en\",\"tr\",\"en\",\"tr\",\"it\",\"tr\",\"it\",\"tr\",\"it\",\"und\",\"ca\",\"tr\",\"it\",\"ar\",\"ar\",\"en\",\"tr\",\"en\",\"und\",\"en\",\"fr\",\"en\",\"en\",\"tr\",\"it\",\"tr\",\"en\",\"en\",\"en\",\"en\",\"tr\",\"it\",\"it\",\"it\",\"tr\",\"en\",\"und\",\"it\",\"it\",\"tr\",\"en\",\"tr\",\"tr\",\"it\",\"tr\",\"tr\",\"en\",\"tr\",\"tr\",\"it\",\"tr\",\"tr\",\"tr\",\"tr\",\"und\",\"tr\",\"tr\",\"tr\",\"tr\",\"tr\",\"en\",\"in\",\"it\",\"tr\",\"en\",\"tr\",\"tr\",\"en\",\"tr\",\"tr\",\"tr\",\"tr\",\"tr\",\"el\",\"und\",\"tr\",\"en\",\"tr\",\"en\",\"it\",\"und\",\"en\",\"it\",\"ar\",\"tr\",\"tr\",\"en\",\"en\",\"tr\",\"tr\",\"tr\",\"tr\",\"en\",\"tr\",\"tr\",\"und\",\"en\",\"en\",\"tr\",\"it\",\"en\",\"it\",\"en\",\"tr\",\"en\",\"en\",\"tr\",\"tr\",\"tr\",\"en\",\"it\",\"tr\",\"en\",\"en\",\"en\",\"en\",\"tr\",\"und\",\"en\",\"en\",\"en\",\"en\",\"en\",\"ar\",\"en\",\"it\",\"it\",\"ro\",\"el\",\"tr\",\"en\",\"en\",\"tr\",\"en\",\"hi\",\"it\",\"und\",\"und\",\"und\",\"und\",\"und\",\"und\",\"en\",\"en\",\"en\",\"tr\",\"en\",\"tr\",\"und\",\"und\",\"en\",\"en\",\"en\",\"en\",\"en\",\"und\",\"tr\",\"it\",\"en\",\"tr\",\"en\",\"tr\",\"en\",\"tr\",\"tr\",\"tr\",\"it\",\"en\",\"it\",\"it\",\"lt\",\"en\",\"it\",\"it\",\"en\",\"tr\",\"it\",\"tr\",\"tr\",\"en\",\"und\",\"tr\",\"tr\",\"und\",\"und\",\"tr\",\"it\",\"und\",\"und\",\"it\",\"it\",\"it\",\"tr\",\"en\",\"it\",\"fr\",\"und\",\"it\",\"en\",\"en\",\"und\",\"und\",\"und\",\"und\",\"und\",\"und\",\"und\",\"tr\",\"tr\",\"en\",\"tr\",\"und\",\"en\",\"und\",\"und\",\"und\",\"und\",\"en\",\"und\",\"und\",\"und\",\"und\",\"und\",\"und\",\"it\",\"it\",\"tr\",\"tr\",\"en\",\"en\",\"tr\",\"en\",\"it\",\"tr\",\"it\",\"en\",\"tr\",\"it\",\"und\",\"tr\",\"und\",\"it\",\"en\",\"tr\",\"tr\",\"it\",\"fr\",\"en\",\"und\",\"und\",\"und\",\"und\",\"und\",\"tr\",\"tr\",\"it\",\"und\",\"tr\",\"tr\",\"tr\",\"tr\",\"nl\",\"und\",\"tr\",\"tr\",\"tr\",\"und\",\"it\",\"tr\",\"en\",\"tr\",\"tr\",\"it\",\"tr\",\"und\",\"tr\",\"tr\",\"en\",\"fr\",\"tr\",\"tr\",\"tr\",\"tr\",\"en\",\"tr\",\"tr\",\"tr\",\"it\",\"en\",\"en\",\"und\",\"tr\",\"en\",\"tr\",\"it\",\"en\",\"en\",\"und\",\"tr\",\"it\",\"und\",\"it\",\"tr\",\"en\",\"tr\",\"tr\",\"it\",\"it\",\"it\",\"tr\",\"en\",\"tr\",\"und\",\"en\",\"und\",\"tr\",\"ro\",\"en\",\"en\",\"en\",\"et\",\"en\",\"tr\",\"tr\",\"it\",\"tr\",\"und\",\"tr\",\"tr\",\"it\",\"en\",\"en\",\"tr\",\"fa\",\"en\",\"tr\",\"tr\",\"und\",\"und\",\"und\",\"und\",\"und\",\"und\",\"und\",\"und\",\"tr\",\"it\",\"tr\",\"tr\",\"en\",\"ar\",\"en\",\"und\",\"ur\",\"en\",\"en\",\"en\",\"tr\",\"it\",\"it\",\"it\",\"it\",\"it\",\"en\",\"en\",\"en\",\"it\",\"it\",\"tr\",\"tr\",\"en\",\"tr\",\"it\",\"und\",\"it\",\"tr\",\"it\",\"tr\",\"it\",\"fa\",\"tr\",\"en\",\"it\",\"it\",\"ar\",\"en\",\"tr\",\"fr\",\"it\",\"fr\",\"und\",\"en\",\"en\",\"tr\",\"tr\",\"it\",\"en\",\"tr\",\"it\",\"en\",\"tr\",\"it\",\"it\",\"en\",\"en\",\"tr\",\"it\",\"it\",\"it\",\"tr\",\"en\",\"tr\",\"ar\",\"it\",\"tr\",\"tr\",\"tr\",\"tr\",\"und\",\"und\",\"fi\",\"tr\",\"it\",\"in\",\"en\",\"tr\",\"tr\",\"en\",\"en\",\"en\",\"und\",\"und\",\"en\",\"tr\",\"en\",\"tr\",\"it\",\"tr\",\"tr\",\"tr\",\"tr\",\"en\",\"tr\",\"it\",\"tr\",\"tr\",\"tr\",\"tr\",\"it\",\"it\",\"tr\",\"it\",\"ar\",\"en\",\"tr\",\"tr\",\"en\",\"tr\",\"tr\",\"und\",\"tr\",\"in\",\"in\",\"in\",\"in\",\"tr\",\"tr\",\"tr\",\"tr\",\"tr\",\"en\",\"en\",\"en\",\"en\",\"und\",\"tr\",\"tr\",\"tr\",\"tr\",\"tr\",\"ar\",\"tr\",\"ht\",\"it\",\"tr\",\"und\",\"en\",\"tr\",\"tr\",\"tr\",\"tr\",\"en\",\"tr\",\"tr\",\"en\",\"it\",\"it\",\"iw\",\"en\",\"und\",\"en\",\"tr\",\"ar\",\"tr\",\"und\",\"tr\",\"tr\",\"tr\",\"tr\",\"tr\",\"tr\",\"tr\",\"pl\",\"it\",\"tr\",\"ro\",\"und\",\"und\",\"und\",\"tr\",\"en\",\"und\",\"tr\",\"en\",\"tr\",\"tr\",\"tr\",\"it\",\"it\",\"en\",\"en\",\"it\",\"it\",\"tr\",\"it\",\"it\",\"tr\",\"tr\",\"en\",\"tr\",\"en\",\"tr\",\"tr\",\"tr\",\"en\",\"tr\",\"en\",\"it\",\"it\",\"tr\",\"pt\",\"und\",\"und\",\"en\",\"it\",\"en\",\"und\",\"und\",\"und\",\"und\",\"ht\",\"tr\",\"tr\",\"tr\",\"tr\",\"it\",\"it\",\"tr\",\"en\",\"und\",\"tr\",\"und\",\"en\",\"en\",\"it\",\"el\",\"en\",\"und\",\"tr\",\"fr\",\"en\",\"und\",\"ro\",\"it\",\"und\",\"tr\",\"tr\",\"en\",\"it\",\"tr\",\"en\",\"und\",\"tr\",\"it\",\"tr\",\"und\",\"tr\",\"tr\",\"tr\",\"tr\",\"en\",\"tr\",\"tr\",\"it\",\"und\",\"en\",\"en\",\"tr\",\"tr\",\"und\",\"en\",\"it\",\"tr\",\"und\",\"tr\",\"it\",\"en\",\"tr\",\"tr\",\"und\",\"tr\",\"tr\",\"tr\",\"tr\",\"tr\",\"und\",\"tr\",\"tr\",\"tr\",\"it\",\"en\",\"en\",\"fr\",\"en\",\"und\",\"it\",\"und\",\"en\",\"it\",\"und\",\"und\",\"und\",\"und\",\"und\",\"en\",\"tr\",\"tr\",\"tr\",\"tr\",\"tr\",\"tr\",\"tr\",\"en\",\"tr\",\"tr\",\"en\",\"en\",\"tr\",\"und\",\"it\",\"en\",\"tr\",\"it\",\"und\",\"it\",\"tr\",\"tr\",\"tr\",\"tr\",\"en\",\"tr\",\"ca\",\"en\",\"en\",\"en\",\"tr\",\"tr\",\"is\",\"it\",\"it\",\"en\",\"und\",\"tr\",\"en\",\"en\",\"tr\",\"tr\",\"it\",\"tr\",\"und\",\"fr\",\"tr\",\"el\",\"en\",\"it\",\"und\",\"tr\",\"it\",\"it\",\"tr\",\"en\",\"en\",\"en\",\"en\",\"tr\",\"und\",\"it\",\"pt\",\"und\",\"tr\",\"tr\",\"en\",\"und\",\"fr\",\"tr\",\"pt\",\"tr\",\"it\",\"hi\",\"en\",\"it\",\"tr\",\"tr\",\"en\",\"it\",\"en\",\"tr\",\"en\",\"tr\",\"en\",\"ca\",\"it\",\"it\",\"it\",\"it\",\"it\",\"tr\",\"en\",\"en\",\"und\",\"tr\",\"tr\",\"tr\",\"tr\",\"tr\",\"und\",\"tr\",\"und\",\"und\",\"tr\",\"ka\",\"it\",\"tr\",\"tr\",\"tr\",\"en\",\"und\",\"tr\",\"tr\",\"it\",\"en\",\"en\",\"tr\",\"und\",\"tr\",\"en\",\"en\",\"en\",\"en\",\"it\",\"it\",\"ar\",\"und\",\"en\",\"tr\",\"en\",\"tr\",\"tr\",\"en\",\"en\",\"en\",\"en\",\"en\",\"ar\",\"it\",\"it\",\"tr\",\"en\",\"ur\",\"tr\",\"it\",\"it\",\"en\",\"en\",\"tr\",\"tr\",\"tr\",\"und\",\"tr\",\"tr\",\"tr\",\"en\",\"it\",\"tr\",\"en\",\"en\",\"en\",\"en\",\"en\",\"en\",\"it\",\"en\",\"tr\",\"tr\",\"it\",\"en\",\"tr\",\"it\",\"en\",\"it\",\"tr\",\"it\",\"tr\",\"en\",\"en\",\"de\",\"und\",\"und\",\"und\",\"und\",\"und\",\"und\",\"und\",\"tr\",\"tr\",\"tr\",\"tr\",\"ar\",\"tr\",\"tr\",\"fr\",\"tr\",\"tr\",\"tr\",\"tr\",\"it\",\"tr\",\"it\",\"en\",\"tr\",\"en\",\"und\",\"tr\",\"tr\",\"en\",\"tr\",\"tr\",\"en\",\"en\",\"tr\",\"und\",\"tr\",\"und\",\"en\",\"it\",\"en\",\"tr\",\"en\",\"tr\",\"tr\",\"tr\",\"el\",\"tr\",\"en\",\"it\",\"en\",\"en\",\"en\",\"en\",\"und\",\"und\",\"und\",\"und\",\"en\",\"en\",\"tr\",\"tr\",\"en\",\"en\",\"it\",\"es\",\"it\",\"en\",\"tr\",\"en\",\"en\",\"tr\",\"tr\",\"tr\",\"en\",\"el\",\"ur\",\"tr\",\"el\",\"tr\",\"tr\",\"it\",\"it\",\"en\",\"it\",\"en\",\"fr\",\"en\",\"tr\",\"it\",\"und\",\"en\",\"und\",\"ru\",\"tr\",\"tr\",\"tr\",\"en\",\"en\",\"und\",\"tr\",\"tr\",\"tr\",\"tr\",\"el\",\"el\",\"tr\",\"tr\",\"tr\",\"en\",\"it\",\"und\",\"en\",\"tr\",\"und\",\"tr\",\"pt\",\"en\",\"en\",\"tr\",\"ar\",\"tr\",\"en\",\"ar\",\"en\",\"tr\",\"en\",\"en\",\"en\",\"en\",\"en\",\"en\",\"it\",\"en\",\"und\",\"en\",\"es\",\"tr\",\"und\",\"el\",\"en\",\"en\",\"tr\",\"en\",\"en\",\"it\",\"tr\",\"it\",\"en\",\"en\",\"en\",\"en\",\"tr\",\"tr\",\"tr\",\"tr\",\"en\",\"en\",\"tr\",\"und\",\"tr\",\"it\",\"tr\",\"en\",\"en\",\"in\",\"it\",\"und\",\"en\",\"tr\",\"tr\",\"tr\",\"en\",\"tr\",\"und\",\"und\",\"tr\",\"tr\",\"it\",\"en\",\"tr\",\"tr\",\"tr\",\"tr\",\"tr\",\"tr\",\"tr\",\"und\",\"en\",\"tr\",\"tr\",\"tr\",\"en\",\"tr\",\"it\",\"it\",\"it\",\"en\",\"en\",\"en\",\"tr\",\"tr\",\"und\",\"en\",\"und\",\"tr\",\"tr\",\"en\",\"tr\",\"tr\",\"en\",\"und\",\"it\",\"it\",\"tr\",\"und\",\"it\",\"und\",\"ca\",\"tr\",\"tr\",\"tr\",\"und\",\"tr\",\"tr\",\"und\",\"tr\",\"tr\",\"tr\",\"tr\",\"ar\",\"en\",\"tr\",\"ar\",\"ar\",\"tr\",\"tr\",\"tr\",\"tr\",\"tr\",\"en\",\"it\",\"tr\",\"en\",\"tr\",\"tr\",\"en\",\"tr\",\"tr\",\"en\",\"it\",\"tr\",\"und\",\"tr\",\"ar\",\"en\",\"en\",\"tr\",\"tr\",\"en\",\"tr\",\"en\",\"en\",\"en\",\"tr\",\"und\",\"und\",\"und\",\"en\",\"tr\",\"tr\",\"tr\",\"tr\",\"tr\",\"en\",\"tr\",\"en\",\"tr\",\"it\",\"en\",\"tr\",\"tr\",\"en\",\"fr\",\"und\",\"hi\",\"en\",\"en\",\"tr\",\"en\",\"tr\",\"en\",\"en\",\"es\",\"tr\",\"und\",\"it\",\"tr\",\"tr\",\"tr\",\"und\",\"tr\",\"tr\",\"tr\",\"tr\",\"und\",\"tr\",\"en\",\"en\",\"und\",\"und\",\"und\",\"und\",\"es\",\"und\",\"it\",\"en\",\"it\",\"en\",\"tr\",\"en\",\"tr\",\"tr\",\"und\",\"tr\",\"ar\",\"en\",\"tr\",\"ar\",\"it\",\"tr\",\"it\",\"tr\",\"tr\",\"en\",\"und\",\"und\",\"en\",\"tr\",\"tr\",\"tr\",\"tr\",\"und\",\"tr\",\"ar\",\"en\",\"it\",\"und\",\"und\",\"und\",\"it\",\"it\",\"en\",\"tr\",\"ro\",\"tr\",\"et\",\"en\",\"ja\",\"it\",\"en\",\"tr\",\"tr\",\"it\",\"tr\",\"tr\",\"tr\",\"tr\",\"tr\",\"tr\",\"und\",\"it\",\"tr\",\"und\",\"it\",\"tr\",\"it\",\"tr\",\"it\",\"tr\",\"tr\",\"tr\",\"tr\",\"tr\",\"en\",\"it\",\"tr\",\"en\",\"und\",\"tr\",\"in\",\"it\",\"tr\",\"hi\",\"tr\",\"tr\",\"en\",\"tr\",\"en\",\"it\",\"tr\",\"tr\",\"it\",\"und\",\"it\",\"it\",\"tr\",\"und\",\"en\",\"it\",\"tr\",\"und\",\"el\",\"it\",\"en\",\"und\",\"und\",\"und\",\"und\",\"und\",\"en\",\"en\",\"tr\",\"und\",\"en\",\"en\",\"en\",\"tr\",\"tr\",\"tr\",\"en\",\"und\",\"it\",\"en\",\"tr\",\"el\",\"und\",\"ar\",\"tr\",\"ar\",\"ca\",\"tr\",\"el\",\"en\",\"und\",\"tr\",\"en\",\"en\",\"en\",\"en\",\"en\",\"und\",\"en\",\"und\",\"und\",\"tr\",\"ru\",\"tr\",\"ru\",\"ur\",\"en\",\"tr\",\"und\",\"en\",\"en\",\"tr\",\"tr\",\"tr\",\"tr\",\"en\",\"el\",\"it\",\"en\",\"tr\",\"und\",\"en\",\"en\",\"und\",\"tr\",\"und\",\"tr\",\"tr\",\"tr\",\"ar\",\"tr\",\"tr\",\"en\",\"el\",\"ar\",\"tr\",\"en\",\"en\",\"und\",\"tr\",\"tl\",\"tr\",\"en\",\"el\",\"tr\",\"tr\",\"en\",\"tr\",\"en\",\"en\",\"und\",\"it\",\"en\",\"tr\",\"en\",\"ar\",\"und\",\"tr\",\"und\",\"ar\",\"fa\",\"tr\",\"tr\",\"tr\",\"ar\",\"und\",\"it\",\"en\",\"en\",\"en\",\"und\",\"en\",\"en\",\"it\",\"und\",\"it\",\"tr\",\"tr\",\"en\",\"und\",\"und\",\"en\",\"en\",\"en\",\"en\",\"ar\",\"tr\",\"en\",\"it\",\"en\",\"tr\",\"en\",\"ur\",\"tr\",\"tr\",\"es\",\"tl\",\"el\",\"tr\",\"en\",\"en\",\"tr\",\"it\",\"tr\",\"tr\",\"en\",\"en\",\"tr\",\"tr\",\"it\",\"tr\",\"tr\",\"en\",\"tr\",\"tr\",\"tr\",\"tr\",\"it\",\"und\",\"tr\",\"tr\",\"und\",\"tr\",\"tr\",\"tr\",\"tr\",\"tr\",\"tr\",\"und\",\"ro\",\"tr\",\"tr\",\"it\",\"tr\",\"tr\",\"en\",\"tr\",\"tr\",\"en\",\"tr\",\"tr\",\"tr\",\"tr\",\"tr\",\"tr\",\"en\",\"tr\",\"it\",\"tr\",\"tr\",\"tr\",\"en\",\"tr\",\"tr\",\"tr\",\"und\",\"tr\",\"tr\",\"tr\",\"tr\",\"tr\",\"tr\",\"tr\",\"tr\",\"tr\",\"en\",\"en\",\"tr\",\"tr\",\"it\",\"und\",\"tr\",\"tr\",\"tr\",\"tr\",\"it\",\"tr\",\"tr\",\"en\",\"tr\",\"en\",\"it\",\"tr\",\"en\",\"tr\",\"und\",\"tr\",\"tr\",\"und\",\"tr\",\"it\",\"tr\",\"tr\",\"tr\",\"tr\",\"it\",\"tr\",\"und\",\"tr\",\"ar\",\"it\",\"tr\",\"en\",\"tr\",\"tr\",\"tr\",\"tr\",\"tr\",\"und\",\"tr\",\"tr\",\"tr\",\"tr\",\"tr\",\"tr\",\"it\",\"tr\",\"tr\",\"und\",\"tr\",\"und\",\"und\",\"und\",\"en\",\"tr\",\"en\",\"tr\",\"tr\",\"tr\",\"en\",\"tr\",\"tr\",\"it\",\"tr\",\"tl\",\"und\",\"en\",\"en\",\"tr\",\"en\",\"tr\",\"in\",\"en\",\"tr\",\"und\",\"ca\",\"en\",\"tr\",\"tr\",\"ar\",\"en\",\"en\",\"pl\",\"en\",\"it\",\"tr\",\"el\",\"tr\",\"en\",\"it\",\"tr\",\"und\",\"und\",\"tr\",\"tr\",\"en\",\"tr\",\"en\",\"tr\",\"en\",\"es\",\"tr\",\"it\",\"fr\",\"ro\",\"en\",\"en\",\"en\",\"tr\",\"ro\",\"it\",\"tr\",\"it\",\"tr\",\"en\",\"tr\",\"it\",\"tr\",\"tr\",\"tr\",\"tr\",\"en\",\"bg\",\"en\",\"et\",\"en\",\"en\",\"en\",\"en\",\"en\",\"en\",\"en\",\"en\",\"it\",\"it\",\"ro\",\"tr\",\"el\",\"tr\",\"ca\",\"tr\",\"en\",\"und\",\"it\",\"it\",\"en\",\"en\",\"tr\",\"tr\",\"it\",\"en\",\"und\",\"tr\",\"it\",\"en\",\"tr\",\"en\",\"und\",\"tr\",\"it\",\"en\",\"en\",\"en\",\"tr\",\"tr\",\"en\",\"ro\",\"tr\",\"und\",\"tr\",\"tr\",\"it\",\"tr\",\"tr\",\"en\",\"und\",\"tr\",\"tr\",\"en\",\"en\",\"it\",\"it\",\"tr\",\"en\",\"en\",\"it\",\"en\",\"tr\",\"tr\",\"it\",\"it\",\"it\",\"tr\",\"en\",\"en\",\"tr\",\"tr\",\"el\",\"en\",\"tr\",\"und\",\"it\",\"it\",\"it\",\"tl\",\"es\",\"und\",\"tr\",\"en\",\"und\",\"tr\",\"en\",\"tr\",\"tr\",\"und\",\"en\",\"en\",\"tr\",\"tr\",\"tr\",\"tr\",\"tr\",\"tr\",\"en\",\"en\",\"it\",\"tr\",\"tr\",\"en\",\"en\",\"tr\",\"tr\",\"it\",\"el\",\"da\",\"tr\",\"tr\",\"en\",\"en\",\"und\",\"und\",\"en\",\"und\",\"und\",\"tr\",\"it\",\"und\",\"tr\",\"it\",\"it\",\"es\",\"it\",\"tr\",\"tr\",\"en\",\"en\",\"en\",\"en\",\"it\",\"tr\",\"tr\",\"tr\",\"tr\",\"tr\",\"it\",\"en\",\"tr\",\"en\",\"it\",\"tr\",\"it\",\"en\",\"ca\",\"tr\",\"tr\",\"it\",\"es\",\"und\",\"tr\",\"en\",\"tr\",\"tr\",\"it\",\"en\",\"en\",\"und\",\"el\",\"en\",\"tr\",\"tr\",\"und\",\"en\",\"tr\",\"und\",\"tr\",\"el\",\"und\",\"und\",\"und\",\"el\",\"tr\",\"in\",\"en\",\"en\",\"hi\",\"tr\",\"en\",\"tr\",\"it\",\"tr\",\"it\",\"en\",\"und\",\"en\",\"it\",\"ar\",\"it\",\"en\",\"it\",\"en\",\"en\",\"it\",\"en\",\"en\",\"es\",\"tr\",\"tr\",\"tr\",\"tr\",\"tr\",\"tr\",\"und\",\"tr\",\"tr\",\"tr\",\"und\",\"und\",\"ar\",\"tr\",\"en\",\"it\",\"en\",\"tr\",\"en\",\"it\",\"ro\",\"tr\",\"ro\",\"tr\",\"en\",\"it\",\"tr\",\"en\",\"ar\",\"tr\",\"en\",\"en\",\"en\",\"tr\",\"en\",\"tr\",\"en\",\"en\",\"en\",\"tr\",\"und\",\"en\",\"en\",\"in\",\"tr\",\"en\",\"en\",\"en\",\"en\",\"en\",\"en\",\"da\",\"el\",\"en\",\"tr\",\"en\",\"en\",\"en\",\"en\",\"en\",\"ar\",\"it\",\"tr\",\"en\",\"en\",\"en\",\"en\",\"en\",\"it\",\"en\",\"en\",\"in\",\"en\",\"en\",\"en\",\"en\",\"en\",\"en\",\"en\",\"en\",\"en\",\"en\",\"ar\",\"en\",\"it\",\"en\",\"en\",\"it\",\"en\",\"en\",\"tr\",\"tr\",\"tr\",\"tr\",\"tr\",\"tr\",\"pt\",\"tr\",\"it\",\"en\",\"en\",\"en\",\"en\",\"tr\",\"tr\",\"en\",\"en\",\"tl\",\"it\",\"und\",\"it\",\"el\",\"en\",\"en\",\"en\",\"tr\",\"fr\",\"en\",\"tr\",\"tr\",\"en\",\"und\",\"en\",\"en\",\"en\",\"it\",\"tr\",\"en\",\"en\",\"en\",\"tr\",\"en\",\"en\",\"en\",\"en\",\"en\",\"en\",\"it\",\"it\",\"tr\",\"en\",\"en\",\"en\",\"en\",\"en\",\"en\",\"en\",\"en\",\"en\",\"en\",\"en\",\"tr\",\"tr\",\"tr\",\"und\",\"tr\",\"tr\",\"tr\",\"en\",\"tr\",\"en\",\"tr\",\"tr\",\"tr\",\"tr\",\"tr\",\"fr\",\"tr\",\"en\",\"ar\",\"tr\",\"it\",\"tr\",\"en\",\"ht\",\"und\",\"tr\",\"in\",\"tr\",\"it\",\"en\",\"en\",\"en\",\"tr\",\"en\",\"tr\",\"tr\",\"tr\",\"it\",\"tr\",\"en\",\"en\",\"it\",\"tr\",\"en\",\"tr\",\"en\",\"tr\",\"it\",\"und\",\"tr\",\"ur\",\"tr\",\"tl\",\"it\",\"tr\",\"tr\",\"tr\",\"en\",\"it\",\"tr\",\"tr\",\"tr\",\"en\",\"tr\",\"tr\",\"tr\",\"tr\",\"ur\",\"und\",\"ar\",\"und\",\"it\",\"en\",\"en\",\"ar\",\"en\",\"und\",\"en\",\"tr\",\"en\",\"it\",\"tr\",\"en\",\"en\",\"en\",\"en\",\"und\",\"en\",\"tr\",\"tr\",\"tr\",\"tr\",\"en\",\"en\",\"en\",\"en\",\"en\",\"en\",\"en\",\"en\",\"tr\",\"en\",\"en\",\"en\",\"en\",\"tr\",\"tr\",\"it\",\"tr\",\"tr\",\"it\",\"ar\",\"tr\",\"it\",\"it\",\"en\",\"tr\",\"tr\",\"und\",\"tr\",\"tr\",\"tr\",\"en\",\"tr\",\"tr\",\"tr\",\"en\",\"tr\",\"tr\",\"en\",\"tr\",\"tr\",\"tr\",\"und\",\"en\",\"en\",\"en\",\"en\",\"en\",\"tr\",\"it\",\"en\",\"tr\",\"en\",\"en\",\"en\",\"en\",\"en\",\"en\",\"tr\",\"en\",\"und\",\"en\",\"en\",\"tr\",\"it\",\"ar\",\"en\",\"it\",\"en\",\"cy\",\"it\",\"tr\",\"it\",\"en\",\"tr\",\"tr\",\"en\",\"en\",\"en\",\"en\",\"ar\",\"en\",\"en\",\"it\",\"tr\",\"und\",\"en\",\"tr\",\"und\",\"en\",\"en\",\"tr\",\"tr\",\"en\",\"tr\",\"und\",\"en\",\"it\",\"it\",\"und\",\"en\",\"ht\",\"en\",\"en\",\"ar\",\"tr\",\"en\",\"en\",\"en\",\"en\",\"en\",\"en\",\"en\",\"tr\",\"en\",\"en\",\"en\",\"en\",\"ar\",\"tr\",\"tr\",\"it\",\"en\",\"hi\",\"und\",\"tr\",\"tr\",\"tr\",\"it\",\"ar\",\"it\",\"en\",\"it\",\"en\",\"ar\",\"it\",\"ar\",\"und\",\"es\",\"en\",\"tr\",\"tr\",\"it\",\"it\",\"en\",\"it\",\"es\",\"en\",\"en\",\"en\",\"tr\",\"tr\",\"und\",\"fa\",\"und\",\"it\",\"it\",\"it\",\"tr\",\"und\",\"it\",\"it\",\"tr\",\"tr\",\"it\",\"it\",\"tr\",\"it\",\"it\",\"en\",\"tr\",\"tr\",\"it\",\"tr\",\"und\",\"tr\",\"it\",\"en\",\"tr\",\"tr\",\"und\",\"tr\",\"und\",\"ar\",\"en\",\"tr\",\"en\",\"und\",\"en\",\"tr\",\"tr\",\"tr\",\"it\",\"en\",\"en\",\"und\",\"tr\",\"en\",\"tr\",\"tr\",\"und\",\"tr\",\"it\",\"en\",\"en\",\"tr\",\"cy\",\"it\",\"und\",\"en\",\"tr\",\"tr\",\"tr\",\"tr\",\"tr\",\"und\",\"und\",\"en\",\"tr\",\"tr\",\"es\",\"tr\",\"tr\",\"sl\",\"ar\",\"en\",\"en\",\"en\",\"en\",\"tr\",\"tr\",\"tr\",\"tr\",\"en\",\"und\",\"tr\",\"en\",\"und\",\"ar\",\"tr\",\"it\",\"tr\",\"en\",\"it\",\"it\",\"en\",\"en\",\"it\",\"th\",\"tr\",\"es\",\"iw\",\"en\",\"hi\",\"tr\",\"en\",\"it\",\"it\",\"tr\",\"th\",\"it\",\"und\",\"tr\",\"it\",\"und\",\"en\",\"en\",\"en\",\"en\",\"en\",\"en\",\"en\",\"tr\",\"tr\",\"en\",\"tr\",\"tr\",\"ar\",\"en\",\"hi\",\"it\",\"it\",\"en\",\"ar\",\"en\",\"tr\",\"tr\",\"und\",\"und\",\"tr\",\"it\",\"tr\",\"en\",\"fr\",\"tr\",\"it\",\"tr\",\"sr\",\"und\",\"it\",\"tr\",\"tr\",\"tr\",\"en\",\"und\",\"it\",\"it\",\"tr\",\"en\",\"tr\",\"tr\",\"tr\",\"en\",\"en\",\"en\",\"tr\",\"tr\",\"en\",\"en\",\"tr\",\"tr\",\"tr\",\"und\",\"tr\",\"ar\",\"tr\",\"it\",\"it\",\"en\",\"en\",\"und\",\"en\",\"und\",\"tr\",\"en\",\"en\",\"ar\",\"in\",\"el\",\"tr\",\"tr\",\"tr\",\"en\",\"und\",\"it\",\"it\",\"tr\",\"tr\",\"it\",\"it\",\"en\",\"tr\",\"ar\",\"en\",\"und\",\"tr\",\"en\",\"und\",\"und\",\"und\",\"tr\",\"tr\",\"en\",\"en\",\"es\",\"en\",\"und\",\"tr\",\"it\",\"en\",\"tr\",\"en\",\"tr\",\"en\",\"und\",\"und\",\"tr\",\"en\",\"tr\",\"tr\",\"und\",\"en\",\"en\",\"en\",\"und\",\"it\",\"en\",\"en\",\"en\",\"it\",\"en\",\"in\",\"it\",\"tr\",\"en\",\"en\",\"en\",\"ar\",\"und\",\"en\",\"ur\",\"ur\",\"ur\",\"tr\",\"und\",\"et\",\"en\",\"und\",\"und\",\"tr\",\"tr\",\"tr\",\"tr\",\"en\",\"und\",\"tr\",\"it\",\"tr\",\"en\",\"tr\",\"tr\",\"it\",\"tr\",\"tr\",\"en\",\"tr\",\"und\",\"tr\",\"tr\",\"en\",\"en\",\"it\",\"en\",\"tr\",\"tr\",\"tr\",\"tr\",\"und\",\"tr\",\"it\",\"el\",\"it\",\"en\",\"ru\",\"en\",\"tr\",\"in\",\"en\",\"und\",\"tr\",\"en\",\"en\",\"el\",\"en\",\"en\",\"tr\",\"en\",\"und\",\"it\",\"en\",\"tr\",\"it\",\"tr\",\"und\",\"en\",\"ar\",\"tr\",\"tr\",\"en\",\"tr\",\"en\",\"en\",\"en\",\"en\",\"tr\",\"ro\",\"en\",\"und\",\"it\",\"iw\",\"und\",\"tr\",\"en\",\"tr\",\"tr\",\"und\",\"tr\",\"en\",\"it\",\"it\",\"it\",\"it\",\"it\",\"tr\",\"it\",\"it\",\"it\",\"it\",\"it\",\"it\",\"it\",\"it\",\"it\",\"it\",\"it\",\"it\",\"it\",\"it\",\"tr\",\"en\",\"ru\",\"en\",\"tr\",\"es\",\"en\",\"en\",\"el\",\"tr\",\"en\",\"tr\",\"tr\",\"en\",\"en\",\"en\",\"tr\",\"tr\",\"en\",\"tr\",\"en\",\"ar\",\"tr\",\"tr\",\"tr\",\"en\",\"en\",\"en\",\"en\",\"it\",\"en\",\"tr\",\"tr\",\"tr\",\"tr\",\"it\",\"en\",\"en\",\"en\",\"tr\",\"tr\",\"tr\",\"it\",\"tr\",\"tr\",\"en\",\"tr\",\"en\",\"en\",\"en\",\"tr\",\"tr\",\"en\",\"tr\",\"tr\",\"tr\",\"tr\",\"tr\",\"tr\",\"tr\",\"tr\",\"tr\",\"tr\",\"tr\",\"en\",\"tr\",\"tr\",\"et\",\"it\",\"tr\",\"tr\",\"tr\",\"und\",\"und\",\"en\",\"en\",\"it\",\"tr\",\"und\",\"tr\",\"it\",\"ar\",\"en\",\"en\",\"en\",\"en\",\"en\",\"ar\",\"tr\",\"ro\",\"und\",\"en\",\"tr\",\"tr\",\"tr\",\"ar\",\"tr\",\"tr\",\"en\",\"en\",\"es\",\"tr\",\"en\",\"da\",\"en\",\"tr\",\"und\",\"tr\",\"und\",\"it\",\"tr\",\"tr\",\"tr\",\"tr\",\"tr\",\"tr\",\"en\",\"tr\",\"it\",\"en\",\"tr\",\"tr\",\"it\",\"it\",\"en\",\"tr\",\"en\",\"tr\",\"en\",\"tr\",\"tr\",\"tr\",\"und\",\"tr\",\"tr\",\"en\",\"en\",\"tr\",\"tr\",\"en\",\"en\",\"en\",\"en\",\"it\",\"en\",\"tr\",\"tr\",\"en\",\"en\",\"en\",\"en\",\"tr\",\"en\",\"und\",\"und\",\"en\",\"ar\",\"tr\",\"ar\",\"tr\",\"en\",\"en\",\"en\",\"en\",\"tr\",\"tr\",\"it\",\"tr\",\"es\",\"tl\",\"tr\",\"it\",\"tr\",\"tr\",\"en\",\"en\",\"tr\",\"en\",\"tr\",\"en\",\"tr\",\"ru\",\"en\",\"und\",\"und\",\"und\",\"und\",\"nl\",\"und\",\"ro\",\"it\",\"en\",\"fr\",\"en\",\"en\",\"en\",\"en\",\"en\",\"tr\",\"tr\",\"tr\",\"tr\",\"it\",\"en\",\"tr\",\"tr\",\"tr\",\"it\",\"en\",\"tr\",\"en\",\"it\",\"ur\",\"el\",\"en\",\"ar\",\"en\",\"tr\",\"it\",\"tl\",\"en\",\"it\",\"it\",\"ca\",\"en\",\"tr\",\"tr\",\"it\",\"en\",\"en\",\"en\",\"it\",\"en\",\"en\",\"tr\",\"tl\",\"tr\",\"en\",\"ca\",\"und\",\"el\",\"en\",\"en\",\"tr\",\"en\",\"tr\",\"tr\",\"tr\",\"en\",\"en\",\"en\",\"tr\",\"en\",\"en\",\"tr\",\"tr\",\"tr\",\"ar\",\"it\",\"sr\",\"en\",\"ur\",\"en\",\"en\",\"tr\",\"tr\",\"tr\",\"tr\",\"it\",\"en\",\"en\",\"it\",\"en\",\"en\",\"en\",\"it\",\"tr\",\"et\",\"en\",\"et\",\"tr\",\"it\",\"en\",\"und\",\"el\",\"en\",\"en\",\"tr\",\"tr\",\"it\",\"it\",\"da\",\"en\",\"tr\",\"iw\",\"ar\",\"en\",\"tr\",\"en\",\"en\",\"en\",\"en\",\"en\",\"en\",\"en\",\"en\",\"en\",\"it\",\"en\",\"tr\",\"tr\",\"it\",\"es\",\"tr\",\"en\",\"it\",\"it\",\"tr\",\"tr\",\"tr\",\"tr\",\"und\",\"tr\",\"und\",\"tr\",\"tr\",\"it\",\"tr\",\"tr\",\"tr\",\"tr\",\"tr\",\"tr\",\"tr\",\"tr\",\"tr\",\"tr\",\"en\",\"ar\",\"tl\",\"ar\",\"it\",\"en\",\"tr\",\"und\",\"tr\",\"it\",\"lv\",\"ar\",\"ar\",\"und\",\"ar\",\"ar\",\"en\",\"tr\",\"es\",\"es\",\"ur\",\"tr\",\"ur\",\"en\",\"und\",\"en\",\"en\",\"en\",\"hi\",\"en\",\"und\",\"it\",\"ur\",\"ar\",\"en\",\"en\",\"en\",\"tr\",\"und\",\"und\",\"tr\",\"en\",\"und\",\"und\",\"en\",\"ar\",\"ar\",\"en\",\"tr\",\"en\",\"ar\",\"it\",\"it\",\"it\",\"es\",\"tr\",\"ar\",\"en\",\"tr\",\"en\",\"tr\",\"ar\",\"und\",\"en\",\"it\",\"en\",\"tr\",\"en\",\"en\",\"en\",\"ar\",\"en\",\"tr\",\"und\",\"tr\",\"en\",\"tr\",\"pt\",\"tr\",\"und\",\"tr\",\"en\",\"en\",\"en\",\"en\",\"und\",\"en\",\"en\",\"en\",\"en\",\"tr\",\"fr\",\"ca\",\"tr\",\"it\",\"tr\",\"tr\",\"und\",\"it\",\"en\",\"en\",\"en\",\"en\",\"tr\",\"en\",\"it\",\"en\",\"und\",\"en\",\"en\",\"und\",\"und\",\"en\",\"en\",\"it\",\"tr\",\"en\",\"ur\",\"tr\",\"en\",\"en\",\"en\",\"it\",\"it\",\"it\",\"tl\",\"it\",\"en\",\"en\",\"en\",\"tr\",\"und\",\"tr\",\"en\",\"en\",\"und\",\"und\",\"en\",\"en\",\"tr\",\"it\",\"tr\",\"en\",\"hu\",\"en\",\"tr\",\"ar\",\"en\",\"en\",\"tr\",\"en\",\"en\",\"en\",\"it\",\"el\",\"tr\",\"en\",\"tr\",\"en\",\"en\",\"en\",\"und\",\"ar\",\"en\",\"fr\",\"en\",\"en\",\"tr\",\"ru\",\"en\",\"ru\",\"und\",\"ar\",\"ar\",\"en\",\"en\",\"tr\",\"tr\",\"und\",\"it\",\"ar\",\"ar\",\"und\",\"ar\",\"und\",\"it\",\"it\",\"und\",\"en\",\"tr\",\"en\",\"iw\",\"ar\",\"en\",\"ur\",\"ur\",\"ur\",\"ur\",\"ur\",\"ur\",\"tr\",\"en\",\"ur\",\"ur\",\"ur\",\"ur\",\"it\",\"ur\",\"en\",\"es\",\"ru\",\"und\",\"und\",\"en\",\"ru\",\"en\",\"hi\",\"en\",\"und\",\"en\",\"tr\",\"tr\",\"en\",\"it\",\"en\",\"en\",\"tr\",\"en\",\"en\",\"en\",\"tr\",\"en\",\"en\",\"it\",\"ar\",\"en\",\"en\",\"en\",\"ar\",\"tr\",\"en\",\"en\",\"tr\",\"ar\",\"en\",\"en\",\"tr\",\"en\",\"ur\",\"hi\",\"und\",\"tr\",\"en\",\"und\",\"en\",\"tr\",\"tr\",\"es\",\"en\",\"en\",\"en\",\"en\",\"und\",\"en\",\"in\",\"en\",\"ar\",\"und\",\"ar\",\"und\",\"it\",\"tr\",\"en\",\"und\",\"en\",\"es\",\"en\",\"en\",\"it\",\"en\",\"ur\",\"hi\",\"en\",\"en\",\"en\",\"it\",\"en\",\"it\",\"tr\",\"tr\",\"tr\",\"en\",\"und\",\"en\",\"en\",\"el\",\"und\",\"en\",\"it\",\"ar\",\"en\",\"en\",\"tr\",\"tr\",\"it\",\"und\",\"en\",\"it\",\"tr\",\"ar\",\"en\",\"en\",\"en\",\"tr\",\"en\",\"en\",\"it\",\"en\",\"en\",\"en\",\"und\",\"en\",\"tr\",\"tl\",\"tr\",\"ps\",\"en\",\"und\",\"it\",\"tr\",\"en\",\"tr\",\"tr\",\"en\",\"en\",\"en\",\"it\",\"ar\",\"en\",\"tr\",\"it\",\"en\",\"en\",\"en\",\"tr\",\"in\",\"tr\",\"en\",\"en\",\"tr\",\"en\",\"en\",\"it\",\"tr\",\"en\",\"en\",\"en\",\"en\",\"en\",\"und\",\"en\",\"hi\",\"en\",\"en\",\"tr\",\"it\",\"it\",\"tr\",\"it\",\"en\",\"tr\",\"en\",\"tr\",\"tr\",\"tr\",\"tr\",\"en\",\"it\",\"el\",\"tr\",\"en\",\"tr\",\"ar\",\"en\",\"en\",\"en\",\"tr\",\"und\",\"en\",\"und\",\"ca\",\"en\",\"tr\",\"en\",\"tr\",\"en\",\"en\",\"el\",\"tr\",\"en\",\"tr\",\"tr\",\"en\",\"und\",\"tr\",\"tr\",\"tr\",\"tr\",\"en\",\"en\",\"en\",\"es\",\"tr\",\"en\",\"en\",\"en\",\"tr\",\"en\",\"it\",\"tr\",\"ru\",\"en\",\"en\",\"en\",\"en\",\"en\",\"en\",\"ar\",\"it\",\"und\",\"tr\",\"en\",\"en\",\"tr\",\"en\",\"it\",\"und\",\"tr\",\"tr\",\"tr\",\"tr\",\"it\",\"tr\",\"en\",\"tr\",\"tr\",\"en\",\"en\",\"tr\",\"it\",\"tr\",\"und\",\"it\",\"und\",\"ru\",\"tr\",\"tr\",\"und\",\"tr\",\"en\",\"tr\",\"und\",\"in\",\"it\",\"en\",\"it\",\"en\",\"tr\",\"es\",\"tr\",\"und\",\"en\",\"en\",\"tr\",\"it\",\"tr\",\"it\",\"tr\",\"tr\",\"en\",\"et\",\"it\",\"it\",\"en\",\"tr\",\"tr\",\"en\",\"tr\",\"tr\",\"eu\",\"el\",\"tr\",\"en\",\"und\",\"tr\",\"en\",\"ar\",\"en\",\"no\",\"tr\",\"tr\",\"en\",\"en\",\"en\",\"en\",\"el\",\"sr\",\"it\",\"en\",\"hi\",\"it\",\"en\",\"ro\",\"tr\",\"und\",\"en\",\"fr\",\"en\",\"ar\",\"tr\",\"tr\",\"es\",\"in\",\"tr\",\"it\",\"en\",\"en\",\"it\",\"en\",\"en\",\"en\",\"it\",\"iw\",\"en\",\"und\",\"en\",\"ar\",\"en\",\"en\",\"en\",\"it\",\"ar\",\"tr\",\"und\",\"und\",\"en\",\"en\",\"tl\",\"it\",\"ca\",\"en\",\"en\",\"en\",\"en\",\"en\",\"en\",\"en\",\"en\",\"el\",\"tr\",\"und\",\"en\",\"en\",\"it\",\"en\",\"en\",\"en\",\"en\",\"tr\",\"und\",\"und\",\"en\",\"tr\",\"en\",\"en\",\"en\",\"bn\",\"tr\",\"tr\",\"en\",\"en\",\"tr\",\"tr\",\"tr\",\"und\",\"und\",\"tr\",\"und\",\"tr\",\"tr\",\"und\",\"tr\",\"tr\",\"it\",\"tr\",\"tr\",\"tr\",\"tr\",\"und\",\"tr\",\"it\",\"tr\",\"tr\",\"tr\",\"tr\",\"tr\",\"ar\",\"tr\",\"tr\",\"tr\",\"it\",\"ar\",\"tr\",\"tr\",\"tr\",\"en\",\"tr\",\"fr\",\"tr\",\"tr\",\"tr\",\"und\",\"tr\",\"en\",\"et\",\"tl\",\"und\",\"en\",\"en\",\"ar\",\"ar\",\"en\",\"und\",\"tr\",\"ro\",\"en\",\"it\",\"en\",\"fr\",\"tl\",\"en\",\"ur\",\"en\",\"en\",\"tr\",\"en\",\"en\",\"en\",\"und\",\"tr\",\"ar\",\"ar\",\"ar\",\"tr\",\"el\",\"en\",\"fr\",\"en\",\"en\",\"en\",\"en\",\"en\",\"tr\",\"fr\",\"und\",\"it\",\"it\",\"it\",\"it\",\"es\",\"tr\",\"tr\",\"ar\",\"en\",\"tr\",\"ar\",\"tr\",\"tr\",\"fr\",\"en\",\"und\",\"tr\",\"en\",\"und\",\"et\",\"it\",\"und\",\"tr\",\"en\",\"en\",\"en\",\"und\",\"tr\",\"und\",\"tr\",\"und\",\"und\",\"ar\",\"el\",\"tr\",\"tr\",\"en\",\"tr\",\"en\",\"tr\",\"it\",\"en\",\"en\",\"tr\",\"en\",\"tr\",\"it\",\"tr\",\"en\",\"tr\",\"en\",\"tr\",\"it\",\"it\",\"en\",\"in\",\"en\",\"en\",\"it\",\"tr\",\"en\",\"en\",\"en\",\"en\",\"it\",\"und\",\"und\",\"it\",\"en\",\"tl\",\"en\",\"en\",\"und\",\"en\",\"tr\",\"el\",\"tr\",\"fr\",\"tr\",\"tr\",\"it\",\"tr\",\"und\",\"it\",\"tr\",\"ar\",\"und\",\"und\",\"tr\",\"it\",\"und\",\"ur\",\"it\",\"tr\",\"tr\",\"en\",\"en\",\"en\",\"en\",\"tl\",\"und\",\"tr\",\"und\",\"tr\",\"tr\",\"tr\",\"tr\",\"en\",\"en\",\"und\",\"en\",\"und\",\"tr\",\"tr\",\"tr\",\"tr\",\"ro\",\"en\",\"en\",\"tr\",\"tr\",\"tr\",\"und\",\"en\",\"it\",\"tr\",\"tr\",\"pt\",\"it\",\"en\",\"tr\",\"en\",\"en\",\"en\",\"it\",\"ar\",\"tr\",\"ar\",\"en\",\"und\",\"und\",\"und\",\"tr\",\"en\",\"und\",\"tr\",\"en\",\"en\",\"tr\",\"en\",\"en\",\"tr\",\"und\",\"en\",\"it\",\"tr\",\"it\",\"en\",\"ar\",\"en\",\"tr\",\"en\",\"en\",\"en\",\"en\",\"tr\",\"en\",\"tr\",\"en\",\"tr\",\"ur\",\"ur\",\"tr\",\"en\",\"tr\",\"tr\",\"en\",\"tr\",\"tr\",\"und\",\"en\",\"ur\",\"en\",\"tr\",\"tr\",\"und\",\"tr\",\"tr\",\"en\",\"en\",\"und\",\"el\",\"tr\",\"tr\",\"und\",\"und\",\"it\",\"ar\",\"tr\",\"en\",\"el\",\"en\",\"tl\",\"en\",\"it\",\"el\",\"und\",\"it\",\"en\",\"und\",\"it\",\"en\",\"et\",\"und\",\"en\",\"tr\",\"fr\",\"tr\",\"und\",\"und\",\"tr\",\"en\",\"en\",\"tr\",\"en\",\"und\",\"tr\",\"tr\",\"tr\",\"tr\",\"tr\",\"und\",\"fr\",\"it\",\"tr\",\"en\",\"tr\",\"tr\",\"el\",\"en\",\"tr\",\"tr\",\"en\",\"en\",\"ru\",\"en\",\"en\",\"tr\",\"tr\",\"fr\",\"it\",\"ar\",\"tr\",\"und\",\"tr\",\"it\",\"eu\",\"tr\",\"en\",\"pt\",\"en\",\"tr\",\"tr\",\"tr\",\"it\",\"tr\",\"tr\",\"tr\",\"en\",\"el\",\"tr\",\"en\",\"tr\",\"en\",\"en\",\"tr\",\"fr\",\"und\",\"en\",\"en\",\"in\",\"en\",\"en\",\"en\",\"tr\",\"tr\",\"it\",\"en\",\"tr\",\"tr\",\"en\",\"en\",\"und\",\"ru\",\"und\",\"tr\",\"tr\",\"und\",\"tr\",\"tr\",\"und\",\"tr\",\"en\",\"tr\",\"und\",\"en\",\"it\",\"tr\",\"tr\",\"en\",\"it\",\"tr\",\"en\",\"tr\",\"tr\",\"en\",\"tr\",\"tr\",\"en\",\"tr\",\"it\",\"en\",\"und\",\"el\",\"und\",\"und\",\"it\",\"ar\",\"tr\",\"en\",\"tr\",\"fr\",\"tr\",\"in\",\"el\",\"und\",\"en\",\"tr\",\"en\",\"en\",\"tr\",\"es\",\"tr\",\"tr\",\"tr\",\"tr\",\"tr\",\"tr\",\"tr\",\"tr\",\"en\",\"und\",\"tr\",\"ur\",\"tr\",\"tr\",\"und\",\"en\",\"fr\",\"tr\",\"tr\",\"en\",\"fr\",\"tr\",\"tr\",\"tr\",\"und\",\"it\",\"en\",\"en\",\"tr\",\"en\",\"en\",\"tr\",\"und\",\"en\",\"tr\",\"tr\",\"tr\",\"tr\",\"und\",\"tr\",\"en\",\"tr\",\"en\",\"tr\",\"tr\",\"tr\",\"tr\",\"tr\",\"tr\",\"en\",\"en\",\"und\",\"ar\",\"tr\",\"tr\",\"und\",\"tr\",\"tr\",\"tr\",\"tr\",\"en\",\"und\",\"tr\",\"tr\",\"en\",\"und\",\"und\",\"und\",\"und\",\"und\",\"und\",\"tr\",\"und\",\"und\",\"und\",\"und\",\"und\",\"und\",\"und\",\"it\",\"en\",\"el\",\"und\",\"en\",\"en\",\"en\",\"en\",\"en\",\"tr\",\"en\",\"ru\",\"en\",\"und\",\"en\",\"tr\",\"tr\",\"tr\",\"en\",\"tr\",\"tr\",\"en\",\"tr\",\"en\",\"tr\",\"tr\",\"ro\",\"en\",\"en\",\"tr\",\"en\",\"en\",\"tr\",\"en\",\"en\",\"tr\",\"en\",\"en\",\"en\",\"tr\",\"ar\",\"fr\",\"en\",\"tr\",\"tr\",\"tr\",\"tr\",\"tr\",\"en\",\"en\",\"tr\",\"it\",\"it\",\"en\",\"und\",\"ur\",\"en\",\"und\",\"en\",\"en\",\"tr\",\"en\",\"en\",\"tr\",\"tr\",\"tr\",\"tr\",\"tr\",\"tr\",\"et\",\"tr\",\"tr\",\"tr\",\"tr\",\"tr\",\"tr\",\"tr\",\"en\",\"it\",\"en\",\"und\",\"et\",\"tr\",\"tr\",\"ro\",\"ar\",\"en\",\"fr\",\"tr\",\"en\",\"el\",\"it\",\"tr\",\"und\",\"el\",\"ur\",\"en\",\"en\",\"it\",\"es\",\"tr\",\"hi\",\"tr\",\"und\",\"it\",\"tr\",\"en\",\"und\",\"el\",\"fr\",\"tr\",\"tr\",\"en\",\"en\",\"tr\",\"en\",\"en\",\"tr\",\"und\",\"it\",\"en\",\"und\",\"und\",\"it\",\"en\",\"en\",\"it\",\"tr\",\"und\",\"tr\",\"el\",\"en\",\"tr\",\"en\",\"pt\",\"it\",\"tr\",\"en\",\"en\",\"en\",\"und\",\"en\",\"en\",\"tr\",\"fr\",\"tr\",\"el\",\"en\",\"en\",\"und\",\"und\",\"en\",\"en\",\"it\",\"en\",\"fr\",\"fr\",\"tr\",\"it\",\"it\",\"it\",\"it\",\"en\",\"tr\",\"tr\",\"tr\",\"tr\",\"en\",\"it\",\"tr\",\"und\",\"tr\",\"it\",\"und\",\"ar\",\"en\",\"en\",\"en\",\"en\",\"it\",\"und\",\"en\",\"pt\",\"hi\",\"el\",\"tr\",\"it\",\"tr\",\"tr\",\"ar\",\"en\",\"en\",\"ar\",\"ar\",\"en\",\"ar\",\"it\",\"it\",\"it\",\"it\",\"it\",\"it\",\"it\",\"it\",\"it\",\"it\",\"it\",\"fr\",\"it\",\"fr\",\"en\",\"it\",\"ar\",\"el\",\"tr\",\"en\",\"en\",\"fr\",\"in\",\"it\",\"und\",\"en\",\"it\",\"en\",\"en\",\"tr\",\"en\",\"en\",\"und\",\"it\",\"it\",\"und\",\"und\",\"tl\",\"en\",\"und\",\"it\",\"es\",\"en\",\"en\",\"it\",\"pt\",\"und\",\"it\",\"it\",\"tr\",\"es\",\"en\",\"it\",\"es\",\"it\",\"en\",\"it\",\"en\",\"it\",\"en\",\"tr\",\"en\",\"it\",\"en\",\"en\",\"it\",\"ar\",\"en\",\"it\",\"it\",\"en\",\"it\",\"it\",\"it\",\"it\",\"it\",\"en\",\"it\",\"in\",\"et\",\"tr\",\"en\",\"it\",\"en\",\"ar\",\"it\",\"it\",\"en\",\"en\",\"it\",\"et\",\"it\",\"und\",\"en\",\"it\",\"it\",\"und\",\"it\",\"en\",\"it\",\"it\",\"it\",\"und\",\"it\",\"es\",\"en\",\"en\",\"en\",\"en\",\"tr\",\"und\",\"it\",\"und\",\"it\",\"en\",\"en\",\"en\",\"it\",\"ar\",\"en\",\"et\",\"it\",\"it\",\"it\",\"ar\",\"ja\",\"en\",\"und\",\"en\",\"en\",\"it\",\"en\",\"tr\",\"tr\",\"it\",\"it\",\"en\",\"ar\",\"ar\",\"ar\",\"ar\",\"it\",\"und\",\"und\",\"und\",\"tr\",\"en\",\"en\",\"it\",\"it\",\"ar\",\"en\",\"und\",\"en\",\"und\",\"und\",\"ar\",\"ar\",\"it\",\"it\",\"en\",\"en\",\"und\",\"und\",\"und\",\"el\",\"ar\",\"en\",\"ro\",\"ar\",\"en\",\"und\",\"it\",\"it\",\"en\",\"nl\",\"und\",\"it\",\"ar\",\"ar\",\"ar\",\"en\",\"ar\",\"it\",\"tr\",\"el\",\"ar\",\"ar\",\"ca\",\"und\",\"en\",\"it\",\"en\",\"und\",\"en\",\"en\",\"und\",\"en\",\"en\",\"en\",\"tr\",\"en\",\"und\",\"ar\",\"tr\",\"it\",\"en\",\"en\",\"ar\",\"ar\",\"en\",\"en\",\"tr\",\"en\",\"pt\",\"en\",\"ar\",\"en\",\"el\",\"el\",\"el\",\"en\",\"en\",\"el\",\"el\",\"und\",\"el\",\"el\",\"el\",\"el\",\"el\",\"el\",\"el\",\"el\",\"el\",\"el\",\"en\",\"el\",\"el\",\"en\",\"en\",\"el\",\"en\",\"en\",\"und\",\"en\",\"en\",\"und\",\"en\",\"en\",\"en\",\"und\",\"und\",\"en\",\"en\",\"el\",\"en\",\"tr\",\"und\",\"und\",\"en\",\"tr\",\"en\",\"en\",\"en\",\"en\",\"sl\",\"en\",\"en\",\"en\",\"it\",\"en\",\"en\",\"en\",\"tr\",\"en\",\"en\",\"it\",\"en\",\"tr\",\"tr\",\"en\",\"tr\",\"en\",\"tr\",\"en\",\"en\",\"en\",\"en\",\"tr\",\"und\",\"und\",\"en\",\"en\",\"tr\",\"el\",\"en\",\"tr\",\"tr\",\"en\",\"el\",\"el\",\"tr\",\"en\",\"tr\",\"und\",\"en\",\"en\",\"en\",\"en\",\"en\",\"en\",\"en\",\"en\",\"in\",\"tr\",\"en\",\"en\",\"en\",\"en\",\"en\",\"tr\",\"tr\",\"en\",\"tr\",\"tr\",\"en\",\"tr\",\"en\",\"en\",\"en\",\"en\",\"el\",\"en\",\"en\",\"en\",\"en\",\"en\",\"en\",\"tr\",\"en\",\"en\",\"en\",\"en\",\"tr\",\"en\",\"en\",\"en\",\"en\",\"en\",\"und\",\"tr\",\"und\",\"und\",\"es\",\"en\",\"en\",\"ca\",\"en\",\"en\",\"tr\",\"en\",\"en\",\"en\",\"et\",\"en\",\"en\",\"en\",\"en\",\"da\",\"da\",\"en\",\"en\",\"en\",\"en\",\"und\",\"en\",\"en\",\"en\",\"es\",\"en\",\"en\",\"en\",\"tr\",\"tr\",\"en\",\"en\",\"en\",\"en\",\"en\",\"en\",\"en\",\"tr\",\"en\",\"en\",\"en\",\"tr\",\"tr\",\"tr\",\"tr\",\"en\",\"en\",\"tr\",\"en\",\"en\",\"en\",\"tr\",\"en\",\"en\",\"tr\",\"en\",\"en\",\"en\",\"en\",\"tr\",\"en\",\"en\",\"en\",\"en\",\"en\",\"en\",\"tr\",\"en\",\"in\",\"tr\",\"en\",\"en\",\"tr\",\"en\",\"en\",\"en\",\"tr\",\"tr\",\"en\",\"en\",\"en\",\"ht\",\"tr\",\"tr\",\"und\",\"tr\",\"en\",\"en\",\"en\",\"tr\",\"en\",\"en\",\"en\",\"tr\",\"en\",\"tr\",\"tr\",\"tr\",\"en\",\"en\",\"tr\",\"en\",\"tr\",\"en\",\"tr\",\"en\",\"tr\",\"tr\",\"tr\",\"en\",\"en\",\"und\",\"en\",\"en\",\"tr\",\"tr\",\"ro\",\"en\",\"tr\",\"und\",\"en\",\"und\",\"tr\",\"en\",\"en\",\"und\",\"tr\",\"tr\",\"en\",\"en\",\"tr\",\"tl\",\"en\",\"en\",\"tr\",\"tr\",\"tr\",\"tr\",\"en\",\"el\",\"und\",\"und\",\"en\",\"en\",\"und\",\"en\",\"tr\",\"tr\",\"tr\",\"tr\",\"tr\",\"en\",\"en\",\"en\",\"und\",\"en\",\"en\",\"und\",\"en\",\"en\",\"tr\",\"tr\",\"tr\",\"ar\",\"en\",\"en\",\"und\",\"el\",\"tr\",\"tr\",\"en\",\"en\",\"en\",\"en\",\"en\",\"it\",\"tr\",\"en\",\"it\",\"en\",\"tr\",\"en\",\"tr\",\"en\",\"en\",\"en\",\"en\",\"en\",\"en\",\"en\",\"tr\",\"en\",\"en\",\"tr\",\"en\",\"en\",\"tr\",\"en\",\"en\",\"und\",\"en\",\"el\",\"und\",\"en\",\"en\",\"tr\",\"en\",\"en\",\"tr\",\"tr\",\"tr\",\"en\",\"en\",\"en\",\"en\",\"en\",\"en\",\"en\",\"en\",\"tr\",\"en\",\"en\",\"en\",\"en\",\"en\",\"en\",\"en\",\"en\",\"und\",\"en\",\"en\",\"en\",\"en\",\"tr\",\"en\",\"en\",\"en\",\"en\",\"en\",\"en\",\"tr\",\"en\",\"tr\",\"en\",\"en\",\"tr\",\"tr\",\"en\",\"en\",\"en\",\"en\",\"en\",\"en\",\"en\",\"tr\",\"tr\",\"en\",\"en\",\"en\",\"es\",\"en\",\"en\",\"en\",\"en\",\"en\",\"en\",\"en\",\"en\",\"en\",\"en\",\"en\",\"tr\",\"en\",\"en\",\"en\",\"en\",\"en\",\"tr\",\"en\",\"en\",\"en\",\"und\",\"und\",\"en\",\"en\",\"en\",\"en\",\"en\",\"en\",\"en\",\"en\",\"sr\",\"en\",\"fa\",\"el\",\"en\",\"en\",\"en\",\"en\",\"en\",\"en\",\"en\",\"en\",\"it\",\"en\",\"tr\",\"en\",\"en\",\"en\",\"en\",\"en\",\"en\",\"und\",\"en\",\"it\",\"en\",\"tr\",\"en\",\"en\",\"en\",\"tr\",\"en\",\"tr\",\"en\",\"en\",\"et\",\"en\",\"en\",\"tr\",\"tr\",\"en\",\"en\",\"en\",\"tr\",\"it\",\"en\",\"it\",\"en\",\"it\",\"und\",\"und\",\"el\",\"el\",\"el\",\"en\",\"en\",\"und\",\"en\",\"en\",\"en\",\"tr\",\"en\",\"en\",\"tr\",\"en\",\"en\",\"und\",\"en\",\"en\",\"en\",\"tr\",\"en\",\"en\",\"el\",\"tr\",\"en\",\"und\",\"tr\",\"it\",\"und\",\"en\",\"en\",\"en\",\"en\",\"en\",\"en\",\"it\",\"en\",\"en\",\"it\",\"und\",\"it\",\"en\",\"und\",\"tr\",\"tr\",\"tr\",\"und\",\"und\",\"und\",\"und\",\"und\",\"und\",\"und\",\"el\",\"und\",\"und\",\"en\",\"en\",\"und\",\"en\",\"tr\",\"it\",\"und\",\"en\",\"en\",\"et\",\"tr\",\"it\",\"und\",\"und\",\"und\",\"en\",\"en\",\"en\",\"en\",\"tr\",\"en\",\"und\",\"en\",\"tr\",\"en\",\"und\",\"en\",\"tr\",\"tr\",\"tr\",\"und\",\"en\",\"und\",\"tr\",\"tr\",\"en\",\"ca\",\"en\",\"in\",\"tl\",\"tr\",\"en\",\"en\",\"tr\",\"tr\",\"en\",\"tr\",\"en\",\"en\",\"it\",\"en\",\"tr\",\"tr\",\"tr\",\"en\",\"tr\",\"it\",\"en\",\"ar\",\"und\",\"und\",\"und\",\"en\",\"en\",\"en\",\"en\",\"en\",\"en\",\"tr\",\"en\",\"und\",\"en\",\"en\",\"tr\",\"tr\",\"it\",\"tr\",\"en\",\"en\",\"en\",\"en\",\"en\",\"en\",\"und\",\"en\",\"und\",\"en\",\"en\",\"en\",\"und\",\"en\",\"und\",\"und\",\"en\",\"und\",\"en\",\"en\",\"tr\",\"en\",\"en\",\"tr\",\"und\",\"tr\",\"tr\",\"en\",\"tr\",\"tr\",\"it\",\"tr\",\"en\",\"en\",\"en\",\"tr\",\"tr\",\"tr\",\"en\",\"en\",\"ro\",\"en\",\"und\",\"tr\",\"tr\",\"el\",\"tr\",\"ht\",\"el\",\"tr\",\"und\",\"el\",\"en\",\"en\",\"it\",\"en\",\"tr\",\"en\",\"en\",\"und\",\"und\",\"und\",\"en\",\"tr\",\"en\",\"it\",\"en\",\"und\",\"bg\",\"und\",\"und\",\"el\",\"und\",\"tr\",\"tr\",\"en\",\"en\",\"ca\",\"tr\",\"und\",\"en\",\"en\",\"en\",\"tr\",\"en\",\"en\",\"en\",\"en\",\"und\",\"en\",\"en\",\"en\",\"it\",\"en\",\"en\",\"in\",\"en\",\"en\",\"und\",\"en\",\"en\",\"en\",\"en\",\"en\",\"en\",\"it\",\"en\",\"ar\",\"en\",\"en\",\"it\",\"en\",\"en\",\"en\",\"en\",\"tr\",\"en\",\"en\",\"und\",\"ro\",\"it\",\"tr\",\"en\",\"en\",\"tr\",\"en\",\"en\",\"en\",\"tr\",\"en\",\"en\",\"en\",\"en\",\"en\",\"en\",\"el\",\"en\",\"en\",\"en\",\"en\",\"tr\",\"en\",\"en\",\"en\",\"en\",\"en\",\"en\",\"tr\",\"en\",\"en\",\"en\",\"en\",\"en\",\"en\",\"en\",\"en\",\"und\",\"en\",\"en\",\"en\",\"en\",\"en\",\"en\",\"en\",\"en\",\"tr\",\"en\",\"en\",\"en\",\"en\",\"tr\",\"en\",\"en\",\"en\",\"en\",\"en\",\"tl\",\"en\",\"en\",\"en\",\"en\",\"en\",\"en\",\"it\",\"und\",\"en\",\"en\",\"en\",\"und\",\"en\",\"und\",\"en\",\"en\",\"und\",\"in\",\"es\",\"en\",\"en\",\"en\",\"ca\",\"en\",\"en\",\"en\",\"en\",\"en\",\"und\",\"en\",\"en\",\"en\",\"en\",\"en\",\"en\",\"en\",\"und\",\"tr\",\"en\",\"en\",\"en\",\"en\",\"en\",\"en\",\"und\",\"tr\",\"en\",\"en\",\"und\",\"und\",\"en\",\"in\",\"en\",\"en\",\"en\",\"en\",\"tr\",\"en\",\"en\",\"en\",\"en\",\"en\",\"tr\",\"en\",\"en\",\"en\",\"en\",\"en\",\"tr\",\"en\",\"en\",\"tr\",\"en\",\"en\",\"tr\",\"en\",\"en\",\"en\",\"en\",\"en\",\"en\",\"en\",\"en\",\"en\",\"en\",\"en\",\"en\",\"und\",\"en\",\"und\",\"und\",\"en\",\"tr\",\"en\",\"tr\",\"en\",\"ht\",\"en\",\"en\",\"en\",\"und\",\"en\",\"und\",\"en\",\"tr\",\"en\",\"ar\",\"en\",\"und\",\"ar\",\"tr\",\"en\",\"tr\",\"en\",\"ar\",\"en\",\"en\",\"und\",\"en\",\"ar\",\"en\",\"en\",\"en\",\"en\",\"en\",\"und\",\"en\",\"tr\",\"tr\",\"en\",\"en\",\"en\",\"und\",\"tr\",\"tr\",\"und\",\"und\",\"en\",\"en\",\"en\",\"ar\",\"en\",\"en\",\"en\",\"en\",\"und\",\"it\",\"tr\",\"und\",\"tr\",\"en\",\"tr\",\"en\",\"tr\",\"en\",\"ar\",\"ar\",\"tr\",\"ar\",\"ar\",\"en\",\"en\",\"en\",\"en\",\"en\",\"en\",\"en\",\"en\",\"en\",\"en\",\"ar\",\"en\",\"en\",\"en\",\"tr\",\"en\",\"en\",\"und\",\"und\",\"en\",\"en\",\"ar\",\"en\",\"ar\",\"ar\",\"en\",\"ar\",\"en\",\"ar\",\"ar\",\"en\",\"en\",\"ar\",\"tr\",\"ar\",\"ar\",\"und\",\"ar\",\"ar\",\"ar\",\"ar\",\"en\",\"en\",\"ar\",\"en\",\"und\",\"en\",\"en\",\"en\",\"ar\",\"und\",\"ar\",\"tr\",\"en\",\"en\",\"ar\",\"en\",\"ar\",\"ar\",\"en\",\"en\",\"en\",\"en\",\"en\",\"ca\",\"en\",\"und\",\"ar\",\"en\",\"en\",\"en\",\"ar\",\"en\",\"tr\",\"en\",\"en\",\"en\",\"ro\",\"en\",\"en\",\"tr\",\"tr\",\"tr\",\"en\",\"ar\",\"en\",\"und\",\"en\",\"en\",\"ar\",\"en\",\"en\",\"en\",\"ckb\",\"en\",\"en\",\"en\",\"en\",\"en\",\"en\",\"en\",\"en\",\"en\",\"tr\",\"en\",\"en\",\"en\",\"en\",\"en\",\"en\",\"en\",\"en\",\"en\",\"tr\",\"tr\",\"tr\",\"en\",\"und\",\"en\",\"en\",\"ca\",\"tr\",\"tr\",\"und\",\"en\",\"und\",\"und\",\"en\",\"tr\",\"en\",\"en\",\"en\",\"en\",\"en\",\"en\",\"en\",\"en\",\"en\",\"en\",\"en\",\"en\",\"en\",\"en\",\"en\",\"und\",\"tr\",\"en\",\"en\",\"en\",\"en\",\"und\",\"tr\",\"tr\",\"en\",\"en\",\"tr\",\"en\",\"en\",\"en\",\"en\",\"en\",\"tl\",\"en\",\"und\",\"eu\",\"it\",\"en\",\"en\",\"en\",\"en\",\"en\",\"en\",\"en\",\"en\",\"tr\",\"en\",\"en\",\"en\",\"und\",\"tr\",\"en\",\"tr\",\"und\",\"en\",\"en\",\"en\",\"ur\",\"tr\",\"en\",\"en\",\"tl\",\"en\",\"tr\",\"en\",\"en\",\"und\",\"tr\",\"el\",\"und\",\"en\",\"tr\",\"en\",\"en\",\"en\",\"tr\",\"tr\",\"tr\",\"und\",\"tr\",\"en\",\"en\",\"tr\",\"tr\",\"tr\",\"en\",\"tr\",\"en\",\"tr\",\"und\",\"en\",\"en\",\"tr\",\"en\",\"tr\",\"en\",\"en\",\"tr\",\"en\",\"en\",\"en\",\"en\",\"en\",\"en\",\"tr\",\"tr\",\"en\",\"ru\",\"tr\",\"en\",\"en\",\"tr\",\"tr\",\"en\",\"en\",\"en\",\"en\",\"en\",\"en\",\"en\",\"tr\",\"en\",\"tr\",\"en\",\"en\",\"en\",\"tr\",\"tr\",\"en\",\"tr\",\"tr\",\"en\",\"en\",\"tr\",\"en\",\"en\",\"en\",\"en\",\"en\",\"ar\",\"tr\",\"und\",\"en\",\"tr\",\"en\",\"en\",\"en\",\"en\",\"en\",\"en\",\"tr\",\"tr\",\"und\",\"en\",\"en\",\"en\",\"tr\",\"tr\",\"tr\",\"en\",\"en\",\"en\",\"en\",\"en\",\"en\",\"hi\",\"en\",\"en\",\"en\",\"en\",\"tr\",\"en\",\"en\",\"en\",\"tr\",\"en\",\"en\",\"en\",\"en\",\"und\",\"en\",\"und\",\"en\",\"en\",\"en\",\"tr\",\"en\",\"en\",\"en\",\"en\",\"en\",\"tr\",\"tr\",\"tr\",\"en\",\"en\",\"en\",\"en\",\"in\",\"en\",\"en\",\"en\",\"tr\",\"ar\",\"en\",\"en\",\"und\",\"en\",\"und\",\"tr\",\"en\",\"en\",\"en\",\"tr\",\"ur\",\"en\",\"en\",\"en\",\"tr\",\"tr\",\"und\",\"en\",\"en\",\"en\",\"tr\",\"en\",\"und\",\"en\",\"tr\",\"en\",\"tl\",\"en\",\"tr\",\"en\",\"en\",\"ur\",\"und\",\"en\",\"en\",\"en\",\"en\",\"en\",\"en\",\"en\",\"tr\",\"en\",\"en\",\"en\",\"en\",\"en\",\"en\",\"und\",\"ar\",\"tr\",\"en\",\"en\",\"en\",\"en\",\"en\",\"ar\",\"en\",\"en\",\"en\",\"en\",\"ar\",\"en\",\"en\",\"tr\",\"en\",\"tr\",\"und\",\"en\",\"en\",\"en\",\"en\",\"en\",\"tr\",\"und\",\"en\",\"en\",\"en\",\"tr\",\"en\",\"en\",\"en\",\"en\",\"el\",\"tr\",\"en\",\"en\",\"en\",\"en\",\"tr\",\"tr\",\"tr\",\"en\",\"tr\",\"en\",\"en\",\"en\",\"en\",\"en\",\"en\",\"en\",\"ca\",\"en\",\"el\",\"et\",\"hi\",\"tr\",\"en\",\"en\",\"tr\",\"tr\",\"und\",\"tr\",\"en\",\"en\",\"en\",\"en\",\"en\",\"en\",\"en\",\"en\",\"en\",\"en\",\"in\",\"en\",\"en\",\"und\",\"en\",\"tr\",\"en\",\"en\",\"en\",\"tr\",\"en\",\"tr\",\"en\",\"und\",\"tr\",\"en\",\"en\",\"und\",\"tr\",\"tr\",\"tr\",\"tr\",\"en\",\"tr\",\"en\",\"en\",\"en\",\"tr\",\"tr\",\"tr\",\"und\",\"en\",\"en\",\"en\",\"en\",\"tr\",\"en\",\"en\",\"en\",\"tr\",\"tr\",\"en\",\"en\",\"en\",\"en\",\"en\",\"en\",\"en\",\"tr\",\"tr\",\"en\",\"tr\",\"en\",\"en\",\"en\",\"ar\",\"tr\",\"en\",\"en\",\"tr\",\"en\",\"ro\",\"tr\",\"tr\",\"en\",\"en\",\"en\",\"tr\",\"tr\",\"en\",\"en\",\"en\",\"en\",\"en\",\"en\",\"en\",\"en\",\"tr\",\"tr\",\"tr\",\"tr\",\"und\",\"en\",\"en\",\"tr\",\"en\",\"en\",\"en\",\"el\",\"en\",\"en\",\"ur\",\"en\",\"en\",\"in\",\"tr\",\"en\",\"in\",\"tr\",\"en\",\"tr\",\"en\",\"en\",\"en\",\"en\",\"tr\",\"en\",\"en\",\"in\",\"en\",\"en\",\"tr\",\"en\",\"en\",\"en\",\"en\",\"fi\",\"en\",\"en\",\"en\",\"in\",\"en\",\"in\",\"tr\",\"tr\",\"en\",\"in\",\"en\",\"en\",\"ro\",\"en\",\"en\",\"in\",\"en\",\"in\",\"en\",\"en\",\"en\",\"tr\",\"en\",\"en\",\"en\",\"en\",\"en\",\"en\",\"tr\",\"en\",\"en\",\"tr\",\"tr\",\"tr\",\"es\",\"en\",\"en\",\"en\",\"en\",\"ur\",\"en\",\"it\",\"en\",\"en\",\"en\",\"en\",\"es\",\"en\",\"en\",\"en\",\"en\",\"en\",\"tr\",\"tr\",\"en\",\"en\",\"en\",\"und\",\"en\",\"en\",\"en\",\"tr\",\"en\",\"en\",\"en\",\"en\",\"en\",\"tr\",\"en\",\"en\",\"en\",\"en\",\"en\",\"en\",\"en\",\"tr\",\"en\",\"tr\",\"en\",\"en\",\"tr\",\"und\",\"und\",\"tr\",\"en\",\"in\",\"tl\",\"und\",\"tr\",\"cs\",\"en\",\"en\",\"en\",\"tr\",\"en\",\"tr\",\"und\",\"und\",\"tr\",\"en\",\"tr\",\"en\",\"und\",\"en\",\"ro\",\"en\",\"und\",\"en\",\"en\",\"en\",\"en\",\"tr\",\"en\",\"en\",\"ro\",\"en\",\"en\",\"en\",\"en\",\"tr\",\"en\",\"en\",\"en\",\"und\",\"en\",\"en\",\"en\",\"en\",\"en\",\"en\",\"tr\",\"en\",\"en\",\"en\",\"en\",\"en\",\"en\",\"en\",\"en\",\"tr\",\"tr\",\"en\",\"tr\",\"it\",\"en\",\"in\",\"en\",\"en\",\"en\",\"tr\",\"en\",\"tr\",\"en\",\"en\",\"en\",\"en\",\"en\",\"en\",\"en\",\"en\",\"en\",\"en\",\"it\",\"en\",\"en\",\"tr\",\"en\",\"tr\",\"en\",\"en\",\"und\",\"tr\",\"tr\",\"en\",\"en\",\"tr\",\"en\",\"en\",\"en\",\"en\",\"en\",\"en\",\"en\",\"en\",\"tr\",\"en\",\"und\",\"tr\",\"en\",\"en\",\"und\",\"en\",\"en\",\"en\",\"en\",\"en\",\"en\",\"en\",\"en\",\"en\",\"en\",\"en\",\"tr\",\"en\",\"und\",\"tr\",\"en\",\"tr\",\"en\",\"en\",\"und\",\"en\",\"en\",\"en\",\"en\",\"en\",\"en\",\"en\",\"en\",\"tr\",\"en\",\"en\",\"en\",\"tr\",\"en\",\"en\",\"fr\",\"en\",\"en\",\"tr\",\"en\",\"tl\",\"en\",\"en\",\"en\",\"en\",\"en\",\"en\",\"en\",\"en\",\"en\",\"en\",\"en\",\"en\",\"tr\",\"tr\",\"en\",\"en\",\"und\",\"en\",\"en\",\"en\",\"en\",\"ro\",\"en\",\"en\",\"tr\",\"en\",\"en\",\"en\",\"en\",\"en\",\"tr\",\"tr\",\"tr\",\"en\",\"en\",\"en\",\"en\",\"en\",\"it\",\"en\",\"en\",\"tr\",\"en\",\"tr\",\"en\",\"tr\",\"en\",\"tr\",\"en\",\"es\",\"en\",\"en\",\"en\",\"und\",\"en\",\"tr\",\"en\",\"en\",\"tr\",\"en\",\"en\",\"en\",\"en\",\"tr\",\"en\",\"en\",\"en\",\"tr\",\"und\",\"en\",\"en\",\"tr\",\"en\",\"en\",\"und\",\"en\",\"tr\",\"en\",\"en\",\"tr\",\"en\",\"en\",\"tr\",\"en\",\"en\",\"en\",\"en\",\"en\",\"en\",\"tr\",\"en\",\"en\",\"en\",\"en\",\"en\",\"tr\",\"en\",\"en\",\"und\",\"tr\",\"en\",\"en\",\"en\",\"en\",\"tr\",\"en\",\"en\",\"tr\",\"en\",\"und\",\"en\",\"und\",\"en\",\"tr\",\"tr\",\"en\",\"en\",\"tr\",\"en\",\"en\",\"tr\",\"ar\",\"en\",\"en\",\"en\",\"en\",\"tr\",\"en\",\"tr\",\"en\",\"tl\",\"tr\",\"en\",\"en\",\"tr\",\"en\",\"en\",\"en\",\"tr\",\"iw\",\"tr\",\"tr\",\"und\",\"en\",\"und\",\"en\",\"tr\",\"tr\",\"en\",\"tr\",\"en\",\"en\",\"en\",\"en\",\"en\",\"en\",\"tr\",\"en\",\"en\",\"und\",\"tr\",\"en\",\"en\",\"tr\",\"en\",\"en\",\"en\",\"en\",\"en\",\"tr\",\"und\",\"en\",\"en\",\"en\",\"hi\",\"en\",\"en\",\"en\",\"en\",\"en\",\"de\",\"tr\",\"und\",\"en\",\"en\",\"en\",\"en\",\"tr\",\"en\",\"en\",\"en\",\"en\",\"en\",\"el\",\"en\",\"sr\",\"und\",\"und\",\"tr\",\"tr\",\"en\",\"en\",\"en\",\"en\",\"en\",\"en\",\"en\",\"it\",\"en\",\"en\",\"ht\",\"und\",\"und\",\"en\",\"en\",\"und\",\"en\",\"und\",\"en\",\"und\",\"tr\",\"tr\",\"en\",\"en\",\"en\",\"en\",\"en\",\"en\",\"en\",\"und\",\"it\",\"tr\",\"tr\",\"en\",\"und\",\"en\",\"en\",\"en\",\"en\",\"en\",\"en\",\"en\",\"en\",\"tr\",\"en\",\"tr\",\"und\",\"en\",\"ar\",\"en\",\"en\",\"en\",\"en\",\"tr\",\"es\",\"en\",\"en\",\"en\",\"ht\",\"und\",\"en\",\"en\",\"en\",\"tr\",\"en\",\"en\",\"en\",\"en\",\"en\",\"en\",\"en\",\"en\",\"en\",\"en\",\"en\",\"en\",\"en\",\"en\",\"en\",\"en\",\"en\",\"en\",\"en\",\"tr\",\"und\",\"en\",\"en\",\"en\",\"en\",\"en\",\"en\",\"en\",\"tr\",\"en\",\"en\",\"en\",\"en\",\"en\",\"und\",\"und\",\"es\",\"tr\",\"tr\",\"en\",\"tr\",\"en\",\"tr\",\"en\",\"en\",\"tr\",\"es\",\"en\",\"tr\",\"en\",\"en\",\"en\",\"en\",\"en\",\"ar\",\"en\",\"en\",\"en\",\"en\",\"en\",\"en\",\"en\",\"tr\",\"tr\",\"en\",\"tr\",\"es\",\"en\",\"en\",\"en\",\"en\",\"en\",\"en\",\"en\",\"en\",\"en\",\"und\",\"tl\",\"tr\",\"en\",\"en\",\"en\",\"en\",\"en\",\"fr\",\"und\",\"en\",\"en\",\"en\",\"und\",\"en\",\"en\",\"und\",\"it\",\"en\",\"ar\",\"ar\",\"ar\",\"tr\",\"en\",\"en\",\"und\",\"en\",\"tr\",\"und\",\"en\",\"en\",\"tr\",\"en\",\"und\",\"tr\",\"en\",\"en\",\"und\",\"en\",\"en\",\"und\",\"en\",\"it\",\"en\",\"en\",\"und\",\"en\",\"und\",\"en\",\"en\",\"en\",\"en\",\"en\",\"tr\",\"tr\",\"tr\",\"und\",\"und\",\"tr\",\"en\",\"en\",\"en\",\"en\",\"en\",\"en\",\"el\",\"tr\",\"en\",\"en\",\"tr\",\"it\",\"en\",\"en\",\"el\",\"en\",\"en\",\"en\",\"en\",\"en\",\"en\",\"en\",\"en\",\"en\",\"it\",\"en\",\"en\",\"it\",\"ar\",\"und\",\"en\",\"en\",\"en\",\"und\",\"en\",\"en\",\"en\",\"ar\",\"ar\",\"en\",\"und\",\"en\",\"en\",\"ar\",\"en\",\"en\",\"en\",\"en\",\"en\",\"und\",\"ar\",\"tr\",\"el\",\"en\",\"en\",\"en\",\"en\",\"und\",\"en\",\"en\",\"en\",\"en\",\"und\",\"en\",\"en\",\"ar\",\"und\",\"und\",\"und\",\"tr\",\"en\"],\"xaxis\":\"x\",\"yaxis\":\"y\",\"type\":\"histogram\"}],                        {\"template\":{\"data\":{\"bar\":[{\"error_x\":{\"color\":\"#2a3f5f\"},\"error_y\":{\"color\":\"#2a3f5f\"},\"marker\":{\"line\":{\"color\":\"#E5ECF6\",\"width\":0.5},\"pattern\":{\"fillmode\":\"overlay\",\"size\":10,\"solidity\":0.2}},\"type\":\"bar\"}],\"barpolar\":[{\"marker\":{\"line\":{\"color\":\"#E5ECF6\",\"width\":0.5},\"pattern\":{\"fillmode\":\"overlay\",\"size\":10,\"solidity\":0.2}},\"type\":\"barpolar\"}],\"carpet\":[{\"aaxis\":{\"endlinecolor\":\"#2a3f5f\",\"gridcolor\":\"white\",\"linecolor\":\"white\",\"minorgridcolor\":\"white\",\"startlinecolor\":\"#2a3f5f\"},\"baxis\":{\"endlinecolor\":\"#2a3f5f\",\"gridcolor\":\"white\",\"linecolor\":\"white\",\"minorgridcolor\":\"white\",\"startlinecolor\":\"#2a3f5f\"},\"type\":\"carpet\"}],\"choropleth\":[{\"colorbar\":{\"outlinewidth\":0,\"ticks\":\"\"},\"type\":\"choropleth\"}],\"contour\":[{\"colorbar\":{\"outlinewidth\":0,\"ticks\":\"\"},\"colorscale\":[[0.0,\"#0d0887\"],[0.1111111111111111,\"#46039f\"],[0.2222222222222222,\"#7201a8\"],[0.3333333333333333,\"#9c179e\"],[0.4444444444444444,\"#bd3786\"],[0.5555555555555556,\"#d8576b\"],[0.6666666666666666,\"#ed7953\"],[0.7777777777777778,\"#fb9f3a\"],[0.8888888888888888,\"#fdca26\"],[1.0,\"#f0f921\"]],\"type\":\"contour\"}],\"contourcarpet\":[{\"colorbar\":{\"outlinewidth\":0,\"ticks\":\"\"},\"type\":\"contourcarpet\"}],\"heatmap\":[{\"colorbar\":{\"outlinewidth\":0,\"ticks\":\"\"},\"colorscale\":[[0.0,\"#0d0887\"],[0.1111111111111111,\"#46039f\"],[0.2222222222222222,\"#7201a8\"],[0.3333333333333333,\"#9c179e\"],[0.4444444444444444,\"#bd3786\"],[0.5555555555555556,\"#d8576b\"],[0.6666666666666666,\"#ed7953\"],[0.7777777777777778,\"#fb9f3a\"],[0.8888888888888888,\"#fdca26\"],[1.0,\"#f0f921\"]],\"type\":\"heatmap\"}],\"heatmapgl\":[{\"colorbar\":{\"outlinewidth\":0,\"ticks\":\"\"},\"colorscale\":[[0.0,\"#0d0887\"],[0.1111111111111111,\"#46039f\"],[0.2222222222222222,\"#7201a8\"],[0.3333333333333333,\"#9c179e\"],[0.4444444444444444,\"#bd3786\"],[0.5555555555555556,\"#d8576b\"],[0.6666666666666666,\"#ed7953\"],[0.7777777777777778,\"#fb9f3a\"],[0.8888888888888888,\"#fdca26\"],[1.0,\"#f0f921\"]],\"type\":\"heatmapgl\"}],\"histogram\":[{\"marker\":{\"pattern\":{\"fillmode\":\"overlay\",\"size\":10,\"solidity\":0.2}},\"type\":\"histogram\"}],\"histogram2d\":[{\"colorbar\":{\"outlinewidth\":0,\"ticks\":\"\"},\"colorscale\":[[0.0,\"#0d0887\"],[0.1111111111111111,\"#46039f\"],[0.2222222222222222,\"#7201a8\"],[0.3333333333333333,\"#9c179e\"],[0.4444444444444444,\"#bd3786\"],[0.5555555555555556,\"#d8576b\"],[0.6666666666666666,\"#ed7953\"],[0.7777777777777778,\"#fb9f3a\"],[0.8888888888888888,\"#fdca26\"],[1.0,\"#f0f921\"]],\"type\":\"histogram2d\"}],\"histogram2dcontour\":[{\"colorbar\":{\"outlinewidth\":0,\"ticks\":\"\"},\"colorscale\":[[0.0,\"#0d0887\"],[0.1111111111111111,\"#46039f\"],[0.2222222222222222,\"#7201a8\"],[0.3333333333333333,\"#9c179e\"],[0.4444444444444444,\"#bd3786\"],[0.5555555555555556,\"#d8576b\"],[0.6666666666666666,\"#ed7953\"],[0.7777777777777778,\"#fb9f3a\"],[0.8888888888888888,\"#fdca26\"],[1.0,\"#f0f921\"]],\"type\":\"histogram2dcontour\"}],\"mesh3d\":[{\"colorbar\":{\"outlinewidth\":0,\"ticks\":\"\"},\"type\":\"mesh3d\"}],\"parcoords\":[{\"line\":{\"colorbar\":{\"outlinewidth\":0,\"ticks\":\"\"}},\"type\":\"parcoords\"}],\"pie\":[{\"automargin\":true,\"type\":\"pie\"}],\"scatter\":[{\"marker\":{\"colorbar\":{\"outlinewidth\":0,\"ticks\":\"\"}},\"type\":\"scatter\"}],\"scatter3d\":[{\"line\":{\"colorbar\":{\"outlinewidth\":0,\"ticks\":\"\"}},\"marker\":{\"colorbar\":{\"outlinewidth\":0,\"ticks\":\"\"}},\"type\":\"scatter3d\"}],\"scattercarpet\":[{\"marker\":{\"colorbar\":{\"outlinewidth\":0,\"ticks\":\"\"}},\"type\":\"scattercarpet\"}],\"scattergeo\":[{\"marker\":{\"colorbar\":{\"outlinewidth\":0,\"ticks\":\"\"}},\"type\":\"scattergeo\"}],\"scattergl\":[{\"marker\":{\"colorbar\":{\"outlinewidth\":0,\"ticks\":\"\"}},\"type\":\"scattergl\"}],\"scattermapbox\":[{\"marker\":{\"colorbar\":{\"outlinewidth\":0,\"ticks\":\"\"}},\"type\":\"scattermapbox\"}],\"scatterpolar\":[{\"marker\":{\"colorbar\":{\"outlinewidth\":0,\"ticks\":\"\"}},\"type\":\"scatterpolar\"}],\"scatterpolargl\":[{\"marker\":{\"colorbar\":{\"outlinewidth\":0,\"ticks\":\"\"}},\"type\":\"scatterpolargl\"}],\"scatterternary\":[{\"marker\":{\"colorbar\":{\"outlinewidth\":0,\"ticks\":\"\"}},\"type\":\"scatterternary\"}],\"surface\":[{\"colorbar\":{\"outlinewidth\":0,\"ticks\":\"\"},\"colorscale\":[[0.0,\"#0d0887\"],[0.1111111111111111,\"#46039f\"],[0.2222222222222222,\"#7201a8\"],[0.3333333333333333,\"#9c179e\"],[0.4444444444444444,\"#bd3786\"],[0.5555555555555556,\"#d8576b\"],[0.6666666666666666,\"#ed7953\"],[0.7777777777777778,\"#fb9f3a\"],[0.8888888888888888,\"#fdca26\"],[1.0,\"#f0f921\"]],\"type\":\"surface\"}],\"table\":[{\"cells\":{\"fill\":{\"color\":\"#EBF0F8\"},\"line\":{\"color\":\"white\"}},\"header\":{\"fill\":{\"color\":\"#C8D4E3\"},\"line\":{\"color\":\"white\"}},\"type\":\"table\"}]},\"layout\":{\"annotationdefaults\":{\"arrowcolor\":\"#2a3f5f\",\"arrowhead\":0,\"arrowwidth\":1},\"autotypenumbers\":\"strict\",\"coloraxis\":{\"colorbar\":{\"outlinewidth\":0,\"ticks\":\"\"}},\"colorscale\":{\"diverging\":[[0,\"#8e0152\"],[0.1,\"#c51b7d\"],[0.2,\"#de77ae\"],[0.3,\"#f1b6da\"],[0.4,\"#fde0ef\"],[0.5,\"#f7f7f7\"],[0.6,\"#e6f5d0\"],[0.7,\"#b8e186\"],[0.8,\"#7fbc41\"],[0.9,\"#4d9221\"],[1,\"#276419\"]],\"sequential\":[[0.0,\"#0d0887\"],[0.1111111111111111,\"#46039f\"],[0.2222222222222222,\"#7201a8\"],[0.3333333333333333,\"#9c179e\"],[0.4444444444444444,\"#bd3786\"],[0.5555555555555556,\"#d8576b\"],[0.6666666666666666,\"#ed7953\"],[0.7777777777777778,\"#fb9f3a\"],[0.8888888888888888,\"#fdca26\"],[1.0,\"#f0f921\"]],\"sequentialminus\":[[0.0,\"#0d0887\"],[0.1111111111111111,\"#46039f\"],[0.2222222222222222,\"#7201a8\"],[0.3333333333333333,\"#9c179e\"],[0.4444444444444444,\"#bd3786\"],[0.5555555555555556,\"#d8576b\"],[0.6666666666666666,\"#ed7953\"],[0.7777777777777778,\"#fb9f3a\"],[0.8888888888888888,\"#fdca26\"],[1.0,\"#f0f921\"]]},\"colorway\":[\"#636efa\",\"#EF553B\",\"#00cc96\",\"#ab63fa\",\"#FFA15A\",\"#19d3f3\",\"#FF6692\",\"#B6E880\",\"#FF97FF\",\"#FECB52\"],\"font\":{\"color\":\"#2a3f5f\"},\"geo\":{\"bgcolor\":\"white\",\"lakecolor\":\"white\",\"landcolor\":\"#E5ECF6\",\"showlakes\":true,\"showland\":true,\"subunitcolor\":\"white\"},\"hoverlabel\":{\"align\":\"left\"},\"hovermode\":\"closest\",\"mapbox\":{\"style\":\"light\"},\"paper_bgcolor\":\"white\",\"plot_bgcolor\":\"#E5ECF6\",\"polar\":{\"angularaxis\":{\"gridcolor\":\"white\",\"linecolor\":\"white\",\"ticks\":\"\"},\"bgcolor\":\"#E5ECF6\",\"radialaxis\":{\"gridcolor\":\"white\",\"linecolor\":\"white\",\"ticks\":\"\"}},\"scene\":{\"xaxis\":{\"backgroundcolor\":\"#E5ECF6\",\"gridcolor\":\"white\",\"gridwidth\":2,\"linecolor\":\"white\",\"showbackground\":true,\"ticks\":\"\",\"zerolinecolor\":\"white\"},\"yaxis\":{\"backgroundcolor\":\"#E5ECF6\",\"gridcolor\":\"white\",\"gridwidth\":2,\"linecolor\":\"white\",\"showbackground\":true,\"ticks\":\"\",\"zerolinecolor\":\"white\"},\"zaxis\":{\"backgroundcolor\":\"#E5ECF6\",\"gridcolor\":\"white\",\"gridwidth\":2,\"linecolor\":\"white\",\"showbackground\":true,\"ticks\":\"\",\"zerolinecolor\":\"white\"}},\"shapedefaults\":{\"line\":{\"color\":\"#2a3f5f\"}},\"ternary\":{\"aaxis\":{\"gridcolor\":\"white\",\"linecolor\":\"white\",\"ticks\":\"\"},\"baxis\":{\"gridcolor\":\"white\",\"linecolor\":\"white\",\"ticks\":\"\"},\"bgcolor\":\"#E5ECF6\",\"caxis\":{\"gridcolor\":\"white\",\"linecolor\":\"white\",\"ticks\":\"\"}},\"title\":{\"x\":0.05},\"xaxis\":{\"automargin\":true,\"gridcolor\":\"white\",\"linecolor\":\"white\",\"ticks\":\"\",\"title\":{\"standoff\":15},\"zerolinecolor\":\"white\",\"zerolinewidth\":2},\"yaxis\":{\"automargin\":true,\"gridcolor\":\"white\",\"linecolor\":\"white\",\"ticks\":\"\",\"title\":{\"standoff\":15},\"zerolinecolor\":\"white\",\"zerolinewidth\":2}}},\"xaxis\":{\"anchor\":\"y\",\"domain\":[0.0,1.0],\"title\":{\"text\":\"lang\"}},\"yaxis\":{\"anchor\":\"x\",\"domain\":[0.0,1.0],\"title\":{\"text\":\"count\"}},\"legend\":{\"tracegroupgap\":0},\"title\":{\"text\":\"Number of languages in the tweets\"},\"barmode\":\"relative\"},                        {\"responsive\": true}                    ).then(function(){\n",
              "                            \n",
              "var gd = document.getElementById('fe834eca-dbb3-4282-8b6d-875be3985594');\n",
              "var x = new MutationObserver(function (mutations, observer) {{\n",
              "        var display = window.getComputedStyle(gd).display;\n",
              "        if (!display || display === 'none') {{\n",
              "            console.log([gd, 'removed!']);\n",
              "            Plotly.purge(gd);\n",
              "            observer.disconnect();\n",
              "        }}\n",
              "}});\n",
              "\n",
              "// Listen for the removal of the full notebook cells\n",
              "var notebookContainer = gd.closest('#notebook-container');\n",
              "if (notebookContainer) {{\n",
              "    x.observe(notebookContainer, {childList: true});\n",
              "}}\n",
              "\n",
              "// Listen for the clearing of the current output cell\n",
              "var outputEl = gd.closest('.output');\n",
              "if (outputEl) {{\n",
              "    x.observe(outputEl, {childList: true});\n",
              "}}\n",
              "\n",
              "                        })                };                            </script>        </div>\n",
              "</body>\n",
              "</html>"
            ]
          },
          "metadata": {}
        }
      ]
    },
    {
      "cell_type": "code",
      "source": [
        "#Selecting data only in English language\n",
        "data = data[data['lang'] == 'en']"
      ],
      "metadata": {
        "id": "b2s1w3c470Ph"
      },
      "execution_count": 8,
      "outputs": []
    },
    {
      "cell_type": "code",
      "source": [
        "print(\"\\n shape of the English Data set:-----> {}\".format(data.shape))"
      ],
      "metadata": {
        "colab": {
          "base_uri": "https://localhost:8080/"
        },
        "id": "3wqa8XWS-LFT",
        "outputId": "dfd8da34-7d5f-4327-fd28-5898533c79d0"
      },
      "execution_count": 9,
      "outputs": [
        {
          "output_type": "stream",
          "name": "stdout",
          "text": [
            "\n",
            " shape of the English Data set:-----> (3924, 29)\n"
          ]
        }
      ]
    },
    {
      "cell_type": "code",
      "source": [
        "data.info()"
      ],
      "metadata": {
        "id": "1_p-YZ5T-YbL",
        "colab": {
          "base_uri": "https://localhost:8080/"
        },
        "outputId": "f31a9f3c-1e46-403a-d29d-4dc3a4458217"
      },
      "execution_count": 10,
      "outputs": [
        {
          "output_type": "stream",
          "name": "stdout",
          "text": [
            "<class 'pandas.core.frame.DataFrame'>\n",
            "Int64Index: 3924 entries, 3 to 12390\n",
            "Data columns (total 29 columns):\n",
            " #   Column            Non-Null Count  Dtype  \n",
            "---  ------            --------------  -----  \n",
            " 0   Unnamed: 0        3924 non-null   int64  \n",
            " 1   Unnamed: 0.1      3924 non-null   int64  \n",
            " 2   url               3924 non-null   object \n",
            " 3   date              3924 non-null   object \n",
            " 4   content           3924 non-null   object \n",
            " 5   renderedContent   3924 non-null   object \n",
            " 6   id                3924 non-null   int64  \n",
            " 7   user              3924 non-null   object \n",
            " 8   replyCount        3924 non-null   int64  \n",
            " 9   retweetCount      3924 non-null   int64  \n",
            " 10  likeCount         3924 non-null   int64  \n",
            " 11  quoteCount        3924 non-null   int64  \n",
            " 12  conversationId    3924 non-null   int64  \n",
            " 13  lang              3924 non-null   object \n",
            " 14  source            3924 non-null   object \n",
            " 15  sourceUrl         3924 non-null   object \n",
            " 16  sourceLabel       3924 non-null   object \n",
            " 17  outlinks          1897 non-null   object \n",
            " 18  tcooutlinks       1897 non-null   object \n",
            " 19  media             1490 non-null   object \n",
            " 20  retweetedTweet    0 non-null      float64\n",
            " 21  quotedTweet       429 non-null    object \n",
            " 22  inReplyToTweetId  219 non-null    float64\n",
            " 23  inReplyToUser     219 non-null    object \n",
            " 24  mentionedUsers    1127 non-null   object \n",
            " 25  coordinates       3923 non-null   object \n",
            " 26  place             3918 non-null   object \n",
            " 27  hashtags          3923 non-null   object \n",
            " 28  cashtags          1 non-null      object \n",
            "dtypes: float64(2), int64(8), object(19)\n",
            "memory usage: 919.7+ KB\n"
          ]
        }
      ]
    },
    {
      "cell_type": "code",
      "source": [
        "data.head()"
      ],
      "metadata": {
        "id": "4R0fjRR2-fi8",
        "colab": {
          "base_uri": "https://localhost:8080/",
          "height": 669
        },
        "outputId": "d7b7d8ef-8d21-42bf-a38a-33987e9a27af"
      },
      "execution_count": 11,
      "outputs": [
        {
          "output_type": "execute_result",
          "data": {
            "text/html": [
              "\n",
              "  <div id=\"df-e1bfbc20-fa27-48f6-9bf5-c4f6f5c87b7e\">\n",
              "    <div class=\"colab-df-container\">\n",
              "      <div>\n",
              "<style scoped>\n",
              "    .dataframe tbody tr th:only-of-type {\n",
              "        vertical-align: middle;\n",
              "    }\n",
              "\n",
              "    .dataframe tbody tr th {\n",
              "        vertical-align: top;\n",
              "    }\n",
              "\n",
              "    .dataframe thead th {\n",
              "        text-align: right;\n",
              "    }\n",
              "</style>\n",
              "<table border=\"1\" class=\"dataframe\">\n",
              "  <thead>\n",
              "    <tr style=\"text-align: right;\">\n",
              "      <th></th>\n",
              "      <th>Unnamed: 0</th>\n",
              "      <th>Unnamed: 0.1</th>\n",
              "      <th>url</th>\n",
              "      <th>date</th>\n",
              "      <th>content</th>\n",
              "      <th>renderedContent</th>\n",
              "      <th>id</th>\n",
              "      <th>user</th>\n",
              "      <th>replyCount</th>\n",
              "      <th>retweetCount</th>\n",
              "      <th>likeCount</th>\n",
              "      <th>quoteCount</th>\n",
              "      <th>conversationId</th>\n",
              "      <th>lang</th>\n",
              "      <th>source</th>\n",
              "      <th>sourceUrl</th>\n",
              "      <th>sourceLabel</th>\n",
              "      <th>outlinks</th>\n",
              "      <th>tcooutlinks</th>\n",
              "      <th>media</th>\n",
              "      <th>retweetedTweet</th>\n",
              "      <th>quotedTweet</th>\n",
              "      <th>inReplyToTweetId</th>\n",
              "      <th>inReplyToUser</th>\n",
              "      <th>mentionedUsers</th>\n",
              "      <th>coordinates</th>\n",
              "      <th>place</th>\n",
              "      <th>hashtags</th>\n",
              "      <th>cashtags</th>\n",
              "    </tr>\n",
              "  </thead>\n",
              "  <tbody>\n",
              "    <tr>\n",
              "      <th>3</th>\n",
              "      <td>3</td>\n",
              "      <td>3</td>\n",
              "      <td>https://twitter.com/WafaaAlansarya1/status/147...</td>\n",
              "      <td>2021-12-30 21:35:56+00:00</td>\n",
              "      <td>Moreover, the smart soldiers of Allaah will in...</td>\n",
              "      <td>Moreover, the smart soldiers of Allaah will in...</td>\n",
              "      <td>1476668401787490306</td>\n",
              "      <td>{'username': 'WafaaAlansarya1', 'id': 13841317...</td>\n",
              "      <td>0</td>\n",
              "      <td>7</td>\n",
              "      <td>1</td>\n",
              "      <td>0</td>\n",
              "      <td>1476668401787490306</td>\n",
              "      <td>en</td>\n",
              "      <td>&lt;a href=\"http://twitter.com/download/android\" ...</td>\n",
              "      <td>http://twitter.com/download/android</td>\n",
              "      <td>Twitter for Android</td>\n",
              "      <td>['https://awaited-mahdi.com/showthread.php?p=3...</td>\n",
              "      <td>['https://t.co/dMGQmUDKxN']</td>\n",
              "      <td>NaN</td>\n",
              "      <td>NaN</td>\n",
              "      <td>NaN</td>\n",
              "      <td>NaN</td>\n",
              "      <td>NaN</td>\n",
              "      <td>NaN</td>\n",
              "      <td>{'longitude': 41.8153438, 'latitude': 12.1068662}</td>\n",
              "      <td>{'fullName': 'Yemen', 'name': 'Yemen', 'type':...</td>\n",
              "      <td>['ItIsCosmicAndCovidiousWar', 'Covid']</td>\n",
              "      <td>NaN</td>\n",
              "    </tr>\n",
              "    <tr>\n",
              "      <th>5</th>\n",
              "      <td>5</td>\n",
              "      <td>5</td>\n",
              "      <td>https://twitter.com/sabri112019/status/1476603...</td>\n",
              "      <td>2021-12-30 17:16:33+00:00</td>\n",
              "      <td>the One behind the global war of corona is the...</td>\n",
              "      <td>the One behind the global war of corona is the...</td>\n",
              "      <td>1476603123552694284</td>\n",
              "      <td>{'username': 'sabri112019', 'id': 992473964445...</td>\n",
              "      <td>0</td>\n",
              "      <td>7</td>\n",
              "      <td>5</td>\n",
              "      <td>0</td>\n",
              "      <td>1476603123552694284</td>\n",
              "      <td>en</td>\n",
              "      <td>&lt;a href=\"http://twitter.com/download/android\" ...</td>\n",
              "      <td>http://twitter.com/download/android</td>\n",
              "      <td>Twitter for Android</td>\n",
              "      <td>NaN</td>\n",
              "      <td>NaN</td>\n",
              "      <td>[{'previewUrl': 'https://pbs.twimg.com/media/F...</td>\n",
              "      <td>NaN</td>\n",
              "      <td>NaN</td>\n",
              "      <td>NaN</td>\n",
              "      <td>NaN</td>\n",
              "      <td>NaN</td>\n",
              "      <td>{'longitude': 41.8153438, 'latitude': 12.1068662}</td>\n",
              "      <td>{'fullName': 'Yemen', 'name': 'Yemen', 'type':...</td>\n",
              "      <td>['ItIsCosmicAndCovidiousWar', 'Covid']</td>\n",
              "      <td>NaN</td>\n",
              "    </tr>\n",
              "    <tr>\n",
              "      <th>9</th>\n",
              "      <td>9</td>\n",
              "      <td>9</td>\n",
              "      <td>https://twitter.com/Mayssi_/status/14765762260...</td>\n",
              "      <td>2021-12-30 15:29:40+00:00</td>\n",
              "      <td>Queue for PCR test today\\nStay Safe please🙏\\n#...</td>\n",
              "      <td>Queue for PCR test today\\nStay Safe please🙏\\n#...</td>\n",
              "      <td>1476576226047406088</td>\n",
              "      <td>{'username': 'Mayssi_', 'id': 7314520632976056...</td>\n",
              "      <td>5</td>\n",
              "      <td>0</td>\n",
              "      <td>20</td>\n",
              "      <td>0</td>\n",
              "      <td>1476576226047406088</td>\n",
              "      <td>en</td>\n",
              "      <td>&lt;a href=\"http://twitter.com/download/iphone\" r...</td>\n",
              "      <td>http://twitter.com/download/iphone</td>\n",
              "      <td>Twitter for iPhone</td>\n",
              "      <td>NaN</td>\n",
              "      <td>NaN</td>\n",
              "      <td>[{'previewUrl': 'https://pbs.twimg.com/media/F...</td>\n",
              "      <td>NaN</td>\n",
              "      <td>NaN</td>\n",
              "      <td>NaN</td>\n",
              "      <td>NaN</td>\n",
              "      <td>NaN</td>\n",
              "      <td>{'longitude': 35.528084937064655, 'latitude': ...</td>\n",
              "      <td>{'fullName': 'Mount Lebanon Hospital', 'name':...</td>\n",
              "      <td>['Covid', 'Omicron', 'PCRtest', 'NewYear2022']</td>\n",
              "      <td>NaN</td>\n",
              "    </tr>\n",
              "    <tr>\n",
              "      <th>40</th>\n",
              "      <td>40</td>\n",
              "      <td>40</td>\n",
              "      <td>https://twitter.com/brazil_pavilion/status/147...</td>\n",
              "      <td>2021-12-29 10:37:30+00:00</td>\n",
              "      <td>How do we make a #healthier world #postCovid? ...</td>\n",
              "      <td>How do we make a #healthier world #postCovid? ...</td>\n",
              "      <td>1476140312141643781</td>\n",
              "      <td>{'username': 'brazil_pavilion', 'id': 14273654...</td>\n",
              "      <td>1</td>\n",
              "      <td>2</td>\n",
              "      <td>6</td>\n",
              "      <td>0</td>\n",
              "      <td>1476140312141643781</td>\n",
              "      <td>en</td>\n",
              "      <td>&lt;a href=\"http://twitter.com/download/android\" ...</td>\n",
              "      <td>http://twitter.com/download/android</td>\n",
              "      <td>Twitter for Android</td>\n",
              "      <td>NaN</td>\n",
              "      <td>NaN</td>\n",
              "      <td>[{'previewUrl': 'https://pbs.twimg.com/media/F...</td>\n",
              "      <td>NaN</td>\n",
              "      <td>NaN</td>\n",
              "      <td>NaN</td>\n",
              "      <td>NaN</td>\n",
              "      <td>NaN</td>\n",
              "      <td>{'longitude': 54.8939725, 'latitude': 24.6182526}</td>\n",
              "      <td>{'fullName': 'Dubai, United Arab Emirates', 'n...</td>\n",
              "      <td>['healthier', 'postCovid', 'BrasilPavilion', '...</td>\n",
              "      <td>NaN</td>\n",
              "    </tr>\n",
              "    <tr>\n",
              "      <th>49</th>\n",
              "      <td>49</td>\n",
              "      <td>49</td>\n",
              "      <td>https://twitter.com/fevenmhammed26/status/1476...</td>\n",
              "      <td>2021-12-29 05:15:49+00:00</td>\n",
              "      <td>My colleague took a sick day today, first time...</td>\n",
              "      <td>My colleague took a sick day today, first time...</td>\n",
              "      <td>1476059357670432771</td>\n",
              "      <td>{'username': 'fevenmhammed26', 'id': 728144878...</td>\n",
              "      <td>1</td>\n",
              "      <td>0</td>\n",
              "      <td>0</td>\n",
              "      <td>0</td>\n",
              "      <td>1476059357670432771</td>\n",
              "      <td>en</td>\n",
              "      <td>&lt;a href=\"http://twitter.com/download/iphone\" r...</td>\n",
              "      <td>http://twitter.com/download/iphone</td>\n",
              "      <td>Twitter for iPhone</td>\n",
              "      <td>NaN</td>\n",
              "      <td>NaN</td>\n",
              "      <td>NaN</td>\n",
              "      <td>NaN</td>\n",
              "      <td>NaN</td>\n",
              "      <td>NaN</td>\n",
              "      <td>NaN</td>\n",
              "      <td>NaN</td>\n",
              "      <td>{'longitude': 54.8939725, 'latitude': 24.6182526}</td>\n",
              "      <td>{'fullName': 'Dubai, United Arab Emirates', 'n...</td>\n",
              "      <td>['covid']</td>\n",
              "      <td>NaN</td>\n",
              "    </tr>\n",
              "  </tbody>\n",
              "</table>\n",
              "</div>\n",
              "      <button class=\"colab-df-convert\" onclick=\"convertToInteractive('df-e1bfbc20-fa27-48f6-9bf5-c4f6f5c87b7e')\"\n",
              "              title=\"Convert this dataframe to an interactive table.\"\n",
              "              style=\"display:none;\">\n",
              "        \n",
              "  <svg xmlns=\"http://www.w3.org/2000/svg\" height=\"24px\"viewBox=\"0 0 24 24\"\n",
              "       width=\"24px\">\n",
              "    <path d=\"M0 0h24v24H0V0z\" fill=\"none\"/>\n",
              "    <path d=\"M18.56 5.44l.94 2.06.94-2.06 2.06-.94-2.06-.94-.94-2.06-.94 2.06-2.06.94zm-11 1L8.5 8.5l.94-2.06 2.06-.94-2.06-.94L8.5 2.5l-.94 2.06-2.06.94zm10 10l.94 2.06.94-2.06 2.06-.94-2.06-.94-.94-2.06-.94 2.06-2.06.94z\"/><path d=\"M17.41 7.96l-1.37-1.37c-.4-.4-.92-.59-1.43-.59-.52 0-1.04.2-1.43.59L10.3 9.45l-7.72 7.72c-.78.78-.78 2.05 0 2.83L4 21.41c.39.39.9.59 1.41.59.51 0 1.02-.2 1.41-.59l7.78-7.78 2.81-2.81c.8-.78.8-2.07 0-2.86zM5.41 20L4 18.59l7.72-7.72 1.47 1.35L5.41 20z\"/>\n",
              "  </svg>\n",
              "      </button>\n",
              "      \n",
              "  <style>\n",
              "    .colab-df-container {\n",
              "      display:flex;\n",
              "      flex-wrap:wrap;\n",
              "      gap: 12px;\n",
              "    }\n",
              "\n",
              "    .colab-df-convert {\n",
              "      background-color: #E8F0FE;\n",
              "      border: none;\n",
              "      border-radius: 50%;\n",
              "      cursor: pointer;\n",
              "      display: none;\n",
              "      fill: #1967D2;\n",
              "      height: 32px;\n",
              "      padding: 0 0 0 0;\n",
              "      width: 32px;\n",
              "    }\n",
              "\n",
              "    .colab-df-convert:hover {\n",
              "      background-color: #E2EBFA;\n",
              "      box-shadow: 0px 1px 2px rgba(60, 64, 67, 0.3), 0px 1px 3px 1px rgba(60, 64, 67, 0.15);\n",
              "      fill: #174EA6;\n",
              "    }\n",
              "\n",
              "    [theme=dark] .colab-df-convert {\n",
              "      background-color: #3B4455;\n",
              "      fill: #D2E3FC;\n",
              "    }\n",
              "\n",
              "    [theme=dark] .colab-df-convert:hover {\n",
              "      background-color: #434B5C;\n",
              "      box-shadow: 0px 1px 3px 1px rgba(0, 0, 0, 0.15);\n",
              "      filter: drop-shadow(0px 1px 2px rgba(0, 0, 0, 0.3));\n",
              "      fill: #FFFFFF;\n",
              "    }\n",
              "  </style>\n",
              "\n",
              "      <script>\n",
              "        const buttonEl =\n",
              "          document.querySelector('#df-e1bfbc20-fa27-48f6-9bf5-c4f6f5c87b7e button.colab-df-convert');\n",
              "        buttonEl.style.display =\n",
              "          google.colab.kernel.accessAllowed ? 'block' : 'none';\n",
              "\n",
              "        async function convertToInteractive(key) {\n",
              "          const element = document.querySelector('#df-e1bfbc20-fa27-48f6-9bf5-c4f6f5c87b7e');\n",
              "          const dataTable =\n",
              "            await google.colab.kernel.invokeFunction('convertToInteractive',\n",
              "                                                     [key], {});\n",
              "          if (!dataTable) return;\n",
              "\n",
              "          const docLinkHtml = 'Like what you see? Visit the ' +\n",
              "            '<a target=\"_blank\" href=https://colab.research.google.com/notebooks/data_table.ipynb>data table notebook</a>'\n",
              "            + ' to learn more about interactive tables.';\n",
              "          element.innerHTML = '';\n",
              "          dataTable['output_type'] = 'display_data';\n",
              "          await google.colab.output.renderOutput(dataTable, element);\n",
              "          const docLink = document.createElement('div');\n",
              "          docLink.innerHTML = docLinkHtml;\n",
              "          element.appendChild(docLink);\n",
              "        }\n",
              "      </script>\n",
              "    </div>\n",
              "  </div>\n",
              "  "
            ],
            "text/plain": [
              "    Unnamed: 0  ...  cashtags\n",
              "3            3  ...       NaN\n",
              "5            5  ...       NaN\n",
              "9            9  ...       NaN\n",
              "40          40  ...       NaN\n",
              "49          49  ...       NaN\n",
              "\n",
              "[5 rows x 29 columns]"
            ]
          },
          "metadata": {},
          "execution_count": 11
        }
      ]
    },
    {
      "cell_type": "code",
      "source": [
        "places_list = data['place'].tolist()"
      ],
      "metadata": {
        "id": "wGeswlTU-lhL"
      },
      "execution_count": 12,
      "outputs": []
    },
    {
      "cell_type": "code",
      "source": [
        "places_list[20]"
      ],
      "metadata": {
        "colab": {
          "base_uri": "https://localhost:8080/",
          "height": 36
        },
        "id": "_224SiRW_Guy",
        "outputId": "233e8191-945e-4969-e2fc-3afc2962cadd"
      },
      "execution_count": 13,
      "outputs": [
        {
          "output_type": "execute_result",
          "data": {
            "application/vnd.google.colaboratory.intrinsic+json": {
              "type": "string"
            },
            "text/plain": [
              "\"{'fullName': 'Dubai, United Arab Emirates', 'name': 'Dubai', 'type': 'admin', 'country': 'United Arab Emirates', 'countryCode': 'AE'}\""
            ]
          },
          "metadata": {},
          "execution_count": 13
        }
      ]
    },
    {
      "cell_type": "code",
      "source": [
        "#seperating dictionaries and identifying null indexes\n",
        "places_dict = []\n",
        "total_non_values = 0\n",
        "for index, dicts in enumerate(places_list):\n",
        "  try:\n",
        "    dict1 = ast.literal_eval(dicts)\n",
        "    places_dict.append(dict1)\n",
        "  except:\n",
        "    print(f'There is a Non value in index number: {index}')\n",
        "    total_non_values += 1\n",
        "print(f'Total Number of Null Values {total_non_values}')"
      ],
      "metadata": {
        "colab": {
          "base_uri": "https://localhost:8080/"
        },
        "id": "Lrvyiy1r_RU7",
        "outputId": "9fb049d5-c7d3-4e27-e3b2-a1dfbdadfad8"
      },
      "execution_count": 14,
      "outputs": [
        {
          "output_type": "stream",
          "name": "stdout",
          "text": [
            "There is a Non value in index number: 884\n",
            "There is a Non value in index number: 1524\n",
            "There is a Non value in index number: 1917\n",
            "There is a Non value in index number: 1944\n",
            "There is a Non value in index number: 2339\n",
            "There is a Non value in index number: 3410\n",
            "Total Number of Null Values 6\n"
          ]
        }
      ]
    },
    {
      "cell_type": "code",
      "source": [
        "places_dict[0]"
      ],
      "metadata": {
        "id": "01rKpBp8DVV7"
      },
      "execution_count": null,
      "outputs": []
    },
    {
      "cell_type": "code",
      "source": [
        "countries = []\n",
        "for country_codes in places_dict:\n",
        "  countries.append(country_codes['country'])"
      ],
      "metadata": {
        "id": "6SBq8Od7GJSt"
      },
      "execution_count": 16,
      "outputs": []
    },
    {
      "cell_type": "code",
      "source": [
        "countries[0]"
      ],
      "metadata": {
        "colab": {
          "base_uri": "https://localhost:8080/",
          "height": 36
        },
        "id": "uVHQy_kOGbcU",
        "outputId": "a9ed49e0-fb43-46af-9db3-26f6bdff2dc7"
      },
      "execution_count": 17,
      "outputs": [
        {
          "output_type": "execute_result",
          "data": {
            "application/vnd.google.colaboratory.intrinsic+json": {
              "type": "string"
            },
            "text/plain": [
              "'Yemen'"
            ]
          },
          "metadata": {},
          "execution_count": 17
        }
      ]
    },
    {
      "cell_type": "code",
      "source": [
        "df1 = pd.DataFrame({'Country':countries})"
      ],
      "metadata": {
        "id": "-yVUuNUmPfK9"
      },
      "execution_count": 18,
      "outputs": []
    },
    {
      "cell_type": "code",
      "source": [
        "df1.head()"
      ],
      "metadata": {
        "id": "jNBC7uzdToGz"
      },
      "execution_count": null,
      "outputs": []
    },
    {
      "cell_type": "code",
      "source": [
        "fig = px.histogram(df1, x=df1['Country'], text_auto = True,width=1500, height=800, title = 'Number of countries encountered', color = df1.Country)\n",
        "fig.show()"
      ],
      "metadata": {
        "id": "pM-zqnRNTpkx"
      },
      "execution_count": null,
      "outputs": []
    },
    {
      "cell_type": "code",
      "source": [
        "data.head()"
      ],
      "metadata": {
        "id": "ViSAxFw_XYv9"
      },
      "execution_count": null,
      "outputs": []
    },
    {
      "cell_type": "code",
      "source": [
        "data['lang'].unique()"
      ],
      "metadata": {
        "colab": {
          "base_uri": "https://localhost:8080/"
        },
        "id": "_aGoF6K5pl13",
        "outputId": "3c27e56f-cc9f-4a75-94bb-a1a1ed225575"
      },
      "execution_count": 22,
      "outputs": [
        {
          "output_type": "execute_result",
          "data": {
            "text/plain": [
              "array(['en'], dtype=object)"
            ]
          },
          "metadata": {},
          "execution_count": 22
        }
      ]
    },
    {
      "cell_type": "code",
      "source": [
        "#checking missing values\n",
        "data.isnull().sum()"
      ],
      "metadata": {
        "id": "wr2-2w_DqRpK"
      },
      "execution_count": null,
      "outputs": []
    },
    {
      "cell_type": "code",
      "source": [
        "#checking for duplicates\n",
        "data.duplicated().sum()"
      ],
      "metadata": {
        "colab": {
          "base_uri": "https://localhost:8080/"
        },
        "id": "X6Ypg_PuqY_J",
        "outputId": "69e0009d-abe8-4e01-810a-fcf7fccf417d"
      },
      "execution_count": 24,
      "outputs": [
        {
          "output_type": "execute_result",
          "data": {
            "text/plain": [
              "0"
            ]
          },
          "metadata": {},
          "execution_count": 24
        }
      ]
    },
    {
      "cell_type": "code",
      "source": [
        "content = data['renderedContent'].tolist()"
      ],
      "metadata": {
        "id": "Nbm2Bpf7pwTn"
      },
      "execution_count": 25,
      "outputs": []
    },
    {
      "cell_type": "code",
      "source": [
        "#contents have duplicated values\n",
        "#to remove duplicates dataframe is created\n",
        "df1 = pd.DataFrame({'Content':content})"
      ],
      "metadata": {
        "id": "iK61zOk5p_pG"
      },
      "execution_count": 26,
      "outputs": []
    },
    {
      "cell_type": "code",
      "source": [
        "df1.duplicated().sum()\n",
        "#124 duplictaes"
      ],
      "metadata": {
        "colab": {
          "base_uri": "https://localhost:8080/"
        },
        "id": "psrjS83gqBAH",
        "outputId": "a2c68578-3298-48ee-f823-6b4dccfacf9c"
      },
      "execution_count": 27,
      "outputs": [
        {
          "output_type": "execute_result",
          "data": {
            "text/plain": [
              "124"
            ]
          },
          "metadata": {},
          "execution_count": 27
        }
      ]
    },
    {
      "cell_type": "code",
      "source": [
        "#dropping duplictaes\n",
        "print(\"\\n shape of the data before removing duplicates: {}\\n\".format(df1.shape))\n",
        "df1.drop_duplicates(inplace = True)\n",
        "print(\"\\n shape of the data after removing duplicates: {}\\n\".format(df1.shape))"
      ],
      "metadata": {
        "colab": {
          "base_uri": "https://localhost:8080/"
        },
        "id": "-qS9Nw9_r0Pe",
        "outputId": "cfc6164b-f4b4-4c44-f38d-03cfe3159a10"
      },
      "execution_count": 28,
      "outputs": [
        {
          "output_type": "stream",
          "name": "stdout",
          "text": [
            "\n",
            " shape of the data before removing duplicates: (3924, 1)\n",
            "\n",
            "\n",
            " shape of the data after removing duplicates: (3800, 1)\n",
            "\n"
          ]
        }
      ]
    },
    {
      "cell_type": "code",
      "source": [
        "new_content = df1['Content'].tolist()"
      ],
      "metadata": {
        "id": "g36KreZ9sQLH"
      },
      "execution_count": 29,
      "outputs": []
    },
    {
      "cell_type": "code",
      "source": [
        "print(data.shape, df1.shape)"
      ],
      "metadata": {
        "colab": {
          "base_uri": "https://localhost:8080/"
        },
        "id": "hcUonI9OscKM",
        "outputId": "b5417dc3-c07b-4b0e-b72a-1b5e1290d730"
      },
      "execution_count": 30,
      "outputs": [
        {
          "output_type": "stream",
          "name": "stdout",
          "text": [
            "(3924, 29) (3800, 1)\n"
          ]
        }
      ]
    },
    {
      "cell_type": "code",
      "source": [
        "len(new_content)"
      ],
      "metadata": {
        "colab": {
          "base_uri": "https://localhost:8080/"
        },
        "id": "6lo0oe6rsgec",
        "outputId": "42fd0320-96eb-48e1-a6ea-241b4f4ed4d6"
      },
      "execution_count": 31,
      "outputs": [
        {
          "output_type": "execute_result",
          "data": {
            "text/plain": [
              "3800"
            ]
          },
          "metadata": {},
          "execution_count": 31
        }
      ]
    },
    {
      "cell_type": "code",
      "source": [
        "def preprocessing(text):\n",
        "  #Removing names and links\n",
        "  sentence = text.lower()\n",
        "  sentence = re.sub(r'@\\w+',\"\", sentence)\n",
        "  sentence = re.sub(r'https:[/w/W]+', \"\", sentence)\n",
        "  sentence = re.sub(r'\\n\\n', \"\", sentence)\n",
        "  sentence = re.sub(r'\\[\\w\\W]+', '', sentence)\n",
        "  sentence = re.sub(r'\\n', '', sentence)\n",
        "  sentence = re.sub(r'#', '', sentence)\n",
        "  sentence = re.sub(r'twitter.com[\\w\\W]+','', sentence)\n",
        "  sentence = re.sub(r'([\\w]+).([\\w]+)/([\\w]+)/([\\w\\W]+)', '', sentence)\n",
        "  sentence = re.sub(r'@', '', sentence)\n",
        "  sentence = re.sub(r't.co/\\w+','', sentence)\n",
        "  sentence = re.sub(r'\\w+.com', '', sentence)\n",
        "  sentence = re.sub(r'(\\w+).(\\w)/\\w+','', sentence)\n",
        "  sentence = re.sub(r' \\w/ ','',sentence)\n",
        "  sentence = re.sub(r'youtu.be/\\w+','', sentence)\n",
        "  sentence = re.sub(r'\\+[\\d\\s]+', '', sentence)\n",
        "\n",
        "  #removing emojis\n",
        "  regrex_pattern = re.compile(pattern = \"[\"\n",
        "        u\"\\U0001F600-\\U0001F64F\"  # emoticons\n",
        "        u\"\\U0001F300-\\U0001F5FF\"  # symbols & pictographs\n",
        "        u\"\\U0001F680-\\U0001F6FF\"  # transport & map symbols\n",
        "        u\"\\U0001F1E0-\\U0001F1FF\"  # flags (iOS)\n",
        "        u\"\\U00002500-\\U00002BEF\"  # chinese char\n",
        "        u\"\\U00002702-\\U000027B0\"\n",
        "        u\"\\U00002702-\\U000027B0\"\n",
        "        u\"\\U000024C2-\\U0001F251\"\n",
        "        u\"\\U0001f926-\\U0001f937\"\n",
        "        u\"\\U00010000-\\U0010ffff\"\n",
        "        u\"\\u2640-\\u2642\" \n",
        "        u\"\\u2600-\\u2B55\"\n",
        "        u\"\\u200d\"\n",
        "        u\"\\u23cf\"\n",
        "        u\"\\u23e9\"\n",
        "        u\"\\u231a\"\n",
        "        u\"\\ufe0f\"  # dingbats\n",
        "        u\"\\u3030\"  # flags (iOS)\n",
        "                           \"]+\", flags = re.UNICODE)\n",
        "  sentence = regrex_pattern.sub('', sentence)\n",
        "  sentence = [token.text for token in nlp(sentence) if not (token.is_stop or token.like_num or token.is_punct or token.is_space or len(token)==1)]\n",
        "  sentence = ' '.join(sentence)\n",
        "  return sentence"
      ],
      "metadata": {
        "id": "o_5qwI5SuD7e"
      },
      "execution_count": 32,
      "outputs": []
    },
    {
      "cell_type": "code",
      "source": [
        "%%time\n",
        "cleaned_tweets = list(map(preprocessing,new_content))"
      ],
      "metadata": {
        "colab": {
          "base_uri": "https://localhost:8080/"
        },
        "id": "4AChrV9Z1tIK",
        "outputId": "4c0c66c9-da51-4847-9fe4-091da388788a"
      },
      "execution_count": 33,
      "outputs": [
        {
          "output_type": "stream",
          "name": "stdout",
          "text": [
            "CPU times: user 44.8 s, sys: 159 ms, total: 44.9 s\n",
            "Wall time: 46.6 s\n"
          ]
        }
      ]
    },
    {
      "cell_type": "code",
      "source": [
        "cleaned_tweets"
      ],
      "metadata": {
        "id": "tPRSSY1x2YCq"
      },
      "execution_count": null,
      "outputs": []
    },
    {
      "cell_type": "code",
      "source": [
        "cleaned_tweets_final = list(set(cleaned_tweets))"
      ],
      "metadata": {
        "id": "KtlPHL384I-A"
      },
      "execution_count": 46,
      "outputs": []
    },
    {
      "cell_type": "code",
      "source": [
        "#removing non values\n",
        "final_tweets = [tweet for tweet in cleaned_tweets_final if tweet]\n",
        "print(\"\\n length of the cleaned_tweets_final: {}\\n\".format(len(cleaned_tweets_final)))\n",
        "print(\"\\n length of the final_tweets: {}\\n\".format(len(final_tweets)))"
      ],
      "metadata": {
        "id": "735zFnQXJIew",
        "colab": {
          "base_uri": "https://localhost:8080/"
        },
        "outputId": "fcd0cc17-baba-48be-a54c-448b09b16036"
      },
      "execution_count": 47,
      "outputs": [
        {
          "output_type": "stream",
          "name": "stdout",
          "text": [
            "\n",
            " length of the cleaned_tweets_final: 3529\n",
            "\n",
            "\n",
            " length of the final_tweets: 3528\n",
            "\n"
          ]
        }
      ]
    },
    {
      "cell_type": "code",
      "source": [
        "final_tweets"
      ],
      "metadata": {
        "id": "tfj38rKJkoPc"
      },
      "execution_count": null,
      "outputs": []
    },
    {
      "cell_type": "code",
      "source": [
        "final_text = ' '.join(cleaned_tweets_final)"
      ],
      "metadata": {
        "id": "Wd-gqVvpJmCv"
      },
      "execution_count": 48,
      "outputs": []
    },
    {
      "cell_type": "code",
      "source": [
        "#creating cloud\n",
        "cloud = WordCloud()\n",
        "cloud.generate(final_text)\n",
        "plt.figure(figsize = (10,10))\n",
        "plt.axis('off')\n",
        "plt.imshow(cloud)"
      ],
      "metadata": {
        "colab": {
          "base_uri": "https://localhost:8080/",
          "height": 328
        },
        "id": "GRaTsrsohIOZ",
        "outputId": "e381e6e1-fe40-4bca-dd57-0323c26f8cd4"
      },
      "execution_count": 38,
      "outputs": [
        {
          "output_type": "execute_result",
          "data": {
            "text/plain": [
              "<matplotlib.image.AxesImage at 0x7f6d701d0550>"
            ]
          },
          "metadata": {},
          "execution_count": 38
        },
        {
          "output_type": "display_data",
          "data": {
            "image/png": "[encoded data removed]",
            "text/plain": [
              "<Figure size 720x720 with 1 Axes>"
            ]
          },
          "metadata": {
            "needs_background": "light"
          }
        }
      ]
    },
    {
      "cell_type": "markdown",
      "source": [
        "## Sentiment Analysis on tweets"
      ],
      "metadata": {
        "id": "Eaegvsnav5TD"
      }
    },
    {
      "cell_type": "code",
      "source": [
        "sentiment_analysis = defaultdict(list)\n",
        "sentiment_analysis['Cleaned_Tweets'] = final_tweets"
      ],
      "metadata": {
        "id": "sxr1PBjThcJs"
      },
      "execution_count": 39,
      "outputs": []
    },
    {
      "cell_type": "code",
      "source": [
        "classifier = pipeline(\"zero-shot-classification\",model=\"facebook/bart-large-mnli\")"
      ],
      "metadata": {
        "colab": {
          "base_uri": "https://localhost:8080/",
          "height": 209,
          "referenced_widgets": [
            "95c90fa18f8d4b03a2c6dadd2b7c032d",
            "233ca6bcdf7f43dc85c9d1b45e481125",
            "5743a11627484e98ae35d844557034d3",
            "e0cc5160632542a09652b7a4ad47dad7",
            "4de1e1d608284355a1d96568e4f9ecf3",
            "4badbc1b0d804beda4aad900ba58209d",
            "825fe4d20e3845b7b9f3c4255c193fc7",
            "ddb098e248f14cd78ef9f5bf7a48475e",
            "fb28a69420ba42eb8d2d1616809ad2c7",
            "71626f5b9d3747abb3a238cc0789638f",
            "760a1d9b28a54aa3b447c04327528a88",
            "fd11340bf8a64b2da65133b00d3352b9",
            "3545997a62874908988a2a40165dcf7a",
            "cb53f79715ae4436beaa691c6143fe6a",
            "db3cc7d2bdb041a79b9a3a8960338c6b",
            "bc44d506ee1541e8b876c6e9b0220e75",
            "37b337d988e248d488b7aac25dc968ea",
            "90d5691ab51745e9986d1047f991df0d",
            "6795ac902b24448e894fbdbcf7053ae1",
            "996c1524964a46c8895ec7cd42d2c936",
            "5eed38b02413474f9a79d63fd80d95e3",
            "af009b75f4e44035b4cc5dce96a2fce0",
            "56959ec51d024b56a0261a3c3528f5de",
            "9cd42e1123c84a38b829873ed05860b4",
            "dbb551c78d734f14bddc70f30efe2cb7",
            "3dad8c2b63bb43189c5b6d12605926b9",
            "d316a7617b544c969ce479345878f19b",
            "6f348ebbadd4452c84538285dd5b26ba",
            "dc0e3ace52864f078dda4ba990b55067",
            "8921133a928f486b9d5e37725b71c81d",
            "068b969da56640c68e06c13b7be9d0e4",
            "cf4538338c9a49b5b08557e73b12c469",
            "d2c4ca3460bf4f70aa147dcfa1bfc73d",
            "b44d0ea781714642908cb6d5f97b641a",
            "0f61bd69859c4b4ca659c049b2a7b2be",
            "4991242c5aa14724a743c086cf60acb2",
            "fe997b58708943ca84c979158140020c",
            "e49cde8d8b1342028f6bdaf130882970",
            "a5630defd980494b85064a6a6bb29600",
            "a61ee41cd9fa411598cc8e3b431c2c6f",
            "e2fc041dbdcf43fb968904207165b045",
            "650a1440f1e347d4a4ef21909739fd68",
            "61baaebc56b54dd88f0d0df50d31018f",
            "3078d4dd3ddc4d53b551c77579f222f2",
            "0ed62f8ad36e4e91a93f843454c85b7a",
            "e15258d7db624e37955670846aad7164",
            "61040e7153a84c5da0b2ec6a3bff8f48",
            "6f9b88b2a73045e2886bbcfb9f933295",
            "d392c598761b4fd4b0249b15c5397170",
            "5007e8e6696748c4992c1f93119b7a03",
            "c1b92fac9cfe419583b193017e2305b2",
            "2d35c2bc2f2d4ae6951463acdd4a28f6",
            "a1ec77bdd0ac42b7887dca036e416f09",
            "a51d5b3f16ff4ace928a6f95703a5018",
            "adeddada468148388ed19fbd19cf397c",
            "ca2c6e321e5c4864bcfa6b3d2a654634",
            "ee1e8b428028483a93368d090467ac49",
            "4002e73beaec45da91381a0c7fe8e040",
            "190cd16e460f405b92e29a867b13cfef",
            "b5b5ae67f33947afa94d921f02a722aa",
            "c2f56053726a4698ba5b84e4b376dd93",
            "4a27a2fdc5414128beac823a72877cae",
            "d5b1fd791c2a4437b399561b4faf01e5",
            "e6454cd39507450498ce118e4c7a0f87",
            "d79bd24db7894797b1ca34e4f1353d0b",
            "832adf8dc7384199ab71768b620aa394"
          ]
        },
        "id": "g1lIu3UUwQNd",
        "outputId": "47e42c6e-6abf-4f01-ba07-d320308632aa"
      },
      "execution_count": 40,
      "outputs": [
        {
          "output_type": "display_data",
          "data": {
            "application/vnd.jupyter.widget-view+json": {
              "model_id": "95c90fa18f8d4b03a2c6dadd2b7c032d",
              "version_minor": 0,
              "version_major": 2
            },
            "text/plain": [
              "Downloading:   0%|          | 0.00/1.13k [00:00<?, ?B/s]"
            ]
          },
          "metadata": {}
        },
        {
          "output_type": "display_data",
          "data": {
            "application/vnd.jupyter.widget-view+json": {
              "model_id": "fd11340bf8a64b2da65133b00d3352b9",
              "version_minor": 0,
              "version_major": 2
            },
            "text/plain": [
              "Downloading:   0%|          | 0.00/1.52G [00:00<?, ?B/s]"
            ]
          },
          "metadata": {}
        },
        {
          "output_type": "display_data",
          "data": {
            "application/vnd.jupyter.widget-view+json": {
              "model_id": "56959ec51d024b56a0261a3c3528f5de",
              "version_minor": 0,
              "version_major": 2
            },
            "text/plain": [
              "Downloading:   0%|          | 0.00/26.0 [00:00<?, ?B/s]"
            ]
          },
          "metadata": {}
        },
        {
          "output_type": "display_data",
          "data": {
            "application/vnd.jupyter.widget-view+json": {
              "model_id": "b44d0ea781714642908cb6d5f97b641a",
              "version_minor": 0,
              "version_major": 2
            },
            "text/plain": [
              "Downloading:   0%|          | 0.00/878k [00:00<?, ?B/s]"
            ]
          },
          "metadata": {}
        },
        {
          "output_type": "display_data",
          "data": {
            "application/vnd.jupyter.widget-view+json": {
              "model_id": "0ed62f8ad36e4e91a93f843454c85b7a",
              "version_minor": 0,
              "version_major": 2
            },
            "text/plain": [
              "Downloading:   0%|          | 0.00/446k [00:00<?, ?B/s]"
            ]
          },
          "metadata": {}
        },
        {
          "output_type": "display_data",
          "data": {
            "application/vnd.jupyter.widget-view+json": {
              "model_id": "ca2c6e321e5c4864bcfa6b3d2a654634",
              "version_minor": 0,
              "version_major": 2
            },
            "text/plain": [
              "Downloading:   0%|          | 0.00/1.29M [00:00<?, ?B/s]"
            ]
          },
          "metadata": {}
        }
      ]
    },
    {
      "cell_type": "code",
      "source": [
        "labels = ['positive', 'negative']\n",
        "for tweets in final_tweets:\n",
        "  label = classifier(tweets, labels)\n",
        "  sentiment_analysis['Label'].append(label['labels'][0])\n",
        "  sentiment_analysis['Probability'].append(label['scores'][0])\n"
      ],
      "metadata": {
        "id": "pnwb_SF00Lb3"
      },
      "execution_count": 42,
      "outputs": []
    },
    {
      "cell_type": "code",
      "source": [
        "sent_analysis = pd.DataFrame(sentiment_analysis)"
      ],
      "metadata": {
        "id": "hR0eIx4R7dVG"
      },
      "execution_count": 43,
      "outputs": []
    },
    {
      "cell_type": "code",
      "source": [
        "sent_analysis.head()"
      ],
      "metadata": {
        "colab": {
          "base_uri": "https://localhost:8080/",
          "height": 206
        },
        "id": "rbLIYPthkNe4",
        "outputId": "21adb657-de68-4935-f595-bc2d111b2731"
      },
      "execution_count": 44,
      "outputs": [
        {
          "output_type": "execute_result",
          "data": {
            "text/html": [
              "\n",
              "  <div id=\"df-81bd909a-76fd-45ad-b266-de1e2e7296ab\">\n",
              "    <div class=\"colab-df-container\">\n",
              "      <div>\n",
              "<style scoped>\n",
              "    .dataframe tbody tr th:only-of-type {\n",
              "        vertical-align: middle;\n",
              "    }\n",
              "\n",
              "    .dataframe tbody tr th {\n",
              "        vertical-align: top;\n",
              "    }\n",
              "\n",
              "    .dataframe thead th {\n",
              "        text-align: right;\n",
              "    }\n",
              "</style>\n",
              "<table border=\"1\" class=\"dataframe\">\n",
              "  <thead>\n",
              "    <tr style=\"text-align: right;\">\n",
              "      <th></th>\n",
              "      <th>Cleaned_Tweets</th>\n",
              "      <th>Label</th>\n",
              "      <th>Probability</th>\n",
              "    </tr>\n",
              "  </thead>\n",
              "  <tbody>\n",
              "    <tr>\n",
              "      <th>0</th>\n",
              "      <td>mov suite toypiano johncage filmed beautiful m...</td>\n",
              "      <td>positive</td>\n",
              "      <td>0.913805</td>\n",
              "    </tr>\n",
              "    <tr>\n",
              "      <th>1</th>\n",
              "      <td>brain safe streetphotography nikon nikond750 d...</td>\n",
              "      <td>positive</td>\n",
              "      <td>0.736088</td>\n",
              "    </tr>\n",
              "    <tr>\n",
              "      <th>2</th>\n",
              "      <td>whoa time f1 lando landonorris spa racing plan...</td>\n",
              "      <td>positive</td>\n",
              "      <td>0.629593</td>\n",
              "    </tr>\n",
              "    <tr>\n",
              "      <th>3</th>\n",
              "      <td>till cops sindh police tested positive covid-1...</td>\n",
              "      <td>positive</td>\n",
              "      <td>0.979757</td>\n",
              "    </tr>\n",
              "    <tr>\n",
              "      <th>4</th>\n",
              "      <td>crummiebeats luxurylifestyle lamborghini high ...</td>\n",
              "      <td>positive</td>\n",
              "      <td>0.833581</td>\n",
              "    </tr>\n",
              "  </tbody>\n",
              "</table>\n",
              "</div>\n",
              "      <button class=\"colab-df-convert\" onclick=\"convertToInteractive('df-81bd909a-76fd-45ad-b266-de1e2e7296ab')\"\n",
              "              title=\"Convert this dataframe to an interactive table.\"\n",
              "              style=\"display:none;\">\n",
              "        \n",
              "  <svg xmlns=\"http://www.w3.org/2000/svg\" height=\"24px\"viewBox=\"0 0 24 24\"\n",
              "       width=\"24px\">\n",
              "    <path d=\"M0 0h24v24H0V0z\" fill=\"none\"/>\n",
              "    <path d=\"M18.56 5.44l.94 2.06.94-2.06 2.06-.94-2.06-.94-.94-2.06-.94 2.06-2.06.94zm-11 1L8.5 8.5l.94-2.06 2.06-.94-2.06-.94L8.5 2.5l-.94 2.06-2.06.94zm10 10l.94 2.06.94-2.06 2.06-.94-2.06-.94-.94-2.06-.94 2.06-2.06.94z\"/><path d=\"M17.41 7.96l-1.37-1.37c-.4-.4-.92-.59-1.43-.59-.52 0-1.04.2-1.43.59L10.3 9.45l-7.72 7.72c-.78.78-.78 2.05 0 2.83L4 21.41c.39.39.9.59 1.41.59.51 0 1.02-.2 1.41-.59l7.78-7.78 2.81-2.81c.8-.78.8-2.07 0-2.86zM5.41 20L4 18.59l7.72-7.72 1.47 1.35L5.41 20z\"/>\n",
              "  </svg>\n",
              "      </button>\n",
              "      \n",
              "  <style>\n",
              "    .colab-df-container {\n",
              "      display:flex;\n",
              "      flex-wrap:wrap;\n",
              "      gap: 12px;\n",
              "    }\n",
              "\n",
              "    .colab-df-convert {\n",
              "      background-color: #E8F0FE;\n",
              "      border: none;\n",
              "      border-radius: 50%;\n",
              "      cursor: pointer;\n",
              "      display: none;\n",
              "      fill: #1967D2;\n",
              "      height: 32px;\n",
              "      padding: 0 0 0 0;\n",
              "      width: 32px;\n",
              "    }\n",
              "\n",
              "    .colab-df-convert:hover {\n",
              "      background-color: #E2EBFA;\n",
              "      box-shadow: 0px 1px 2px rgba(60, 64, 67, 0.3), 0px 1px 3px 1px rgba(60, 64, 67, 0.15);\n",
              "      fill: #174EA6;\n",
              "    }\n",
              "\n",
              "    [theme=dark] .colab-df-convert {\n",
              "      background-color: #3B4455;\n",
              "      fill: #D2E3FC;\n",
              "    }\n",
              "\n",
              "    [theme=dark] .colab-df-convert:hover {\n",
              "      background-color: #434B5C;\n",
              "      box-shadow: 0px 1px 3px 1px rgba(0, 0, 0, 0.15);\n",
              "      filter: drop-shadow(0px 1px 2px rgba(0, 0, 0, 0.3));\n",
              "      fill: #FFFFFF;\n",
              "    }\n",
              "  </style>\n",
              "\n",
              "      <script>\n",
              "        const buttonEl =\n",
              "          document.querySelector('#df-81bd909a-76fd-45ad-b266-de1e2e7296ab button.colab-df-convert');\n",
              "        buttonEl.style.display =\n",
              "          google.colab.kernel.accessAllowed ? 'block' : 'none';\n",
              "\n",
              "        async function convertToInteractive(key) {\n",
              "          const element = document.querySelector('#df-81bd909a-76fd-45ad-b266-de1e2e7296ab');\n",
              "          const dataTable =\n",
              "            await google.colab.kernel.invokeFunction('convertToInteractive',\n",
              "                                                     [key], {});\n",
              "          if (!dataTable) return;\n",
              "\n",
              "          const docLinkHtml = 'Like what you see? Visit the ' +\n",
              "            '<a target=\"_blank\" href=https://colab.research.google.com/notebooks/data_table.ipynb>data table notebook</a>'\n",
              "            + ' to learn more about interactive tables.';\n",
              "          element.innerHTML = '';\n",
              "          dataTable['output_type'] = 'display_data';\n",
              "          await google.colab.output.renderOutput(dataTable, element);\n",
              "          const docLink = document.createElement('div');\n",
              "          docLink.innerHTML = docLinkHtml;\n",
              "          element.appendChild(docLink);\n",
              "        }\n",
              "      </script>\n",
              "    </div>\n",
              "  </div>\n",
              "  "
            ],
            "text/plain": [
              "                                      Cleaned_Tweets     Label  Probability\n",
              "0  mov suite toypiano johncage filmed beautiful m...  positive     0.913805\n",
              "1  brain safe streetphotography nikon nikond750 d...  positive     0.736088\n",
              "2  whoa time f1 lando landonorris spa racing plan...  positive     0.629593\n",
              "3  till cops sindh police tested positive covid-1...  positive     0.979757\n",
              "4  crummiebeats luxurylifestyle lamborghini high ...  positive     0.833581"
            ]
          },
          "metadata": {},
          "execution_count": 44
        }
      ]
    },
    {
      "cell_type": "code",
      "source": [
        "plt.figure(figsize = (8,8))\n",
        "sns.countplot(sentiment_analysis['Label'])\n",
        "plt.title('Number of positive and negative labeling')\n",
        "plt.xlabel('Labels')\n",
        "plt.ylabel('Frequency')\n",
        "plt.show();"
      ],
      "metadata": {
        "colab": {
          "base_uri": "https://localhost:8080/",
          "height": 606
        },
        "id": "hzrq0q6bkPv4",
        "outputId": "d37d8fae-37e6-468a-df0e-7996d846868d"
      },
      "execution_count": 51,
      "outputs": [
        {
          "output_type": "stream",
          "name": "stderr",
          "text": [
            "/usr/local/lib/python3.7/dist-packages/seaborn/_decorators.py:43: FutureWarning:\n",
            "\n",
            "Pass the following variable as a keyword arg: x. From version 0.12, the only valid positional argument will be `data`, and passing other arguments without an explicit keyword will result in an error or misinterpretation.\n",
            "\n"
          ]
        },
        {
          "output_type": "display_data",
          "data": {
            "image/png": "[encoded data removed]",
            "text/plain": [
              "<Figure size 576x576 with 1 Axes>"
            ]
          },
          "metadata": {
            "needs_background": "light"
          }
        }
      ]
    },
    {
      "cell_type": "code",
      "source": [
        ""
      ],
      "metadata": {
        "id": "2UIeTBe-k7bB"
      },
      "execution_count": null,
      "outputs": []
    }
  ]
}